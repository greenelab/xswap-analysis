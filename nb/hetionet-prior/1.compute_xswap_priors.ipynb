{
 "cells": [
  {
   "cell_type": "code",
   "execution_count": 1,
   "metadata": {},
   "outputs": [],
   "source": [
    "import pathlib\n",
    "from typing import List, Tuple, TypeVar\n",
    "\n",
    "import hetmatpy.hetmat\n",
    "import numpy as np\n",
    "import numpy\n",
    "import pandas as pd \n",
    "import scipy.sparse\n",
    "import sklearn.metrics\n",
    "import tqdm\n",
    "import xswap"
   ]
  },
  {
   "cell_type": "code",
   "execution_count": 3,
   "metadata": {},
   "outputs": [],
   "source": [
    "hetmat = hetmatpy.hetmat.HetMat('hetionet-v1.0.hetmat/')\n",
    "metapaths = hetmat.metagraph.extract_all_metapaths(1, exclude_inverts=True)\n",
    "metaedges = [metapath[0] for metapath in metapaths]\n",
    "\n",
    "n_perms = 100"
   ]
  },
  {
   "cell_type": "code",
   "execution_count": 4,
   "metadata": {},
   "outputs": [
    {
     "data": {
      "application/vnd.jupyter.widget-view+json": {
       "model_id": "417e237076b54b53ad8c23e28cb7968c",
       "version_major": 2,
       "version_minor": 0
      },
      "text/plain": [
       "HBox(children=(IntProgress(value=0, max=24), HTML(value='')))"
      ]
     },
     "metadata": {},
     "output_type": "display_data"
    },
    {
     "name": "stdout",
     "output_type": "stream",
     "text": [
      "Anatomy - localizes - Disease\n",
      "Anatomy - downregulates - Gene\n",
      "Anatomy - expresses - Gene\n",
      "Anatomy - upregulates - Gene\n",
      "Biological Process - participates - Gene\n",
      "Cellular Component - participates - Gene\n",
      "Compound - resembles - Compound\n",
      "Compound - palliates - Disease\n",
      "Compound - treats - Disease\n",
      "Compound - binds - Gene\n",
      "Compound - downregulates - Gene\n",
      "Compound - upregulates - Gene\n",
      "Compound - includes - Pharmacologic Class\n",
      "Compound - causes - Side Effect\n",
      "Disease - resembles - Disease\n",
      "Disease - associates - Gene\n",
      "Disease - downregulates - Gene\n",
      "Disease - upregulates - Gene\n",
      "Disease - presents - Symptom\n",
      "Gene - covaries - Gene\n",
      "Gene - interacts - Gene\n",
      "Gene < regulates < Gene\n",
      "Gene - participates - Molecular Function\n",
      "Gene - participates - Pathway\n",
      "\n"
     ]
    }
   ],
   "source": [
    "for metaedge in tqdm.tqdm_notebook(metaedges):\n",
    "    print(metaedge, flush=True)\n",
    "    prior_path = pathlib.Path(f'priors/{metaedge.abbrev}.csv.gz')\n",
    "    if prior_path.exists():\n",
    "        continue\n",
    "\n",
    "    # Generate matrix and infer metaedge properties from it\n",
    "    source, target, mat = hetmat.metaedge_to_adjacency_matrix(metaedge, dense_threshold=1, dtype=bool)\n",
    "    shape = mat.shape\n",
    "    if mat.shape[0] != mat.shape[1]:\n",
    "        # Can't be symmetric if non-square\n",
    "        symmetric = False\n",
    "    else:\n",
    "        # Symmetric if square and every value is equal to its value in the transposed matrix\n",
    "        symmetric = (mat != mat.T).nnz == 0\n",
    "    include_self_loops = mat.diagonal().sum() > 0\n",
    "\n",
    "    # Create edges from hetmat matrix\n",
    "    name_to_edges = {\n",
    "        'original': xswap.network_formats.matrix_to_edges(mat, include_reverse_edges=(not symmetric)), \n",
    "    }\n",
    "    del mat\n",
    "    \n",
    "    # Sample edges for reconstruction\n",
    "    sampled_indices_50 = np.random.randint(low=0, high=len(name_to_edges['original']), \n",
    "                                           size=int(0.5 * len(name_to_edges['original'])))\n",
    "    name_to_edges['sample_50'] = [name_to_edges['original'][i] for i in set(sampled_indices_50)]\n",
    "    del sampled_indices_50\n",
    "    \n",
    "    sampled_indices_20 = np.random.randint(low=0, high=len(name_to_edges['original']), \n",
    "                                           size=int(0.2 * len(name_to_edges['original'])))    \n",
    "    name_to_edges['sample_20'] = [name_to_edges['original'][i] for i in set(sampled_indices_20)]\n",
    "    del sampled_indices_20\n",
    "    \n",
    "    # Setup DataFrame with edges in each network (minimize memory use)\n",
    "    prior_df = pd.DataFrame({\n",
    "        'source_id': np.repeat(np.arange(shape[0], dtype=np.uint16), shape[1]),\n",
    "        'target_id': np.tile(np.arange(shape[1], dtype=np.uint16), shape[0]),\n",
    "    })\n",
    "    \n",
    "    # Compute XSwap prior for original and two sampled networks\n",
    "    for name, network_edges in name_to_edges.items():        \n",
    "        prior_df[f'permuted_edges_{name}'] = xswap.prior.compute_xswap_occurrence_matrix(\n",
    "            network_edges, n_permutations=n_perms, shape=shape, allow_antiparallel=(not symmetric),\n",
    "            allow_self_loops=include_self_loops).toarray().flatten()\n",
    "        \n",
    "        prior_df[f'edge_{name}'] = xswap.network_formats.edges_to_matrix(\n",
    "            network_edges, add_reverse_edges=symmetric, shape=shape, dtype=int, sparse=False).flatten()\n",
    "        del network_edges\n",
    "    \n",
    "    prior_df.to_csv(prior_path, index=False, compression='gzip')\n",
    "    del prior_df"
   ]
  },
  {
   "cell_type": "code",
   "execution_count": null,
   "metadata": {},
   "outputs": [],
   "source": []
  }
 ],
 "metadata": {
  "kernelspec": {
   "display_name": "Python [conda env:xswap-analysis] *",
   "language": "python",
   "name": "conda-env-xswap-analysis-py"
  },
  "language_info": {
   "codemirror_mode": {
    "name": "ipython",
    "version": 3
   },
   "file_extension": ".py",
   "mimetype": "text/x-python",
   "name": "python",
   "nbconvert_exporter": "python",
   "pygments_lexer": "ipython3",
   "version": "3.7.3"
  }
 },
 "nbformat": 4,
 "nbformat_minor": 2
}
