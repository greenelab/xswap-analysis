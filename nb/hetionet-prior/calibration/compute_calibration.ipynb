{
 "cells": [
  {
   "cell_type": "code",
   "execution_count": 1,
   "metadata": {},
   "outputs": [],
   "source": [
    "import hetmatpy.hetmat\n",
    "import numpy as np\n",
    "import pandas as pd\n",
    "import tqdm\n",
    "import xswap"
   ]
  },
  {
   "cell_type": "code",
   "execution_count": 2,
   "metadata": {},
   "outputs": [
    {
     "data": {
      "text/plain": [
       "['AlD',\n",
       " 'AdG',\n",
       " 'AeG',\n",
       " 'AuG',\n",
       " 'BPpG',\n",
       " 'CCpG',\n",
       " 'CrC',\n",
       " 'CpD',\n",
       " 'CtD',\n",
       " 'CbG',\n",
       " 'CdG',\n",
       " 'CuG',\n",
       " 'CiPC',\n",
       " 'CcSE',\n",
       " 'DrD',\n",
       " 'DaG',\n",
       " 'DdG',\n",
       " 'DuG',\n",
       " 'DpS',\n",
       " 'GcG',\n",
       " 'GiG',\n",
       " 'G<rG',\n",
       " 'GpMF',\n",
       " 'GpPW']"
      ]
     },
     "execution_count": 2,
     "metadata": {},
     "output_type": "execute_result"
    }
   ],
   "source": [
    "hetmat = hetmatpy.hetmat.HetMat('../hetionet-v1.0.hetmat/')\n",
    "\n",
    "metapaths = hetmat.metagraph.extract_all_metapaths(1, True)\n",
    "metaedges = [metapath[0].abbrev for metapath in metapaths]\n",
    "\n",
    "metaedges"
   ]
  },
  {
   "cell_type": "code",
   "execution_count": 3,
   "metadata": {},
   "outputs": [
    {
     "data": {
      "application/vnd.jupyter.widget-view+json": {
       "model_id": "f5b6034e7e284370a72e673cbd83a928",
       "version_major": 2,
       "version_minor": 0
      },
      "text/plain": [
       "HBox(children=(IntProgress(value=0, max=3), HTML(value='')))"
      ]
     },
     "metadata": {},
     "output_type": "display_data"
    },
    {
     "name": "stdout",
     "output_type": "stream",
     "text": [
      "\n"
     ]
    }
   ],
   "source": [
    "for metaedge in tqdm.tqdm_notebook(metaedges):\n",
    "    _, _, mat = hetmat.metaedge_to_adjacency_matrix(metaedge)\n",
    "    edge_list = xswap.network_formats.matrix_to_edges(mat, include_reverse_edges=True)\n",
    "    prior_df = xswap.prior.compute_xswap_priors(edge_list, n_permutations=100, shape=mat.shape, \n",
    "                                                allow_self_loops=True, allow_antiparallel=True,\n",
    "                                                dtypes={'id': np.uint16, 'degree': np.uint16, 'edge': bool, \n",
    "                                                        'xswap_prior': np.float32})\n",
    "    prior_df.to_csv(f'calibration-priors/{metaedge}.csv.gz', compression='gzip', index=False)"
   ]
  }
 ],
 "metadata": {
  "kernelspec": {
   "display_name": "Python [conda env:xswap-analysis] *",
   "language": "python",
   "name": "conda-env-xswap-analysis-py"
  },
  "language_info": {
   "codemirror_mode": {
    "name": "ipython",
    "version": 3
   },
   "file_extension": ".py",
   "mimetype": "text/x-python",
   "name": "python",
   "nbconvert_exporter": "python",
   "pygments_lexer": "ipython3",
   "version": "3.7.3"
  }
 },
 "nbformat": 4,
 "nbformat_minor": 2
}
