{
 "cells": [
  {
   "cell_type": "code",
   "execution_count": 1,
   "metadata": {
    "scrolled": true
   },
   "outputs": [
    {
     "name": "stderr",
     "output_type": "stream",
     "text": [
      "── Attaching packages ─────────────────────────────────────── tidyverse 1.2.1 ──\n",
      "✔ ggplot2 3.1.1       ✔ purrr   0.3.2  \n",
      "✔ tibble  2.1.1       ✔ dplyr   0.8.0.1\n",
      "✔ tidyr   0.8.3       ✔ stringr 1.4.0  \n",
      "✔ readr   1.3.1       ✔ forcats 0.4.0  \n",
      "── Conflicts ────────────────────────────────────────── tidyverse_conflicts() ──\n",
      "✖ dplyr::filter() masks stats::filter()\n",
      "✖ dplyr::lag()    masks stats::lag()\n",
      "\n",
      "Attaching package: ‘cowplot’\n",
      "\n",
      "The following object is masked from ‘package:ggplot2’:\n",
      "\n",
      "    ggsave\n",
      "\n",
      "Loading required package: gplots\n",
      "\n",
      "Attaching package: ‘gplots’\n",
      "\n",
      "The following object is masked from ‘package:stats’:\n",
      "\n",
      "    lowess\n",
      "\n",
      "Type 'citation(\"pROC\")' for a citation.\n",
      "\n",
      "Attaching package: ‘pROC’\n",
      "\n",
      "The following objects are masked from ‘package:stats’:\n",
      "\n",
      "    cov, smooth, var\n",
      "\n",
      "\n",
      "Attaching package: ‘MLmetrics’\n",
      "\n",
      "The following object is masked from ‘package:base’:\n",
      "\n",
      "    Recall\n",
      "\n"
     ]
    }
   ],
   "source": [
    "library(tidyverse)\n",
    "library(cowplot)\n",
    "library(ggrepel)\n",
    "library(ROCR)\n",
    "library(pROC)\n",
    "library(MLmetrics)\n",
    "\n",
    "\n",
    "`%+replace%` <- ggplot2::`%+replace%`\n",
    "\n",
    "theme_zietzm <- function(base_size = 11.5, base_family = \"\") {\n",
    "    # Starts with theme_bw and then modify some parts\n",
    "    # Theme options are documentated at http://docs.ggplot2.org/current/theme.html\n",
    "    ggplot2::theme_classic(base_size = base_size, base_family = base_family) %+replace%\n",
    "    ggplot2::theme(\n",
    "\n",
    "        strip.background  = ggplot2::element_rect(fill = NA, colour = 'grey90', size = 0),\n",
    "        strip.text = element_text(vjust = 1, size = 10),\n",
    "        plot.margin       = ggplot2::margin(t=2, r=2, b=2, l=2, unit='pt'),\n",
    "        legend.spacing     = grid::unit(0.1, 'cm'),\n",
    "        legend.key        = ggplot2::element_blank(),\n",
    "        panel.border=element_rect(fill = NA, color = 'black', size = 0.5), \n",
    "        axis.line=element_line(size=0),\n",
    "    )\n",
    "}"
   ]
  },
  {
   "cell_type": "markdown",
   "metadata": {},
   "source": [
    "# 1. Investigate calibration of XSwap vs (scaled) degree product"
   ]
  },
  {
   "cell_type": "code",
   "execution_count": 2,
   "metadata": {},
   "outputs": [],
   "source": [
    "compute_equal_bin_calibration <- function(df, num_bins) {\n",
    "    features <- c('xswap_prior', 'analytic_prior', 'scaled_degree')\n",
    "    \n",
    "    calibration_df <- data.frame()\n",
    "    for (feature in features) {\n",
    "        cal_df <- df %>%\n",
    "            select(feature_value = starts_with(feature), edge) %>%\n",
    "            arrange(desc(feature_value)) %>%\n",
    "            mutate(\n",
    "                indicator = seq(n()),\n",
    "                bin_number = ntile(feature_value, num_bins),\n",
    "            ) %>%\n",
    "            group_by(bin_number) %>%\n",
    "            summarize(\n",
    "                num_edges = sum(edge),\n",
    "                bin_size = n(),\n",
    "\n",
    "                bin_mean_feature = mean(feature_value),\n",
    "                bin_std_feature = sd(feature_value),\n",
    "            ) %>% \n",
    "            ungroup() %>%\n",
    "            mutate(\n",
    "                expected_percent_correct = (num_edges + 1/2) / (bin_size + 1),\n",
    "                lower_ci = qbeta(c(0.025), num_edges + 1/2, bin_size - num_edges + 1/2),\n",
    "                upper_ci = qbeta(c(0.975), num_edges + 1/2, bin_size - num_edges + 1/2),\n",
    "                feature = feature,\n",
    "            )\n",
    "\n",
    "        calibration_df <- bind_rows(calibration_df, cal_df)\n",
    "        rm(cal_df)\n",
    "    }\n",
    "    calibration_df %>%\n",
    "        select(feature, bin_number:upper_ci)\n",
    "}\n",
    "\n",
    "compute_calibration_metrics <- function(df) {\n",
    "    features <- c('xswap_prior', 'analytic_prior', 'scaled_degree')\n",
    "\n",
    "    metrics_df <- data.frame()\n",
    "    for (feature in features) {\n",
    "        met_df <- df %>%\n",
    "            select(feature_value = starts_with(feature), edge) %>%\n",
    "            summarize(\n",
    "        #         mae = MAE(y_true = edge, y_pred = feature_value),\n",
    "        #         mse = MSE(y_true = edge, y_pred = feature_value),\n",
    "        #         rmse = RMSE(y_true = edge, y_pred = feature_value),\n",
    "                auroc = auc(formula = edge ~ feature_value),\n",
    "        #         median_ae = MedianAE(y_true = edge, y_pred = feature_value),\n",
    "                # Note all_false actually has infinite mean cross entropy\n",
    "                mxe = - mean(edge * log(feature_value + 1e-100) + (1-edge) * log(1-feature_value + 1e-100)),\n",
    "                w_mae = weighted.mean(abs(edge - feature_value), \n",
    "                                      w = (edge / sum(edge)) + (1-edge) / sum(1-edge)),\n",
    "            ) %>%\n",
    "            mutate(feature = feature)\n",
    "        metrics_df <- bind_rows(metrics_df, met_df)\n",
    "    }\n",
    "    metrics_df\n",
    "}"
   ]
  },
  {
   "cell_type": "code",
   "execution_count": 3,
   "metadata": {
    "scrolled": true
   },
   "outputs": [
    {
     "name": "stdout",
     "output_type": "stream",
     "text": [
      "[1] \"AdG\"\n"
     ]
    },
    {
     "name": "stderr",
     "output_type": "stream",
     "text": [
      "Parsed with column specification:\n",
      "cols(\n",
      "  source_id = col_double(),\n",
      "  target_id = col_double(),\n",
      "  edge = col_logical(),\n",
      "  source_degree = col_double(),\n",
      "  target_degree = col_double(),\n",
      "  xswap_prior = col_double()\n",
      ")\n",
      "Setting levels: control = FALSE, case = TRUE\n",
      "Setting direction: controls < cases\n",
      "Warning message in bind_rows_(x, .id):\n",
      "“Vectorizing 'auc' elements may not preserve their attributes”Setting levels: control = FALSE, case = TRUE\n",
      "Setting direction: controls < cases\n",
      "Warning message in bind_rows_(x, .id):\n",
      "“Vectorizing 'auc' elements may not preserve their attributes”Setting levels: control = FALSE, case = TRUE\n",
      "Setting direction: controls < cases\n",
      "Warning message in bind_rows_(x, .id):\n",
      "“Vectorizing 'auc' elements may not preserve their attributes”"
     ]
    },
    {
     "name": "stdout",
     "output_type": "stream",
     "text": [
      "[1] \"AeG\"\n"
     ]
    },
    {
     "name": "stderr",
     "output_type": "stream",
     "text": [
      "Parsed with column specification:\n",
      "cols(\n",
      "  source_id = col_double(),\n",
      "  target_id = col_double(),\n",
      "  edge = col_logical(),\n",
      "  source_degree = col_double(),\n",
      "  target_degree = col_double(),\n",
      "  xswap_prior = col_double()\n",
      ")\n",
      "Setting levels: control = FALSE, case = TRUE\n",
      "Setting direction: controls < cases\n",
      "Warning message in bind_rows_(x, .id):\n",
      "“Vectorizing 'auc' elements may not preserve their attributes”Setting levels: control = FALSE, case = TRUE\n",
      "Setting direction: controls < cases\n",
      "Warning message in bind_rows_(x, .id):\n",
      "“Vectorizing 'auc' elements may not preserve their attributes”Setting levels: control = FALSE, case = TRUE\n",
      "Setting direction: controls < cases\n",
      "Warning message in bind_rows_(x, .id):\n",
      "“Vectorizing 'auc' elements may not preserve their attributes”"
     ]
    },
    {
     "name": "stdout",
     "output_type": "stream",
     "text": [
      "[1] \"AlD\"\n"
     ]
    },
    {
     "name": "stderr",
     "output_type": "stream",
     "text": [
      "Parsed with column specification:\n",
      "cols(\n",
      "  source_id = col_double(),\n",
      "  target_id = col_double(),\n",
      "  edge = col_logical(),\n",
      "  source_degree = col_double(),\n",
      "  target_degree = col_double(),\n",
      "  xswap_prior = col_double()\n",
      ")\n",
      "Setting levels: control = FALSE, case = TRUE\n",
      "Setting direction: controls < cases\n",
      "Warning message in bind_rows_(x, .id):\n",
      "“Vectorizing 'auc' elements may not preserve their attributes”Setting levels: control = FALSE, case = TRUE\n",
      "Setting direction: controls < cases\n",
      "Warning message in bind_rows_(x, .id):\n",
      "“Vectorizing 'auc' elements may not preserve their attributes”Setting levels: control = FALSE, case = TRUE\n",
      "Setting direction: controls < cases\n",
      "Warning message in bind_rows_(x, .id):\n",
      "“Vectorizing 'auc' elements may not preserve their attributes”"
     ]
    },
    {
     "name": "stdout",
     "output_type": "stream",
     "text": [
      "[1] \"AuG\"\n"
     ]
    },
    {
     "name": "stderr",
     "output_type": "stream",
     "text": [
      "Parsed with column specification:\n",
      "cols(\n",
      "  source_id = col_double(),\n",
      "  target_id = col_double(),\n",
      "  edge = col_logical(),\n",
      "  source_degree = col_double(),\n",
      "  target_degree = col_double(),\n",
      "  xswap_prior = col_double()\n",
      ")\n",
      "Setting levels: control = FALSE, case = TRUE\n",
      "Setting direction: controls < cases\n",
      "Warning message in bind_rows_(x, .id):\n",
      "“Vectorizing 'auc' elements may not preserve their attributes”Setting levels: control = FALSE, case = TRUE\n",
      "Setting direction: controls < cases\n",
      "Warning message in bind_rows_(x, .id):\n",
      "“Vectorizing 'auc' elements may not preserve their attributes”Setting levels: control = FALSE, case = TRUE\n",
      "Setting direction: controls < cases\n",
      "Warning message in bind_rows_(x, .id):\n",
      "“Vectorizing 'auc' elements may not preserve their attributes”"
     ]
    },
    {
     "name": "stdout",
     "output_type": "stream",
     "text": [
      "[1] \"CbG\"\n"
     ]
    },
    {
     "name": "stderr",
     "output_type": "stream",
     "text": [
      "Parsed with column specification:\n",
      "cols(\n",
      "  source_id = col_double(),\n",
      "  target_id = col_double(),\n",
      "  edge = col_logical(),\n",
      "  source_degree = col_double(),\n",
      "  target_degree = col_double(),\n",
      "  xswap_prior = col_double()\n",
      ")\n",
      "Setting levels: control = FALSE, case = TRUE\n",
      "Setting direction: controls < cases\n",
      "Warning message in bind_rows_(x, .id):\n",
      "“Vectorizing 'auc' elements may not preserve their attributes”Setting levels: control = FALSE, case = TRUE\n",
      "Setting direction: controls < cases\n",
      "Warning message in bind_rows_(x, .id):\n",
      "“Vectorizing 'auc' elements may not preserve their attributes”Setting levels: control = FALSE, case = TRUE\n",
      "Setting direction: controls < cases\n",
      "Warning message in bind_rows_(x, .id):\n",
      "“Vectorizing 'auc' elements may not preserve their attributes”"
     ]
    },
    {
     "name": "stdout",
     "output_type": "stream",
     "text": [
      "[1] \"CCpG\"\n"
     ]
    },
    {
     "name": "stderr",
     "output_type": "stream",
     "text": [
      "Parsed with column specification:\n",
      "cols(\n",
      "  source_id = col_double(),\n",
      "  target_id = col_double(),\n",
      "  edge = col_logical(),\n",
      "  source_degree = col_double(),\n",
      "  target_degree = col_double(),\n",
      "  xswap_prior = col_double()\n",
      ")\n",
      "Setting levels: control = FALSE, case = TRUE\n",
      "Setting direction: controls < cases\n",
      "Warning message in bind_rows_(x, .id):\n",
      "“Vectorizing 'auc' elements may not preserve their attributes”Setting levels: control = FALSE, case = TRUE\n",
      "Setting direction: controls < cases\n",
      "Warning message in bind_rows_(x, .id):\n",
      "“Vectorizing 'auc' elements may not preserve their attributes”Setting levels: control = FALSE, case = TRUE\n",
      "Setting direction: controls < cases\n",
      "Warning message in bind_rows_(x, .id):\n",
      "“Vectorizing 'auc' elements may not preserve their attributes”"
     ]
    },
    {
     "name": "stdout",
     "output_type": "stream",
     "text": [
      "[1] \"CcSE\"\n"
     ]
    },
    {
     "name": "stderr",
     "output_type": "stream",
     "text": [
      "Parsed with column specification:\n",
      "cols(\n",
      "  source_id = col_double(),\n",
      "  target_id = col_double(),\n",
      "  edge = col_logical(),\n",
      "  source_degree = col_double(),\n",
      "  target_degree = col_double(),\n",
      "  xswap_prior = col_double()\n",
      ")\n",
      "Setting levels: control = FALSE, case = TRUE\n",
      "Setting direction: controls < cases\n",
      "Warning message in bind_rows_(x, .id):\n",
      "“Vectorizing 'auc' elements may not preserve their attributes”Setting levels: control = FALSE, case = TRUE\n",
      "Setting direction: controls < cases\n",
      "Warning message in bind_rows_(x, .id):\n",
      "“Vectorizing 'auc' elements may not preserve their attributes”Setting levels: control = FALSE, case = TRUE\n",
      "Setting direction: controls < cases\n",
      "Warning message in bind_rows_(x, .id):\n",
      "“Vectorizing 'auc' elements may not preserve their attributes”"
     ]
    },
    {
     "name": "stdout",
     "output_type": "stream",
     "text": [
      "[1] \"CdG\"\n"
     ]
    },
    {
     "name": "stderr",
     "output_type": "stream",
     "text": [
      "Parsed with column specification:\n",
      "cols(\n",
      "  source_id = col_double(),\n",
      "  target_id = col_double(),\n",
      "  edge = col_logical(),\n",
      "  source_degree = col_double(),\n",
      "  target_degree = col_double(),\n",
      "  xswap_prior = col_double()\n",
      ")\n",
      "Setting levels: control = FALSE, case = TRUE\n",
      "Setting direction: controls < cases\n",
      "Warning message in bind_rows_(x, .id):\n",
      "“Vectorizing 'auc' elements may not preserve their attributes”Setting levels: control = FALSE, case = TRUE\n",
      "Setting direction: controls < cases\n",
      "Warning message in bind_rows_(x, .id):\n",
      "“Vectorizing 'auc' elements may not preserve their attributes”Setting levels: control = FALSE, case = TRUE\n",
      "Setting direction: controls < cases\n",
      "Warning message in bind_rows_(x, .id):\n",
      "“Vectorizing 'auc' elements may not preserve their attributes”"
     ]
    },
    {
     "name": "stdout",
     "output_type": "stream",
     "text": [
      "[1] \"CiPC\"\n"
     ]
    },
    {
     "name": "stderr",
     "output_type": "stream",
     "text": [
      "Parsed with column specification:\n",
      "cols(\n",
      "  source_id = col_double(),\n",
      "  target_id = col_double(),\n",
      "  edge = col_logical(),\n",
      "  source_degree = col_double(),\n",
      "  target_degree = col_double(),\n",
      "  xswap_prior = col_double()\n",
      ")\n",
      "Setting levels: control = FALSE, case = TRUE\n",
      "Setting direction: controls < cases\n",
      "Warning message in bind_rows_(x, .id):\n",
      "“Vectorizing 'auc' elements may not preserve their attributes”Setting levels: control = FALSE, case = TRUE\n",
      "Setting direction: controls < cases\n",
      "Warning message in bind_rows_(x, .id):\n",
      "“Vectorizing 'auc' elements may not preserve their attributes”Setting levels: control = FALSE, case = TRUE\n",
      "Setting direction: controls < cases\n",
      "Warning message in bind_rows_(x, .id):\n",
      "“Vectorizing 'auc' elements may not preserve their attributes”"
     ]
    },
    {
     "name": "stdout",
     "output_type": "stream",
     "text": [
      "[1] \"CpD\"\n"
     ]
    },
    {
     "name": "stderr",
     "output_type": "stream",
     "text": [
      "Parsed with column specification:\n",
      "cols(\n",
      "  source_id = col_double(),\n",
      "  target_id = col_double(),\n",
      "  edge = col_logical(),\n",
      "  source_degree = col_double(),\n",
      "  target_degree = col_double(),\n",
      "  xswap_prior = col_double()\n",
      ")\n",
      "Setting levels: control = FALSE, case = TRUE\n",
      "Setting direction: controls < cases\n",
      "Warning message in bind_rows_(x, .id):\n",
      "“Vectorizing 'auc' elements may not preserve their attributes”Setting levels: control = FALSE, case = TRUE\n",
      "Setting direction: controls < cases\n",
      "Warning message in bind_rows_(x, .id):\n",
      "“Vectorizing 'auc' elements may not preserve their attributes”Setting levels: control = FALSE, case = TRUE\n",
      "Setting direction: controls < cases\n",
      "Warning message in bind_rows_(x, .id):\n",
      "“Vectorizing 'auc' elements may not preserve their attributes”"
     ]
    },
    {
     "name": "stdout",
     "output_type": "stream",
     "text": [
      "[1] \"CrC\"\n"
     ]
    },
    {
     "name": "stderr",
     "output_type": "stream",
     "text": [
      "Parsed with column specification:\n",
      "cols(\n",
      "  source_id = col_double(),\n",
      "  target_id = col_double(),\n",
      "  edge = col_logical(),\n",
      "  source_degree = col_double(),\n",
      "  target_degree = col_double(),\n",
      "  xswap_prior = col_double()\n",
      ")\n",
      "Setting levels: control = FALSE, case = TRUE\n",
      "Setting direction: controls < cases\n",
      "Warning message in bind_rows_(x, .id):\n",
      "“Vectorizing 'auc' elements may not preserve their attributes”Setting levels: control = FALSE, case = TRUE\n",
      "Setting direction: controls < cases\n",
      "Warning message in bind_rows_(x, .id):\n",
      "“Vectorizing 'auc' elements may not preserve their attributes”Setting levels: control = FALSE, case = TRUE\n",
      "Setting direction: controls < cases\n",
      "Warning message in bind_rows_(x, .id):\n",
      "“Vectorizing 'auc' elements may not preserve their attributes”"
     ]
    },
    {
     "name": "stdout",
     "output_type": "stream",
     "text": [
      "[1] \"CtD\"\n"
     ]
    },
    {
     "name": "stderr",
     "output_type": "stream",
     "text": [
      "Parsed with column specification:\n",
      "cols(\n",
      "  source_id = col_double(),\n",
      "  target_id = col_double(),\n",
      "  edge = col_logical(),\n",
      "  source_degree = col_double(),\n",
      "  target_degree = col_double(),\n",
      "  xswap_prior = col_double()\n",
      ")\n",
      "Setting levels: control = FALSE, case = TRUE\n",
      "Setting direction: controls < cases\n",
      "Warning message in bind_rows_(x, .id):\n",
      "“Vectorizing 'auc' elements may not preserve their attributes”Setting levels: control = FALSE, case = TRUE\n",
      "Setting direction: controls < cases\n",
      "Warning message in bind_rows_(x, .id):\n",
      "“Vectorizing 'auc' elements may not preserve their attributes”Setting levels: control = FALSE, case = TRUE\n",
      "Setting direction: controls < cases\n",
      "Warning message in bind_rows_(x, .id):\n",
      "“Vectorizing 'auc' elements may not preserve their attributes”"
     ]
    },
    {
     "name": "stdout",
     "output_type": "stream",
     "text": [
      "[1] \"CuG\"\n"
     ]
    },
    {
     "name": "stderr",
     "output_type": "stream",
     "text": [
      "Parsed with column specification:\n",
      "cols(\n",
      "  source_id = col_double(),\n",
      "  target_id = col_double(),\n",
      "  edge = col_logical(),\n",
      "  source_degree = col_double(),\n",
      "  target_degree = col_double(),\n",
      "  xswap_prior = col_double()\n",
      ")\n",
      "Setting levels: control = FALSE, case = TRUE\n",
      "Setting direction: controls < cases\n",
      "Warning message in bind_rows_(x, .id):\n",
      "“Vectorizing 'auc' elements may not preserve their attributes”Setting levels: control = FALSE, case = TRUE\n",
      "Setting direction: controls < cases\n",
      "Warning message in bind_rows_(x, .id):\n",
      "“Vectorizing 'auc' elements may not preserve their attributes”Setting levels: control = FALSE, case = TRUE\n",
      "Setting direction: controls < cases\n",
      "Warning message in bind_rows_(x, .id):\n",
      "“Vectorizing 'auc' elements may not preserve their attributes”"
     ]
    },
    {
     "name": "stdout",
     "output_type": "stream",
     "text": [
      "[1] \"DaG\"\n"
     ]
    },
    {
     "name": "stderr",
     "output_type": "stream",
     "text": [
      "Parsed with column specification:\n",
      "cols(\n",
      "  source_id = col_double(),\n",
      "  target_id = col_double(),\n",
      "  edge = col_logical(),\n",
      "  source_degree = col_double(),\n",
      "  target_degree = col_double(),\n",
      "  xswap_prior = col_double()\n",
      ")\n",
      "Setting levels: control = FALSE, case = TRUE\n",
      "Setting direction: controls < cases\n",
      "Warning message in bind_rows_(x, .id):\n",
      "“Vectorizing 'auc' elements may not preserve their attributes”Setting levels: control = FALSE, case = TRUE\n",
      "Setting direction: controls < cases\n",
      "Warning message in bind_rows_(x, .id):\n",
      "“Vectorizing 'auc' elements may not preserve their attributes”Setting levels: control = FALSE, case = TRUE\n",
      "Setting direction: controls < cases\n",
      "Warning message in bind_rows_(x, .id):\n",
      "“Vectorizing 'auc' elements may not preserve their attributes”"
     ]
    },
    {
     "name": "stdout",
     "output_type": "stream",
     "text": [
      "[1] \"DdG\"\n"
     ]
    },
    {
     "name": "stderr",
     "output_type": "stream",
     "text": [
      "Parsed with column specification:\n",
      "cols(\n",
      "  source_id = col_double(),\n",
      "  target_id = col_double(),\n",
      "  edge = col_logical(),\n",
      "  source_degree = col_double(),\n",
      "  target_degree = col_double(),\n",
      "  xswap_prior = col_double()\n",
      ")\n",
      "Setting levels: control = FALSE, case = TRUE\n",
      "Setting direction: controls < cases\n",
      "Warning message in bind_rows_(x, .id):\n",
      "“Vectorizing 'auc' elements may not preserve their attributes”Setting levels: control = FALSE, case = TRUE\n",
      "Setting direction: controls < cases\n",
      "Warning message in bind_rows_(x, .id):\n",
      "“Vectorizing 'auc' elements may not preserve their attributes”Setting levels: control = FALSE, case = TRUE\n",
      "Setting direction: controls < cases\n",
      "Warning message in bind_rows_(x, .id):\n",
      "“Vectorizing 'auc' elements may not preserve their attributes”"
     ]
    },
    {
     "name": "stdout",
     "output_type": "stream",
     "text": [
      "[1] \"DpS\"\n"
     ]
    },
    {
     "name": "stderr",
     "output_type": "stream",
     "text": [
      "Parsed with column specification:\n",
      "cols(\n",
      "  source_id = col_double(),\n",
      "  target_id = col_double(),\n",
      "  edge = col_logical(),\n",
      "  source_degree = col_double(),\n",
      "  target_degree = col_double(),\n",
      "  xswap_prior = col_double()\n",
      ")\n",
      "Setting levels: control = FALSE, case = TRUE\n",
      "Setting direction: controls < cases\n",
      "Warning message in bind_rows_(x, .id):\n",
      "“Vectorizing 'auc' elements may not preserve their attributes”Setting levels: control = FALSE, case = TRUE\n",
      "Setting direction: controls < cases\n",
      "Warning message in bind_rows_(x, .id):\n",
      "“Vectorizing 'auc' elements may not preserve their attributes”Setting levels: control = FALSE, case = TRUE\n",
      "Setting direction: controls < cases\n",
      "Warning message in bind_rows_(x, .id):\n",
      "“Vectorizing 'auc' elements may not preserve their attributes”"
     ]
    },
    {
     "name": "stdout",
     "output_type": "stream",
     "text": [
      "[1] \"DrD\"\n"
     ]
    },
    {
     "name": "stderr",
     "output_type": "stream",
     "text": [
      "Parsed with column specification:\n",
      "cols(\n",
      "  source_id = col_double(),\n",
      "  target_id = col_double(),\n",
      "  edge = col_logical(),\n",
      "  source_degree = col_double(),\n",
      "  target_degree = col_double(),\n",
      "  xswap_prior = col_double()\n",
      ")\n",
      "Setting levels: control = FALSE, case = TRUE\n",
      "Setting direction: controls < cases\n",
      "Warning message in bind_rows_(x, .id):\n",
      "“Vectorizing 'auc' elements may not preserve their attributes”Setting levels: control = FALSE, case = TRUE\n",
      "Setting direction: controls < cases\n",
      "Warning message in bind_rows_(x, .id):\n",
      "“Vectorizing 'auc' elements may not preserve their attributes”Setting levels: control = FALSE, case = TRUE\n",
      "Setting direction: controls < cases\n",
      "Warning message in bind_rows_(x, .id):\n",
      "“Vectorizing 'auc' elements may not preserve their attributes”"
     ]
    },
    {
     "name": "stdout",
     "output_type": "stream",
     "text": [
      "[1] \"DuG\"\n"
     ]
    },
    {
     "name": "stderr",
     "output_type": "stream",
     "text": [
      "Parsed with column specification:\n",
      "cols(\n",
      "  source_id = col_double(),\n",
      "  target_id = col_double(),\n",
      "  edge = col_logical(),\n",
      "  source_degree = col_double(),\n",
      "  target_degree = col_double(),\n",
      "  xswap_prior = col_double()\n",
      ")\n",
      "Setting levels: control = FALSE, case = TRUE\n",
      "Setting direction: controls < cases\n",
      "Warning message in bind_rows_(x, .id):\n",
      "“Vectorizing 'auc' elements may not preserve their attributes”Setting levels: control = FALSE, case = TRUE\n",
      "Setting direction: controls < cases\n",
      "Warning message in bind_rows_(x, .id):\n",
      "“Vectorizing 'auc' elements may not preserve their attributes”Setting levels: control = FALSE, case = TRUE\n",
      "Setting direction: controls < cases\n",
      "Warning message in bind_rows_(x, .id):\n",
      "“Vectorizing 'auc' elements may not preserve their attributes”"
     ]
    },
    {
     "name": "stdout",
     "output_type": "stream",
     "text": [
      "[1] \"GpMF\"\n"
     ]
    },
    {
     "name": "stderr",
     "output_type": "stream",
     "text": [
      "Parsed with column specification:\n",
      "cols(\n",
      "  source_id = col_double(),\n",
      "  target_id = col_double(),\n",
      "  edge = col_logical(),\n",
      "  source_degree = col_double(),\n",
      "  target_degree = col_double(),\n",
      "  xswap_prior = col_double()\n",
      ")\n",
      "Setting levels: control = FALSE, case = TRUE\n",
      "Setting direction: controls < cases\n",
      "Warning message in bind_rows_(x, .id):\n",
      "“Vectorizing 'auc' elements may not preserve their attributes”Setting levels: control = FALSE, case = TRUE\n",
      "Setting direction: controls < cases\n",
      "Warning message in bind_rows_(x, .id):\n",
      "“Vectorizing 'auc' elements may not preserve their attributes”Setting levels: control = FALSE, case = TRUE\n",
      "Setting direction: controls < cases\n",
      "Warning message in bind_rows_(x, .id):\n",
      "“Vectorizing 'auc' elements may not preserve their attributes”"
     ]
    },
    {
     "name": "stdout",
     "output_type": "stream",
     "text": [
      "[1] \"GpPW\"\n"
     ]
    },
    {
     "name": "stderr",
     "output_type": "stream",
     "text": [
      "Parsed with column specification:\n",
      "cols(\n",
      "  source_id = col_double(),\n",
      "  target_id = col_double(),\n",
      "  edge = col_logical(),\n",
      "  source_degree = col_double(),\n",
      "  target_degree = col_double(),\n",
      "  xswap_prior = col_double()\n",
      ")\n",
      "Setting levels: control = FALSE, case = TRUE\n",
      "Setting direction: controls < cases\n",
      "Warning message in bind_rows_(x, .id):\n",
      "“Vectorizing 'auc' elements may not preserve their attributes”Setting levels: control = FALSE, case = TRUE\n",
      "Setting direction: controls < cases\n",
      "Warning message in bind_rows_(x, .id):\n",
      "“Vectorizing 'auc' elements may not preserve their attributes”Setting levels: control = FALSE, case = TRUE\n",
      "Setting direction: controls < cases\n",
      "Warning message in bind_rows_(x, .id):\n",
      "“Vectorizing 'auc' elements may not preserve their attributes”"
     ]
    }
   ],
   "source": [
    "equal_bin_calibration_plots_df <- data.frame()\n",
    "calibration_metrics_df <- data.frame()\n",
    "\n",
    "for (filename in list.files('calibration-priors/', full.names = T)) {\n",
    "    metaedge <- str_extract(string = filename, pattern = '(?<=//).+(?=.csv.gz)')\n",
    "    print(metaedge)\n",
    "    prior_df <- read_csv(filename) %>%\n",
    "        mutate(\n",
    "            degree_product = source_degree * target_degree,\n",
    "            analytic_prior = degree_product / (degree_product - source_degree - target_degree\n",
    "                                               + sum(edge) + 1),\n",
    "            scaled_degree = degree_product / max(degree_product),\n",
    "        ) %>%\n",
    "        select(-source_degree, -target_degree, -degree_product)\n",
    "    \n",
    "    # Compute and save overall metrics to assess calibration\n",
    "    cal_metrics <- compute_calibration_metrics(prior_df) %>%\n",
    "        mutate(metaedge = metaedge)\n",
    "    calibration_metrics_df <- bind_rows(calibration_metrics_df, cal_metrics)\n",
    "    \n",
    "    # Compute and save calibration bins\n",
    "    equal_bin_calibration_df <- compute_equal_bin_calibration(df = prior_df, num_bins = 25) %>%\n",
    "        mutate(metaedge = metaedge)\n",
    "    rm(prior_df)\n",
    "    \n",
    "    equal_bin_calibration_plots_df <- bind_rows(equal_bin_calibration_plots_df, equal_bin_calibration_df)\n",
    "    rm(equal_bin_calibration_df)\n",
    "    \n",
    "    write.csv(equal_bin_calibration_plots_df, file = 'calibration_bins.csv')\n",
    "    write.csv(calibration_metrics_df, file = 'calibration_metrics.csv')\n",
    "}"
   ]
  },
  {
   "cell_type": "code",
   "execution_count": 11,
   "metadata": {},
   "outputs": [
    {
     "data": {
      "image/png": "[encoded data removed]",
      "text/plain": [
       "plot without title"
      ]
     },
     "metadata": {},
     "output_type": "display_data"
    }
   ],
   "source": [
    "options(repr.plot.width=12, repr.plot.height=3.5)\n",
    "\n",
    "equal_bin_calibration_plot_color <- equal_bin_calibration_plots_df %>% \n",
    "    mutate(feature = feature %>% recode_factor(xswap_prior = 'XSwap prior', \n",
    "                                               scaled_degree = 'Scaled degree product',\n",
    "                                               analytic_prior = 'Analytic approximation')) %>%\n",
    "    ggplot(aes(x = bin_mean_feature, y = expected_percent_correct, \n",
    "               ymin = lower_ci, ymax = upper_ci, color = metaedge)) +\n",
    "    geom_abline() +\n",
    "    geom_point(alpha = 0.5) +\n",
    "    geom_line(alpha = 0.5) +\n",
    "    geom_errorbar(alpha = 0.5) +\n",
    "    facet_wrap(vars(feature)) +\n",
    "    scale_x_continuous(trans = 'sqrt') +\n",
    "    scale_y_continuous(trans = 'sqrt') +\n",
    "    xlab('Mean feature value') +\n",
    "    ylab('Estimated true probability') +\n",
    "    theme_zietzm()\n",
    "\n",
    "ggsave(filename = 'equal_bin_calibration_color.png', plot = equal_bin_calibration_plot_color,\n",
    "       width = 12, height = 3.5, dpi = 300)\n",
    "\n",
    "equal_bin_calibration_plot_color"
   ]
  },
  {
   "cell_type": "markdown",
   "metadata": {},
   "source": [
    "## AUROC vs Calibration\n",
    "\n",
    "#### Question:\n",
    "Does AUROC for a given metaedge have anything to do with its calibration?\n",
    "\n",
    "#### Answer:\n",
    "It does not appear so. `CtD` has medium calibration (w-RMSE), on average, while having the highest AUROC. `CcSE` has the best calibration but medium performance, while `AlD` has poor performance along both lines of analysis. Meanwhile, while XSwap, the analytic prior approximation, and the scaled degree product have various levels of calibration, all exhibit almost exactly the same AUROC for the same task."
   ]
  },
  {
   "cell_type": "code",
   "execution_count": null,
   "metadata": {},
   "outputs": [],
   "source": [
    "options(repr.plot.width=7, repr.plot.height=6)\n",
    "\n",
    "full_auroc_df <- full_auroc_df %>% \n",
    "    mutate(feature = feature %>% recode_factor(xswap_prior = 'XSwap prior', \n",
    "                                               scaled_degree = 'Scaled degree product',\n",
    "                                               scaled_xswap = 'Scaled XSwap prior'))\n",
    "\n",
    "\n",
    "by_metaedge <- (\n",
    "    ggplot(full_auroc_df, aes(group = feature, x = metaedge, y = auroc, label = feature))\n",
    "    + geom_point()\n",
    "    + geom_line()\n",
    "    + geom_label_repel(data = full_auroc_df %>% filter(metaedge == 'CtD'), \n",
    "                       nudge_x = 1, nudge_y = -0.15, segment.alpha = 0.2)\n",
    "    + coord_cartesian(ylim = c(0.5, 1))\n",
    "    + ylab(\"Self-reconstruction AUROC\")\n",
    ")\n",
    "\n",
    "by_feature <- (\n",
    "    ggplot(full_auroc_df, aes(group = metaedge, x = feature, y = auroc, label = metaedge))\n",
    "    + geom_point()\n",
    "    + geom_line()\n",
    "    + geom_label_repel(data = full_auroc_df %>% filter(feature == 'Scaled XSwap prior'), \n",
    "                       nudge_x = 1, nudge_y = -0.15, segment.alpha = 0.2)\n",
    "    + coord_cartesian(ylim = c(0.5, 1))\n",
    "    + ylab(\"Self-reconstruction AUROC\")\n",
    ")\n",
    "\n",
    "plot_grid(by_metaedge, by_feature, ncol = 1)"
   ]
  },
  {
   "cell_type": "markdown",
   "metadata": {},
   "source": [
    "# 2. Investigate differentially-ranked node (pairs)"
   ]
  },
  {
   "cell_type": "code",
   "execution_count": null,
   "metadata": {},
   "outputs": [],
   "source": [
    "xswap_degree_rank <- read_csv('calibration-priors/CcSE.csv.gz') %>%\n",
    "        mutate(\n",
    "            degree_product = source_degree * target_degree,\n",
    "            scaled_degree = degree_product / max(degree_product),\n",
    "            scaled_xswap = xswap_prior / max(xswap_prior),\n",
    "            xswap_rank = percent_rank(desc(xswap_prior)),\n",
    "            degree_rank = percent_rank(desc(degree_product)),\n",
    "            rank_diff = xswap_rank - degree_rank,\n",
    "            scaled_diff = scaled_xswap - scaled_degree,\n",
    "        )\n",
    "\n",
    "xswap_degree_rank %>% head"
   ]
  },
  {
   "cell_type": "markdown",
   "metadata": {},
   "source": [
    "## Within degree-product node pair variation\n",
    "\n",
    "#### Question: \n",
    "Does the source/target degree combination matter given the same product? For example, would you expect node pairs with degree 3 and 4 to have the same XSwap prior as ones with 6 and 2, since both have degree product of 12?\n",
    "\n",
    "#### Answer:\n",
    "The XSwap priors do not appear to be the same, but they appear to be randomly distributed with respect to source degree."
   ]
  },
  {
   "cell_type": "code",
   "execution_count": null,
   "metadata": {},
   "outputs": [],
   "source": [
    "options(repr.plot.width=12, repr.plot.height=6)\n",
    "\n",
    "(\n",
    "    ggplot(xswap_degree_rank %>%\n",
    "            group_by(degree_product) %>%\n",
    "            mutate(\n",
    "                n = n(),\n",
    "                distinct = n_distinct(source_degree),\n",
    "            ) %>%\n",
    "            ungroup() %>%\n",
    "            filter(degree_product %in% c(12, 8, 16, 18, 24, 28)) %>%\n",
    "            group_by(degree_product, source_degree) %>%\n",
    "            summarize(\n",
    "                n_source = n(),\n",
    "                xswap = first(xswap_prior),\n",
    "            ),\n",
    "           aes(x = source_degree, y = xswap, size = n_source))\n",
    "    + geom_point()\n",
    "    + facet_wrap(vars(degree_product), scales = 'free')\n",
    "    + theme_zietzm()\n",
    ")"
   ]
  },
  {
   "cell_type": "markdown",
   "metadata": {},
   "source": [
    "## Difference in rank vs features\n",
    "\n",
    "#### Question\n",
    "\n",
    "\n",
    "#### Answer"
   ]
  },
  {
   "cell_type": "code",
   "execution_count": null,
   "metadata": {},
   "outputs": [],
   "source": [
    "options(repr.plot.width=6, repr.plot.height=12)\n",
    "\n",
    "rank_diff <- (\n",
    "    ggplot(xswap_degree_rank %>% \n",
    "               sample_n(10000) %>% \n",
    "               gather('feature', 'value', xswap_prior, degree_product, scaled_degree, \n",
    "                      scaled_xswap, xswap_rank, degree_rank), \n",
    "           aes(x = value, y = rank_diff))\n",
    "    + geom_point(alpha = 0.5)\n",
    "    + facet_wrap(vars(feature), scale = 'free', ncol = 2)\n",
    "    + theme_zietzm()\n",
    ")\n",
    "\n",
    "scaled_diff <- (\n",
    "    ggplot(xswap_degree_rank %>% \n",
    "               sample_n(10000) %>% \n",
    "               gather('feature', 'value', xswap_prior, degree_product), \n",
    "           aes(x = value, y = scaled_diff))\n",
    "    + geom_point(alpha = 0.5)\n",
    "    + facet_wrap(vars(feature), scale = 'free')\n",
    "    + theme_zietzm()\n",
    ")\n",
    "\n",
    "unscaled_diff <- (\n",
    "    ggplot(xswap_degree_rank %>% \n",
    "               sample_n(20000) %>% \n",
    "               mutate(abs_diff = xswap_prior - scaled_degree) %>%\n",
    "               gather('feature', 'value', xswap_prior, scaled_degree), \n",
    "           aes(x = value, y = abs_diff))\n",
    "    + geom_point(alpha = 0.5)\n",
    "    + facet_wrap(vars(feature), scale = 'free')\n",
    "    + theme_zietzm()\n",
    ")\n",
    "\n",
    "\n",
    "plot_grid(rank_diff, scaled_diff, unscaled_diff, ncol = 1, rel_heights = c(2.9, 1, 1))"
   ]
  },
  {
   "cell_type": "code",
   "execution_count": null,
   "metadata": {},
   "outputs": [],
   "source": [
    "options(repr.plot.width=6, repr.plot.height=4)\n",
    "\n",
    "full <- (\n",
    "    ggplot(xswap_degree_rank %>% sample_n(50000) %>% arrange(abs(rank_diff)), \n",
    "           aes(x = xswap_rank, y = degree_rank, color = abs(rank_diff)))\n",
    "    + geom_point(alpha = 0.5)\n",
    "    + geom_abline()\n",
    ")\n",
    "\n",
    "full"
   ]
  },
  {
   "cell_type": "code",
   "execution_count": null,
   "metadata": {},
   "outputs": [],
   "source": [
    "xswap_degree_rank %>%\n",
    "    mutate(degree_diff = source_degree - target_degree) %>% \n",
    "    filter(degree_product > 0 & abs(degree_diff) < 500)"
   ]
  },
  {
   "cell_type": "code",
   "execution_count": null,
   "metadata": {},
   "outputs": [],
   "source": [
    "options(repr.plot.width=6, repr.plot.height=4)\n",
    "\n",
    "(\n",
    "    ggplot(xswap_degree_rank %>%\n",
    "               mutate(degree_diff = source_degree - target_degree) %>% \n",
    "               filter(degree_product > 0) %>%\n",
    "               sample_n(500000) %>%\n",
    "               arrange(rank_diff),\n",
    "           aes(x = degree_diff, y = rank_diff))\n",
    "    + geom_point(alpha = 0.3)\n",
    "    + geom_hline(yintercept = 0, color = 'grey', linetype = 'dashed')\n",
    "    + geom_vline(xintercept = 0, color = 'grey', linetype = 'dashed')\n",
    "    + xlab('Source degree - target degree')\n",
    "    + ylab('XSwap percentile - degree product percentile')\n",
    "    + theme_zietzm()\n",
    ")"
   ]
  },
  {
   "cell_type": "code",
   "execution_count": null,
   "metadata": {},
   "outputs": [],
   "source": [
    "options(repr.plot.width=6, repr.plot.height=4)\n",
    "\n",
    "(\n",
    "    ggplot(xswap_degree_rank %>%\n",
    "               mutate(degree_diff = source_degree - target_degree) %>% \n",
    "               filter(degree_product > 0) %>%\n",
    "               sample_n(500000) %>%\n",
    "               arrange(rank_diff),\n",
    "           aes(x = degree_diff, y = rank_diff))\n",
    "    + stat_density_2d(aes(fill = stat(level)), geom = \"polygon\")\n",
    "    + geom_hline(yintercept = 0, color = 'grey', linetype = 'dashed')\n",
    "    + geom_vline(xintercept = 0, color = 'grey', linetype = 'dashed')\n",
    "    + xlab('Source degree - target degree')\n",
    "    + ylab('XSwap percentile - degree product percentile')\n",
    "    + theme_zietzm()\n",
    ")"
   ]
  },
  {
   "cell_type": "code",
   "execution_count": null,
   "metadata": {},
   "outputs": [],
   "source": [
    "options(repr.plot.width=6, repr.plot.height=4)\n",
    "\n",
    "(\n",
    "    ggplot(xswap_degree_rank %>%\n",
    "               sample_n(100000),\n",
    "           aes(x = abs(source_degree - target_degree), y = rank_diff))\n",
    "    + geom_point(alpha = 0.5)\n",
    "    + geom_hline(yintercept = 0, color = 'grey', linetype = 'dashed')\n",
    "    + geom_vline(xintercept = 0, color = 'grey', linetype = 'dashed')\n",
    "#     + xlab('absSource degree - target degree')\n",
    "    + ylab('XSwap percentile - degree product percentile')\n",
    "    + theme_zietzm()\n",
    ")"
   ]
  },
  {
   "cell_type": "code",
   "execution_count": null,
   "metadata": {},
   "outputs": [],
   "source": [
    "options(repr.plot.width=6, repr.plot.height=4)\n",
    "\n",
    "full <- (\n",
    "    ggplot(xswap_degree_rank %>% sample_n(50000) %>% arrange(abs(rank_diff)), \n",
    "           aes(x = xswap_prior, y = scaled_degree, color = abs(rank_diff)))\n",
    "    + geom_point(alpha = 0.5)\n",
    "    + geom_abline()\n",
    ")\n",
    "\n",
    "full"
   ]
  },
  {
   "cell_type": "code",
   "execution_count": null,
   "metadata": {
    "scrolled": true
   },
   "outputs": [],
   "source": [
    "xswap_degree_rank %>%\n",
    "    top_n(10, wt = abs(rank_diff))"
   ]
  },
  {
   "cell_type": "code",
   "execution_count": null,
   "metadata": {
    "scrolled": true
   },
   "outputs": [],
   "source": [
    "xswap_degree_rank %>% \n",
    "    top_n(10, wt = xswap_rank)"
   ]
  },
  {
   "cell_type": "code",
   "execution_count": null,
   "metadata": {},
   "outputs": [],
   "source": []
  },
  {
   "cell_type": "code",
   "execution_count": null,
   "metadata": {},
   "outputs": [],
   "source": []
  }
 ],
 "metadata": {
  "kernelspec": {
   "display_name": "R [conda env:xswap-analysis] *",
   "language": "R",
   "name": "conda-env-xswap-analysis-r"
  },
  "language_info": {
   "codemirror_mode": "r",
   "file_extension": ".r",
   "mimetype": "text/x-r-source",
   "name": "R",
   "pygments_lexer": "r",
   "version": "3.5.1"
  }
 },
 "nbformat": 4,
 "nbformat_minor": 2
}
