{
 "cells": [
  {
   "cell_type": "code",
   "execution_count": 1,
   "metadata": {},
   "outputs": [],
   "source": [
    "import sys\n",
    "\n",
    "import numpy as np\n",
    "import pandas as pd\n",
    "import scipy.sparse\n",
    "import tqdm\n",
    "import xswap\n",
    "\n",
    "sys.path.insert(0, '../../')\n",
    "\n",
    "import analysis"
   ]
  },
  {
   "cell_type": "code",
   "execution_count": 2,
   "metadata": {},
   "outputs": [],
   "source": [
    "n_perms = 1000\n",
    "allow_antiparallel = True\n",
    "allow_self_loops = True\n",
    "directed = True"
   ]
  },
  {
   "cell_type": "markdown",
   "metadata": {},
   "source": [
    "# 2. TFTG directed network"
   ]
  },
  {
   "cell_type": "code",
   "execution_count": 3,
   "metadata": {},
   "outputs": [
    {
     "name": "stdout",
     "output_type": "stream",
     "text": [
      "train (1441, 1441)\n"
     ]
    },
    {
     "data": {
      "application/vnd.jupyter.widget-view+json": {
       "model_id": "382bbd7a3c1c469ab7b8f3e01f00bb36",
       "version_major": 2,
       "version_minor": 0
      },
      "text/plain": [
       "HBox(children=(IntProgress(value=0, max=1000), HTML(value='')))"
      ]
     },
     "metadata": {},
     "output_type": "display_data"
    },
    {
     "name": "stdout",
     "output_type": "stream",
     "text": [
      "\n",
      "test_recon (1441, 1441)\n"
     ]
    },
    {
     "data": {
      "application/vnd.jupyter.widget-view+json": {
       "model_id": "32cba376302c4683a30b18d168d4166c",
       "version_major": 2,
       "version_minor": 0
      },
      "text/plain": [
       "HBox(children=(IntProgress(value=0, max=1000), HTML(value='')))"
      ]
     },
     "metadata": {},
     "output_type": "display_data"
    },
    {
     "name": "stdout",
     "output_type": "stream",
     "text": [
      "\n",
      "test_new (1441, 1441)\n"
     ]
    },
    {
     "data": {
      "application/vnd.jupyter.widget-view+json": {
       "model_id": "3539d5304c4146348807c75a6b514bb0",
       "version_major": 2,
       "version_minor": 0
      },
      "text/plain": [
       "HBox(children=(IntProgress(value=0, max=1000), HTML(value='')))"
      ]
     },
     "metadata": {},
     "output_type": "display_data"
    },
    {
     "name": "stdout",
     "output_type": "stream",
     "text": [
      "\n"
     ]
    }
   ],
   "source": [
    "tftg_df = pd.read_csv('../../../data/task3/3.all_nodes/tftg.tsv.xz', sep='\\t', compression='xz')\n",
    "\n",
    "full_features_df = pd.DataFrame()\n",
    "\n",
    "for network in ['train', 'test_recon', 'test_new']:\n",
    "    edges = list(map(tuple, \n",
    "        tftg_df\n",
    "        .query(f'{network} == 1')\n",
    "        .loc[:, ['id_a', 'id_b']]\n",
    "        .values\n",
    "    ))\n",
    "    mat = analysis.edges_to_matrix(edges, directed=directed).tocsc()\n",
    "    print(network, mat.shape)\n",
    "\n",
    "    out_degree, in_degree = analysis.compute_directed_degrees(mat)\n",
    "    n_source = max(edge[0] for edge in edges) + 1\n",
    "\n",
    "    feature_dict = {\n",
    "        'edge_prior': scipy.sparse.csc_matrix((n_source, mat.shape[1])),\n",
    "\n",
    "        'inf': analysis.directed_inference(mat, out_degree, in_degree, n_source),\n",
    "        'mean_inf': np.zeros((n_source, mat.shape[1]), dtype=float),\n",
    "        'p_inf': np.zeros((n_source, mat.shape[1]), dtype=float),\n",
    "    }\n",
    "\n",
    "    perm_edges = edges.copy()\n",
    "    for i in tqdm.tnrange(n_perms):\n",
    "        perm_edges, _ = xswap.permute_edge_list(\n",
    "            perm_edges, \n",
    "            allow_self_loops=allow_self_loops, \n",
    "            allow_antiparallel=allow_antiparallel, \n",
    "            seed=i\n",
    "        )\n",
    "        perm_mat = analysis.edges_to_matrix(perm_edges, directed=directed).tocsc()\n",
    "\n",
    "        feature_dict['edge_prior'] += perm_mat[:n_source]\n",
    "\n",
    "        perm_inf = analysis.directed_inference(perm_mat, out_degree, in_degree, n_source)\n",
    "        feature_dict['mean_inf'] += perm_inf\n",
    "        feature_dict['p_inf'] += (perm_inf >= feature_dict['inf'])\n",
    "\n",
    "    # Post-process features\n",
    "    network_features_df = None\n",
    "    for feature, array in feature_dict.items():\n",
    "        # Normalize features by the number of permutations\n",
    "        if feature in ['edge_prior', 'mean_inf', 'p_inf']:\n",
    "            feature_dict[feature] /= n_perms\n",
    "\n",
    "        # Make features dense (for DataFrame)\n",
    "        if scipy.sparse.issparse(array):\n",
    "            array = array.toarray()\n",
    "\n",
    "        feature_df = (\n",
    "            pd.DataFrame(array)\n",
    "            .reset_index()\n",
    "            .melt(id_vars=['index'])\n",
    "            .rename(columns={'index': 'id_a', 'variable': 'id_b', 'value': feature})\n",
    "            .assign(\n",
    "                id_a=lambda df: df['id_a'].astype(int),\n",
    "                id_b=lambda df: df['id_b'].astype(int),\n",
    "                network=network,\n",
    "            )\n",
    "        )\n",
    "        if network_features_df is None:\n",
    "            network_features_df = feature_df\n",
    "        else:\n",
    "            network_features_df = network_features_df.merge(feature_df, on=['id_a', 'id_b', 'network'])\n",
    "\n",
    "    full_features_df = pd.concat([full_features_df, network_features_df])"
   ]
  },
  {
   "cell_type": "code",
   "execution_count": 4,
   "metadata": {
    "scrolled": true
   },
   "outputs": [],
   "source": [
    "tftg_features_df = (\n",
    "    tftg_df\n",
    "    .melt(\n",
    "        id_vars=['id_a', 'id_b'], \n",
    "        value_vars=['train', 'test_recon', 'test_new'], \n",
    "        var_name='network', value_name='edge'\n",
    "    )\n",
    "    .merge(full_features_df, on=['id_a', 'id_b', 'network'], how='left')\n",
    ")\n",
    "tftg_features_df.to_csv('../../../data/task3/4.data/tftg.tsv.xz', sep='\\t', compression='xz', index=False)"
   ]
  }
 ],
 "metadata": {
  "kernelspec": {
   "display_name": "Python 3",
   "language": "python",
   "name": "python3"
  },
  "language_info": {
   "codemirror_mode": {
    "name": "ipython",
    "version": 3
   },
   "file_extension": ".py",
   "mimetype": "text/x-python",
   "name": "python",
   "nbconvert_exporter": "python",
   "pygments_lexer": "ipython3",
   "version": "3.7.3"
  }
 },
 "nbformat": 4,
 "nbformat_minor": 2
}
