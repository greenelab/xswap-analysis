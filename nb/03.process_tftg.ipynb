{
 "cells": [
  {
   "cell_type": "code",
   "execution_count": 1,
   "metadata": {},
   "outputs": [],
   "source": [
    "import numpy as np\n",
    "import pandas as pd\n",
    "import requests\n",
    "\n",
    "import analysis"
   ]
  },
  {
   "cell_type": "markdown",
   "metadata": {},
   "source": [
    "# 1. Low-throughput edges\n",
    "\n",
    "### TTRUST\n",
    "\n",
    "Han, H., Cho, J. W., Lee, S., Yun, A., Kim, H., Bae, D., … Lee, I. (2017). TRRUST v2: an expanded reference database of human and mouse transcriptional regulatory interactions. *Nucleic acids research*, 46(D1), D380–D386. doi:10.1093/nar/gkx1013"
   ]
  },
  {
   "cell_type": "code",
   "execution_count": 2,
   "metadata": {},
   "outputs": [
    {
     "data": {
      "text/html": [
       "<div>\n",
       "<style scoped>\n",
       "    .dataframe tbody tr th:only-of-type {\n",
       "        vertical-align: middle;\n",
       "    }\n",
       "\n",
       "    .dataframe tbody tr th {\n",
       "        vertical-align: top;\n",
       "    }\n",
       "\n",
       "    .dataframe thead th {\n",
       "        text-align: right;\n",
       "    }\n",
       "</style>\n",
       "<table border=\"1\" class=\"dataframe\">\n",
       "  <thead>\n",
       "    <tr style=\"text-align: right;\">\n",
       "      <th></th>\n",
       "      <th>name_a</th>\n",
       "      <th>name_b</th>\n",
       "      <th>function</th>\n",
       "      <th>pubmed</th>\n",
       "    </tr>\n",
       "  </thead>\n",
       "  <tbody>\n",
       "    <tr>\n",
       "      <th>0</th>\n",
       "      <td>AATF</td>\n",
       "      <td>BAX</td>\n",
       "      <td>Repression</td>\n",
       "      <td>22909821</td>\n",
       "    </tr>\n",
       "    <tr>\n",
       "      <th>1</th>\n",
       "      <td>AATF</td>\n",
       "      <td>CDKN1A</td>\n",
       "      <td>Unknown</td>\n",
       "      <td>17157788</td>\n",
       "    </tr>\n",
       "    <tr>\n",
       "      <th>2</th>\n",
       "      <td>AATF</td>\n",
       "      <td>KLK3</td>\n",
       "      <td>Unknown</td>\n",
       "      <td>23146908</td>\n",
       "    </tr>\n",
       "    <tr>\n",
       "      <th>3</th>\n",
       "      <td>AATF</td>\n",
       "      <td>MYC</td>\n",
       "      <td>Activation</td>\n",
       "      <td>20549547</td>\n",
       "    </tr>\n",
       "    <tr>\n",
       "      <th>4</th>\n",
       "      <td>AATF</td>\n",
       "      <td>TP53</td>\n",
       "      <td>Unknown</td>\n",
       "      <td>17157788</td>\n",
       "    </tr>\n",
       "  </tbody>\n",
       "</table>\n",
       "</div>"
      ],
      "text/plain": [
       "  name_a  name_b    function    pubmed\n",
       "0   AATF     BAX  Repression  22909821\n",
       "1   AATF  CDKN1A     Unknown  17157788\n",
       "2   AATF    KLK3     Unknown  23146908\n",
       "3   AATF     MYC  Activation  20549547\n",
       "4   AATF    TP53     Unknown  17157788"
      ]
     },
     "execution_count": 2,
     "metadata": {},
     "output_type": "execute_result"
    }
   ],
   "source": [
    "lt_url = 'https://www.grnpedia.org/trrust/data/trrust_rawdata.human.tsv'\n",
    "lt_raw = pd.read_csv(lt_url, sep='\\t')\n",
    "lt_raw.to_csv('../data/1.raw/tftg_lt.tsv.xz', compression='xz', index=False, sep='\\t')\n",
    "\n",
    "# name_a is TF, name_b is gene\n",
    "lt_raw = pd.read_csv('../data/1.raw/tftg_lt.tsv.xz', names=['name_a', 'name_b', 'function', 'pubmed'], sep='\\t')\n",
    "lt_raw.head()"
   ]
  },
  {
   "cell_type": "code",
   "execution_count": 3,
   "metadata": {},
   "outputs": [
    {
     "data": {
      "text/html": [
       "<div>\n",
       "<style scoped>\n",
       "    .dataframe tbody tr th:only-of-type {\n",
       "        vertical-align: middle;\n",
       "    }\n",
       "\n",
       "    .dataframe tbody tr th {\n",
       "        vertical-align: top;\n",
       "    }\n",
       "\n",
       "    .dataframe thead th {\n",
       "        text-align: right;\n",
       "    }\n",
       "</style>\n",
       "<table border=\"1\" class=\"dataframe\">\n",
       "  <thead>\n",
       "    <tr style=\"text-align: right;\">\n",
       "      <th></th>\n",
       "      <th>name_a</th>\n",
       "      <th>name_b</th>\n",
       "      <th>test_recon</th>\n",
       "    </tr>\n",
       "  </thead>\n",
       "  <tbody>\n",
       "    <tr>\n",
       "      <th>0</th>\n",
       "      <td>AATF</td>\n",
       "      <td>BAX</td>\n",
       "      <td>1</td>\n",
       "    </tr>\n",
       "    <tr>\n",
       "      <th>1</th>\n",
       "      <td>AATF</td>\n",
       "      <td>CDKN1A</td>\n",
       "      <td>1</td>\n",
       "    </tr>\n",
       "    <tr>\n",
       "      <th>2</th>\n",
       "      <td>AATF</td>\n",
       "      <td>KLK3</td>\n",
       "      <td>1</td>\n",
       "    </tr>\n",
       "    <tr>\n",
       "      <th>3</th>\n",
       "      <td>AATF</td>\n",
       "      <td>MYC</td>\n",
       "      <td>1</td>\n",
       "    </tr>\n",
       "    <tr>\n",
       "      <th>4</th>\n",
       "      <td>AATF</td>\n",
       "      <td>TP53</td>\n",
       "      <td>1</td>\n",
       "    </tr>\n",
       "  </tbody>\n",
       "</table>\n",
       "</div>"
      ],
      "text/plain": [
       "  name_a  name_b  test_recon\n",
       "0   AATF     BAX           1\n",
       "1   AATF  CDKN1A           1\n",
       "2   AATF    KLK3           1\n",
       "3   AATF     MYC           1\n",
       "4   AATF    TP53           1"
      ]
     },
     "execution_count": 3,
     "metadata": {},
     "output_type": "execute_result"
    }
   ],
   "source": [
    "lt_edges_df = (\n",
    "    lt_raw\n",
    "    .filter(items=['name_a', 'name_b'])\n",
    "    .drop_duplicates()\n",
    "    .assign(test_recon=1)\n",
    ")\n",
    "lt_edges_df.head()"
   ]
  },
  {
   "cell_type": "code",
   "execution_count": 4,
   "metadata": {},
   "outputs": [
    {
     "data": {
      "text/plain": [
       "(795, 2492)"
      ]
     },
     "execution_count": 4,
     "metadata": {},
     "output_type": "execute_result"
    }
   ],
   "source": [
    "len(set(lt_edges_df['name_a'])), len(set(lt_edges_df['name_b']))"
   ]
  },
  {
   "cell_type": "markdown",
   "metadata": {},
   "source": [
    "# 2. High-throughput edges\n",
    "\n",
    "Lachmann, A., Xu, H., Krishnan, J., Berger, S. I., Mazloom, A. R., & Ma'ayan, A. (2010). ChEA: transcription factor regulation inferred from integrating genome-wide ChIP-X experiments. *Bioinformatics* (Oxford, England), 26(19), 2438–2444. doi:10.1093/bioinformatics/btq466"
   ]
  },
  {
   "cell_type": "code",
   "execution_count": 5,
   "metadata": {},
   "outputs": [
    {
     "name": "stderr",
     "output_type": "stream",
     "text": [
      "/home/zietzm/miniconda3/envs/xswap-analysis/lib/python3.7/site-packages/IPython/core/interactiveshell.py:3049: DtypeWarning: Columns (2,5,6) have mixed types. Specify dtype option on import or set low_memory=False.\n",
      "  interactivity=interactivity, compiler=compiler, result=result)\n"
     ]
    },
    {
     "data": {
      "text/html": [
       "<div>\n",
       "<style scoped>\n",
       "    .dataframe tbody tr th:only-of-type {\n",
       "        vertical-align: middle;\n",
       "    }\n",
       "\n",
       "    .dataframe tbody tr th {\n",
       "        vertical-align: top;\n",
       "    }\n",
       "\n",
       "    .dataframe thead th {\n",
       "        text-align: right;\n",
       "    }\n",
       "</style>\n",
       "<table border=\"1\" class=\"dataframe\">\n",
       "  <thead>\n",
       "    <tr style=\"text-align: right;\">\n",
       "      <th></th>\n",
       "      <th>source</th>\n",
       "      <th>source_desc</th>\n",
       "      <th>source_id</th>\n",
       "      <th>target</th>\n",
       "      <th>target_desc</th>\n",
       "      <th>target_id</th>\n",
       "      <th>weight</th>\n",
       "    </tr>\n",
       "  </thead>\n",
       "  <tbody>\n",
       "    <tr>\n",
       "      <th>0</th>\n",
       "      <td>DLGAP1</td>\n",
       "      <td>na</td>\n",
       "      <td>9229</td>\n",
       "      <td>KLF2</td>\n",
       "      <td>na</td>\n",
       "      <td>10365</td>\n",
       "      <td>1.0</td>\n",
       "    </tr>\n",
       "    <tr>\n",
       "      <th>1</th>\n",
       "      <td>DTNB</td>\n",
       "      <td>na</td>\n",
       "      <td>1838</td>\n",
       "      <td>KLF2</td>\n",
       "      <td>na</td>\n",
       "      <td>10365</td>\n",
       "      <td>1.0</td>\n",
       "    </tr>\n",
       "    <tr>\n",
       "      <th>2</th>\n",
       "      <td>BHLHE40</td>\n",
       "      <td>na</td>\n",
       "      <td>8553</td>\n",
       "      <td>KLF2</td>\n",
       "      <td>na</td>\n",
       "      <td>10365</td>\n",
       "      <td>1.0</td>\n",
       "    </tr>\n",
       "    <tr>\n",
       "      <th>3</th>\n",
       "      <td>RPS6KA1</td>\n",
       "      <td>na</td>\n",
       "      <td>6195</td>\n",
       "      <td>KLF2</td>\n",
       "      <td>na</td>\n",
       "      <td>10365</td>\n",
       "      <td>1.0</td>\n",
       "    </tr>\n",
       "    <tr>\n",
       "      <th>4</th>\n",
       "      <td>PXN</td>\n",
       "      <td>na</td>\n",
       "      <td>5829</td>\n",
       "      <td>KLF2</td>\n",
       "      <td>na</td>\n",
       "      <td>10365</td>\n",
       "      <td>1.0</td>\n",
       "    </tr>\n",
       "  </tbody>\n",
       "</table>\n",
       "</div>"
      ],
      "text/plain": [
       "    source source_desc  source_id target target_desc  target_id  weight\n",
       "0   DLGAP1          na       9229   KLF2          na      10365     1.0\n",
       "1     DTNB          na       1838   KLF2          na      10365     1.0\n",
       "2  BHLHE40          na       8553   KLF2          na      10365     1.0\n",
       "3  RPS6KA1          na       6195   KLF2          na      10365     1.0\n",
       "4      PXN          na       5829   KLF2          na      10365     1.0"
      ]
     },
     "execution_count": 5,
     "metadata": {},
     "output_type": "execute_result"
    }
   ],
   "source": [
    "ht_url = 'http://amp.pharm.mssm.edu/static/hdfs/harmonizome/data/cheappi/gene_attribute_edges.txt.gz'\n",
    "ht_raw = pd.read_csv(ht_url, sep='\\t')\n",
    "ht_raw.to_csv('../data/1.raw/tftg_ht.tsv.xz', compression='xz', sep='\\t', index=False)\n",
    "\n",
    "ht_raw = pd.read_csv('../data/1.raw/tftg_ht.tsv.xz', sep='\\t', skiprows=[1,])\n",
    "ht_raw.head()"
   ]
  },
  {
   "cell_type": "code",
   "execution_count": 6,
   "metadata": {},
   "outputs": [
    {
     "data": {
      "text/html": [
       "<div>\n",
       "<style scoped>\n",
       "    .dataframe tbody tr th:only-of-type {\n",
       "        vertical-align: middle;\n",
       "    }\n",
       "\n",
       "    .dataframe tbody tr th {\n",
       "        vertical-align: top;\n",
       "    }\n",
       "\n",
       "    .dataframe thead th {\n",
       "        text-align: right;\n",
       "    }\n",
       "</style>\n",
       "<table border=\"1\" class=\"dataframe\">\n",
       "  <thead>\n",
       "    <tr style=\"text-align: right;\">\n",
       "      <th></th>\n",
       "      <th>name_a</th>\n",
       "      <th>name_b</th>\n",
       "      <th>test_new</th>\n",
       "    </tr>\n",
       "  </thead>\n",
       "  <tbody>\n",
       "    <tr>\n",
       "      <th>0</th>\n",
       "      <td>KLF2</td>\n",
       "      <td>DLGAP1</td>\n",
       "      <td>1</td>\n",
       "    </tr>\n",
       "    <tr>\n",
       "      <th>1</th>\n",
       "      <td>KLF2</td>\n",
       "      <td>DTNB</td>\n",
       "      <td>1</td>\n",
       "    </tr>\n",
       "    <tr>\n",
       "      <th>2</th>\n",
       "      <td>KLF2</td>\n",
       "      <td>BHLHE40</td>\n",
       "      <td>1</td>\n",
       "    </tr>\n",
       "    <tr>\n",
       "      <th>3</th>\n",
       "      <td>KLF2</td>\n",
       "      <td>RPS6KA1</td>\n",
       "      <td>1</td>\n",
       "    </tr>\n",
       "    <tr>\n",
       "      <th>4</th>\n",
       "      <td>KLF2</td>\n",
       "      <td>PXN</td>\n",
       "      <td>1</td>\n",
       "    </tr>\n",
       "  </tbody>\n",
       "</table>\n",
       "</div>"
      ],
      "text/plain": [
       "  name_a   name_b  test_new\n",
       "0   KLF2   DLGAP1         1\n",
       "1   KLF2     DTNB         1\n",
       "2   KLF2  BHLHE40         1\n",
       "3   KLF2  RPS6KA1         1\n",
       "4   KLF2      PXN         1"
      ]
     },
     "execution_count": 6,
     "metadata": {},
     "output_type": "execute_result"
    }
   ],
   "source": [
    "ht_edges_df = (\n",
    "    ht_raw\n",
    "    .filter(items=['target', 'source'])\n",
    "    # name_a is TF, name_b is gene\n",
    "    .rename(columns={'target': 'name_a', 'source': 'name_b'})\n",
    "    .drop_duplicates()\n",
    "    .assign(test_new=1)\n",
    ")\n",
    "ht_edges_df.head()"
   ]
  },
  {
   "cell_type": "code",
   "execution_count": 7,
   "metadata": {},
   "outputs": [
    {
     "data": {
      "text/plain": [
       "(199, 21585)"
      ]
     },
     "execution_count": 7,
     "metadata": {},
     "output_type": "execute_result"
    }
   ],
   "source": [
    "len(set(ht_edges_df['name_a'])), len(set(ht_edges_df['name_b']))"
   ]
  },
  {
   "cell_type": "markdown",
   "metadata": {},
   "source": [
    "# 3. Merge datasets"
   ]
  },
  {
   "cell_type": "code",
   "execution_count": 8,
   "metadata": {},
   "outputs": [
    {
     "name": "stdout",
     "output_type": "stream",
     "text": [
      "(52455, 5)\n",
      "(31493, 7)\n"
     ]
    },
    {
     "data": {
      "text/html": [
       "<div>\n",
       "<style scoped>\n",
       "    .dataframe tbody tr th:only-of-type {\n",
       "        vertical-align: middle;\n",
       "    }\n",
       "\n",
       "    .dataframe tbody tr th {\n",
       "        vertical-align: top;\n",
       "    }\n",
       "\n",
       "    .dataframe thead th {\n",
       "        text-align: right;\n",
       "    }\n",
       "</style>\n",
       "<table border=\"1\" class=\"dataframe\">\n",
       "  <thead>\n",
       "    <tr style=\"text-align: right;\">\n",
       "      <th></th>\n",
       "      <th>name_a</th>\n",
       "      <th>name_b</th>\n",
       "      <th>id_a</th>\n",
       "      <th>id_b</th>\n",
       "      <th>train</th>\n",
       "      <th>test_recon</th>\n",
       "      <th>test_new</th>\n",
       "    </tr>\n",
       "  </thead>\n",
       "  <tbody>\n",
       "    <tr>\n",
       "      <th>0</th>\n",
       "      <td>KLF2</td>\n",
       "      <td>BHLHE40</td>\n",
       "      <td>64</td>\n",
       "      <td>252</td>\n",
       "      <td>0</td>\n",
       "      <td>0</td>\n",
       "      <td>1</td>\n",
       "    </tr>\n",
       "    <tr>\n",
       "      <th>1</th>\n",
       "      <td>KLF2</td>\n",
       "      <td>KLF4</td>\n",
       "      <td>64</td>\n",
       "      <td>65</td>\n",
       "      <td>0</td>\n",
       "      <td>0</td>\n",
       "      <td>1</td>\n",
       "    </tr>\n",
       "    <tr>\n",
       "      <th>2</th>\n",
       "      <td>KLF2</td>\n",
       "      <td>DMRT1</td>\n",
       "      <td>64</td>\n",
       "      <td>491</td>\n",
       "      <td>0</td>\n",
       "      <td>0</td>\n",
       "      <td>1</td>\n",
       "    </tr>\n",
       "    <tr>\n",
       "      <th>3</th>\n",
       "      <td>KLF2</td>\n",
       "      <td>HOXB13</td>\n",
       "      <td>64</td>\n",
       "      <td>713</td>\n",
       "      <td>0</td>\n",
       "      <td>0</td>\n",
       "      <td>1</td>\n",
       "    </tr>\n",
       "    <tr>\n",
       "      <th>4</th>\n",
       "      <td>KLF2</td>\n",
       "      <td>MFSD2A</td>\n",
       "      <td>64</td>\n",
       "      <td>896</td>\n",
       "      <td>0</td>\n",
       "      <td>0</td>\n",
       "      <td>1</td>\n",
       "    </tr>\n",
       "  </tbody>\n",
       "</table>\n",
       "</div>"
      ],
      "text/plain": [
       "  name_a   name_b  id_a  id_b  train  test_recon  test_new\n",
       "0   KLF2  BHLHE40    64   252      0           0         1\n",
       "1   KLF2     KLF4    64    65      0           0         1\n",
       "2   KLF2    DMRT1    64   491      0           0         1\n",
       "3   KLF2   HOXB13    64   713      0           0         1\n",
       "4   KLF2   MFSD2A    64   896      0           0         1"
      ]
     },
     "execution_count": 8,
     "metadata": {},
     "output_type": "execute_result"
    }
   ],
   "source": [
    "np.random.seed(0)\n",
    "\n",
    "tftg_edges_df = (\n",
    "    ht_edges_df\n",
    "    .merge(lt_edges_df, on=['name_a', 'name_b'], how='outer')\n",
    "    .fillna(0)\n",
    "    \n",
    "    # Filter to nodes that have at least one edge in both the high- and low-throughput networks\n",
    "    .assign(\n",
    "        ht_out_degree=lambda df: df['name_a'].map(df.groupby('name_a')['test_new'].sum().to_dict()),\n",
    "        lt_out_degree=lambda df: df['name_a'].map(df.groupby('name_a')['test_recon'].sum().to_dict()),\n",
    "        ht_in_degree=lambda df: df['name_b'].map(df.groupby('name_b')['test_new'].sum().to_dict()),\n",
    "        lt_in_degree=lambda df: df['name_b'].map(df.groupby('name_b')['test_recon'].sum().to_dict()),\n",
    "    )\n",
    "    .loc[lambda df: df.apply(lambda row: all(row[4:]), axis=1)]\n",
    "    .filter(items=['name_a', 'name_b', 'test_recon', 'test_new'])\n",
    "    .assign(\n",
    "        # Drop edges to create training network\n",
    "        train=lambda df: df['test_recon'].apply(lambda x: x and (np.random.rand() < 0.7)).astype(int),\n",
    "        test_recon=lambda df: df['test_recon'].astype(int),\n",
    "        test_new=lambda df: df['test_new'].astype(int),\n",
    "    )\n",
    ")\n",
    "\n",
    "# Create a mapping from nodes in training network to integers. Remove nodes not having an\n",
    "# edge in the training network.\n",
    "print(tftg_edges_df.shape)\n",
    "\n",
    "tftg_train_edges = set(map(tuple, \n",
    "    tftg_edges_df\n",
    "    .query('train == 1')\n",
    "    .loc[:, ['name_a', 'name_b']]\n",
    "    .values\n",
    "))\n",
    "\n",
    "# Create a mapping. Map TFs from 1,...,num_tfs and non-tf genes from num_tfs + 1, ...\n",
    "tfs = {edge[0] for edge in tftg_train_edges}\n",
    "genes = {edge[1] for edge in tftg_train_edges}\n",
    "\n",
    "genes_only = genes.difference(tfs)\n",
    "\n",
    "tf_mapping = {tf: i for i, tf in enumerate(sorted(tfs))}\n",
    "gene_mapping = {gene: (i+len(tfs)) for i, gene in enumerate(sorted(genes_only))}\n",
    "mapping = {**tf_mapping, **gene_mapping}\n",
    "\n",
    "tftg_edges_df = (\n",
    "    tftg_edges_df\n",
    "    .assign(\n",
    "        id_a=lambda df: df['name_a'].map(mapping),\n",
    "        id_b=lambda df: df['name_b'].map(mapping),\n",
    "    )\n",
    "    # Unmapped nodes are not present in the training network and map to NA. Drop these.\n",
    "    .dropna()\n",
    "    .assign(\n",
    "        id_a=lambda df: df['name_a'].map(mapping).astype(int),\n",
    "        id_b=lambda df: df['name_b'].map(mapping).astype(int),\n",
    "    )\n",
    "    .filter(items=['name_a', 'name_b', 'id_a', 'id_b', 'train', 'test_recon', 'test_new'])\n",
    "    .reset_index(drop=True)\n",
    ")\n",
    "\n",
    "print(tftg_edges_df.shape)\n",
    "\n",
    "\n",
    "tftg_edges_df.to_csv('../data/2.edges/tftg.tsv.xz', compression='xz', sep='\\t', index=False)\n",
    "\n",
    "tftg_edges_df.head()"
   ]
  },
  {
   "cell_type": "code",
   "execution_count": 9,
   "metadata": {},
   "outputs": [
    {
     "name": "stdout",
     "output_type": "stream",
     "text": [
      "(190771, 7)\n"
     ]
    }
   ],
   "source": [
    "tftg_df = analysis.process_edges_to_full_network(tftg_edges_df, mapping, allow_loop=True, directed=True)\n",
    "\n",
    "print(tftg_df.shape)\n",
    "assert tftg_df.groupby(['name_a', 'name_b']).size().max() == 1\n",
    "\n",
    "tftg_df.to_csv('../data/3.all_nodes/tftg.tsv.xz', compression='xz', sep='\\t', index=False)"
   ]
  }
 ],
 "metadata": {
  "kernelspec": {
   "display_name": "Python [conda env:xswap-analysis] *",
   "language": "python",
   "name": "conda-env-xswap-analysis-py"
  },
  "language_info": {
   "codemirror_mode": {
    "name": "ipython",
    "version": 3
   },
   "file_extension": ".py",
   "mimetype": "text/x-python",
   "name": "python",
   "nbconvert_exporter": "python",
   "pygments_lexer": "ipython3",
   "version": "3.7.3"
  }
 },
 "nbformat": 4,
 "nbformat_minor": 2
}
