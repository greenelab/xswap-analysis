{
 "cells": [
  {
   "cell_type": "code",
   "execution_count": 1,
   "metadata": {},
   "outputs": [],
   "source": [
    "import pathlib\n",
    "\n",
    "import hetmatpy.hetmat\n",
    "import matplotlib.pyplot as plt\n",
    "import numpy as np\n",
    "import pandas as pd\n",
    "import scipy.sparse\n",
    "import sklearn.metrics\n",
    "import tqdm\n",
    "\n",
    "%matplotlib inline"
   ]
  },
  {
   "cell_type": "code",
   "execution_count": 2,
   "metadata": {},
   "outputs": [],
   "source": [
    "restart_prob = 0.25"
   ]
  },
  {
   "cell_type": "code",
   "execution_count": 3,
   "metadata": {},
   "outputs": [],
   "source": [
    "data_path = pathlib.Path('../data/edge_predict/')\n",
    "data_path.mkdir(parents=True, exist_ok=True)\n",
    "\n",
    "hetmat = hetmatpy.hetmat.HetMat('../data/ppi_hetmat/')"
   ]
  },
  {
   "cell_type": "code",
   "execution_count": 4,
   "metadata": {},
   "outputs": [],
   "source": [
    "def normalize(matrix):\n",
    "    # Normalize adjacency matrix\n",
    "    was_sparse = False\n",
    "    if scipy.sparse.issparse(matrix):\n",
    "        was_sparse = True\n",
    "        matrix = matrix.toarray()\n",
    "    row_sums = (\n",
    "        matrix\n",
    "        .sum(axis=1)\n",
    "        .reshape(matrix.shape[0], 1)\n",
    "    )\n",
    "    row_sums[row_sums == 0] = 1\n",
    "    normalized = np.divide(matrix, row_sums)\n",
    "    if was_sparse:\n",
    "        normalized = scipy.sparse.csc_matrix(normalized)\n",
    "    return normalized\n",
    "\n",
    "    \n",
    "def rwr(normalized_adjacency, start_index, restart_prob, convergence_threshold=1e-6):\n",
    "    # p(t+1) = (1-r) * W @ p(t) + r * p(0)\n",
    "    # Setup start position\n",
    "    p_t = np.zeros((1, normalized_adjacency.shape[0]))\n",
    "    p_t[0, start_index] = 1\n",
    "    p_0 = p_t.copy()\n",
    "    \n",
    "    # Iterate RWR until converge\n",
    "    norm_difference = 1\n",
    "    while norm_difference > convergence_threshold:\n",
    "        p_t_1 = (1 - restart_prob) * p_t @ normalized_adjacency + restart_prob * p_0\n",
    "        norm_difference = np.linalg.norm(p_t_1 - p_t, 1)\n",
    "        p_t = p_t_1\n",
    "    return p_t\n",
    "\n",
    "\n",
    "def all_pairs_rwr(adjacency, restart_prob, convergence_threshold=1e-6):\n",
    "    normalized_adjacency = normalize(adjacency)\n",
    "    \n",
    "    rwr_matrix = np.zeros(adjacency.shape)\n",
    "    \n",
    "    num_nodes = adjacency.shape[0]\n",
    "    for seed_index in range(num_nodes):\n",
    "        rwr_row = rwr(normalized_adjacency, seed_index, restart_prob, \n",
    "            convergence_threshold=convergence_threshold)\n",
    "        rwr_matrix[seed_index, :] = rwr_row\n",
    "    return rwr_matrix"
   ]
  },
  {
   "cell_type": "markdown",
   "metadata": {},
   "source": [
    "### 1. Compute edge priors"
   ]
  },
  {
   "cell_type": "code",
   "execution_count": 5,
   "metadata": {},
   "outputs": [
    {
     "name": "stdout",
     "output_type": "stream",
     "text": [
      "CPU times: user 22.2 s, sys: 15.5 s, total: 37.7 s\n",
      "Wall time: 37.7 s\n"
     ]
    }
   ],
   "source": [
    "%%time\n",
    "sum_perm_edges = None\n",
    "\n",
    "for name, permat in hetmat.permutations.items():\n",
    "    source, target, perm_adj = permat.metaedge_to_adjacency_matrix('PpP', dense_threshold=0)\n",
    "    \n",
    "    if sum_perm_edges is None:\n",
    "        sum_perm_edges = perm_adj\n",
    "    else:\n",
    "        sum_perm_edges += perm_adj\n",
    "\n",
    "edge_prior = sum_perm_edges / len(hetmat.permutations)\n",
    "\n",
    "np.save(data_path.joinpath('prior_edge.npy'), edge_prior)"
   ]
  },
  {
   "cell_type": "markdown",
   "metadata": {},
   "source": [
    "### 2. Compute RWR on the network"
   ]
  },
  {
   "cell_type": "code",
   "execution_count": 6,
   "metadata": {},
   "outputs": [
    {
     "name": "stdout",
     "output_type": "stream",
     "text": [
      "CPU times: user 12 s, sys: 174 ms, total: 12.2 s\n",
      "Wall time: 12.2 s\n"
     ]
    }
   ],
   "source": [
    "%%time\n",
    "\n",
    "source, target, pruned_matrix = hetmat.metaedge_to_adjacency_matrix('PpP', dense_threshold=1)\n",
    "ppi_rwr = all_pairs_rwr(pruned_matrix, restart_prob)\n",
    "\n",
    "np.save(data_path.joinpath('PpP_RWR.npy'), ppi_rwr)"
   ]
  },
  {
   "cell_type": "markdown",
   "metadata": {},
   "source": [
    "### 3. Compute RWR on permuted networks\n",
    "\n",
    "For speed, use only a subset (100 / 1000) permuted networks"
   ]
  },
  {
   "cell_type": "code",
   "execution_count": 7,
   "metadata": {},
   "outputs": [
    {
     "name": "stderr",
     "output_type": "stream",
     "text": [
      "100%|██████████| 50/50 [05:34<00:00,  6.69s/it]\n"
     ]
    }
   ],
   "source": [
    "sum_perm_rwr = None\n",
    "for name, permat in tqdm.tqdm(list(hetmat.permutations.items())[:50]):\n",
    "    source, target, perm_adj = permat.metaedge_to_adjacency_matrix('PpP', dense_threshold=1)\n",
    "    rwr_mat = all_pairs_rwr(perm_adj, restart_prob)\n",
    "    \n",
    "    if sum_perm_rwr is None:\n",
    "        sum_perm_rwr = rwr_mat\n",
    "    else:\n",
    "        sum_perm_rwr += rwr_mat\n",
    "\n",
    "mean_rwr = sum_perm_rwr / len(hetmat.permutations)\n",
    "np.save(data_path.joinpath('prior_RWR.npy'), mean_rwr)"
   ]
  },
  {
   "cell_type": "markdown",
   "metadata": {},
   "source": [
    "### 4. Flatten features and labels and scale features"
   ]
  },
  {
   "cell_type": "code",
   "execution_count": 8,
   "metadata": {},
   "outputs": [],
   "source": [
    "original_edge = hetmat.metaedge_to_adjacency_matrix('PiP', dense_threshold=0)[2].flatten()\n",
    "\n",
    "edge = hetmat.metaedge_to_adjacency_matrix('PpP', dense_threshold=0)[2].flatten()\n",
    "rwr = ppi_rwr.flatten()\n",
    "perm_rwr = mean_rwr.flatten()\n",
    "prior = edge_prior.flatten()"
   ]
  },
  {
   "cell_type": "code",
   "execution_count": 9,
   "metadata": {},
   "outputs": [
    {
     "data": {
      "text/plain": [
       "(0.0, 1.0)"
      ]
     },
     "execution_count": 9,
     "metadata": {},
     "output_type": "execute_result"
    },
    {
     "data": {
      "image/png": "[encoded data removed]",
      "text/plain": [
       "<Figure size 432x288 with 1 Axes>"
      ]
     },
     "metadata": {},
     "output_type": "display_data"
    }
   ],
   "source": [
    "fpr, tpr, thresh = sklearn.metrics.roc_curve(original_edge, rwr)\n",
    "auc = sklearn.metrics.roc_auc_score(original_edge, rwr)\n",
    "plt.plot(fpr, tpr, label=f\"RWR, AUC={auc :.4f}\", lw=2)\n",
    "\n",
    "fpr, tpr, thresh = sklearn.metrics.roc_curve(original_edge, perm_rwr)\n",
    "auc = sklearn.metrics.roc_auc_score(original_edge, perm_rwr)\n",
    "plt.plot(fpr, tpr, label=f\"P-RWR, AUC={auc :.4f}\", lw=2)\n",
    "\n",
    "fpr, tpr, thresh = sklearn.metrics.roc_curve(original_edge, prior)\n",
    "auc = sklearn.metrics.roc_auc_score(original_edge, prior)\n",
    "plt.plot(fpr, tpr, label=f\"edge prior, AUC={auc :.4f}\", lw=2)\n",
    "\n",
    "plt.plot([0,1], [0,1], linestyle='--', color='grey', lw=2)\n",
    "\n",
    "plt.legend(loc=0)\n",
    "plt.ylabel('True positive rate')\n",
    "plt.xlabel('False positive rate')\n",
    "plt.xlim([0.0, 1.0])\n",
    "plt.ylim([0.0, 1.0])"
   ]
  }
 ],
 "metadata": {
  "kernelspec": {
   "display_name": "Python [conda env:xswap-analysis]",
   "language": "python",
   "name": "conda-env-xswap-analysis-py"
  },
  "language_info": {
   "codemirror_mode": {
    "name": "ipython",
    "version": 3
   },
   "file_extension": ".py",
   "mimetype": "text/x-python",
   "name": "python",
   "nbconvert_exporter": "python",
   "pygments_lexer": "ipython3",
   "version": "3.6.6"
  }
 },
 "nbformat": 4,
 "nbformat_minor": 2
}
