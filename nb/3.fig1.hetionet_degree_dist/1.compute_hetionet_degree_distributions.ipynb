{
 "cells": [
  {
   "cell_type": "code",
   "execution_count": 1,
   "metadata": {},
   "outputs": [],
   "source": [
    "import hetmatpy.hetmat\n",
    "import pandas as pd"
   ]
  },
  {
   "cell_type": "code",
   "execution_count": 2,
   "metadata": {},
   "outputs": [],
   "source": [
    "hetmat = hetmatpy.hetmat.HetMat('../../data/task1/hetionet-v1.0.hetmat/')\n",
    "\n",
    "metapaths = hetmat.metagraph.extract_all_metapaths(1, True)\n",
    "metaedges = [i[0].abbrev for i in metapaths]"
   ]
  },
  {
   "cell_type": "code",
   "execution_count": 3,
   "metadata": {},
   "outputs": [],
   "source": [
    "df = pd.DataFrame()\n",
    "for metaedge in metaedges:\n",
    "    _, _, mat = hetmat.metaedge_to_adjacency_matrix(metaedge, dense_threshold=0)\n",
    "    square = metaedge[0] == metaedge[-1] and len(metaedge) == 3\n",
    "    \n",
    "    if not square:\n",
    "        df = pd.concat([\n",
    "            df,\n",
    "            pd.DataFrame({\n",
    "                'degree': mat.sum(axis=1),\n",
    "            }).assign(\n",
    "                metaedge = metaedge,\n",
    "                side = 'source',\n",
    "                square = metaedge[0] == metaedge[-1] and len(metaedge) == 3,\n",
    "            ),\n",
    "            pd.DataFrame({\n",
    "                'degree': mat.sum(axis=0),\n",
    "            }).assign(\n",
    "                metaedge = metaedge,\n",
    "                side = 'target',\n",
    "                square = metaedge[0] == metaedge[-1] and len(metaedge) == 3,\n",
    "            ),\n",
    "        ])\n",
    "    else:\n",
    "        df = pd.concat([\n",
    "            df,\n",
    "            pd.DataFrame({\n",
    "                'degree': mat.sum(axis=1),\n",
    "            }).assign(\n",
    "                metaedge = metaedge,\n",
    "                side = 'square',\n",
    "                square = metaedge[0] == metaedge[-1] and len(metaedge) == 3,\n",
    "            )\n",
    "        ])\n",
    "    \n",
    "df.to_csv('../../data/task1/hetionet_degrees.tsv', sep='\\t', index=False)"
   ]
  }
 ],
 "metadata": {
  "kernelspec": {
   "display_name": "Python [conda env:xswap-analysis]",
   "language": "python",
   "name": "conda-env-xswap-analysis-py"
  },
  "language_info": {
   "codemirror_mode": {
    "name": "ipython",
    "version": 3
   },
   "file_extension": ".py",
   "mimetype": "text/x-python",
   "name": "python",
   "nbconvert_exporter": "python",
   "pygments_lexer": "ipython3",
   "version": "3.7.3"
  }
 },
 "nbformat": 4,
 "nbformat_minor": 2
}
