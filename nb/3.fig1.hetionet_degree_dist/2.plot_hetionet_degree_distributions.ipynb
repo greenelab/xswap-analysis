{
 "cells": [
  {
   "cell_type": "code",
   "execution_count": 1,
   "metadata": {},
   "outputs": [
    {
     "name": "stderr",
     "output_type": "stream",
     "text": [
      "── Attaching packages ─────────────────────────────────────── tidyverse 1.2.1 ──\n",
      "✔ ggplot2 3.2.0     ✔ purrr   0.3.2\n",
      "✔ tibble  2.1.3     ✔ dplyr   0.8.3\n",
      "✔ tidyr   0.8.3     ✔ stringr 1.4.0\n",
      "✔ readr   1.3.1     ✔ forcats 0.4.0\n",
      "── Conflicts ────────────────────────────────────────── tidyverse_conflicts() ──\n",
      "✖ dplyr::filter() masks stats::filter()\n",
      "✖ dplyr::lag()    masks stats::lag()\n",
      "\n",
      "Attaching package: ‘cowplot’\n",
      "\n",
      "The following object is masked from ‘package:ggplot2’:\n",
      "\n",
      "    ggsave\n",
      "\n",
      "\n",
      "Attaching package: ‘gridExtra’\n",
      "\n",
      "The following object is masked from ‘package:dplyr’:\n",
      "\n",
      "    combine\n",
      "\n"
     ]
    }
   ],
   "source": [
    "library(tidyverse)\n",
    "library(cowplot)\n",
    "library(gridExtra)\n",
    "\n",
    "\n",
    "`%+replace%` <- ggplot2::`%+replace%`\n",
    "\n",
    "theme_zietzm <- function(base_size = 11.5, base_family = \"\") {\n",
    "    # Starts with theme_bw and then modify some parts\n",
    "    # Theme options are documentated at http://docs.ggplot2.org/current/theme.html\n",
    "    ggplot2::theme_classic(base_size = base_size, base_family = base_family) %+replace%\n",
    "    ggplot2::theme(\n",
    "\n",
    "        strip.background  = ggplot2::element_rect(fill = NA, colour = 'grey90', size = 0),\n",
    "        strip.text = element_text(vjust = 1, size = 10),\n",
    "        plot.margin       = ggplot2::margin(t=2, r=2, b=2, l=2, unit='pt'),\n",
    "        legend.spacing     = grid::unit(0.1, 'cm'),\n",
    "        legend.key        = ggplot2::element_blank(),\n",
    "        panel.border=element_rect(fill = NA, color = 'black', size = 0.5), \n",
    "        axis.line=element_line(size=0),\n",
    "    )\n",
    "}"
   ]
  },
  {
   "cell_type": "code",
   "execution_count": 2,
   "metadata": {},
   "outputs": [
    {
     "name": "stderr",
     "output_type": "stream",
     "text": [
      "Parsed with column specification:\n",
      "cols(\n",
      "  degree = col_double(),\n",
      "  metaedge = col_character(),\n",
      "  side = col_character(),\n",
      "  square = col_logical()\n",
      ")\n"
     ]
    },
    {
     "data": {
      "text/html": [
       "<table>\n",
       "<caption>A tibble: 6 × 4</caption>\n",
       "<thead>\n",
       "\t<tr><th scope=col>degree</th><th scope=col>metaedge</th><th scope=col>side</th><th scope=col>square</th></tr>\n",
       "\t<tr><th scope=col>&lt;dbl&gt;</th><th scope=col>&lt;chr&gt;</th><th scope=col>&lt;chr&gt;</th><th scope=col>&lt;lgl&gt;</th></tr>\n",
       "</thead>\n",
       "<tbody>\n",
       "\t<tr><td> 7</td><td>AlD</td><td>source</td><td>FALSE</td></tr>\n",
       "\t<tr><td> 9</td><td>AlD</td><td>source</td><td>FALSE</td></tr>\n",
       "\t<tr><td> 6</td><td>AlD</td><td>source</td><td>FALSE</td></tr>\n",
       "\t<tr><td>10</td><td>AlD</td><td>source</td><td>FALSE</td></tr>\n",
       "\t<tr><td> 9</td><td>AlD</td><td>source</td><td>FALSE</td></tr>\n",
       "\t<tr><td>16</td><td>AlD</td><td>source</td><td>FALSE</td></tr>\n",
       "</tbody>\n",
       "</table>\n"
      ],
      "text/latex": [
       "A tibble: 6 × 4\n",
       "\\begin{tabular}{r|llll}\n",
       " degree & metaedge & side & square\\\\\n",
       " <dbl> & <chr> & <chr> & <lgl>\\\\\n",
       "\\hline\n",
       "\t  7 & AlD & source & FALSE\\\\\n",
       "\t  9 & AlD & source & FALSE\\\\\n",
       "\t  6 & AlD & source & FALSE\\\\\n",
       "\t 10 & AlD & source & FALSE\\\\\n",
       "\t  9 & AlD & source & FALSE\\\\\n",
       "\t 16 & AlD & source & FALSE\\\\\n",
       "\\end{tabular}\n"
      ],
      "text/markdown": [
       "\n",
       "A tibble: 6 × 4\n",
       "\n",
       "| degree &lt;dbl&gt; | metaedge &lt;chr&gt; | side &lt;chr&gt; | square &lt;lgl&gt; |\n",
       "|---|---|---|---|\n",
       "|  7 | AlD | source | FALSE |\n",
       "|  9 | AlD | source | FALSE |\n",
       "|  6 | AlD | source | FALSE |\n",
       "| 10 | AlD | source | FALSE |\n",
       "|  9 | AlD | source | FALSE |\n",
       "| 16 | AlD | source | FALSE |\n",
       "\n"
      ],
      "text/plain": [
       "  degree metaedge side   square\n",
       "1  7     AlD      source FALSE \n",
       "2  9     AlD      source FALSE \n",
       "3  6     AlD      source FALSE \n",
       "4 10     AlD      source FALSE \n",
       "5  9     AlD      source FALSE \n",
       "6 16     AlD      source FALSE "
      ]
     },
     "metadata": {},
     "output_type": "display_data"
    }
   ],
   "source": [
    "hetionet_degree <- read_tsv('../../data/task1/hetionet_degrees.tsv')\n",
    "\n",
    "hetionet_degree %>% head"
   ]
  },
  {
   "cell_type": "code",
   "execution_count": 3,
   "metadata": {},
   "outputs": [],
   "source": [
    "hetionet_degree_plot <- hetionet_degree %>%\n",
    "filter(\n",
    "    (metaedge == 'AeG' & side == 'source') |\n",
    "    (metaedge == 'AuG' & side == 'source') |\n",
    "    (metaedge == 'AuG' & side == 'target') |\n",
    "    (metaedge == 'CrC' & side == 'square') |\n",
    "    (metaedge == 'DaG' & side == 'target') |\n",
    "    (metaedge == 'DdG' & side == 'source') |\n",
    "    (metaedge == 'G<rG' & side == 'source') |\n",
    "    (metaedge == 'G<rG' & side == 'target')\n",
    ") %>%\n",
    "unite('metaedge_side', c('metaedge', 'side'), remove = F) %>%\n",
    "mutate(\n",
    "    metaedge_side = metaedge_side %>% recode_factor(\n",
    "        CrC_square = 'Compound–\\nresembles–\\nCompound',\n",
    "        AeG_source = 'Anatomy→\\nexpresses→\\nGene',\n",
    "        AuG_source = 'Anatomy→\\nupregulates→\\nGene',\n",
    "        AuG_target = 'Anatomy←\\nupregulates←\\nGene',\n",
    "        DaG_target = 'Disease→\\nassociates→\\nGene',\n",
    "        DdG_source = 'Disease→\\nregulates→\\nGene',\n",
    "        'G<rG_source' = 'Gene→\\nregulates→\\nGene',\n",
    "        'G<rG_target' = 'Gene←\\nregulates←\\nGene'\n",
    "    )\n",
    ") %>%\n",
    "filter(degree > 0) %>%\n",
    "ggplot(aes(y = degree, x = metaedge_side)) +\n",
    "geom_violin(scale = \"width\", fill = 'grey85') +\n",
    "scale_y_log10() +\n",
    "xlab('Network') +\n",
    "ylab('Node degree') +\n",
    "theme_zietzm()"
   ]
  },
  {
   "cell_type": "code",
   "execution_count": 4,
   "metadata": {},
   "outputs": [
    {
     "data": {
      "image/png": "[encoded data removed]",
      "text/plain": [
       "plot without title"
      ]
     },
     "metadata": {},
     "output_type": "display_data"
    }
   ],
   "source": [
    "options(repr.plot.width=8, repr.plot.height=2)\n",
    "\n",
    "ggsave('../../img/hetionet_degrees.png', hetionet_degree_plot, width = 8, height = 2, dpi = 400)\n",
    "\n",
    "hetionet_degree_plot"
   ]
  }
 ],
 "metadata": {
  "kernelspec": {
   "display_name": "R [conda env:xswap-analysis] *",
   "language": "R",
   "name": "conda-env-xswap-analysis-r"
  },
  "language_info": {
   "codemirror_mode": "r",
   "file_extension": ".r",
   "mimetype": "text/x-r-source",
   "name": "R",
   "pygments_lexer": "r",
   "version": "3.5.1"
  }
 },
 "nbformat": 4,
 "nbformat_minor": 2
}
