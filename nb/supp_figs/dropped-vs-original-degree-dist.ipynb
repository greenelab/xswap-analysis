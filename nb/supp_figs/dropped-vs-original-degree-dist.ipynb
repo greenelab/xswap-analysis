{
 "cells": [
  {
   "cell_type": "code",
   "execution_count": 1,
   "metadata": {},
   "outputs": [
    {
     "name": "stderr",
     "output_type": "stream",
     "text": [
      "── Attaching packages ─────────────────────────────────────── tidyverse 1.2.1 ──\n",
      "✔ ggplot2 3.1.1       ✔ purrr   0.3.2  \n",
      "✔ tibble  2.1.1       ✔ dplyr   0.8.0.1\n",
      "✔ tidyr   0.8.3       ✔ stringr 1.4.0  \n",
      "✔ readr   1.3.1       ✔ forcats 0.4.0  \n",
      "── Conflicts ────────────────────────────────────────── tidyverse_conflicts() ──\n",
      "✖ dplyr::filter() masks stats::filter()\n",
      "✖ dplyr::lag()    masks stats::lag()\n",
      "\n",
      "Attaching package: ‘gridExtra’\n",
      "\n",
      "The following object is masked from ‘package:dplyr’:\n",
      "\n",
      "    combine\n",
      "\n"
     ]
    }
   ],
   "source": [
    "library(tidyverse)\n",
    "library(gridExtra)\n",
    "library(ggExtra)"
   ]
  },
  {
   "cell_type": "code",
   "execution_count": 2,
   "metadata": {},
   "outputs": [],
   "source": [
    "`%+replace%` <- ggplot2::`%+replace%`\n",
    "\n",
    "theme_zietzm <- function(base_size = 11.5, base_family = \"\") {\n",
    "    # Starts with theme_bw and then modify some parts\n",
    "    # Theme options are documentated at http://docs.ggplot2.org/current/theme.html\n",
    "    ggplot2::theme_classic(base_size = base_size, base_family = base_family) %+replace%\n",
    "    ggplot2::theme(\n",
    "\n",
    "        strip.background  = ggplot2::element_rect(fill = NA, colour = 'grey90', size = 0),\n",
    "        strip.text = element_text(vjust = 1, size = 10),\n",
    "        plot.margin       = ggplot2::margin(t=2, r=2, b=2, l=2, unit='pt'),\n",
    "        legend.spacing     = grid::unit(0.1, 'cm'),\n",
    "        legend.key        = ggplot2::element_blank(),\n",
    "        panel.border=element_rect(fill = NA, color = 'black', size = 0.5), \n",
    "        axis.line=element_line(size=0),\n",
    "    )\n",
    "}"
   ]
  },
  {
   "cell_type": "code",
   "execution_count": 3,
   "metadata": {},
   "outputs": [
    {
     "name": "stderr",
     "output_type": "stream",
     "text": [
      "Parsed with column specification:\n",
      "cols(\n",
      "  name_a = col_character(),\n",
      "  name_b = col_character(),\n",
      "  id_a = col_double(),\n",
      "  id_b = col_double(),\n",
      "  train = col_double(),\n",
      "  test_recon = col_double(),\n",
      "  test_new = col_double()\n",
      ")\n",
      "Parsed with column specification:\n",
      "cols(\n",
      "  name_a = col_character(),\n",
      "  name_b = col_character(),\n",
      "  id_a = col_double(),\n",
      "  id_b = col_double(),\n",
      "  train = col_double(),\n",
      "  test_recon = col_double(),\n",
      "  test_new = col_double()\n",
      ")\n",
      "Parsed with column specification:\n",
      "cols(\n",
      "  name_a = col_character(),\n",
      "  name_b = col_character(),\n",
      "  id_a = col_double(),\n",
      "  id_b = col_double(),\n",
      "  train = col_double(),\n",
      "  test_recon = col_double(),\n",
      "  test_new = col_double()\n",
      ")\n"
     ]
    }
   ],
   "source": [
    "ppi_df <- read_tsv('../../data/2.edges/ppi.tsv.xz') %>% mutate(network='PPI')\n",
    "biorxiv_df <- read_tsv('../../data/2.edges/biorxiv.tsv.xz') %>% mutate(network='Co-authorship')\n",
    "tftg_df <- read_tsv('../../data/2.edges/tftg.tsv.xz') %>% mutate(network='TF-TG')"
   ]
  },
  {
   "cell_type": "code",
   "execution_count": 4,
   "metadata": {},
   "outputs": [
    {
     "name": "stderr",
     "output_type": "stream",
     "text": [
      "Warning message in bind_rows_(x, .id):\n",
      "“binding character and factor vector, coercing into character vector”"
     ]
    },
    {
     "data": {
      "text/html": [
       "<table>\n",
       "<thead><tr><th scope=col>id</th><th scope=col>data_source</th><th scope=col>id_side</th><th scope=col>network</th><th scope=col>degree</th></tr></thead>\n",
       "<tbody>\n",
       "\t<tr><td>0         </td><td>bioRxiv   </td><td>Undirected</td><td>Sampled   </td><td>12        </td></tr>\n",
       "\t<tr><td>0         </td><td>PPI       </td><td>Undirected</td><td>Sampled   </td><td>55        </td></tr>\n",
       "</tbody>\n",
       "</table>\n"
      ],
      "text/latex": [
       "\\begin{tabular}{r|lllll}\n",
       " id & data\\_source & id\\_side & network & degree\\\\\n",
       "\\hline\n",
       "\t 0          & bioRxiv    & Undirected & Sampled    & 12        \\\\\n",
       "\t 0          & PPI        & Undirected & Sampled    & 55        \\\\\n",
       "\\end{tabular}\n"
      ],
      "text/markdown": [
       "\n",
       "| id | data_source | id_side | network | degree |\n",
       "|---|---|---|---|---|\n",
       "| 0          | bioRxiv    | Undirected | Sampled    | 12         |\n",
       "| 0          | PPI        | Undirected | Sampled    | 55         |\n",
       "\n"
      ],
      "text/plain": [
       "  id data_source id_side    network degree\n",
       "1 0  bioRxiv     Undirected Sampled 12    \n",
       "2 0  PPI         Undirected Sampled 55    "
      ]
     },
     "metadata": {},
     "output_type": "display_data"
    }
   ],
   "source": [
    "vis_df <- bind_rows(\n",
    "        ppi_df %>% mutate(data_source = 'PPI'), \n",
    "        biorxiv_df %>% mutate(data_source = 'bioRxiv')\n",
    "    ) %>%\n",
    "    select(-starts_with('name')) %>%\n",
    "    gather(key = 'id_side', value = 'id', id_a:id_b) %>%\n",
    "    group_by(id, network, data_source) %>%\n",
    "    summarize_at(vars(train, test_recon, test_new), sum) %>%\n",
    "    mutate(id_side = 'Undirected') %>%\n",
    "    ungroup() %>%\n",
    "    bind_rows(\n",
    "        tftg_df %>%\n",
    "            select(-starts_with('name')) %>%\n",
    "            gather(key = 'id_side', value = 'id', id_a:id_b) %>%\n",
    "            group_by(id, id_side, network) %>%\n",
    "            summarize_at(vars(train, test_recon, test_new), sum) %>%\n",
    "            ungroup() %>%\n",
    "            mutate(data_source = id_side %>% \n",
    "                                     recode_factor(\n",
    "                                         id_a = 'TF-TG transcription factor',\n",
    "                                         id_b = 'TF-TG target gene'),)\n",
    "    ) %>%\n",
    "    gather('network', 'degree', train:test_new) %>%\n",
    "    mutate(\n",
    "        id_side = id_side %>% recode_factor(id_a = 'Source', id_b = 'Target'),\n",
    "        network = network %>% recode_factor(train = 'Sampled', test_recon = 'Reconstructed', \n",
    "                                            test_new = 'Systematic')\n",
    "    ) \n",
    "\n",
    "head(vis_df, 2)"
   ]
  },
  {
   "cell_type": "code",
   "execution_count": 5,
   "metadata": {},
   "outputs": [
    {
     "data": {
      "image/png": "[encoded data removed]",
      "text/plain": [
       "plot without title"
      ]
     },
     "metadata": {},
     "output_type": "display_data"
    }
   ],
   "source": [
    "options(repr.plot.width=6, repr.plot.height=7)\n",
    "\n",
    "g <- (\n",
    "    ggplot(vis_df, aes(x = network, y = degree,))\n",
    "    + geom_violin(scale = 'width', fill = 'grey30')\n",
    "    + facet_grid(rows = vars(data_source), scales = 'free')\n",
    "    + theme_zietzm()\n",
    "    + xlab('Network')\n",
    "    + ylab('Degree')\n",
    ")\n",
    "\n",
    "ggsave('../../img/supp/degree_violin.png', g, dpi = 500, width = 6, height = 7)\n",
    "\n",
    "g"
   ]
  }
 ],
 "metadata": {
  "kernelspec": {
   "display_name": "R [conda env:xswap-analysis] *",
   "language": "R",
   "name": "conda-env-xswap-analysis-r"
  },
  "language_info": {
   "codemirror_mode": "r",
   "file_extension": ".r",
   "mimetype": "text/x-r-source",
   "name": "R",
   "pygments_lexer": "r",
   "version": "3.5.1"
  }
 },
 "nbformat": 4,
 "nbformat_minor": 2
}
