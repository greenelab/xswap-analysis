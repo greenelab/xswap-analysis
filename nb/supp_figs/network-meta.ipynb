{
 "cells": [
  {
   "cell_type": "code",
   "execution_count": 1,
   "metadata": {},
   "outputs": [],
   "source": [
    "import hetmatpy.hetmat\n",
    "import networkx as nx\n",
    "import pandas as pd"
   ]
  },
  {
   "cell_type": "markdown",
   "metadata": {},
   "source": [
    "# PPI"
   ]
  },
  {
   "cell_type": "code",
   "execution_count": 2,
   "metadata": {},
   "outputs": [],
   "source": [
    "ppi_edges = pd.read_csv('../../data/2.edges/ppi.tsv.xz', sep='\\t')"
   ]
  },
  {
   "cell_type": "code",
   "execution_count": 3,
   "metadata": {
    "scrolled": true
   },
   "outputs": [
    {
     "data": {
      "text/plain": [
       "train         3992\n",
       "test_recon    3992\n",
       "test_new      3916\n",
       "dtype: int64"
      ]
     },
     "execution_count": 3,
     "metadata": {},
     "output_type": "execute_result"
    }
   ],
   "source": [
    "(\n",
    "    ppi_edges\n",
    "    .groupby('id_a')\n",
    "    [['train', 'test_recon', 'test_new']]\n",
    "    .sum()\n",
    "    .reset_index()\n",
    "    .merge(\n",
    "        ppi_edges\n",
    "        .groupby('id_b')\n",
    "        [['train', 'test_recon', 'test_new']]\n",
    "        .sum()\n",
    "        .reset_index(),\n",
    "        left_on='id_a', right_on='id_b', how='outer'\n",
    "    )\n",
    "    .assign(\n",
    "        train=lambda df: df['train_x'] + df['train_y'],\n",
    "        test_recon=lambda df: df['test_recon_x'] + df['test_recon_y'],\n",
    "        test_new=lambda df: df['test_new_x'] + df['test_new_y']\n",
    "    )\n",
    "    .fillna(0)\n",
    "    .loc[:, ['train', 'test_recon', 'test_new']]\n",
    "    .astype(bool)\n",
    "    .sum(axis=0)\n",
    ")"
   ]
  },
  {
   "cell_type": "code",
   "execution_count": 4,
   "metadata": {},
   "outputs": [
    {
     "data": {
      "text/plain": [
       "train         255522\n",
       "test_recon    364743\n",
       "test_new       12913\n",
       "dtype: int64"
      ]
     },
     "execution_count": 4,
     "metadata": {},
     "output_type": "execute_result"
    }
   ],
   "source": [
    "ppi_edges[['train', 'test_recon', 'test_new']].sum()"
   ]
  },
  {
   "cell_type": "markdown",
   "metadata": {},
   "source": [
    "# bioRxiv"
   ]
  },
  {
   "cell_type": "code",
   "execution_count": 5,
   "metadata": {},
   "outputs": [],
   "source": [
    "biorxiv_edges = pd.read_csv('../../data/2.edges/biorxiv.tsv.xz', sep='\\t')"
   ]
  },
  {
   "cell_type": "code",
   "execution_count": 6,
   "metadata": {
    "scrolled": true
   },
   "outputs": [
    {
     "data": {
      "text/plain": [
       "train         4587\n",
       "test_recon    4615\n",
       "test_new      4615\n",
       "dtype: int64"
      ]
     },
     "execution_count": 6,
     "metadata": {},
     "output_type": "execute_result"
    }
   ],
   "source": [
    "(\n",
    "    biorxiv_edges\n",
    "    .groupby('id_a')\n",
    "    [['train', 'test_recon', 'test_new']]\n",
    "    .sum()\n",
    "    .reset_index()\n",
    "    .merge(\n",
    "        biorxiv_edges\n",
    "        .groupby('id_b')\n",
    "        [['train', 'test_recon', 'test_new']]\n",
    "        .sum()\n",
    "        .reset_index(),\n",
    "        left_on='id_a', right_on='id_b', how='outer'\n",
    "    )\n",
    "    .assign(\n",
    "        train=lambda df: df['train_x'] + df['train_y'],\n",
    "        test_recon=lambda df: df['test_recon_x'] + df['test_recon_y'],\n",
    "        test_new=lambda df: df['test_new_x'] + df['test_new_y']\n",
    "    )\n",
    "    .fillna(0)\n",
    "    .loc[:, ['train', 'test_recon', 'test_new']]\n",
    "    .astype(bool)\n",
    "    .sum(axis=0)\n",
    ")"
   ]
  },
  {
   "cell_type": "code",
   "execution_count": 7,
   "metadata": {},
   "outputs": [
    {
     "data": {
      "text/plain": [
       "train         30686\n",
       "test_recon    43691\n",
       "test_new      44963\n",
       "dtype: int64"
      ]
     },
     "execution_count": 7,
     "metadata": {},
     "output_type": "execute_result"
    }
   ],
   "source": [
    "biorxiv_edges[['train', 'test_recon', 'test_new']].sum()"
   ]
  },
  {
   "cell_type": "markdown",
   "metadata": {},
   "source": [
    "# TF-TG"
   ]
  },
  {
   "cell_type": "code",
   "execution_count": 8,
   "metadata": {},
   "outputs": [],
   "source": [
    "tftg_edges = pd.read_csv('../../data/2.edges/tftg.tsv.xz', sep='\\t')"
   ]
  },
  {
   "cell_type": "code",
   "execution_count": 9,
   "metadata": {},
   "outputs": [
    {
     "data": {
      "text/plain": [
       "id_a          143\n",
       "train         142\n",
       "test_recon    144\n",
       "test_new      144\n",
       "dtype: int64"
      ]
     },
     "execution_count": 9,
     "metadata": {},
     "output_type": "execute_result"
    }
   ],
   "source": [
    "(\n",
    "    tftg_edges\n",
    "    .groupby('id_a')\n",
    "    [['train', 'test_recon', 'test_new']]\n",
    "    .sum()\n",
    "    .reset_index()\n",
    "    .astype(bool)\n",
    "    .sum(axis=0)\n",
    ")"
   ]
  },
  {
   "cell_type": "code",
   "execution_count": 10,
   "metadata": {},
   "outputs": [
    {
     "data": {
      "text/plain": [
       "id_b          1417\n",
       "train         1396\n",
       "test_recon    1406\n",
       "test_new      1417\n",
       "dtype: int64"
      ]
     },
     "execution_count": 10,
     "metadata": {},
     "output_type": "execute_result"
    }
   ],
   "source": [
    "(\n",
    "    tftg_edges\n",
    "    .groupby('id_b')\n",
    "    [['train', 'test_recon', 'test_new']]\n",
    "    .sum()\n",
    "    .reset_index()\n",
    "    .astype(bool)\n",
    "    .sum(axis=0)\n",
    ")"
   ]
  },
  {
   "cell_type": "code",
   "execution_count": 11,
   "metadata": {},
   "outputs": [
    {
     "data": {
      "text/plain": [
       "train          2689\n",
       "test_recon     3496\n",
       "test_new      29177\n",
       "dtype: int64"
      ]
     },
     "execution_count": 11,
     "metadata": {},
     "output_type": "execute_result"
    }
   ],
   "source": [
    "tftg_edges[['train', 'test_recon', 'test_new']].sum()"
   ]
  },
  {
   "cell_type": "markdown",
   "metadata": {},
   "source": [
    "# Hetionet"
   ]
  },
  {
   "cell_type": "code",
   "execution_count": 2,
   "metadata": {},
   "outputs": [],
   "source": [
    "hetmat = hetmatpy.hetmat.HetMat('../hetionet-prior/hetionet-v1.0.hetmat/')"
   ]
  },
  {
   "cell_type": "code",
   "execution_count": 22,
   "metadata": {},
   "outputs": [
    {
     "name": "stdout",
     "output_type": "stream",
     "text": [
      "AdG Source: 402, Target: 20945 102240\n",
      "AeG Source: 402, Target: 20945 526407\n",
      "AlD Source: 402, Target: 137 3602\n",
      "AuG Source: 402, Target: 20945 97848\n",
      "BPpG Source: 11381, Target: 20945 559504\n",
      "CCpG Source: 1391, Target: 20945 73566\n",
      "CbG Source: 1552, Target: 20945 11571\n",
      "CcSE Source: 1552, Target: 5734 138944\n",
      "CdG Source: 1552, Target: 20945 21102\n",
      "CrC Source: 1552, Target: 1552 6486.0\n",
      "CuG Source: 1552, Target: 20945 18756\n",
      "DaG Source: 137, Target: 20945 12623\n",
      "DdG Source: 137, Target: 20945 7623\n",
      "DpS Source: 137, Target: 438 3357\n",
      "DuG Source: 137, Target: 20945 7731\n",
      "G<rG Source: 20945, Target: 20945 265672\n",
      "GcG Source: 20945, Target: 20945 61690.0\n",
      "GiG Source: 20945, Target: 20945 147164.0\n",
      "GpMF Source: 20945, Target: 2884 97222\n",
      "GpPW Source: 20945, Target: 1822 84372\n"
     ]
    }
   ],
   "source": [
    "metapaths = hetmat.metagraph.extract_all_metapaths(1, True)\n",
    "metaedges = sorted(i[0].abbrev for i in metapaths)\n",
    "\n",
    "for metaedge in metaedges:\n",
    "    source, target, adj_mat = hetmat.metaedge_to_adjacency_matrix(metaedge, dense_threshold=1)\n",
    "    if adj_mat.nnz > 2000:\n",
    "        if adj_mat.shape[0] != adj_mat.shape[1] or (adj_mat != adj_mat.T).nnz:\n",
    "            print(metaedge, f'Source: {len(source)}, Target: {len(target)}', adj_mat.nnz)\n",
    "        else:\n",
    "            print(metaedge, f'Source: {len(source)}, Target: {len(target)}', adj_mat.nnz / 2)"
   ]
  },
  {
   "cell_type": "code",
   "execution_count": null,
   "metadata": {},
   "outputs": [],
   "source": []
  },
  {
   "cell_type": "code",
   "execution_count": null,
   "metadata": {},
   "outputs": [],
   "source": []
  },
  {
   "cell_type": "code",
   "execution_count": null,
   "metadata": {},
   "outputs": [],
   "source": []
  }
 ],
 "metadata": {
  "kernelspec": {
   "display_name": "Python [conda env:xswap-analysis] *",
   "language": "python",
   "name": "conda-env-xswap-analysis-py"
  },
  "language_info": {
   "codemirror_mode": {
    "name": "ipython",
    "version": 3
   },
   "file_extension": ".py",
   "mimetype": "text/x-python",
   "name": "python",
   "nbconvert_exporter": "python",
   "pygments_lexer": "ipython3",
   "version": "3.7.3"
  }
 },
 "nbformat": 4,
 "nbformat_minor": 2
}
