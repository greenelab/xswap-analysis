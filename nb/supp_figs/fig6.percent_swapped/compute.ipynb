{
 "cells": [
  {
   "cell_type": "code",
   "execution_count": 1,
   "metadata": {},
   "outputs": [],
   "source": [
    "import networkx as nx\n",
    "import numpy as np\n",
    "import pandas as pd\n",
    "from plotnine import *\n",
    "import tqdm\n",
    "import xswap"
   ]
  },
  {
   "cell_type": "code",
   "execution_count": 2,
   "metadata": {},
   "outputs": [
    {
     "data": {
      "application/vnd.jupyter.widget-view+json": {
       "model_id": "ce451f9a19f14fbba40a8bddf1020f7a",
       "version_major": 2,
       "version_minor": 0
      },
      "text/plain": [
       "HBox(children=(IntProgress(value=0, max=10), HTML(value='')))"
      ]
     },
     "metadata": {},
     "output_type": "display_data"
    },
    {
     "name": "stdout",
     "output_type": "stream",
     "text": [
      "\n"
     ]
    }
   ],
   "source": [
    "density = np.linspace(0.001, 0.8, 10)\n",
    "\n",
    "rows = list()\n",
    "for d in tqdm.tqdm_notebook(density):\n",
    "    G_erdos = nx.generators.fast_gnp_random_graph(1000, d)\n",
    "    edges_erdos = list(G_erdos.edges)\n",
    "    original_erdos = set(edges_erdos)\n",
    "    edges_erdos = list(original_erdos)\n",
    "    n_original_erdos = len(edges_erdos)\n",
    "    \n",
    "    \n",
    "    G_power = nx.generators.barabasi_albert_graph(1000, int(1000 * d))\n",
    "    edges_power = list(G_power.edges)\n",
    "    original_power = set(edges_power)\n",
    "    edges_power = list(original_power)\n",
    "    n_original_power = len(original_power)\n",
    "    \n",
    "    \n",
    "    multipliers = np.linspace(0, 10, num=20)\n",
    "    for m in multipliers:\n",
    "        perm_erdos, _ = xswap.permute_edge_list(edges_erdos, allow_antiparallel=True, \n",
    "                                                allow_self_loops=True, seed=0, multiplier=m)\n",
    "        percent_swapped_erdos = 1 - len(set(perm_erdos).intersection(original_erdos)) / n_original_erdos\n",
    "        rows.append((d, m, percent_swapped_erdos, m * n_original_erdos, 'Erdős-Rényi'))\n",
    "        \n",
    "        perm_power, _ = xswap.permute_edge_list(edges_power, allow_antiparallel=True, \n",
    "                                                allow_self_loops=True, seed=0, multiplier=m)\n",
    "        percent_swapped_power = 1 - len(set(perm_power).intersection(original_power)) / n_original_power\n",
    "        rows.append((d, m, percent_swapped_power, m * n_original_power, 'Barabási–Albert'))        "
   ]
  },
  {
   "cell_type": "code",
   "execution_count": 3,
   "metadata": {},
   "outputs": [
    {
     "data": {
      "text/html": [
       "<div>\n",
       "<style scoped>\n",
       "    .dataframe tbody tr th:only-of-type {\n",
       "        vertical-align: middle;\n",
       "    }\n",
       "\n",
       "    .dataframe tbody tr th {\n",
       "        vertical-align: top;\n",
       "    }\n",
       "\n",
       "    .dataframe thead th {\n",
       "        text-align: right;\n",
       "    }\n",
       "</style>\n",
       "<table border=\"1\" class=\"dataframe\">\n",
       "  <thead>\n",
       "    <tr style=\"text-align: right;\">\n",
       "      <th></th>\n",
       "      <th>density</th>\n",
       "      <th>multiplier</th>\n",
       "      <th>percent_swapped</th>\n",
       "      <th>num_attempts</th>\n",
       "      <th>network_type</th>\n",
       "    </tr>\n",
       "  </thead>\n",
       "  <tbody>\n",
       "    <tr>\n",
       "      <th>0</th>\n",
       "      <td>0.001</td>\n",
       "      <td>0.000000</td>\n",
       "      <td>0.000000</td>\n",
       "      <td>0.000000</td>\n",
       "      <td>Erdős-Rényi</td>\n",
       "    </tr>\n",
       "    <tr>\n",
       "      <th>1</th>\n",
       "      <td>0.001</td>\n",
       "      <td>0.000000</td>\n",
       "      <td>0.000000</td>\n",
       "      <td>0.000000</td>\n",
       "      <td>Barabási–Albert</td>\n",
       "    </tr>\n",
       "    <tr>\n",
       "      <th>2</th>\n",
       "      <td>0.001</td>\n",
       "      <td>0.526316</td>\n",
       "      <td>0.627753</td>\n",
       "      <td>238.947368</td>\n",
       "      <td>Erdős-Rényi</td>\n",
       "    </tr>\n",
       "    <tr>\n",
       "      <th>3</th>\n",
       "      <td>0.001</td>\n",
       "      <td>0.526316</td>\n",
       "      <td>0.623624</td>\n",
       "      <td>525.789474</td>\n",
       "      <td>Barabási–Albert</td>\n",
       "    </tr>\n",
       "    <tr>\n",
       "      <th>4</th>\n",
       "      <td>0.001</td>\n",
       "      <td>1.052632</td>\n",
       "      <td>0.859031</td>\n",
       "      <td>477.894737</td>\n",
       "      <td>Erdős-Rényi</td>\n",
       "    </tr>\n",
       "  </tbody>\n",
       "</table>\n",
       "</div>"
      ],
      "text/plain": [
       "   density  multiplier  percent_swapped  num_attempts     network_type\n",
       "0    0.001    0.000000         0.000000      0.000000      Erdős-Rényi\n",
       "1    0.001    0.000000         0.000000      0.000000  Barabási–Albert\n",
       "2    0.001    0.526316         0.627753    238.947368      Erdős-Rényi\n",
       "3    0.001    0.526316         0.623624    525.789474  Barabási–Albert\n",
       "4    0.001    1.052632         0.859031    477.894737      Erdős-Rényi"
      ]
     },
     "execution_count": 3,
     "metadata": {},
     "output_type": "execute_result"
    }
   ],
   "source": [
    "df = pd.DataFrame(rows, columns=['density', 'multiplier', 'percent_swapped', 'num_attempts', 'network_type'])\n",
    "df.to_csv('percent_swapped.csv', index=False)\n",
    "df.head()"
   ]
  }
 ],
 "metadata": {
  "kernelspec": {
   "display_name": "Python [conda env:xswap-analysis] *",
   "language": "python",
   "name": "conda-env-xswap-analysis-py"
  },
  "language_info": {
   "codemirror_mode": {
    "name": "ipython",
    "version": 3
   },
   "file_extension": ".py",
   "mimetype": "text/x-python",
   "name": "python",
   "nbconvert_exporter": "python",
   "pygments_lexer": "ipython3",
   "version": "3.7.3"
  }
 },
 "nbformat": 4,
 "nbformat_minor": 2
}
