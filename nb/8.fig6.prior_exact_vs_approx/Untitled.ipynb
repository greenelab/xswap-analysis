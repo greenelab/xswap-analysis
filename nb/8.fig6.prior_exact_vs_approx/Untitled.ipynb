{
 "cells": [
  {
   "cell_type": "code",
   "execution_count": 1,
   "metadata": {},
   "outputs": [
    {
     "name": "stderr",
     "output_type": "stream",
     "text": [
      "── Attaching packages ─────────────────────────────────────── tidyverse 1.2.1 ──\n",
      "✔ ggplot2 3.2.0     ✔ purrr   0.3.2\n",
      "✔ tibble  2.1.3     ✔ dplyr   0.8.3\n",
      "✔ tidyr   0.8.3     ✔ stringr 1.4.0\n",
      "✔ readr   1.3.1     ✔ forcats 0.4.0\n",
      "── Conflicts ────────────────────────────────────────── tidyverse_conflicts() ──\n",
      "✖ dplyr::filter() masks stats::filter()\n",
      "✖ dplyr::lag()    masks stats::lag()\n",
      "\n",
      "Attaching package: ‘cowplot’\n",
      "\n",
      "The following object is masked from ‘package:ggplot2’:\n",
      "\n",
      "    ggsave\n",
      "\n"
     ]
    }
   ],
   "source": [
    "library(tidyverse)\n",
    "library(cowplot)\n",
    "library(ggExtra)\n",
    "library(ggbeeswarm)\n",
    "library(ggrepel)\n",
    "\n",
    "`%+replace%` <- ggplot2::`%+replace%`\n",
    "\n",
    "theme_zietzm <- function(base_size = 11.5, base_family = \"\") {\n",
    "    # Starts with theme_bw and then modify some parts\n",
    "    # Theme options are documentated at http://docs.ggplot2.org/current/theme.html\n",
    "    ggplot2::theme_classic(base_size = base_size, base_family = base_family) %+replace%\n",
    "    ggplot2::theme(\n",
    "\n",
    "        strip.background  = ggplot2::element_rect(fill = NA, colour = 'grey90', size = 0),\n",
    "        strip.text = element_text(vjust = 1, size = 10),\n",
    "        plot.margin       = ggplot2::margin(t=2, r=2, b=2, l=2, unit='pt'),\n",
    "        legend.spacing     = grid::unit(0.1, 'cm'),\n",
    "        legend.key        = ggplot2::element_blank(),\n",
    "        panel.border=element_rect(fill = NA, color = 'black', size = 0.5), \n",
    "        axis.line=element_line(size=0),\n",
    "    )\n",
    "}"
   ]
  },
  {
   "cell_type": "code",
   "execution_count": 2,
   "metadata": {},
   "outputs": [
    {
     "name": "stderr",
     "output_type": "stream",
     "text": [
      "Parsed with column specification:\n",
      "cols(\n",
      "  source_id = col_double(),\n",
      "  target_id = col_double(),\n",
      "  edge = col_logical(),\n",
      "  source_degree = col_double(),\n",
      "  target_degree = col_double(),\n",
      "  xswap_prior = col_double()\n",
      ")\n",
      "Parsed with column specification:\n",
      "cols(\n",
      "  source_id = col_double(),\n",
      "  target_id = col_double(),\n",
      "  edge = col_logical(),\n",
      "  source_degree = col_double(),\n",
      "  target_degree = col_double(),\n",
      "  xswap_prior = col_double()\n",
      ")\n",
      "Parsed with column specification:\n",
      "cols(\n",
      "  source_id = col_double(),\n",
      "  target_id = col_double(),\n",
      "  edge = col_logical(),\n",
      "  source_degree = col_double(),\n",
      "  target_degree = col_double(),\n",
      "  xswap_prior = col_double()\n",
      ")\n"
     ]
    },
    {
     "data": {
      "text/html": [
       "<table>\n",
       "<caption>A tibble: 6 × 8</caption>\n",
       "<thead>\n",
       "\t<tr><th scope=col>source_id</th><th scope=col>target_id</th><th scope=col>edge</th><th scope=col>source_degree</th><th scope=col>target_degree</th><th scope=col>xswap_prior</th><th scope=col>metaedge</th><th scope=col>approx</th></tr>\n",
       "\t<tr><th scope=col>&lt;dbl&gt;</th><th scope=col>&lt;dbl&gt;</th><th scope=col>&lt;lgl&gt;</th><th scope=col>&lt;dbl&gt;</th><th scope=col>&lt;dbl&gt;</th><th scope=col>&lt;dbl&gt;</th><th scope=col>&lt;chr&gt;</th><th scope=col>&lt;dbl&gt;</th></tr>\n",
       "</thead>\n",
       "<tbody>\n",
       "\t<tr><td>0</td><td>0</td><td>FALSE</td><td>7</td><td> 4</td><td>0.006785714</td><td>Disease→localized→Anatomy</td><td>0.007794863</td></tr>\n",
       "\t<tr><td>0</td><td>1</td><td>FALSE</td><td>7</td><td>16</td><td>0.031190476</td><td>Disease→localized→Anatomy</td><td>0.031269617</td></tr>\n",
       "\t<tr><td>0</td><td>2</td><td>FALSE</td><td>7</td><td>37</td><td>0.079285714</td><td>Disease→localized→Anatomy</td><td>0.072581311</td></tr>\n",
       "\t<tr><td>0</td><td>3</td><td>FALSE</td><td>7</td><td> 4</td><td>0.006785714</td><td>Disease→localized→Anatomy</td><td>0.007794863</td></tr>\n",
       "\t<tr><td>0</td><td>4</td><td>FALSE</td><td>7</td><td> 0</td><td>0.000000000</td><td>Disease→localized→Anatomy</td><td>0.000000000</td></tr>\n",
       "\t<tr><td>0</td><td>5</td><td>FALSE</td><td>7</td><td>58</td><td>0.116428571</td><td>Disease→localized→Anatomy</td><td>0.114005910</td></tr>\n",
       "</tbody>\n",
       "</table>\n"
      ],
      "text/latex": [
       "A tibble: 6 × 8\n",
       "\\begin{tabular}{r|llllllll}\n",
       " source\\_id & target\\_id & edge & source\\_degree & target\\_degree & xswap\\_prior & metaedge & approx\\\\\n",
       " <dbl> & <dbl> & <lgl> & <dbl> & <dbl> & <dbl> & <chr> & <dbl>\\\\\n",
       "\\hline\n",
       "\t 0 & 0 & FALSE & 7 &  4 & 0.006785714 & Disease→localized→Anatomy & 0.007794863\\\\\n",
       "\t 0 & 1 & FALSE & 7 & 16 & 0.031190476 & Disease→localized→Anatomy & 0.031269617\\\\\n",
       "\t 0 & 2 & FALSE & 7 & 37 & 0.079285714 & Disease→localized→Anatomy & 0.072581311\\\\\n",
       "\t 0 & 3 & FALSE & 7 &  4 & 0.006785714 & Disease→localized→Anatomy & 0.007794863\\\\\n",
       "\t 0 & 4 & FALSE & 7 &  0 & 0.000000000 & Disease→localized→Anatomy & 0.000000000\\\\\n",
       "\t 0 & 5 & FALSE & 7 & 58 & 0.116428571 & Disease→localized→Anatomy & 0.114005910\\\\\n",
       "\\end{tabular}\n"
      ],
      "text/markdown": [
       "\n",
       "A tibble: 6 × 8\n",
       "\n",
       "| source_id &lt;dbl&gt; | target_id &lt;dbl&gt; | edge &lt;lgl&gt; | source_degree &lt;dbl&gt; | target_degree &lt;dbl&gt; | xswap_prior &lt;dbl&gt; | metaedge &lt;chr&gt; | approx &lt;dbl&gt; |\n",
       "|---|---|---|---|---|---|---|---|\n",
       "| 0 | 0 | FALSE | 7 |  4 | 0.006785714 | Disease→localized→Anatomy | 0.007794863 |\n",
       "| 0 | 1 | FALSE | 7 | 16 | 0.031190476 | Disease→localized→Anatomy | 0.031269617 |\n",
       "| 0 | 2 | FALSE | 7 | 37 | 0.079285714 | Disease→localized→Anatomy | 0.072581311 |\n",
       "| 0 | 3 | FALSE | 7 |  4 | 0.006785714 | Disease→localized→Anatomy | 0.007794863 |\n",
       "| 0 | 4 | FALSE | 7 |  0 | 0.000000000 | Disease→localized→Anatomy | 0.000000000 |\n",
       "| 0 | 5 | FALSE | 7 | 58 | 0.116428571 | Disease→localized→Anatomy | 0.114005910 |\n",
       "\n"
      ],
      "text/plain": [
       "  source_id target_id edge  source_degree target_degree xswap_prior\n",
       "1 0         0         FALSE 7              4            0.006785714\n",
       "2 0         1         FALSE 7             16            0.031190476\n",
       "3 0         2         FALSE 7             37            0.079285714\n",
       "4 0         3         FALSE 7              4            0.006785714\n",
       "5 0         4         FALSE 7              0            0.000000000\n",
       "6 0         5         FALSE 7             58            0.116428571\n",
       "  metaedge                  approx     \n",
       "1 Disease→localized→Anatomy 0.007794863\n",
       "2 Disease→localized→Anatomy 0.031269617\n",
       "3 Disease→localized→Anatomy 0.072581311\n",
       "4 Disease→localized→Anatomy 0.007794863\n",
       "5 Disease→localized→Anatomy 0.000000000\n",
       "6 Disease→localized→Anatomy 0.114005910"
      ]
     },
     "metadata": {},
     "output_type": "display_data"
    }
   ],
   "source": [
    "unperm_df <- bind_rows(\n",
    "        read_tsv('../../data//task1/full_priors/AlD.tsv.gz') %>% mutate(metaedge = 'Disease→localized→Anatomy'),\n",
    "        read_tsv('../../data//task1/full_priors/CrC.tsv.gz') %>% mutate(metaedge = 'Compound–resembles–Compound'),\n",
    "        read_tsv('../../data//task1/full_priors/DuG.tsv.gz') %>% mutate(metaedge = 'Disease→regulates→Gene'),\n",
    "    ) %>%\n",
    "    group_by(metaedge) %>%\n",
    "    mutate(\n",
    "        approx = source_degree * target_degree / sqrt(\n",
    "            (source_degree * target_degree) ^ 2 + (sum(edge) - source_degree - target_degree + 1) ^ 2\n",
    "        )\n",
    "    ) %>%\n",
    "    ungroup()\n",
    "\n",
    "unperm_df %>% head"
   ]
  },
  {
   "cell_type": "code",
   "execution_count": 3,
   "metadata": {},
   "outputs": [
    {
     "data": {
      "image/png": "[encoded data removed]",
      "text/plain": [
       "plot without title"
      ]
     },
     "metadata": {},
     "output_type": "display_data"
    }
   ],
   "source": [
    "options(repr.plot.width=8, repr.plot.height=2.5)\n",
    "\n",
    "prior_approx <- unperm_df %>%\n",
    "group_by(metaedge) %>%\n",
    "sample_n(10000) %>%\n",
    "ungroup() %>%\n",
    "ggplot(aes(x = xswap_prior, y = approx)) +\n",
    "geom_point(alpha = 0.3) + \n",
    "geom_abline(color = 'grey', linetype = 'dashed') +\n",
    "facet_wrap(vars(metaedge), scales = 'free') +\n",
    "theme_zietzm() +\n",
    "xlab('Edge prior') +\n",
    "ylab('Analytical approximation')\n",
    "\n",
    "ggsave('../../img/prior_exact_vs_approx.png', prior_approx, width = 8, height = 2.5, dpi = 400)\n",
    "\n",
    "prior_approx"
   ]
  }
 ],
 "metadata": {
  "kernelspec": {
   "display_name": "R [conda env:xswap-analysis] *",
   "language": "R",
   "name": "conda-env-xswap-analysis-r"
  },
  "language_info": {
   "codemirror_mode": "r",
   "file_extension": ".r",
   "mimetype": "text/x-r-source",
   "name": "R",
   "pygments_lexer": "r",
   "version": "3.5.1"
  }
 },
 "nbformat": 4,
 "nbformat_minor": 2
}
