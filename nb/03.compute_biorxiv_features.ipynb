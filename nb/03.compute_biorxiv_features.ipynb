{
 "cells": [
  {
   "cell_type": "code",
   "execution_count": 1,
   "metadata": {},
   "outputs": [],
   "source": [
    "import numpy as np\n",
    "import pandas as pd\n",
    "import scipy.sparse\n",
    "import tqdm\n",
    "import xswap\n",
    "\n",
    "import analysis"
   ]
  },
  {
   "cell_type": "code",
   "execution_count": 2,
   "metadata": {},
   "outputs": [],
   "source": [
    "n_perms = 1000\n",
    "allow_antiparallel = False\n",
    "allow_self_loops = False\n",
    "directed = False"
   ]
  },
  {
   "cell_type": "markdown",
   "metadata": {},
   "source": [
    "# 2. BioRxiv network"
   ]
  },
  {
   "cell_type": "code",
   "execution_count": 3,
   "metadata": {},
   "outputs": [],
   "source": [
    "df = pd.read_csv('../data/3.all_nodes/biorxiv.tsv.xz', sep='\\t', compression='xz')\n",
    "\n",
    "edges = list(map(tuple, \n",
    "    df\n",
    "    .query('train == 1')\n",
    "    .loc[:, ['id_a', 'id_b']]\n",
    "    .values\n",
    "))\n",
    "mat = analysis.edges_to_matrix(edges, directed=directed).tocsc()\n",
    "\n",
    "degree = np.repeat(mat.sum(axis=1), mat.shape[1], axis=1) \\\n",
    "         + np.repeat(mat.sum(axis=0), mat.shape[0], axis=0)"
   ]
  },
  {
   "cell_type": "code",
   "execution_count": 4,
   "metadata": {},
   "outputs": [],
   "source": [
    "assert len(edges) == len(set(edges))"
   ]
  },
  {
   "cell_type": "code",
   "execution_count": 5,
   "metadata": {},
   "outputs": [],
   "source": [
    "feature_dict = {\n",
    "    'edge_prior': scipy.sparse.csc_matrix(mat.shape),\n",
    "    \n",
    "    # RWR is fastest on this network with approximate matrix inverse on sparse matrix\n",
    "    'rwr': analysis.invertible_rwr(mat.toarray(), 0.25),\n",
    "    'mean_rwr': scipy.sparse.csc_matrix(mat.shape),\n",
    "    'p_rwr': scipy.sparse.csc_matrix(mat.shape),\n",
    "    \n",
    "    'jaccard': analysis.jaccard(mat, degree),\n",
    "    'mean_jaccard': np.zeros(mat.shape),\n",
    "    'p_jaccard': np.zeros(mat.shape),\n",
    "}"
   ]
  },
  {
   "cell_type": "code",
   "execution_count": 6,
   "metadata": {},
   "outputs": [
    {
     "data": {
      "application/vnd.jupyter.widget-view+json": {
       "model_id": "f616a25fcdfa4b40858a624c724e51ee",
       "version_major": 2,
       "version_minor": 0
      },
      "text/plain": [
       "HBox(children=(IntProgress(value=0, max=1000), HTML(value='')))"
      ]
     },
     "metadata": {},
     "output_type": "display_data"
    },
    {
     "name": "stdout",
     "output_type": "stream",
     "text": [
      "\n"
     ]
    }
   ],
   "source": [
    "perm_edges = edges.copy()\n",
    "for i in tqdm.tnrange(n_perms):\n",
    "    perm_edges, _ = xswap.permute_edge_list(perm_edges, allow_self_loops=allow_self_loops, \n",
    "                                            allow_antiparallel=allow_antiparallel, seed=i)\n",
    "    perm_mat = analysis.edges_to_matrix(perm_edges, directed=directed).tocsc()\n",
    "\n",
    "    feature_dict['edge_prior'] += perm_mat\n",
    "    \n",
    "    perm_rwr = analysis.invertible_rwr(perm_mat.toarray(), 0.25)    \n",
    "    feature_dict['mean_rwr'] += perm_rwr\n",
    "    feature_dict['p_rwr'] += (perm_rwr >= feature_dict['rwr'])\n",
    "    \n",
    "    perm_jaccard = analysis.jaccard(perm_mat, degree)\n",
    "    feature_dict['mean_jaccard'] += perm_jaccard\n",
    "    feature_dict['p_jaccard'] += (perm_jaccard >= feature_dict['jaccard'])"
   ]
  },
  {
   "cell_type": "code",
   "execution_count": 7,
   "metadata": {},
   "outputs": [
    {
     "data": {
      "text/html": [
       "<div>\n",
       "<style scoped>\n",
       "    .dataframe tbody tr th:only-of-type {\n",
       "        vertical-align: middle;\n",
       "    }\n",
       "\n",
       "    .dataframe tbody tr th {\n",
       "        vertical-align: top;\n",
       "    }\n",
       "\n",
       "    .dataframe thead th {\n",
       "        text-align: right;\n",
       "    }\n",
       "</style>\n",
       "<table border=\"1\" class=\"dataframe\">\n",
       "  <thead>\n",
       "    <tr style=\"text-align: right;\">\n",
       "      <th></th>\n",
       "      <th>name_a</th>\n",
       "      <th>name_b</th>\n",
       "      <th>id_a</th>\n",
       "      <th>id_b</th>\n",
       "      <th>train</th>\n",
       "      <th>test_recon</th>\n",
       "      <th>test_new</th>\n",
       "      <th>edge_prior</th>\n",
       "      <th>rwr</th>\n",
       "      <th>mean_rwr</th>\n",
       "      <th>p_rwr</th>\n",
       "      <th>jaccard</th>\n",
       "      <th>mean_jaccard</th>\n",
       "      <th>p_jaccard</th>\n",
       "    </tr>\n",
       "  </thead>\n",
       "  <tbody>\n",
       "    <tr>\n",
       "      <th>0</th>\n",
       "      <td>- The US-Venezuela Collaborative Research Group</td>\n",
       "      <td>A. Murat Eren</td>\n",
       "      <td>0</td>\n",
       "      <td>1</td>\n",
       "      <td>0</td>\n",
       "      <td>0</td>\n",
       "      <td>0</td>\n",
       "      <td>0.0</td>\n",
       "      <td>3.597993e-08</td>\n",
       "      <td>0.000144</td>\n",
       "      <td>1.0</td>\n",
       "      <td>0.0</td>\n",
       "      <td>0.003646</td>\n",
       "      <td>1.0</td>\n",
       "    </tr>\n",
       "    <tr>\n",
       "      <th>1</th>\n",
       "      <td>- The US-Venezuela Collaborative Research Group</td>\n",
       "      <td>A. S. M. Ashique Mahmood</td>\n",
       "      <td>0</td>\n",
       "      <td>2</td>\n",
       "      <td>0</td>\n",
       "      <td>0</td>\n",
       "      <td>0</td>\n",
       "      <td>0.0</td>\n",
       "      <td>1.254530e-07</td>\n",
       "      <td>0.000129</td>\n",
       "      <td>1.0</td>\n",
       "      <td>0.0</td>\n",
       "      <td>0.003428</td>\n",
       "      <td>1.0</td>\n",
       "    </tr>\n",
       "  </tbody>\n",
       "</table>\n",
       "</div>"
      ],
      "text/plain": [
       "                                            name_a                    name_b  \\\n",
       "0  - The US-Venezuela Collaborative Research Group             A. Murat Eren   \n",
       "1  - The US-Venezuela Collaborative Research Group  A. S. M. Ashique Mahmood   \n",
       "\n",
       "   id_a  id_b  train  test_recon  test_new  edge_prior           rwr  \\\n",
       "0     0     1      0           0         0         0.0  3.597993e-08   \n",
       "1     0     2      0           0         0         0.0  1.254530e-07   \n",
       "\n",
       "   mean_rwr  p_rwr  jaccard  mean_jaccard  p_jaccard  \n",
       "0  0.000144    1.0      0.0      0.003646        1.0  \n",
       "1  0.000129    1.0      0.0      0.003428        1.0  "
      ]
     },
     "execution_count": 7,
     "metadata": {},
     "output_type": "execute_result"
    }
   ],
   "source": [
    "for feature, array in feature_dict.items():\n",
    "    # Normalize features by the number of permutations\n",
    "    if feature in ['edge_prior', 'mean_rwr', 'p_rwr', 'mean_jaccard', 'p_jaccard']:\n",
    "        feature_dict[feature] /= n_perms\n",
    "    \n",
    "    # Make features dense (for DataFrame)\n",
    "    if scipy.sparse.issparse(array):\n",
    "        array = array.toarray()\n",
    "    \n",
    "    feature_df = (\n",
    "        pd.DataFrame(array)\n",
    "        .reset_index()\n",
    "        .melt(id_vars=['index'])\n",
    "        .rename(columns={'index': 'id_a', 'variable': 'id_b', 'value': feature})\n",
    "        .assign(\n",
    "            id_a=lambda df: df['id_a'].astype(int),\n",
    "            id_b=lambda df: df['id_b'].astype(int),\n",
    "        )\n",
    "        # Note <= in PPI is now < in BioRxiv, because protein can interact with itself,\n",
    "        # but an author can't be their own co-author.\n",
    "        .query('id_a < id_b')\n",
    "    )\n",
    "    \n",
    "    df = df.merge(feature_df, how='left', on=['id_a', 'id_b'])\n",
    "df.head(2)"
   ]
  },
  {
   "cell_type": "code",
   "execution_count": 8,
   "metadata": {},
   "outputs": [
    {
     "name": "stdout",
     "output_type": "stream",
     "text": [
      "CPU times: user 12min 44s, sys: 681 ms, total: 12min 45s\n",
      "Wall time: 12min 45s\n"
     ]
    }
   ],
   "source": [
    "%%time\n",
    "\n",
    "df.to_csv('../data/4.data/biorxiv.tsv.xz', sep='\\t', compression='xz', index=False)"
   ]
  }
 ],
 "metadata": {
  "kernelspec": {
   "display_name": "Python [conda env:xswap-analysis]",
   "language": "python",
   "name": "conda-env-xswap-analysis-py"
  },
  "language_info": {
   "codemirror_mode": {
    "name": "ipython",
    "version": 3
   },
   "file_extension": ".py",
   "mimetype": "text/x-python",
   "name": "python",
   "nbconvert_exporter": "python",
   "pygments_lexer": "ipython3",
   "version": "3.6.6"
  }
 },
 "nbformat": 4,
 "nbformat_minor": 2
}
