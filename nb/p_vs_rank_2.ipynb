{
 "cells": [
  {
   "cell_type": "code",
   "execution_count": 1,
   "metadata": {},
   "outputs": [],
   "source": [
    "import collections\n",
    "\n",
    "import matplotlib.pyplot as plt\n",
    "import networkx as nx\n",
    "import numpy as np\n",
    "import pandas as pd\n",
    "import scipy.stats\n",
    "import seaborn as sns\n",
    "import sklearn.metrics\n",
    "\n",
    "import analysis\n",
    "\n",
    "%matplotlib inline"
   ]
  },
  {
   "cell_type": "code",
   "execution_count": 2,
   "metadata": {},
   "outputs": [
    {
     "data": {
      "text/html": [
       "<div>\n",
       "<style scoped>\n",
       "    .dataframe tbody tr th:only-of-type {\n",
       "        vertical-align: middle;\n",
       "    }\n",
       "\n",
       "    .dataframe tbody tr th {\n",
       "        vertical-align: top;\n",
       "    }\n",
       "\n",
       "    .dataframe thead th {\n",
       "        text-align: right;\n",
       "    }\n",
       "</style>\n",
       "<table border=\"1\" class=\"dataframe\">\n",
       "  <thead>\n",
       "    <tr style=\"text-align: right;\">\n",
       "      <th></th>\n",
       "      <th>uniprot_a</th>\n",
       "      <th>uniprot_b</th>\n",
       "      <th>source_degree</th>\n",
       "      <th>target_degree</th>\n",
       "      <th>mean_degree</th>\n",
       "      <th>train</th>\n",
       "      <th>string</th>\n",
       "      <th>ht_2014</th>\n",
       "      <th>prior_empirical</th>\n",
       "      <th>rwr</th>\n",
       "      <th>mean_rwr</th>\n",
       "      <th>p_rwr</th>\n",
       "      <th>jaccard</th>\n",
       "      <th>mean_jaccard</th>\n",
       "      <th>p_jaccard</th>\n",
       "    </tr>\n",
       "  </thead>\n",
       "  <tbody>\n",
       "    <tr>\n",
       "      <th>0</th>\n",
       "      <td>Q96KB5</td>\n",
       "      <td>P61964</td>\n",
       "      <td>137.0</td>\n",
       "      <td>139.0</td>\n",
       "      <td>137.996377</td>\n",
       "      <td>1.0</td>\n",
       "      <td>1.0</td>\n",
       "      <td>0.0</td>\n",
       "      <td>0.384</td>\n",
       "      <td>0.002196</td>\n",
       "      <td>0.001484</td>\n",
       "      <td>0.116</td>\n",
       "      <td>0.136943</td>\n",
       "      <td>0.109186</td>\n",
       "      <td>0.068</td>\n",
       "    </tr>\n",
       "    <tr>\n",
       "      <th>1</th>\n",
       "      <td>O43251</td>\n",
       "      <td>Q9BTD8</td>\n",
       "      <td>64.0</td>\n",
       "      <td>42.0</td>\n",
       "      <td>51.845926</td>\n",
       "      <td>1.0</td>\n",
       "      <td>1.0</td>\n",
       "      <td>0.0</td>\n",
       "      <td>0.070</td>\n",
       "      <td>0.003078</td>\n",
       "      <td>0.000463</td>\n",
       "      <td>0.000</td>\n",
       "      <td>0.162162</td>\n",
       "      <td>0.034002</td>\n",
       "      <td>0.000</td>\n",
       "    </tr>\n",
       "    <tr>\n",
       "      <th>2</th>\n",
       "      <td>Q9H8Y8</td>\n",
       "      <td>Q14088</td>\n",
       "      <td>59.0</td>\n",
       "      <td>81.0</td>\n",
       "      <td>69.130312</td>\n",
       "      <td>1.0</td>\n",
       "      <td>1.0</td>\n",
       "      <td>0.0</td>\n",
       "      <td>0.090</td>\n",
       "      <td>0.003496</td>\n",
       "      <td>0.000784</td>\n",
       "      <td>0.000</td>\n",
       "      <td>0.134615</td>\n",
       "      <td>0.056892</td>\n",
       "      <td>0.002</td>\n",
       "    </tr>\n",
       "    <tr>\n",
       "      <th>3</th>\n",
       "      <td>Q96PP8</td>\n",
       "      <td>P48775</td>\n",
       "      <td>35.0</td>\n",
       "      <td>31.0</td>\n",
       "      <td>32.939338</td>\n",
       "      <td>1.0</td>\n",
       "      <td>1.0</td>\n",
       "      <td>0.0</td>\n",
       "      <td>0.018</td>\n",
       "      <td>0.005066</td>\n",
       "      <td>0.000306</td>\n",
       "      <td>0.012</td>\n",
       "      <td>0.000000</td>\n",
       "      <td>0.025617</td>\n",
       "      <td>1.000</td>\n",
       "    </tr>\n",
       "    <tr>\n",
       "      <th>4</th>\n",
       "      <td>P08670</td>\n",
       "      <td>Q96QU8</td>\n",
       "      <td>121.0</td>\n",
       "      <td>87.0</td>\n",
       "      <td>102.601170</td>\n",
       "      <td>1.0</td>\n",
       "      <td>1.0</td>\n",
       "      <td>0.0</td>\n",
       "      <td>0.260</td>\n",
       "      <td>0.001831</td>\n",
       "      <td>0.001022</td>\n",
       "      <td>0.254</td>\n",
       "      <td>0.063197</td>\n",
       "      <td>0.082953</td>\n",
       "      <td>0.922</td>\n",
       "    </tr>\n",
       "  </tbody>\n",
       "</table>\n",
       "</div>"
      ],
      "text/plain": [
       "  uniprot_a uniprot_b  source_degree  target_degree  mean_degree  train  \\\n",
       "0    Q96KB5    P61964          137.0          139.0   137.996377    1.0   \n",
       "1    O43251    Q9BTD8           64.0           42.0    51.845926    1.0   \n",
       "2    Q9H8Y8    Q14088           59.0           81.0    69.130312    1.0   \n",
       "3    Q96PP8    P48775           35.0           31.0    32.939338    1.0   \n",
       "4    P08670    Q96QU8          121.0           87.0   102.601170    1.0   \n",
       "\n",
       "   string  ht_2014  prior_empirical       rwr  mean_rwr  p_rwr   jaccard  \\\n",
       "0     1.0      0.0            0.384  0.002196  0.001484  0.116  0.136943   \n",
       "1     1.0      0.0            0.070  0.003078  0.000463  0.000  0.162162   \n",
       "2     1.0      0.0            0.090  0.003496  0.000784  0.000  0.134615   \n",
       "3     1.0      0.0            0.018  0.005066  0.000306  0.012  0.000000   \n",
       "4     1.0      0.0            0.260  0.001831  0.001022  0.254  0.063197   \n",
       "\n",
       "   mean_jaccard  p_jaccard  \n",
       "0      0.109186      0.068  \n",
       "1      0.034002      0.000  \n",
       "2      0.056892      0.002  \n",
       "3      0.025617      1.000  \n",
       "4      0.082953      0.922  "
      ]
     },
     "execution_count": 2,
     "metadata": {},
     "output_type": "execute_result"
    }
   ],
   "source": [
    "df = pd.read_table('p_vs_rank.tsv.gz')\n",
    "\n",
    "no_self_df = df.query('train != 1 and uniprot_a != uniprot_b')\n",
    "all_df = df.query('train != 1')\n",
    "\n",
    "df.head()"
   ]
  },
  {
   "cell_type": "markdown",
   "metadata": {},
   "source": [
    "### AUROC and correlation of prediction values with degree"
   ]
  },
  {
   "cell_type": "code",
   "execution_count": 3,
   "metadata": {},
   "outputs": [
    {
     "data": {
      "text/plain": [
       "<matplotlib.axes._subplots.AxesSubplot at 0x7feb58eaf358>"
      ]
     },
     "execution_count": 3,
     "metadata": {},
     "output_type": "execute_result"
    },
    {
     "data": {
      "image/png": "[encoded data removed]",
      "text/plain": [
       "<Figure size 432x288 with 1 Axes>"
      ]
     },
     "metadata": {},
     "output_type": "display_data"
    }
   ],
   "source": [
    "# Reconstruction\n",
    "\n",
    "sns.boxplot(x='string', y='jaccard', data=no_self_df)"
   ]
  },
  {
   "cell_type": "code",
   "execution_count": 4,
   "metadata": {},
   "outputs": [
    {
     "data": {
      "text/plain": [
       "<matplotlib.axes._subplots.AxesSubplot at 0x7feb58ddde48>"
      ]
     },
     "execution_count": 4,
     "metadata": {},
     "output_type": "execute_result"
    },
    {
     "data": {
      "image/png": "[encoded data removed]",
      "text/plain": [
       "<Figure size 432x288 with 1 Axes>"
      ]
     },
     "metadata": {},
     "output_type": "display_data"
    }
   ],
   "source": [
    "# Predicting systematic edges\n",
    "\n",
    "sns.boxplot(x='ht_2014', y='jaccard', data=no_self_df)"
   ]
  },
  {
   "cell_type": "code",
   "execution_count": 5,
   "metadata": {},
   "outputs": [
    {
     "data": {
      "text/html": [
       "<div>\n",
       "<style scoped>\n",
       "    .dataframe tbody tr th:only-of-type {\n",
       "        vertical-align: middle;\n",
       "    }\n",
       "\n",
       "    .dataframe tbody tr th {\n",
       "        vertical-align: top;\n",
       "    }\n",
       "\n",
       "    .dataframe thead th {\n",
       "        text-align: right;\n",
       "    }\n",
       "</style>\n",
       "<table border=\"1\" class=\"dataframe\">\n",
       "  <thead>\n",
       "    <tr style=\"text-align: right;\">\n",
       "      <th></th>\n",
       "      <th>feature</th>\n",
       "      <th>recon_auc_all</th>\n",
       "      <th>recon_auc_no_loop</th>\n",
       "      <th>syst_auc_all</th>\n",
       "      <th>syst_auc_no_loop</th>\n",
       "      <th>pearson_all</th>\n",
       "      <th>spearman_all</th>\n",
       "      <th>pearson_no_loop</th>\n",
       "      <th>spearman_no_loop</th>\n",
       "    </tr>\n",
       "  </thead>\n",
       "  <tbody>\n",
       "    <tr>\n",
       "      <th>0</th>\n",
       "      <td>prior_empirical</td>\n",
       "      <td>0.778095</td>\n",
       "      <td>0.778037</td>\n",
       "      <td>0.478536</td>\n",
       "      <td>0.491210</td>\n",
       "      <td>0.888897</td>\n",
       "      <td>0.912437</td>\n",
       "      <td>0.889194</td>\n",
       "      <td>0.912673</td>\n",
       "    </tr>\n",
       "    <tr>\n",
       "      <th>1</th>\n",
       "      <td>rwr</td>\n",
       "      <td>0.939805</td>\n",
       "      <td>0.940521</td>\n",
       "      <td>0.606185</td>\n",
       "      <td>0.569983</td>\n",
       "      <td>0.040083</td>\n",
       "      <td>0.640101</td>\n",
       "      <td>0.364910</td>\n",
       "      <td>0.641041</td>\n",
       "    </tr>\n",
       "    <tr>\n",
       "      <th>2</th>\n",
       "      <td>mean_rwr</td>\n",
       "      <td>0.722243</td>\n",
       "      <td>0.722793</td>\n",
       "      <td>0.525803</td>\n",
       "      <td>0.482069</td>\n",
       "      <td>0.049634</td>\n",
       "      <td>0.682058</td>\n",
       "      <td>0.631295</td>\n",
       "      <td>0.683068</td>\n",
       "    </tr>\n",
       "    <tr>\n",
       "      <th>3</th>\n",
       "      <td>p_rwr</td>\n",
       "      <td>0.896303</td>\n",
       "      <td>0.896422</td>\n",
       "      <td>0.626897</td>\n",
       "      <td>0.615256</td>\n",
       "      <td>0.094989</td>\n",
       "      <td>0.095139</td>\n",
       "      <td>0.094529</td>\n",
       "      <td>0.094760</td>\n",
       "    </tr>\n",
       "    <tr>\n",
       "      <th>4</th>\n",
       "      <td>jaccard</td>\n",
       "      <td>0.868286</td>\n",
       "      <td>0.868947</td>\n",
       "      <td>0.566956</td>\n",
       "      <td>0.527081</td>\n",
       "      <td>0.525444</td>\n",
       "      <td>0.675295</td>\n",
       "      <td>0.653109</td>\n",
       "      <td>0.676305</td>\n",
       "    </tr>\n",
       "    <tr>\n",
       "      <th>5</th>\n",
       "      <td>mean_jaccard</td>\n",
       "      <td>0.790260</td>\n",
       "      <td>0.790863</td>\n",
       "      <td>0.527886</td>\n",
       "      <td>0.484350</td>\n",
       "      <td>0.589236</td>\n",
       "      <td>0.920767</td>\n",
       "      <td>0.938039</td>\n",
       "      <td>0.922178</td>\n",
       "    </tr>\n",
       "    <tr>\n",
       "      <th>6</th>\n",
       "      <td>p_jaccard</td>\n",
       "      <td>0.840163</td>\n",
       "      <td>0.840080</td>\n",
       "      <td>0.522244</td>\n",
       "      <td>0.542108</td>\n",
       "      <td>-0.249165</td>\n",
       "      <td>-0.326593</td>\n",
       "      <td>-0.249496</td>\n",
       "      <td>-0.326511</td>\n",
       "    </tr>\n",
       "  </tbody>\n",
       "</table>\n",
       "</div>"
      ],
      "text/plain": [
       "           feature  recon_auc_all  recon_auc_no_loop  syst_auc_all  \\\n",
       "0  prior_empirical       0.778095           0.778037      0.478536   \n",
       "1              rwr       0.939805           0.940521      0.606185   \n",
       "2         mean_rwr       0.722243           0.722793      0.525803   \n",
       "3            p_rwr       0.896303           0.896422      0.626897   \n",
       "4          jaccard       0.868286           0.868947      0.566956   \n",
       "5     mean_jaccard       0.790260           0.790863      0.527886   \n",
       "6        p_jaccard       0.840163           0.840080      0.522244   \n",
       "\n",
       "   syst_auc_no_loop  pearson_all  spearman_all  pearson_no_loop  \\\n",
       "0          0.491210     0.888897      0.912437         0.889194   \n",
       "1          0.569983     0.040083      0.640101         0.364910   \n",
       "2          0.482069     0.049634      0.682058         0.631295   \n",
       "3          0.615256     0.094989      0.095139         0.094529   \n",
       "4          0.527081     0.525444      0.675295         0.653109   \n",
       "5          0.484350     0.589236      0.920767         0.938039   \n",
       "6          0.542108    -0.249165     -0.326593        -0.249496   \n",
       "\n",
       "   spearman_no_loop  \n",
       "0          0.912673  \n",
       "1          0.641041  \n",
       "2          0.683068  \n",
       "3          0.094760  \n",
       "4          0.676305  \n",
       "5          0.922178  \n",
       "6         -0.326511  "
      ]
     },
     "execution_count": 5,
     "metadata": {},
     "output_type": "execute_result"
    }
   ],
   "source": [
    "records = (\n",
    "    (feature,\n",
    "     sklearn.metrics.roc_auc_score(all_df['string'], multiplier * all_df[feature]), \n",
    "     sklearn.metrics.roc_auc_score(no_self_df['string'], multiplier * no_self_df[feature]),\n",
    "     sklearn.metrics.roc_auc_score(all_df['ht_2014'], multiplier * all_df[feature]), \n",
    "     sklearn.metrics.roc_auc_score(no_self_df['ht_2014'], multiplier * no_self_df[feature]))\n",
    "    + scipy.stats.pearsonr(all_df['mean_degree'], all_df[feature])[:1]\n",
    "    + scipy.stats.spearmanr(all_df['mean_degree'], all_df[feature])[:1]\n",
    "    + scipy.stats.pearsonr(no_self_df['mean_degree'], no_self_df[feature])[:1]\n",
    "    + scipy.stats.spearmanr(no_self_df['mean_degree'], no_self_df[feature])[:1]\n",
    "    for feature, multiplier in {'prior_empirical': 1, 'rwr': 1, 'mean_rwr': 1, 'p_rwr': -1, \n",
    "                                'jaccard': 1, 'mean_jaccard': 1, 'p_jaccard': -1,\n",
    "                               }.items()\n",
    ")\n",
    "info_df = pd.DataFrame.from_records(records, columns=['feature', 'recon_auc_all', 'recon_auc_no_loop', \n",
    "                                                      'syst_auc_all', 'syst_auc_no_loop', \n",
    "                                                      'pearson_all', 'spearman_all', \n",
    "                                                      'pearson_no_loop', 'spearman_no_loop', ])\n",
    "\n",
    "info_df"
   ]
  },
  {
   "cell_type": "markdown",
   "metadata": {},
   "source": [
    "### Plots"
   ]
  },
  {
   "cell_type": "code",
   "execution_count": 6,
   "metadata": {},
   "outputs": [
    {
     "data": {
      "text/plain": [
       "[<matplotlib.lines.Line2D at 0x7feb58dd1a90>]"
      ]
     },
     "execution_count": 6,
     "metadata": {},
     "output_type": "execute_result"
    },
    {
     "data": {
      "image/png": "[encoded data removed]",
      "text/plain": [
       "<Figure size 432x288 with 1 Axes>"
      ]
     },
     "metadata": {},
     "output_type": "display_data"
    }
   ],
   "source": [
    "plt.scatter('jaccard', 'mean_jaccard', data=no_self_df.query('ht_2014 == 0'), alpha=0.5)\n",
    "plt.scatter('jaccard', 'mean_jaccard', data=no_self_df.query('ht_2014 == 1'))\n",
    "plt.plot([0,1], [0,1], linestyle='--', color='black')"
   ]
  },
  {
   "cell_type": "code",
   "execution_count": 7,
   "metadata": {},
   "outputs": [
    {
     "data": {
      "text/plain": [
       "Text(0, 0.5, 'Mean Jaccard on permuted networks')"
      ]
     },
     "execution_count": 7,
     "metadata": {},
     "output_type": "execute_result"
    },
    {
     "data": {
      "image/png": "[encoded data removed]",
      "text/plain": [
       "<Figure size 432x288 with 2 Axes>"
      ]
     },
     "metadata": {},
     "output_type": "display_data"
    }
   ],
   "source": [
    "sc = plt.scatter('jaccard', 'mean_jaccard', c='p_jaccard', data=no_self_df, alpha=0.5)\n",
    "cbar = plt.colorbar(sc)\n",
    "cbar.ax.set_ylabel('p-value')\n",
    "plt.plot([0,1], [0,1], linestyle='--', color='black')\n",
    "plt.xlabel('Jaccard coefficient')\n",
    "plt.ylabel('Mean Jaccard on permuted networks')"
   ]
  }
 ],
 "metadata": {
  "kernelspec": {
   "display_name": "Python [conda env:xswap-analysis]",
   "language": "python",
   "name": "conda-env-xswap-analysis-py"
  },
  "language_info": {
   "codemirror_mode": {
    "name": "ipython",
    "version": 3
   },
   "file_extension": ".py",
   "mimetype": "text/x-python",
   "name": "python",
   "nbconvert_exporter": "python",
   "pygments_lexer": "ipython3",
   "version": "3.6.6"
  }
 },
 "nbformat": 4,
 "nbformat_minor": 2
}
