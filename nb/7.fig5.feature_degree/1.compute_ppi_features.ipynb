{
 "cells": [
  {
   "cell_type": "code",
   "execution_count": 1,
   "metadata": {},
   "outputs": [],
   "source": [
    "import sys\n",
    "\n",
    "import numpy as np\n",
    "import pandas as pd\n",
    "import sklearn.metrics\n",
    "import tqdm\n",
    "import xswap\n",
    "\n",
    "sys.path.insert(0, '../')\n",
    "\n",
    "import analysis"
   ]
  },
  {
   "cell_type": "code",
   "execution_count": 2,
   "metadata": {},
   "outputs": [],
   "source": [
    "edges_df = pd.read_csv('../../data/task3/3.all_nodes/ppi.tsv.xz', sep='\\t')\n",
    "\n",
    "edges = list(map(tuple, edges_df.query('test_recon == 1')[['id_a', 'id_b']].values))"
   ]
  },
  {
   "cell_type": "code",
   "execution_count": 3,
   "metadata": {},
   "outputs": [],
   "source": [
    "mat = xswap.network_formats.edges_to_matrix(edges, add_reverse_edges=True, shape=(4083, 4083))\n",
    "\n",
    "degree_matrix = np.repeat(mat.sum(axis=1).reshape((mat.shape[0], 1)), mat.shape[0], axis=1) \\\n",
    "                + np.repeat(mat.sum(axis=0).reshape((1, mat.shape[1])), mat.shape[1], axis=0)"
   ]
  },
  {
   "cell_type": "markdown",
   "metadata": {},
   "source": [
    "# Unpermuted values"
   ]
  },
  {
   "cell_type": "code",
   "execution_count": 4,
   "metadata": {},
   "outputs": [
    {
     "data": {
      "application/vnd.jupyter.widget-view+json": {
       "model_id": "aa76720f549a405a9bdd811d06c76ac6",
       "version_major": 2,
       "version_minor": 0
      },
      "text/plain": [
       "HBox(children=(IntProgress(value=0), HTML(value='')))"
      ]
     },
     "metadata": {},
     "output_type": "display_data"
    },
    {
     "name": "stdout",
     "output_type": "stream",
     "text": [
      "\n"
     ]
    }
   ],
   "source": [
    "num_perms = 100\n",
    "\n",
    "perm_edges = edges.copy()\n",
    "indicator = np.zeros_like(mat.toarray(), dtype=int)\n",
    "for i in tqdm.tnrange(num_perms):\n",
    "    perm_edges, _ = xswap.permute_edge_list(perm_edges, allow_self_loops=True, allow_antiparallel=False)\n",
    "    perm_mat = xswap.network_formats.edges_to_matrix(perm_edges, add_reverse_edges=True, \n",
    "                                                     shape=(4083, 4083), sparse=False)\n",
    "    indicator += perm_mat"
   ]
  },
  {
   "cell_type": "code",
   "execution_count": 7,
   "metadata": {
    "scrolled": true
   },
   "outputs": [
    {
     "data": {
      "text/html": [
       "<div>\n",
       "<style scoped>\n",
       "    .dataframe tbody tr th:only-of-type {\n",
       "        vertical-align: middle;\n",
       "    }\n",
       "\n",
       "    .dataframe tbody tr th {\n",
       "        vertical-align: top;\n",
       "    }\n",
       "\n",
       "    .dataframe thead th {\n",
       "        text-align: right;\n",
       "    }\n",
       "</style>\n",
       "<table border=\"1\" class=\"dataframe\">\n",
       "  <thead>\n",
       "    <tr style=\"text-align: right;\">\n",
       "      <th></th>\n",
       "      <th>id_a</th>\n",
       "      <th>id_b</th>\n",
       "      <th>edge</th>\n",
       "      <th>edge_prior</th>\n",
       "      <th>adamic</th>\n",
       "      <th>jaccard</th>\n",
       "      <th>preferential_attachment</th>\n",
       "      <th>resource_allocation</th>\n",
       "      <th>rwr</th>\n",
       "    </tr>\n",
       "  </thead>\n",
       "  <tbody>\n",
       "    <tr>\n",
       "      <th>0</th>\n",
       "      <td>0</td>\n",
       "      <td>0</td>\n",
       "      <td>False</td>\n",
       "      <td>0.688017</td>\n",
       "      <td>14.827277</td>\n",
       "      <td>1.000000</td>\n",
       "      <td>5625</td>\n",
       "      <td>0.546692</td>\n",
       "      <td>0.251102</td>\n",
       "    </tr>\n",
       "    <tr>\n",
       "      <th>1</th>\n",
       "      <td>0</td>\n",
       "      <td>1</td>\n",
       "      <td>False</td>\n",
       "      <td>0.053030</td>\n",
       "      <td>0.000000</td>\n",
       "      <td>0.000000</td>\n",
       "      <td>225</td>\n",
       "      <td>0.000000</td>\n",
       "      <td>0.000013</td>\n",
       "    </tr>\n",
       "    <tr>\n",
       "      <th>2</th>\n",
       "      <td>0</td>\n",
       "      <td>2</td>\n",
       "      <td>False</td>\n",
       "      <td>0.803030</td>\n",
       "      <td>0.426866</td>\n",
       "      <td>0.012270</td>\n",
       "      <td>6750</td>\n",
       "      <td>0.018679</td>\n",
       "      <td>0.000083</td>\n",
       "    </tr>\n",
       "    <tr>\n",
       "      <th>3</th>\n",
       "      <td>0</td>\n",
       "      <td>3</td>\n",
       "      <td>False</td>\n",
       "      <td>2.403409</td>\n",
       "      <td>0.704774</td>\n",
       "      <td>0.013841</td>\n",
       "      <td>16350</td>\n",
       "      <td>0.014245</td>\n",
       "      <td>0.000084</td>\n",
       "    </tr>\n",
       "    <tr>\n",
       "      <th>4</th>\n",
       "      <td>0</td>\n",
       "      <td>4</td>\n",
       "      <td>False</td>\n",
       "      <td>3.848485</td>\n",
       "      <td>0.348226</td>\n",
       "      <td>0.004706</td>\n",
       "      <td>26400</td>\n",
       "      <td>0.006774</td>\n",
       "      <td>0.000093</td>\n",
       "    </tr>\n",
       "  </tbody>\n",
       "</table>\n",
       "</div>"
      ],
      "text/plain": [
       "   id_a  id_b   edge  edge_prior     adamic   jaccard  \\\n",
       "0     0     0  False    0.688017  14.827277  1.000000   \n",
       "1     0     1  False    0.053030   0.000000  0.000000   \n",
       "2     0     2  False    0.803030   0.426866  0.012270   \n",
       "3     0     3  False    2.403409   0.704774  0.013841   \n",
       "4     0     4  False    3.848485   0.348226  0.004706   \n",
       "\n",
       "   preferential_attachment  resource_allocation       rwr  \n",
       "0                     5625             0.546692  0.251102  \n",
       "1                      225             0.000000  0.000013  \n",
       "2                     6750             0.018679  0.000083  \n",
       "3                    16350             0.014245  0.000084  \n",
       "4                    26400             0.006774  0.000093  "
      ]
     },
     "execution_count": 7,
     "metadata": {},
     "output_type": "execute_result"
    }
   ],
   "source": [
    "prior_df = (\n",
    "    pd.DataFrame({\n",
    "        'id_a': np.repeat(np.arange(mat.shape[0]), mat.shape[1]),\n",
    "        'id_b': np.repeat(np.arange(mat.shape[1]).reshape((1, mat.shape[1])), mat.shape[0], axis=0).flatten(),\n",
    "        'edge': mat.toarray().flatten(),\n",
    "        'source_degree': np.array(np.repeat(mat.sum(axis=1).reshape((mat.shape[0], 1)), \n",
    "                                            mat.shape[0], axis=1)).flatten(),\n",
    "        'target_degree': np.array(np.repeat(mat.sum(axis=0).reshape((1, mat.shape[1])), \n",
    "                                            mat.shape[1], axis=0)).flatten(),\n",
    "        'indicator': indicator.flatten(),\n",
    "    })\n",
    "    .assign(\n",
    "        dgp_edges = lambda df: df.groupby(['source_degree', 'target_degree']).transform(sum)['indicator'],\n",
    "        num_dgp = lambda df: df.groupby(['source_degree', 'target_degree']).transform('count')['indicator'],\n",
    "        edge_prior = lambda df: df['dgp_edges'] / df['num_dgp']\n",
    "    )\n",
    "    .filter(items=['id_a', 'id_b', 'edge', 'edge_prior'])\n",
    "    .assign(\n",
    "        jaccard = np.array(analysis.jaccard(mat, degree_matrix)).flatten(),\n",
    "        preferential_attachment = analysis.preferential_attachment_index(mat).flatten(),\n",
    "        rwr = np.array(analysis.invertible_rwr(mat.toarray(), 0.25)).flatten(),\n",
    "        resource_allocation = analysis.resource_allocation_index(mat).flatten(),\n",
    "        adamic = analysis.adamic_adar_index(mat).flatten(),\n",
    "    )\n",
    "    .filter(items=['id_a', 'id_b', 'edge', 'edge_prior', 'adamic', 'jaccard', \n",
    "                   'preferential_attachment', 'resource_allocation', 'rwr'])\n",
    ")\n",
    "\n",
    "prior_df.to_csv('../../data/ppi_feature_values.tsv', sep='\\t', index=False)\n",
    "\n",
    "prior_df.head()"
   ]
  },
  {
   "cell_type": "code",
   "execution_count": 11,
   "metadata": {},
   "outputs": [
    {
     "data": {
      "text/html": [
       "<div>\n",
       "<style scoped>\n",
       "    .dataframe tbody tr th:only-of-type {\n",
       "        vertical-align: middle;\n",
       "    }\n",
       "\n",
       "    .dataframe tbody tr th {\n",
       "        vertical-align: top;\n",
       "    }\n",
       "\n",
       "    .dataframe thead th {\n",
       "        text-align: right;\n",
       "    }\n",
       "</style>\n",
       "<table border=\"1\" class=\"dataframe\">\n",
       "  <thead>\n",
       "    <tr style=\"text-align: right;\">\n",
       "      <th></th>\n",
       "      <th>feature</th>\n",
       "      <th>auroc</th>\n",
       "    </tr>\n",
       "  </thead>\n",
       "  <tbody>\n",
       "    <tr>\n",
       "      <th>0</th>\n",
       "      <td>adamic</td>\n",
       "      <td>0.884594</td>\n",
       "    </tr>\n",
       "    <tr>\n",
       "      <th>1</th>\n",
       "      <td>edge_prior</td>\n",
       "      <td>0.796931</td>\n",
       "    </tr>\n",
       "    <tr>\n",
       "      <th>2</th>\n",
       "      <td>jaccard</td>\n",
       "      <td>0.891467</td>\n",
       "    </tr>\n",
       "    <tr>\n",
       "      <th>3</th>\n",
       "      <td>preferential_attachment</td>\n",
       "      <td>0.799030</td>\n",
       "    </tr>\n",
       "    <tr>\n",
       "      <th>4</th>\n",
       "      <td>resource_allocation</td>\n",
       "      <td>0.900402</td>\n",
       "    </tr>\n",
       "  </tbody>\n",
       "</table>\n",
       "</div>"
      ],
      "text/plain": [
       "                   feature     auroc\n",
       "0                   adamic  0.884594\n",
       "1               edge_prior  0.796931\n",
       "2                  jaccard  0.891467\n",
       "3  preferential_attachment  0.799030\n",
       "4      resource_allocation  0.900402"
      ]
     },
     "execution_count": 11,
     "metadata": {},
     "output_type": "execute_result"
    }
   ],
   "source": [
    "auroc_df = (\n",
    "    prior_df\n",
    "    .filter(items=['edge', 'edge_prior', 'adamic', 'jaccard', 'preferential_attachment', \n",
    "                   'resource_allocation', 'rwr'])\n",
    "    .melt(id_vars=['edge'], var_name='feature')\n",
    "    .groupby('feature')\n",
    "    .apply(lambda df: sklearn.metrics.roc_auc_score(df['edge'].values, df['value'].values))\n",
    "    .reset_index()\n",
    "    .rename(columns={0: 'auroc'})\n",
    ")\n",
    "\n",
    "auroc_df.to_csv('../../data/unpermuted_auroc_value.tsv', sep='\\t', index=False)\n",
    "\n",
    "auroc_df.head()"
   ]
  },
  {
   "cell_type": "markdown",
   "metadata": {},
   "source": [
    "# Permuted values"
   ]
  },
  {
   "cell_type": "code",
   "execution_count": 7,
   "metadata": {},
   "outputs": [
    {
     "data": {
      "application/vnd.jupyter.widget-view+json": {
       "model_id": "eec4fb25ccdc4b5795519356fd565161",
       "version_major": 2,
       "version_minor": 0
      },
      "text/plain": [
       "HBox(children=(IntProgress(value=0), HTML(value='')))"
      ]
     },
     "metadata": {},
     "output_type": "display_data"
    },
    {
     "name": "stdout",
     "output_type": "stream",
     "text": [
      "\n"
     ]
    }
   ],
   "source": [
    "num_perms = 100\n",
    "\n",
    "true_edges = mat.toarray().flatten()\n",
    "perm_edges = edges.copy()\n",
    "\n",
    "rows = list()\n",
    "for i in tqdm.tnrange(num_perms):\n",
    "    perm_edges, _ = xswap.permute_edge_list(perm_edges, allow_self_loops=True, allow_antiparallel=False)\n",
    "    perm_mat = xswap.network_formats.edges_to_matrix(perm_edges, add_reverse_edges=True, shape=(4083, 4083))\n",
    "    \n",
    "    row = {    \n",
    "        'adamic': sklearn.metrics.roc_auc_score(\n",
    "            true_edges, analysis.adamic_adar_index(perm_mat).flatten()\n",
    "        ),\n",
    "        'jaccard': sklearn.metrics.roc_auc_score(\n",
    "            true_edges, np.array(analysis.jaccard(perm_mat, degree_matrix)).flatten()\n",
    "        ),\n",
    "        'preferential_attachment': sklearn.metrics.roc_auc_score(\n",
    "            true_edges, analysis.preferential_attachment_index(perm_mat).flatten()\n",
    "        ),\n",
    "        'resource_allocation': sklearn.metrics.roc_auc_score(\n",
    "            true_edges, analysis.resource_allocation_index(perm_mat).flatten()\n",
    "        ),\n",
    "        'rwr': sklearn.metrics.roc_auc_score(\n",
    "            true_edges, np.array(analysis.invertible_rwr(perm_mat.toarray(), 0.25)).flatten()\n",
    "        ),\n",
    "    }\n",
    "    rows.append(row)"
   ]
  },
  {
   "cell_type": "code",
   "execution_count": 8,
   "metadata": {},
   "outputs": [],
   "source": [
    "permuted_auroc_df = (\n",
    "    pd.DataFrame(rows)\n",
    ")\n",
    "\n",
    "permuted_auroc_df.to_csv('../../data/permuted_auroc_values.tsv', sep='\\t', index=False)\n",
    "\n",
    "permuted_auroc_df.head()"
   ]
  }
 ],
 "metadata": {
  "kernelspec": {
   "display_name": "Python [conda env:xswap-analysis] *",
   "language": "python",
   "name": "conda-env-xswap-analysis-py"
  },
  "language_info": {
   "codemirror_mode": {
    "name": "ipython",
    "version": 3
   },
   "file_extension": ".py",
   "mimetype": "text/x-python",
   "name": "python",
   "nbconvert_exporter": "python",
   "pygments_lexer": "ipython3",
   "version": "3.7.3"
  }
 },
 "nbformat": 4,
 "nbformat_minor": 2
}
