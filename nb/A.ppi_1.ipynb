{
 "cells": [
  {
   "cell_type": "code",
   "execution_count": 1,
   "metadata": {},
   "outputs": [],
   "source": [
    "import collections\n",
    "import itertools\n",
    "import tempfile\n",
    "import re\n",
    "\n",
    "import numpy as np\n",
    "import pandas as pd\n",
    "import requests\n",
    "import scipy.sparse\n",
    "import tqdm\n",
    "\n",
    "import xswap\n",
    "import analysis\n",
    "\n",
    "%matplotlib inline"
   ]
  },
  {
   "cell_type": "markdown",
   "metadata": {},
   "source": [
    "## STRING\n",
    "\n",
    "STRING gives HTTP 403 for `pd.read_table(url)`, but `requests.get` seems to work just fine."
   ]
  },
  {
   "cell_type": "code",
   "execution_count": 2,
   "metadata": {},
   "outputs": [
    {
     "data": {
      "text/html": [
       "<div>\n",
       "<style scoped>\n",
       "    .dataframe tbody tr th:only-of-type {\n",
       "        vertical-align: middle;\n",
       "    }\n",
       "\n",
       "    .dataframe tbody tr th {\n",
       "        vertical-align: top;\n",
       "    }\n",
       "\n",
       "    .dataframe thead th {\n",
       "        text-align: right;\n",
       "    }\n",
       "</style>\n",
       "<table border=\"1\" class=\"dataframe\">\n",
       "  <thead>\n",
       "    <tr style=\"text-align: right;\">\n",
       "      <th></th>\n",
       "      <th>uniprot_a</th>\n",
       "      <th>uniprot_b</th>\n",
       "    </tr>\n",
       "  </thead>\n",
       "  <tbody>\n",
       "    <tr>\n",
       "      <th>1</th>\n",
       "      <td>P84085</td>\n",
       "      <td>O43307</td>\n",
       "    </tr>\n",
       "    <tr>\n",
       "      <th>2</th>\n",
       "      <td>P84085</td>\n",
       "      <td>O75460</td>\n",
       "    </tr>\n",
       "  </tbody>\n",
       "</table>\n",
       "</div>"
      ],
      "text/plain": [
       "  uniprot_a uniprot_b\n",
       "1    P84085    O43307\n",
       "2    P84085    O75460"
      ]
     },
     "execution_count": 2,
     "metadata": {},
     "output_type": "execute_result"
    }
   ],
   "source": [
    "# Download PPI network from STRING\n",
    "string_url = 'https://stringdb-static.org/download/protein.links.v11.0/9606.protein.links.v11.0.txt.gz'\n",
    "with tempfile.NamedTemporaryFile() as tf:\n",
    "    res = requests.get(string_url)\n",
    "    tf.write(res.content)\n",
    "    string_df = pd.read_table(tf.name, compression='gzip', sep=' ')\n",
    "\n",
    "# Download Ensembl to UniProtKB identifier mappings\n",
    "mapping_url = 'https://string-db.org/mapping_files/uniprot/human.uniprot_2_string.2018.tsv.gz'\n",
    "with tempfile.NamedTemporaryFile() as tf:\n",
    "    res = requests.get(mapping_url)\n",
    "    tf.write(res.content)\n",
    "    mapping_df = pd.read_table(tf.name, compression='gzip', header=None)\n",
    "\n",
    "# Create dictionary with mappings\n",
    "map_to_uniprot = (\n",
    "    mapping_df\n",
    "    .assign(uniprot=lambda df: df[1].apply(lambda x: re.search('[A-Z0-9]+', x).group()))\n",
    "    .set_index(2)\n",
    "    .loc[:, 'uniprot']\n",
    "    .to_dict()\n",
    ")\n",
    "\n",
    "string_df = (\n",
    "    string_df\n",
    "    .assign(\n",
    "        uniprot_a=lambda df: df['protein1'].map(map_to_uniprot),\n",
    "        uniprot_b=lambda df: df['protein2'].map(map_to_uniprot),\n",
    "    )\n",
    "    .filter(items=['uniprot_a', 'uniprot_b'])\n",
    "    .dropna()\n",
    ")\n",
    "string_nodes = set(string_df.values.flatten())\n",
    "\n",
    "string_df.head(2)"
   ]
  },
  {
   "cell_type": "code",
   "execution_count": 3,
   "metadata": {},
   "outputs": [
    {
     "data": {
      "text/plain": [
       "19080"
      ]
     },
     "execution_count": 3,
     "metadata": {},
     "output_type": "execute_result"
    }
   ],
   "source": [
    "len(string_nodes)"
   ]
  },
  {
   "cell_type": "markdown",
   "metadata": {},
   "source": [
    "## High-throughput, systematic network"
   ]
  },
  {
   "cell_type": "code",
   "execution_count": 8,
   "metadata": {},
   "outputs": [
    {
     "data": {
      "text/html": [
       "<div>\n",
       "<style scoped>\n",
       "    .dataframe tbody tr th:only-of-type {\n",
       "        vertical-align: middle;\n",
       "    }\n",
       "\n",
       "    .dataframe tbody tr th {\n",
       "        vertical-align: top;\n",
       "    }\n",
       "\n",
       "    .dataframe thead th {\n",
       "        text-align: right;\n",
       "    }\n",
       "</style>\n",
       "<table border=\"1\" class=\"dataframe\">\n",
       "  <thead>\n",
       "    <tr style=\"text-align: right;\">\n",
       "      <th></th>\n",
       "      <th>uniprot_a</th>\n",
       "      <th>uniprot_b</th>\n",
       "    </tr>\n",
       "  </thead>\n",
       "  <tbody>\n",
       "    <tr>\n",
       "      <th>2211</th>\n",
       "      <td>A0A0R4J2E4</td>\n",
       "      <td>A0A024R0Y4</td>\n",
       "    </tr>\n",
       "    <tr>\n",
       "      <th>2214</th>\n",
       "      <td>O60573</td>\n",
       "      <td>A0A024R0Y4</td>\n",
       "    </tr>\n",
       "  </tbody>\n",
       "</table>\n",
       "</div>"
      ],
      "text/plain": [
       "       uniprot_a   uniprot_b\n",
       "2211  A0A0R4J2E4  A0A024R0Y4\n",
       "2214      O60573  A0A024R0Y4"
      ]
     },
     "execution_count": 8,
     "metadata": {},
     "output_type": "execute_result"
    }
   ],
   "source": [
    "ht_1_url = 'http://interactome.baderlab.org/data/Raul-Vidal(Nature_2005).psi'\n",
    "ht_2_url = 'http://interactome.baderlab.org/data/Rolland-Vidal(Cell_2014).psi'\n",
    "\n",
    "ht_df = pd.concat([pd.read_table(ht_1_url), pd.read_table(ht_2_url)], ignore_index=True)\n",
    "\n",
    "ht_edges_df = (\n",
    "    ht_df\n",
    "    .rename(columns={\n",
    "        'Unique identifier for interactor A': 'ida', \n",
    "        'Unique identifier for interactor B': 'idb'})\n",
    "    .filter(items=['ida', 'idb',])\n",
    "    .query('ida != \"-\" and idb != \"-\"')\n",
    "    .assign(\n",
    "        uniprot_a = lambda df: df['ida'].apply(lambda x: re.search('(?<=uniprotkb:)[0-9A-Z]+', x).group()),\n",
    "        uniprot_b = lambda df: df['idb'].apply(lambda x: re.search('(?<=uniprotkb:)[0-9A-Z]+', x).group())\n",
    "    )\n",
    "    .filter(items=['uniprot_a', 'uniprot_b',])\n",
    "    .drop_duplicates()\n",
    ")\n",
    "ht_nodes = set(ht_edges_df.loc[:, 'uniprot_a':'uniprot_b'].values.flatten())\n",
    "\n",
    "ht_edges_df.head(2)"
   ]
  },
  {
   "cell_type": "code",
   "execution_count": 9,
   "metadata": {},
   "outputs": [
    {
     "data": {
      "text/plain": [
       "4517"
      ]
     },
     "execution_count": 9,
     "metadata": {},
     "output_type": "execute_result"
    }
   ],
   "source": [
    "len(ht_nodes)"
   ]
  },
  {
   "cell_type": "markdown",
   "metadata": {},
   "source": [
    "## Combine data"
   ]
  },
  {
   "cell_type": "code",
   "execution_count": 10,
   "metadata": {},
   "outputs": [
    {
     "data": {
      "text/plain": [
       "4083"
      ]
     },
     "execution_count": 10,
     "metadata": {},
     "output_type": "execute_result"
    }
   ],
   "source": [
    "shared_nodes = sorted(string_nodes.intersection(ht_nodes))\n",
    "source, target = zip(*itertools.product(shared_nodes, shared_nodes))\n",
    "\n",
    "len(shared_nodes)"
   ]
  },
  {
   "cell_type": "raw",
   "metadata": {},
   "source": [
    "edges_df = (\n",
    "    pd.DataFrame\n",
    "    .from_dict({\n",
    "        'uniprot_a': source,\n",
    "        'uniprot_b': target,\n",
    "    })\n",
    "    .merge(\n",
    "        string_df\n",
    "        .assign(string=1),\n",
    "        on=['uniprot_a', 'uniprot_b'],\n",
    "        how='left',\n",
    "    )\n",
    "    .merge(\n",
    "        ht_edges_df\n",
    "        .assign(ht_2014=1),\n",
    "        on=['uniprot_a', 'uniprot_b'],\n",
    "        how='left',\n",
    "    )\n",
    "    .fillna(0)\n",
    ")\n",
    "edges_df.to_csv('edges_df.tsv.gz', sep='\\t', compression='gzip', index=False)\n",
    "edges_df.head(2)"
   ]
  }
 ],
 "metadata": {
  "kernelspec": {
   "display_name": "Python [conda env:xswap-analysis] *",
   "language": "python",
   "name": "conda-env-xswap-analysis-py"
  },
  "language_info": {
   "codemirror_mode": {
    "name": "ipython",
    "version": 3
   },
   "file_extension": ".py",
   "mimetype": "text/x-python",
   "name": "python",
   "nbconvert_exporter": "python",
   "pygments_lexer": "ipython3",
   "version": "3.6.6"
  }
 },
 "nbformat": 4,
 "nbformat_minor": 2
}
