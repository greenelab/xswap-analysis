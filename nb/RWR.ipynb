{
 "cells": [
  {
   "cell_type": "code",
   "execution_count": 1,
   "metadata": {},
   "outputs": [],
   "source": [
    "import hetmatpy.hetmat\n",
    "import numpy as np\n",
    "import pandas as pd\n",
    "import scipy.sparse\n",
    "import sklearn.metrics\n",
    "import tqdm"
   ]
  },
  {
   "cell_type": "code",
   "execution_count": 2,
   "metadata": {},
   "outputs": [],
   "source": [
    "def normalize(matrix):\n",
    "    # Normalize adjacency matrix\n",
    "    was_sparse = False\n",
    "    if scipy.sparse.issparse(matrix):\n",
    "        was_sparse = True\n",
    "        matrix = matrix.toarray()\n",
    "    row_sums = (\n",
    "        matrix\n",
    "        .sum(axis=1)\n",
    "        .reshape(matrix.shape[0], 1)\n",
    "    )\n",
    "    row_sums[row_sums == 0] = 1\n",
    "    normalized = np.divide(matrix, row_sums)\n",
    "    if was_sparse:\n",
    "        normalized = scipy.sparse.csc_matrix(normalized)\n",
    "    return normalized\n",
    "\n",
    "    \n",
    "def rwr(normalized_adjacency, start_index, restart_prob, convergence_threshold=1e-6):\n",
    "    # p(t+1) = (1-r) * W @ p(t) + r * p(0)\n",
    "    # Setup start position\n",
    "    p_t = np.zeros((1, normalized_adjacency.shape[0]))\n",
    "    p_t[0, start_index] = 1\n",
    "    p_0 = p_t.copy()\n",
    "    \n",
    "    # Iterate RWR until converge\n",
    "    norm_difference = 1\n",
    "    while norm_difference > convergence_threshold:\n",
    "        p_t_1 = (1 - restart_prob) * p_t @ normalized_adjacency + restart_prob * p_0\n",
    "        norm_difference = np.linalg.norm(p_t_1 - p_t, 1)\n",
    "        p_t = p_t_1\n",
    "    return p_t\n",
    "\n",
    "\n",
    "def all_pairs_rwr(adjacency, restart_prob, convergence_threshold=1e-6):\n",
    "    normalized_adjacency = normalize(adjacency)\n",
    "    \n",
    "    rwr_matrix = np.zeros(adjacency.shape)\n",
    "    \n",
    "    num_nodes = adjacency.shape[0]\n",
    "    for seed_index in range(num_nodes):\n",
    "        rwr_row = rwr(normalized_adjacency, seed_index, restart_prob, \n",
    "            convergence_threshold=convergence_threshold)\n",
    "        rwr_matrix[seed_index, :] = rwr_row\n",
    "    return rwr_matrix"
   ]
  },
  {
   "cell_type": "code",
   "execution_count": 3,
   "metadata": {},
   "outputs": [],
   "source": [
    "hetmat = hetmatpy.hetmat.HetMat('../data/ppi_hetmat/')"
   ]
  },
  {
   "cell_type": "markdown",
   "metadata": {},
   "source": [
    "### 1. Compute edge priors"
   ]
  },
  {
   "cell_type": "code",
   "execution_count": 4,
   "metadata": {},
   "outputs": [
    {
     "name": "stdout",
     "output_type": "stream",
     "text": [
      "CPU times: user 23.1 s, sys: 17.6 s, total: 40.6 s\n",
      "Wall time: 40.6 s\n"
     ]
    }
   ],
   "source": [
    "%%time\n",
    "sum_perm_edges = None\n",
    "\n",
    "for name, permat in hetmat.permutations.items():\n",
    "    source, target, perm_adj = permat.metaedge_to_adjacency_matrix('PpP', dense_threshold=0)\n",
    "    \n",
    "    if sum_perm_edges is None:\n",
    "        sum_perm_edges = perm_adj\n",
    "    else:\n",
    "        sum_perm_edges += perm_adj\n",
    "\n",
    "edge_prior = sum_perm_edges / len(hetmat.permutations)\n",
    "\n",
    "np.save('../data/edge_predict/prior_edge.npy', edge_prior)"
   ]
  },
  {
   "cell_type": "markdown",
   "metadata": {},
   "source": [
    "### 2. Compute RWR on the network"
   ]
  },
  {
   "cell_type": "code",
   "execution_count": 5,
   "metadata": {},
   "outputs": [
    {
     "name": "stdout",
     "output_type": "stream",
     "text": [
      "CPU times: user 7.2 s, sys: 144 ms, total: 7.34 s\n",
      "Wall time: 7.34 s\n"
     ]
    }
   ],
   "source": [
    "%%time\n",
    "\n",
    "source, target, pruned_matrix = hetmat.metaedge_to_adjacency_matrix('PpP', dense_threshold=1)\n",
    "ppi_rwr = all_pairs_rwr(pruned_matrix, 0.5)\n",
    "\n",
    "np.save('../data/edge_predict/RWR_PpP.npy', ppi_rwr_sparse)"
   ]
  },
  {
   "cell_type": "markdown",
   "metadata": {},
   "source": [
    "### 3. Compute RWR on permuted networks"
   ]
  },
  {
   "cell_type": "code",
   "execution_count": 6,
   "metadata": {},
   "outputs": [
    {
     "name": "stderr",
     "output_type": "stream",
     "text": [
      "100%|██████████| 1000/1000 [1:34:01<00:00,  5.64s/it]\n"
     ]
    }
   ],
   "source": [
    "sum_perm_rwr = None\n",
    "for name, permat in tqdm.tqdm(hetmat.permutations.items()):\n",
    "    source, target, perm_adj = permat.metaedge_to_adjacency_matrix('PpP', dense_threshold=1)\n",
    "    rwr_mat = all_pairs_rwr(perm_adj, 0.5)\n",
    "    \n",
    "    if sum_perm_rwr is None:\n",
    "        sum_perm_rwr = rwr_mat\n",
    "    else:\n",
    "        sum_perm_rwr += rwr_mat\n",
    "\n",
    "mean_rwr = sum_perm_rwr / len(hetmat.permutations)\n",
    "np.save('../data/edge_predict/prior_RWR.npy', mean_rwr)"
   ]
  },
  {
   "cell_type": "markdown",
   "metadata": {},
   "source": [
    "### 4. Combine data"
   ]
  },
  {
   "cell_type": "code",
   "execution_count": 7,
   "metadata": {},
   "outputs": [],
   "source": [
    "def get_prior(pandas_row, prior_matrix):\n",
    "    source_name, target_name = pandas_row[:2]\n",
    "    source_id = source.index(source_name)\n",
    "    target_id = target.index(target_name)\n",
    "    return prior_matrix[source_id, target_id]"
   ]
  },
  {
   "cell_type": "code",
   "execution_count": 10,
   "metadata": {},
   "outputs": [],
   "source": [
    "train_df = pd.read_table('../data/edge_predict/train_conditionals.tsv')\n",
    "\n",
    "train_df['rwr'] = train_df.apply(lambda row: get_prior(row, ppi_rwr), axis=1)\n",
    "train_df['edge_prior'] = train_df.apply(lambda row: get_prior(row, edge_prior), axis=1)\n",
    "train_df['rwr_prior'] = train_df.apply(lambda row: get_prior(row, mean_rwr), axis=1)"
   ]
  },
  {
   "cell_type": "code",
   "execution_count": 11,
   "metadata": {},
   "outputs": [
    {
     "data": {
      "text/html": [
       "<div>\n",
       "<style scoped>\n",
       "    .dataframe tbody tr th:only-of-type {\n",
       "        vertical-align: middle;\n",
       "    }\n",
       "\n",
       "    .dataframe tbody tr th {\n",
       "        vertical-align: top;\n",
       "    }\n",
       "\n",
       "    .dataframe thead th {\n",
       "        text-align: right;\n",
       "    }\n",
       "</style>\n",
       "<table border=\"1\" class=\"dataframe\">\n",
       "  <thead>\n",
       "    <tr style=\"text-align: right;\">\n",
       "      <th></th>\n",
       "      <th>source</th>\n",
       "      <th>target</th>\n",
       "      <th>jaccard</th>\n",
       "      <th>cn</th>\n",
       "      <th>dwpc_2</th>\n",
       "      <th>dwpc_3</th>\n",
       "      <th>edge_original</th>\n",
       "      <th>edge_pruned</th>\n",
       "      <th>lr_confidence</th>\n",
       "      <th>lr_prob</th>\n",
       "      <th>rwr</th>\n",
       "      <th>edge_prior</th>\n",
       "      <th>rwr_prior</th>\n",
       "    </tr>\n",
       "  </thead>\n",
       "  <tbody>\n",
       "    <tr>\n",
       "      <th>0</th>\n",
       "      <td>2236</td>\n",
       "      <td>2237</td>\n",
       "      <td>0.0</td>\n",
       "      <td>0</td>\n",
       "      <td>0.000000</td>\n",
       "      <td>0.000000</td>\n",
       "      <td>1.0</td>\n",
       "      <td>0.0</td>\n",
       "      <td>-0.514505</td>\n",
       "      <td>0.374138</td>\n",
       "      <td>0.000000</td>\n",
       "      <td>0.000</td>\n",
       "      <td>0.000000</td>\n",
       "    </tr>\n",
       "    <tr>\n",
       "      <th>1</th>\n",
       "      <td>2774</td>\n",
       "      <td>2302</td>\n",
       "      <td>0.0</td>\n",
       "      <td>0</td>\n",
       "      <td>0.000000</td>\n",
       "      <td>0.000000</td>\n",
       "      <td>1.0</td>\n",
       "      <td>0.0</td>\n",
       "      <td>-0.514505</td>\n",
       "      <td>0.374138</td>\n",
       "      <td>0.000000</td>\n",
       "      <td>0.000</td>\n",
       "      <td>0.000000</td>\n",
       "    </tr>\n",
       "    <tr>\n",
       "      <th>2</th>\n",
       "      <td>2407</td>\n",
       "      <td>450</td>\n",
       "      <td>1.0</td>\n",
       "      <td>1</td>\n",
       "      <td>0.166667</td>\n",
       "      <td>0.000000</td>\n",
       "      <td>1.0</td>\n",
       "      <td>0.0</td>\n",
       "      <td>6.157540</td>\n",
       "      <td>0.997887</td>\n",
       "      <td>0.023882</td>\n",
       "      <td>0.000</td>\n",
       "      <td>0.000044</td>\n",
       "    </tr>\n",
       "    <tr>\n",
       "      <th>3</th>\n",
       "      <td>808</td>\n",
       "      <td>16</td>\n",
       "      <td>0.0</td>\n",
       "      <td>0</td>\n",
       "      <td>0.000000</td>\n",
       "      <td>0.002594</td>\n",
       "      <td>1.0</td>\n",
       "      <td>0.0</td>\n",
       "      <td>1.066292</td>\n",
       "      <td>0.743891</td>\n",
       "      <td>0.000206</td>\n",
       "      <td>0.002</td>\n",
       "      <td>0.000248</td>\n",
       "    </tr>\n",
       "    <tr>\n",
       "      <th>4</th>\n",
       "      <td>1156</td>\n",
       "      <td>1975</td>\n",
       "      <td>0.0</td>\n",
       "      <td>0</td>\n",
       "      <td>0.000000</td>\n",
       "      <td>0.000573</td>\n",
       "      <td>1.0</td>\n",
       "      <td>0.0</td>\n",
       "      <td>-0.165037</td>\n",
       "      <td>0.458834</td>\n",
       "      <td>0.000043</td>\n",
       "      <td>0.005</td>\n",
       "      <td>0.000246</td>\n",
       "    </tr>\n",
       "  </tbody>\n",
       "</table>\n",
       "</div>"
      ],
      "text/plain": [
       "   source  target  jaccard  cn    dwpc_2    dwpc_3  edge_original  \\\n",
       "0    2236    2237      0.0   0  0.000000  0.000000            1.0   \n",
       "1    2774    2302      0.0   0  0.000000  0.000000            1.0   \n",
       "2    2407     450      1.0   1  0.166667  0.000000            1.0   \n",
       "3     808      16      0.0   0  0.000000  0.002594            1.0   \n",
       "4    1156    1975      0.0   0  0.000000  0.000573            1.0   \n",
       "\n",
       "   edge_pruned  lr_confidence   lr_prob       rwr  edge_prior  rwr_prior  \n",
       "0          0.0      -0.514505  0.374138  0.000000       0.000   0.000000  \n",
       "1          0.0      -0.514505  0.374138  0.000000       0.000   0.000000  \n",
       "2          0.0       6.157540  0.997887  0.023882       0.000   0.000044  \n",
       "3          0.0       1.066292  0.743891  0.000206       0.002   0.000248  \n",
       "4          0.0      -0.165037  0.458834  0.000043       0.005   0.000246  "
      ]
     },
     "execution_count": 11,
     "metadata": {},
     "output_type": "execute_result"
    }
   ],
   "source": [
    "train_df.head()"
   ]
  },
  {
   "cell_type": "markdown",
   "metadata": {},
   "source": [
    "### 5. Compute and compare AUROC scores"
   ]
  },
  {
   "cell_type": "code",
   "execution_count": 12,
   "metadata": {},
   "outputs": [
    {
     "data": {
      "text/plain": [
       "0.7363337863363567"
      ]
     },
     "execution_count": 12,
     "metadata": {},
     "output_type": "execute_result"
    }
   ],
   "source": [
    "sklearn.metrics.roc_auc_score(train_df['edge_original'], train_df['rwr'])"
   ]
  },
  {
   "cell_type": "code",
   "execution_count": 13,
   "metadata": {},
   "outputs": [
    {
     "data": {
      "text/plain": [
       "0.653279021302566"
      ]
     },
     "execution_count": 13,
     "metadata": {},
     "output_type": "execute_result"
    }
   ],
   "source": [
    "sklearn.metrics.roc_auc_score(train_df['edge_original'], train_df['rwr_prior'])"
   ]
  }
 ],
 "metadata": {
  "kernelspec": {
   "display_name": "Python [conda env:xswap-analysis]",
   "language": "python",
   "name": "conda-env-xswap-analysis-py"
  },
  "language_info": {
   "codemirror_mode": {
    "name": "ipython",
    "version": 3
   },
   "file_extension": ".py",
   "mimetype": "text/x-python",
   "name": "python",
   "nbconvert_exporter": "python",
   "pygments_lexer": "ipython3",
   "version": "3.6.6"
  }
 },
 "nbformat": 4,
 "nbformat_minor": 2
}
