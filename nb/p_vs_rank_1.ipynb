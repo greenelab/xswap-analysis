{
 "cells": [
  {
   "cell_type": "code",
   "execution_count": 1,
   "metadata": {},
   "outputs": [],
   "source": [
    "import itertools\n",
    "import tempfile\n",
    "\n",
    "import numpy as np\n",
    "import pandas as pd\n",
    "import requests\n",
    "import scipy.sparse\n",
    "import tqdm\n",
    "import xswap\n",
    "\n",
    "import analysis"
   ]
  },
  {
   "cell_type": "markdown",
   "metadata": {},
   "source": [
    "### 01. Download graphs"
   ]
  },
  {
   "cell_type": "code",
   "execution_count": 2,
   "metadata": {},
   "outputs": [],
   "source": [
    "raul_url = 'http://interactome.baderlab.org/data/Raul-Vidal(Nature_2005).psi'\n",
    "lit_url = 'http://interactome.baderlab.org/data/LitBM-17.psi'\n",
    "\n",
    "with tempfile.NamedTemporaryFile() as tf:\n",
    "    res = requests.get(raul_url)\n",
    "    tf.write(res.content)\n",
    "    raul_df = pd.read_table(tf.name)\n",
    "\n",
    "with tempfile.NamedTemporaryFile() as tf:\n",
    "    res = requests.get(lit_url)\n",
    "    tf.write(res.content)\n",
    "    lit_df = pd.read_table(tf.name, names=raul_df.columns)"
   ]
  },
  {
   "cell_type": "markdown",
   "metadata": {},
   "source": [
    "### 02. Extract edges"
   ]
  },
  {
   "cell_type": "code",
   "execution_count": 3,
   "metadata": {},
   "outputs": [],
   "source": [
    "raul_edges_df = (\n",
    "    raul_df\n",
    "    .rename(columns={\n",
    "        'Unique identifier for interactor A': 'id_a',\n",
    "        'Unique identifier for interactor B': 'id_b',\n",
    "    })\n",
    "    .loc[:, 'id_a':'id_b']\n",
    "    .query('id_a != \"-\" and id_b != \"-\"')\n",
    ")\n",
    "\n",
    "raul_nodes_set = set(raul_edges_df['id_a']).union(set(raul_edges_df['id_b']))\n",
    "raul_str_edges = list(set(raul_edges_df.apply(tuple, axis=1).tolist()))\n",
    "raul_edges, raul_map, _ = xswap.preprocessing.map_str_edges(raul_str_edges, \n",
    "                                                            bipartite=False)\n",
    "\n",
    "lit_str_edges = list(set((\n",
    "    lit_df\n",
    "    .rename(columns={\n",
    "        'Unique identifier for interactor A': 'id_a',\n",
    "        'Unique identifier for interactor B': 'id_b',\n",
    "    })\n",
    "    .loc[:, 'id_a':'id_b']\n",
    "    .query('id_a != \"-\" and id_b != \"-\"')\n",
    "    .loc[lambda df: df['id_a'].apply(lambda x: x in raul_nodes_set) \n",
    "                    & df['id_b'].apply(lambda x: x in raul_nodes_set)]\n",
    "    .apply(tuple, axis=1)\n",
    "    .tolist()\n",
    ")))\n",
    "lit_edges = list(map(lambda tup: (raul_map[tup[0]], raul_map[tup[1]]), \n",
    "                     lit_str_edges))"
   ]
  },
  {
   "cell_type": "markdown",
   "metadata": {},
   "source": [
    "### 03. Construct matrices and DataFrames"
   ]
  },
  {
   "cell_type": "code",
   "execution_count": 4,
   "metadata": {},
   "outputs": [],
   "source": [
    "def edges_to_matrix(edges, n_nodes):\n",
    "    sp = scipy.sparse.coo_matrix((np.ones(len(edges)), zip(*edges)), \n",
    "                                 shape=(n_nodes, n_nodes), dtype=int)\n",
    "    return sp.toarray()"
   ]
  },
  {
   "cell_type": "code",
   "execution_count": 5,
   "metadata": {},
   "outputs": [],
   "source": [
    "source_id, target_id = zip(*list(\n",
    "    itertools.product(\n",
    "        range(len(raul_map)), range(len(raul_map))\n",
    "    )\n",
    "))\n",
    "\n",
    "raul_adj = edges_to_matrix(raul_edges, len(raul_map))\n",
    "lit_adj = edges_to_matrix(lit_edges, len(raul_map))\n",
    "\n",
    "rwr_mat = analysis.all_pairs_rwr(raul_adj, restart_prob=0.25)\n",
    "\n",
    "df = (\n",
    "    pd.DataFrame\n",
    "    .from_dict({\n",
    "        'source_id': source_id, \n",
    "        'target_id': target_id,\n",
    "        'raul_edge': raul_adj.flatten(),\n",
    "        'lit_edge': lit_adj.flatten(),\n",
    "        'rwr': rwr_mat.flatten(),\n",
    "    })\n",
    "    .assign(rank=lambda df: df.loc[:, 'rwr'].rank(method='min', ascending=False))\n",
    ")"
   ]
  },
  {
   "cell_type": "markdown",
   "metadata": {},
   "source": [
    "### 04. Compute p-values through permutation"
   ]
  },
  {
   "cell_type": "code",
   "execution_count": 6,
   "metadata": {},
   "outputs": [
    {
     "name": "stderr",
     "output_type": "stream",
     "text": [
      "100%|██████████| 1000/1000 [2:07:56<00:00,  7.68s/it] \n"
     ]
    }
   ],
   "source": [
    "indicator_mat = np.zeros_like(raul_adj, dtype=int)\n",
    "\n",
    "n_perms = 1000\n",
    "\n",
    "permuted_edges = list(set([(min(edge), max(edge)) for edge in raul_edges.copy()]))\n",
    "\n",
    "for i in tqdm.trange(n_perms):\n",
    "    permuted_edges, _ = xswap.permute_edge_list(\n",
    "        permuted_edges, allow_self_loops=True, allow_antiparallel=False, seed=i)\n",
    "    permuted_adj = edges_to_matrix(permuted_edges, len(raul_map))\n",
    "    perm_rwr = analysis.all_pairs_rwr(permuted_adj, restart_prob=0.25)\n",
    "    indicator_mat += (perm_rwr > rwr_mat)\n",
    "\n",
    "indicator_mat = indicator_mat / n_perms\n",
    "\n",
    "df['p_value'] = indicator_mat.flatten()\n",
    "df['p_value_rank'] = df['p_value'].rank(method='min', ascending=True)"
   ]
  },
  {
   "cell_type": "code",
   "execution_count": 8,
   "metadata": {},
   "outputs": [],
   "source": [
    "df.to_csv('p_vs_rank.tsv.gz', sep='\\t', index=False, compression='gzip')"
   ]
  }
 ],
 "metadata": {
  "kernelspec": {
   "display_name": "Python [conda env:xswap-analysis]",
   "language": "python",
   "name": "conda-env-xswap-analysis-py"
  },
  "language_info": {
   "codemirror_mode": {
    "name": "ipython",
    "version": 3
   },
   "file_extension": ".py",
   "mimetype": "text/x-python",
   "name": "python",
   "nbconvert_exporter": "python",
   "pygments_lexer": "ipython3",
   "version": "3.6.6"
  }
 },
 "nbformat": 4,
 "nbformat_minor": 2
}
