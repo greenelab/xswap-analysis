{
 "cells": [
  {
   "cell_type": "code",
   "execution_count": 1,
   "metadata": {},
   "outputs": [],
   "source": [
    "import pathlib\n",
    "\n",
    "import hetmatpy.hetmat\n",
    "import matplotlib.pyplot as plt\n",
    "import numpy as np\n",
    "import pandas as pd\n",
    "import scipy.sparse\n",
    "import seaborn as sns\n",
    "import sklearn.metrics\n",
    "import tqdm\n",
    "\n",
    "import analysis\n",
    "\n",
    "%matplotlib inline"
   ]
  },
  {
   "cell_type": "code",
   "execution_count": 2,
   "metadata": {},
   "outputs": [],
   "source": [
    "restart_prob = 0.25"
   ]
  },
  {
   "cell_type": "code",
   "execution_count": 3,
   "metadata": {},
   "outputs": [],
   "source": [
    "data_path = pathlib.Path('../data/edge_predict/')\n",
    "data_path.mkdir(parents=True, exist_ok=True)\n",
    "\n",
    "hetmat = hetmatpy.hetmat.HetMat('../data/ppi_hetmat/')"
   ]
  },
  {
   "cell_type": "markdown",
   "metadata": {},
   "source": [
    "### 1. Compute edge priors"
   ]
  },
  {
   "cell_type": "code",
   "execution_count": 4,
   "metadata": {},
   "outputs": [
    {
     "name": "stdout",
     "output_type": "stream",
     "text": [
      "CPU times: user 23.5 s, sys: 16.4 s, total: 39.9 s\n",
      "Wall time: 39.9 s\n"
     ]
    }
   ],
   "source": [
    "%%time\n",
    "sum_perm_edges = None\n",
    "\n",
    "for name, permat in hetmat.permutations.items():\n",
    "    source, target, perm_adj = permat.metaedge_to_adjacency_matrix('PpP', dense_threshold=0)\n",
    "    \n",
    "    if sum_perm_edges is None:\n",
    "        sum_perm_edges = perm_adj\n",
    "    else:\n",
    "        sum_perm_edges += perm_adj\n",
    "\n",
    "edge_prior = sum_perm_edges / len(hetmat.permutations)\n",
    "\n",
    "np.save(data_path.joinpath('prior_edge.npy'), edge_prior)"
   ]
  },
  {
   "cell_type": "markdown",
   "metadata": {},
   "source": [
    "### 2. Compute RWR on the network"
   ]
  },
  {
   "cell_type": "code",
   "execution_count": 5,
   "metadata": {},
   "outputs": [
    {
     "name": "stdout",
     "output_type": "stream",
     "text": [
      "CPU times: user 11.9 s, sys: 139 ms, total: 12 s\n",
      "Wall time: 12 s\n"
     ]
    }
   ],
   "source": [
    "%%time\n",
    "\n",
    "source, target, pruned_matrix = hetmat.metaedge_to_adjacency_matrix('PpP', dense_threshold=1)\n",
    "ppi_rwr = analysis.all_pairs_rwr(pruned_matrix, restart_prob)\n",
    "\n",
    "np.save(data_path.joinpath('PpP_RWR.npy'), ppi_rwr)"
   ]
  },
  {
   "cell_type": "markdown",
   "metadata": {},
   "source": [
    "### 3. Compute RWR on permuted networks\n",
    "\n",
    "For speed, use only a subset (100 / 1000) permuted networks"
   ]
  },
  {
   "cell_type": "code",
   "execution_count": 6,
   "metadata": {},
   "outputs": [
    {
     "name": "stderr",
     "output_type": "stream",
     "text": [
      "100%|██████████| 1000/1000 [1:47:14<00:00,  6.43s/it]\n"
     ]
    }
   ],
   "source": [
    "subset_size = 1000\n",
    "\n",
    "sum_perm_rwr = None\n",
    "for name, permat in tqdm.tqdm(list(hetmat.permutations.items())[:subset_size]):\n",
    "    source, target, perm_adj = permat.metaedge_to_adjacency_matrix('PpP', dense_threshold=1)\n",
    "    rwr_mat = analysis.all_pairs_rwr(perm_adj, restart_prob)\n",
    "    \n",
    "    if sum_perm_rwr is None:\n",
    "        sum_perm_rwr = rwr_mat\n",
    "    else:\n",
    "        sum_perm_rwr += rwr_mat\n",
    "\n",
    "mean_rwr = sum_perm_rwr / subset_size\n",
    "np.save(data_path.joinpath('prior_RWR.npy'), mean_rwr)"
   ]
  },
  {
   "cell_type": "markdown",
   "metadata": {},
   "source": [
    "### 4. Flatten features and labels and scale features"
   ]
  },
  {
   "cell_type": "code",
   "execution_count": 7,
   "metadata": {},
   "outputs": [],
   "source": [
    "original_edge = hetmat.metaedge_to_adjacency_matrix('PiP', dense_threshold=0)[2].flatten()\n",
    "\n",
    "edge = hetmat.metaedge_to_adjacency_matrix('PpP', dense_threshold=0)[2].flatten()\n",
    "rwr = ppi_rwr.flatten()\n",
    "perm_rwr = mean_rwr.flatten()\n",
    "prior = edge_prior.flatten()"
   ]
  },
  {
   "cell_type": "code",
   "execution_count": 8,
   "metadata": {},
   "outputs": [],
   "source": [
    "np.savez_compressed(data_path.joinpath('pruned_features.npz'), \n",
    "                    original=original_edge, \n",
    "                    pruned_edge=edge,\n",
    "                    rwr=rwr,\n",
    "                    p_rwr=perm_rwr,\n",
    "                    edge_prior=prior,\n",
    ")"
   ]
  }
 ],
 "metadata": {
  "kernelspec": {
   "display_name": "Python [conda env:xswap-analysis]",
   "language": "python",
   "name": "conda-env-xswap-analysis-py"
  },
  "language_info": {
   "codemirror_mode": {
    "name": "ipython",
    "version": 3
   },
   "file_extension": ".py",
   "mimetype": "text/x-python",
   "name": "python",
   "nbconvert_exporter": "python",
   "pygments_lexer": "ipython3",
   "version": "3.6.6"
  }
 },
 "nbformat": 4,
 "nbformat_minor": 2
}
