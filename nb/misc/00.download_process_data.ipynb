{
 "cells": [
  {
   "cell_type": "code",
   "execution_count": 1,
   "metadata": {},
   "outputs": [],
   "source": [
    "import io\n",
    "import pathlib\n",
    "import tarfile\n",
    "\n",
    "import requests\n",
    "import xswap"
   ]
  },
  {
   "cell_type": "markdown",
   "metadata": {},
   "source": [
    "### Download the graph from KONECT"
   ]
  },
  {
   "cell_type": "code",
   "execution_count": 2,
   "metadata": {},
   "outputs": [],
   "source": [
    "ppi_url = 'http://konect.cc/files/download.tsv.maayan-vidal.tar.bz2'\n",
    "response = requests.get(ppi_url)\n",
    "\n",
    "tar = tarfile.open(fileobj=io.BytesIO(response.content), mode='r:bz2')\n",
    "graph_bytes = tar.extractfile(tar.getmember('maayan-vidal/out.maayan-vidal'))\n",
    "\n",
    "unprocessed_filename = pathlib.Path('../data/unprocessed_ppi.txt')\n",
    "unprocessed_filename.parent.mkdir(parents=True, exist_ok=True)\n",
    "with open(unprocessed_filename, 'wb') as f:\n",
    "    f.write(graph_bytes.read())"
   ]
  },
  {
   "cell_type": "markdown",
   "metadata": {},
   "source": [
    "### Process the graph using `xswap.preprocessing`"
   ]
  },
  {
   "cell_type": "code",
   "execution_count": 3,
   "metadata": {},
   "outputs": [],
   "source": [
    "str_edges = xswap.preprocessing.load_str_edges(unprocessed_filename, node_delim='\\t')\n",
    "\n",
    "mapped_edges, source_map, target_map = xswap.preprocessing.map_str_edges(str_edges, bipartite=False)\n",
    "ordered_edges = list(map(tuple, map(sorted, mapped_edges)))\n",
    "\n",
    "mapping_file = pathlib.Path('../data/ppi_mapping.csv')\n",
    "xswap.preprocessing.write_mapping(mapping_file, source_map)\n",
    "\n",
    "processed_edges_filename = pathlib.Path('../data/ppi_edges.csv')\n",
    "xswap.preprocessing.write_edges(processed_edges_filename, ordered_edges)"
   ]
  }
 ],
 "metadata": {
  "kernelspec": {
   "display_name": "Python [conda env:xswap-analysis]",
   "language": "python",
   "name": "conda-env-xswap-analysis-py"
  },
  "language_info": {
   "codemirror_mode": {
    "name": "ipython",
    "version": 3
   },
   "file_extension": ".py",
   "mimetype": "text/x-python",
   "name": "python",
   "nbconvert_exporter": "python",
   "pygments_lexer": "ipython3",
   "version": "3.6.6"
  }
 },
 "nbformat": 4,
 "nbformat_minor": 2
}
