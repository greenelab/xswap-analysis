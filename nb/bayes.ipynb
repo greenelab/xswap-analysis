{
 "cells": [
  {
   "cell_type": "code",
   "execution_count": 1,
   "metadata": {},
   "outputs": [],
   "source": [
    "import tempfile\n",
    "\n",
    "import matplotlib.pyplot as plt\n",
    "import numpy as np\n",
    "import pandas as pd\n",
    "import requests\n",
    "import scipy.sparse\n",
    "import seaborn as sns\n",
    "import tqdm\n",
    "import xswap\n",
    "\n",
    "%matplotlib inline"
   ]
  },
  {
   "cell_type": "code",
   "execution_count": 2,
   "metadata": {},
   "outputs": [],
   "source": [
    "with tempfile.NamedTemporaryFile() as tf:\n",
    "    res = requests.get('https://raw.githubusercontent.com/greenelab/xswap/'\n",
    "                       'testing-data/graphs/GiG_edges_reduced.txt')\n",
    "    tf.write(res.content)\n",
    "    edges = xswap.preprocessing.load_processed_edges(tf.name)\n",
    "\n",
    "edges = list(sorted(set(map(tuple, map(sorted, edges)))))"
   ]
  },
  {
   "cell_type": "code",
   "execution_count": 3,
   "metadata": {},
   "outputs": [],
   "source": [
    "edges = [edge for edge in edges if edge[1] < 1000]"
   ]
  },
  {
   "cell_type": "code",
   "execution_count": 4,
   "metadata": {},
   "outputs": [],
   "source": [
    "def edges_to_mat(edges):\n",
    "    n = max(map(max, edges)) + 1\n",
    "    return scipy.sparse.coo_matrix((np.ones(len(edges)), (zip(*edges))), shape=(n, n)).toarray()"
   ]
  },
  {
   "cell_type": "code",
   "execution_count": 5,
   "metadata": {},
   "outputs": [],
   "source": [
    "mat = edges_to_mat(edges)"
   ]
  },
  {
   "cell_type": "code",
   "execution_count": 6,
   "metadata": {},
   "outputs": [
    {
     "data": {
      "text/plain": [
       "True"
      ]
     },
     "execution_count": 6,
     "metadata": {},
     "output_type": "execute_result"
    }
   ],
   "source": [
    "all(mat[edge] == 1 for edge in edges)"
   ]
  },
  {
   "cell_type": "code",
   "execution_count": 7,
   "metadata": {},
   "outputs": [],
   "source": [
    "def normalize(matrix):\n",
    "    # Normalize adjacency matrix\n",
    "    was_sparse = False\n",
    "    if scipy.sparse.issparse(matrix):\n",
    "        was_sparse = True\n",
    "        matrix = matrix.toarray()\n",
    "    row_sums = (\n",
    "        matrix\n",
    "        .sum(axis=1)\n",
    "        .reshape(matrix.shape[0], 1)\n",
    "    )\n",
    "    row_sums[row_sums == 0] = 1\n",
    "    normalized = np.divide(matrix, row_sums)\n",
    "    if was_sparse:\n",
    "        normalized = scipy.sparse.csc_matrix(normalized)\n",
    "    return normalized\n",
    "\n",
    "\n",
    "def rwr(normalized_adjacency, start_index, restart_prob, convergence_threshold=1e-6):\n",
    "    # p(t+1) = (1-r) * W @ p(t) + r * p(0)\n",
    "    # Setup start position\n",
    "    p_t = np.zeros((1, normalized_adjacency.shape[0]))\n",
    "    p_t[0, start_index] = 1\n",
    "    p_0 = p_t.copy()\n",
    "\n",
    "    # Iterate RWR until converge\n",
    "    norm_difference = 1\n",
    "    while norm_difference > convergence_threshold:\n",
    "        p_t_1 = (1 - restart_prob) * p_t @ normalized_adjacency + restart_prob * p_0\n",
    "        norm_difference = np.linalg.norm(p_t_1 - p_t, 1)\n",
    "        p_t = p_t_1\n",
    "    return p_t\n",
    "\n",
    "\n",
    "def all_pairs_rwr(adjacency, restart_prob, convergence_threshold=1e-6):\n",
    "    normalized_adjacency = normalize(adjacency)\n",
    "\n",
    "    rwr_matrix = np.zeros(adjacency.shape)\n",
    "\n",
    "    num_nodes = adjacency.shape[0]\n",
    "    for seed_index in range(num_nodes):\n",
    "        rwr_row = rwr(normalized_adjacency, seed_index, restart_prob, \n",
    "            convergence_threshold=convergence_threshold)\n",
    "        rwr_matrix[seed_index, :] = rwr_row\n",
    "    return rwr_matrix"
   ]
  },
  {
   "cell_type": "code",
   "execution_count": 8,
   "metadata": {},
   "outputs": [],
   "source": [
    "actual_rwr = all_pairs_rwr(mat, 0.3)"
   ]
  },
  {
   "cell_type": "code",
   "execution_count": 9,
   "metadata": {},
   "outputs": [
    {
     "data": {
      "application/vnd.jupyter.widget-view+json": {
       "model_id": "327fa1ecd83045e7b68cb2f93104e5b9",
       "version_major": 2,
       "version_minor": 0
      },
      "text/plain": [
       "HBox(children=(IntProgress(value=0, max=50), HTML(value='')))"
      ]
     },
     "metadata": {},
     "output_type": "display_data"
    },
    {
     "name": "stdout",
     "output_type": "stream",
     "text": [
      "\n"
     ]
    }
   ],
   "source": [
    "prior = np.zeros_like(mat)\n",
    "n_greater = np.zeros_like(mat)\n",
    "\n",
    "n_perms = 50\n",
    "for i in tqdm.tnrange(n_perms):\n",
    "    permuted, _ = xswap.permute_edge_list(edges, allow_self_loops=True, allow_antiparallel=True, seed=i)\n",
    "    permuted_matrix = edges_to_mat(permuted)\n",
    "    prior += permuted_matrix\n",
    "    rwr_mat = all_pairs_rwr(permuted_matrix, 0.3)\n",
    "    n_greater += (rwr_mat * permuted_matrix) > actual_rwr\n",
    "    \n",
    "posterior = prior / n_perms * n_greater / n_perms"
   ]
  },
  {
   "cell_type": "code",
   "execution_count": 10,
   "metadata": {},
   "outputs": [
    {
     "data": {
      "text/plain": [
       "<matplotlib.collections.PathCollection at 0x7fb23d176b00>"
      ]
     },
     "execution_count": 10,
     "metadata": {},
     "output_type": "execute_result"
    },
    {
     "data": {
      "image/png": "[encoded data removed]",
      "text/plain": [
       "<Figure size 432x288 with 1 Axes>"
      ]
     },
     "metadata": {},
     "output_type": "display_data"
    }
   ],
   "source": [
    "plt.scatter(posterior.flatten(), mat.flatten())"
   ]
  },
  {
   "cell_type": "code",
   "execution_count": 11,
   "metadata": {},
   "outputs": [
    {
     "name": "stderr",
     "output_type": "stream",
     "text": [
      "/home/zietzm/miniconda3/envs/xswap-analysis/lib/python3.6/site-packages/scipy/stats/stats.py:1713: FutureWarning: Using a non-tuple sequence for multidimensional indexing is deprecated; use `arr[tuple(seq)]` instead of `arr[seq]`. In the future this will be interpreted as an array index, `arr[np.array(seq)]`, which will result either in an error or a different result.\n",
      "  return np.add.reduce(sorted[indexer] * weights, axis=axis) / sumval\n"
     ]
    },
    {
     "data": {
      "text/plain": [
       "<seaborn.axisgrid.JointGrid at 0x7fb23d6477f0>"
      ]
     },
     "execution_count": 11,
     "metadata": {},
     "output_type": "execute_result"
    },
    {
     "data": {
      "image/png": "[encoded data removed]",
      "text/plain": [
       "<Figure size 432x432 with 3 Axes>"
      ]
     },
     "metadata": {},
     "output_type": "display_data"
    }
   ],
   "source": [
    "sns.jointplot(posterior.flatten(), mat.flatten())"
   ]
  },
  {
   "cell_type": "code",
   "execution_count": 12,
   "metadata": {},
   "outputs": [],
   "source": [
    "df = (\n",
    "    pd.DataFrame()\n",
    "    .assign(\n",
    "        edge=mat.flatten(), \n",
    "        posterior=posterior.flatten())\n",
    ")"
   ]
  },
  {
   "cell_type": "code",
   "execution_count": 34,
   "metadata": {},
   "outputs": [
    {
     "data": {
      "image/png": "[encoded data removed]",
      "text/plain": [
       "<Figure size 720x432 with 1 Axes>"
      ]
     },
     "metadata": {},
     "output_type": "display_data"
    }
   ],
   "source": [
    "plt.figure(figsize=(10, 6))\n",
    "\n",
    "n, bins, _ = plt.hist(\n",
    "    df.query('posterior != 0 and edge == 1')['posterior'], \n",
    "    density=True, alpha=0.5, bins=30, color='r')\n",
    "plt.hist(\n",
    "    df.query('posterior != 0 and edge == 0')['posterior'], \n",
    "    density=True, alpha=0.5, bins=bins, color='b');"
   ]
  },
  {
   "cell_type": "code",
   "execution_count": 45,
   "metadata": {},
   "outputs": [
    {
     "data": {
      "text/plain": [
       "<matplotlib.legend.Legend at 0x7fb2380d55f8>"
      ]
     },
     "execution_count": 45,
     "metadata": {},
     "output_type": "execute_result"
    },
    {
     "data": {
      "image/png": "[encoded data removed]",
      "text/plain": [
       "<Figure size 432x288 with 1 Axes>"
      ]
     },
     "metadata": {},
     "output_type": "display_data"
    }
   ],
   "source": [
    "sns.distplot(df.query('posterior > 0.02 and edge == 0')['posterior'], norm_hist=True, color='b', label='no edge')\n",
    "sns.distplot(df.query('posterior > 0.02 and edge == 1')['posterior'], norm_hist=True, color='r', label='edge')\n",
    "plt.legend()"
   ]
  },
  {
   "cell_type": "code",
   "execution_count": null,
   "metadata": {},
   "outputs": [],
   "source": []
  }
 ],
 "metadata": {
  "kernelspec": {
   "display_name": "Python [conda env:xswap-analysis]",
   "language": "python",
   "name": "conda-env-xswap-analysis-py"
  },
  "language_info": {
   "codemirror_mode": {
    "name": "ipython",
    "version": 3
   },
   "file_extension": ".py",
   "mimetype": "text/x-python",
   "name": "python",
   "nbconvert_exporter": "python",
   "pygments_lexer": "ipython3",
   "version": "3.6.6"
  }
 },
 "nbformat": 4,
 "nbformat_minor": 2
}
