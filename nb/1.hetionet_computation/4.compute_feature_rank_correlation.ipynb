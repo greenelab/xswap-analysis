{
 "cells": [
  {
   "cell_type": "code",
   "execution_count": 1,
   "metadata": {},
   "outputs": [],
   "source": [
    "import pathlib\n",
    "import regex\n",
    "\n",
    "import pandas as pd\n",
    "import scipy.stats\n",
    "import tqdm"
   ]
  },
  {
   "cell_type": "markdown",
   "metadata": {},
   "source": [
    "## Full networks"
   ]
  },
  {
   "cell_type": "code",
   "execution_count": 2,
   "metadata": {},
   "outputs": [
    {
     "data": {
      "application/vnd.jupyter.widget-view+json": {
       "model_id": "ed7b4ec392a7457ea393881251eb9714",
       "version_major": 2,
       "version_minor": 0
      },
      "text/plain": [
       "HBox(children=(IntProgress(value=0, max=40), HTML(value='')))"
      ]
     },
     "metadata": {},
     "output_type": "display_data"
    },
    {
     "name": "stdout",
     "output_type": "stream",
     "text": [
      "full AdG\n",
      "full AeG\n",
      "full AlD\n",
      "full AuG\n",
      "full BPpG\n",
      "full CCpG\n",
      "full CbG\n",
      "full CcSE\n",
      "full CdG\n",
      "full CrC\n",
      "full CuG\n",
      "full DaG\n",
      "full DdG\n",
      "full DpS\n",
      "full DuG\n",
      "full G<rG\n",
      "full GcG\n",
      "full GiG\n",
      "full GpMF\n",
      "full GpPW\n",
      "sampled AdG\n",
      "sampled AeG\n",
      "sampled AlD\n",
      "sampled AuG\n",
      "sampled BPpG\n",
      "sampled CCpG\n",
      "sampled CbG\n",
      "sampled CcSE\n",
      "sampled CdG\n",
      "sampled CrC\n",
      "sampled CuG\n",
      "sampled DaG\n",
      "sampled DdG\n",
      "sampled DpS\n",
      "sampled DuG\n",
      "sampled G<rG\n",
      "sampled GcG\n",
      "sampled GiG\n",
      "sampled GpMF\n",
      "sampled GpPW\n",
      "\n"
     ]
    }
   ],
   "source": [
    "root = pathlib.Path()\n",
    "prior_paths = sorted(root.glob('*_priors/*.tsv.gz'))\n",
    "\n",
    "rows = list()\n",
    "\n",
    "for prior_path in tqdm.tqdm_notebook(prior_paths):\n",
    "    network = regex.search('.+(?=_priors)', prior_path.parent.name).group()\n",
    "    metaedge = regex.search('(?<=_priors/).+(?=.tsv.gz)', str(prior_path)).group()\n",
    "    print(network, metaedge)\n",
    "    \n",
    "    df = pd.read_csv(prior_path, sep='\\t', usecols=['source_degree', 'target_degree', 'edge', 'xswap_prior'])\n",
    "    \n",
    "    xswap_prior = df['xswap_prior'].values\n",
    "    del df['xswap_prior']\n",
    "\n",
    "    degree_product = df['source_degree'].values * df['target_degree'].values\n",
    "    analytic_prior = degree_product / (degree_product - df['source_degree'].values \n",
    "                                       - df['target_degree'].values + df['edge'].sum() + 1)\n",
    "    del df['source_degree'], df['target_degree'], df['edge'], df\n",
    "\n",
    "    scaled_degree = degree_product / degree_product.max()\n",
    "    del degree_product\n",
    "\n",
    "    rows.append({\n",
    "        'network': network,\n",
    "        'metaedge': metaedge,\n",
    "        'xswap_analytic': scipy.stats.spearmanr(xswap_prior, analytic_prior)[0],\n",
    "        'xswap_degree': scipy.stats.spearmanr(xswap_prior, scaled_degree)[0],\n",
    "    })\n",
    "    del xswap_prior, analytic_prior, scaled_degree"
   ]
  },
  {
   "cell_type": "code",
   "execution_count": 3,
   "metadata": {},
   "outputs": [
    {
     "data": {
      "text/html": [
       "<div>\n",
       "<style scoped>\n",
       "    .dataframe tbody tr th:only-of-type {\n",
       "        vertical-align: middle;\n",
       "    }\n",
       "\n",
       "    .dataframe tbody tr th {\n",
       "        vertical-align: top;\n",
       "    }\n",
       "\n",
       "    .dataframe thead th {\n",
       "        text-align: right;\n",
       "    }\n",
       "</style>\n",
       "<table border=\"1\" class=\"dataframe\">\n",
       "  <thead>\n",
       "    <tr style=\"text-align: right;\">\n",
       "      <th></th>\n",
       "      <th>metaedge</th>\n",
       "      <th>network</th>\n",
       "      <th>xswap_analytic</th>\n",
       "      <th>xswap_degree</th>\n",
       "    </tr>\n",
       "  </thead>\n",
       "  <tbody>\n",
       "    <tr>\n",
       "      <th>0</th>\n",
       "      <td>AdG</td>\n",
       "      <td>full</td>\n",
       "      <td>0.999995</td>\n",
       "      <td>0.999994</td>\n",
       "    </tr>\n",
       "    <tr>\n",
       "      <th>1</th>\n",
       "      <td>AeG</td>\n",
       "      <td>full</td>\n",
       "      <td>0.984483</td>\n",
       "      <td>0.984467</td>\n",
       "    </tr>\n",
       "    <tr>\n",
       "      <th>2</th>\n",
       "      <td>AlD</td>\n",
       "      <td>full</td>\n",
       "      <td>0.997876</td>\n",
       "      <td>0.997869</td>\n",
       "    </tr>\n",
       "    <tr>\n",
       "      <th>3</th>\n",
       "      <td>AuG</td>\n",
       "      <td>full</td>\n",
       "      <td>0.999997</td>\n",
       "      <td>0.999997</td>\n",
       "    </tr>\n",
       "    <tr>\n",
       "      <th>4</th>\n",
       "      <td>BPpG</td>\n",
       "      <td>full</td>\n",
       "      <td>0.999925</td>\n",
       "      <td>0.999926</td>\n",
       "    </tr>\n",
       "  </tbody>\n",
       "</table>\n",
       "</div>"
      ],
      "text/plain": [
       "  metaedge network  xswap_analytic  xswap_degree\n",
       "0      AdG    full        0.999995      0.999994\n",
       "1      AeG    full        0.984483      0.984467\n",
       "2      AlD    full        0.997876      0.997869\n",
       "3      AuG    full        0.999997      0.999997\n",
       "4     BPpG    full        0.999925      0.999926"
      ]
     },
     "execution_count": 3,
     "metadata": {},
     "output_type": "execute_result"
    }
   ],
   "source": [
    "corr_df = pd.DataFrame.from_records(rows)\n",
    "corr_df.to_csv('hetionet_feature_correlation.tsv', sep='\\t', index=False)\n",
    "corr_df.head()"
   ]
  }
 ],
 "metadata": {
  "kernelspec": {
   "display_name": "Python 3",
   "language": "python",
   "name": "python3"
  },
  "language_info": {
   "codemirror_mode": {
    "name": "ipython",
    "version": 3
   },
   "file_extension": ".py",
   "mimetype": "text/x-python",
   "name": "python",
   "nbconvert_exporter": "python",
   "pygments_lexer": "ipython3",
   "version": "3.7.3"
  }
 },
 "nbformat": 4,
 "nbformat_minor": 2
}
