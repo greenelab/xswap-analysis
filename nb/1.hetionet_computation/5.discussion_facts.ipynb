{
 "cells": [
  {
   "cell_type": "markdown",
   "metadata": {},
   "source": [
    "## Discussion section\n",
    "\n",
    "Most of this information is used in the discussion section"
   ]
  },
  {
   "cell_type": "code",
   "execution_count": 1,
   "metadata": {},
   "outputs": [],
   "source": [
    "import hetmatpy.hetmat\n",
    "import numpy as np\n",
    "import pandas as pd\n",
    "from plotnine import *\n",
    "import tqdm"
   ]
  },
  {
   "cell_type": "code",
   "execution_count": 2,
   "metadata": {},
   "outputs": [
    {
     "data": {
      "application/vnd.jupyter.widget-view+json": {
       "model_id": "a02417d442ad4937983eb07ceadf2b96",
       "version_major": 2,
       "version_minor": 0
      },
      "text/plain": [
       "HBox(children=(IntProgress(value=0, max=24), HTML(value='')))"
      ]
     },
     "metadata": {},
     "output_type": "display_data"
    },
    {
     "name": "stdout",
     "output_type": "stream",
     "text": [
      "\n"
     ]
    }
   ],
   "source": [
    "hetmat = hetmatpy.hetmat.HetMat('../../data/task1/hetionet-v1.0.hetmat/')\n",
    "\n",
    "metaedges = hetmat.metagraph.extract_all_metapaths(1, True)\n",
    "metaedges = [metaedge[0] for metaedge in metaedges]\n",
    "\n",
    "rows = []\n",
    "for metaedge in tqdm.tqdm_notebook(metaedges):\n",
    "    _, _, mat = hetmat.metaedge_to_adjacency_matrix(metaedge, dense_threshold=1)\n",
    "    rowsums = np.array(mat.sum(axis=1)).flatten()\n",
    "    n_unique_source_degree = len(set(rowsums))\n",
    "    \n",
    "    colsums = np.array(mat.sum(axis=0)).flatten()\n",
    "    n_unique_target_degree = len(set(colsums))\n",
    "    \n",
    "    row = {\n",
    "        'metaedge': metaedge.abbrev,\n",
    "        'source_nodes': mat.shape[0],\n",
    "        'target_nodes': mat.shape[1],\n",
    "        'source_degrees': n_unique_source_degree,\n",
    "        'target_degrees': n_unique_target_degree,\n",
    "    }\n",
    "    rows.append(row)"
   ]
  },
  {
   "cell_type": "code",
   "execution_count": 3,
   "metadata": {},
   "outputs": [],
   "source": [
    "df = (\n",
    "    pd.DataFrame(rows)\n",
    "    .merge(pd.read_csv('../../data/task1/hetionet_calibration_metrics.csv'), on='metaedge')\n",
    "    .assign(\n",
    "        mean_num_degrees = lambda df: (df['source_degrees'] * df['target_degrees']) ** 0.5,\n",
    "        mean_num_nodes = lambda df: (df['source_nodes'] * df['target_nodes']) ** 0.5,\n",
    "    )\n",
    ")"
   ]
  },
  {
   "cell_type": "code",
   "execution_count": 4,
   "metadata": {},
   "outputs": [
    {
     "data": {
      "text/plain": [
       "0.9492872016964718"
      ]
     },
     "execution_count": 4,
     "metadata": {},
     "output_type": "execute_result"
    }
   ],
   "source": [
    "(\n",
    "    df\n",
    "    .query('feature == \"xswap_prior\" & mean_num_nodes > 2500 & network == \"full\"')\n",
    "    ['auroc'].min()\n",
    ")"
   ]
  },
  {
   "cell_type": "code",
   "execution_count": 5,
   "metadata": {},
   "outputs": [
    {
     "data": {
      "text/plain": [
       "xswap_prior       12\n",
       "scaled_degree      6\n",
       "analytic_prior     2\n",
       "Name: feature, dtype: int64"
      ]
     },
     "execution_count": 5,
     "metadata": {},
     "output_type": "execute_result"
    }
   ],
   "source": [
    "(\n",
    "    df\n",
    "    .query('network == \"full\"')\n",
    "    .filter(items=['metaedge', 'feature', 'auroc'])\n",
    "    .groupby('metaedge')\n",
    "    .apply(lambda group: group.loc[group['auroc'] == group['auroc'].max(), 'feature'])\n",
    "    .reset_index()\n",
    "    .filter(items=['metaedge', 'feature'])\n",
    "    ['feature']\n",
    "    .value_counts()\n",
    ")"
   ]
  }
 ],
 "metadata": {
  "kernelspec": {
   "display_name": "Python [conda env:xswap-analysis] *",
   "language": "python",
   "name": "conda-env-xswap-analysis-py"
  },
  "language_info": {
   "codemirror_mode": {
    "name": "ipython",
    "version": 3
   },
   "file_extension": ".py",
   "mimetype": "text/x-python",
   "name": "python",
   "nbconvert_exporter": "python",
   "pygments_lexer": "ipython3",
   "version": "3.7.3"
  }
 },
 "nbformat": 4,
 "nbformat_minor": 2
}
