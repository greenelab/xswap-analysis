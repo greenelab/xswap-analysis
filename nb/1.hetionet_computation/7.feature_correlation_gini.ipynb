{
 "cells": [
  {
   "cell_type": "code",
   "execution_count": 1,
   "metadata": {},
   "outputs": [
    {
     "name": "stderr",
     "output_type": "stream",
     "text": [
      "── Attaching packages ─────────────────────────────────────── tidyverse 1.2.1 ──\n",
      "✔ ggplot2 3.2.0     ✔ purrr   0.3.2\n",
      "✔ tibble  2.1.3     ✔ dplyr   0.8.3\n",
      "✔ tidyr   0.8.3     ✔ stringr 1.4.0\n",
      "✔ readr   1.3.1     ✔ forcats 0.4.0\n",
      "── Conflicts ────────────────────────────────────────── tidyverse_conflicts() ──\n",
      "✖ dplyr::filter() masks stats::filter()\n",
      "✖ dplyr::lag()    masks stats::lag()\n",
      "\n",
      "Attaching package: ‘cowplot’\n",
      "\n",
      "The following object is masked from ‘package:ggplot2’:\n",
      "\n",
      "    ggsave\n",
      "\n"
     ]
    }
   ],
   "source": [
    "library(tidyverse)\n",
    "library(cowplot)\n",
    "library(ggrepel)\n",
    "library(ggExtra)\n",
    "library(ggbeeswarm)\n",
    "\n",
    "`%+replace%` <- ggplot2::`%+replace%`\n",
    "\n",
    "theme_zietzm <- function(base_size = 11.5, base_family = \"\") {\n",
    "    # Starts with theme_bw and then modify some parts\n",
    "    # Theme options are documentated at http://docs.ggplot2.org/current/theme.html\n",
    "    ggplot2::theme_classic(base_size = base_size, base_family = base_family) %+replace%\n",
    "    ggplot2::theme(\n",
    "\n",
    "        strip.background  = ggplot2::element_rect(fill = NA, colour = 'grey90', size = 0),\n",
    "        strip.text = element_text(vjust = 1, size = 10),\n",
    "        plot.margin       = ggplot2::margin(t=2, r=2, b=2, l=2, unit='pt'),\n",
    "        legend.spacing     = grid::unit(0.1, 'cm'),\n",
    "        legend.key        = ggplot2::element_blank(),\n",
    "        panel.border=element_rect(fill = NA, color = 'black', size = 0.5), \n",
    "        axis.line=element_line(size=0),\n",
    "    )\n",
    "}"
   ]
  },
  {
   "cell_type": "code",
   "execution_count": 2,
   "metadata": {},
   "outputs": [
    {
     "name": "stderr",
     "output_type": "stream",
     "text": [
      "Parsed with column specification:\n",
      "cols(\n",
      "  expected_frac = col_double(),\n",
      "  lower_ci = col_double(),\n",
      "  upper_ci = col_double(),\n",
      "  feature = col_character(),\n",
      "  feature_value = col_double(),\n",
      "  metaedge = col_character()\n",
      ")\n",
      "Parsed with column specification:\n",
      "cols(\n",
      "  expected_frac = col_double(),\n",
      "  lower_ci = col_double(),\n",
      "  upper_ci = col_double(),\n",
      "  feature = col_character(),\n",
      "  feature_value = col_double(),\n",
      "  metaedge = col_character()\n",
      ")\n"
     ]
    }
   ],
   "source": [
    "full_cal_bins <- read_csv('../../data/task1/calibration/hetionet_calibration_bins.csv')\n",
    "sampled_cal_bins <- read_csv('../../data/task1/calibration/hetionet_calibration_bins_sampled.csv')\n",
    "\n",
    "metrics <- read_csv('../../data/task1/calibration/hetionet_calibration_metrics.csv')\n",
    "\n",
    "# network_size <- read_csv('original_work/hetionet_features.csv')"
   ]
  },
  {
   "cell_type": "code",
   "execution_count": 12,
   "metadata": {},
   "outputs": [
    {
     "data": {
      "text/html": [
       "<table>\n",
       "<caption>A spec_tbl_df: 20 × 8</caption>\n",
       "<thead>\n",
       "\t<tr><th scope=col>metaedge</th><th scope=col>feature</th><th scope=col>cal</th><th scope=col>auroc</th><th scope=col>density</th><th scope=col>gini</th><th scope=col>num_source</th><th scope=col>num_target</th></tr>\n",
       "\t<tr><th scope=col>&lt;chr&gt;</th><th scope=col>&lt;chr&gt;</th><th scope=col>&lt;dbl&gt;</th><th scope=col>&lt;dbl&gt;</th><th scope=col>&lt;dbl&gt;</th><th scope=col>&lt;dbl&gt;</th><th scope=col>&lt;dbl&gt;</th><th scope=col>&lt;dbl&gt;</th></tr>\n",
       "</thead>\n",
       "<tbody>\n",
       "\t<tr><td>AlD </td><td>xswap_prior</td><td>2.249328e-03</td><td>0.7697109</td><td>0.0654029124</td><td>0.4378844</td><td>  402</td><td>  137</td></tr>\n",
       "\t<tr><td>DpS </td><td>xswap_prior</td><td>2.852463e-03</td><td>0.8285922</td><td>0.0559444056</td><td>0.5348740</td><td>  137</td><td>  438</td></tr>\n",
       "\t<tr><td>CrC </td><td>xswap_prior</td><td>1.608373e-04</td><td>0.8717032</td><td>0.0053889410</td><td>0.5839692</td><td> 1552</td><td> 1552</td></tr>\n",
       "\t<tr><td>GpMF</td><td>xswap_prior</td><td>4.243108e-05</td><td>0.9492872</td><td>0.0016094924</td><td>0.7602170</td><td>20945</td><td> 2884</td></tr>\n",
       "\t<tr><td>BPpG</td><td>xswap_prior</td><td>1.648134e-05</td><td>0.9502366</td><td>0.0023471584</td><td>0.7395793</td><td>11381</td><td>20945</td></tr>\n",
       "\t<tr><td>GpPW</td><td>xswap_prior</td><td>8.494467e-05</td><td>0.9509656</td><td>0.0022109026</td><td>0.8401606</td><td>20945</td><td> 1822</td></tr>\n",
       "\t<tr><td>CCpG</td><td>xswap_prior</td><td>5.017573e-05</td><td>0.9597105</td><td>0.0025250481</td><td>0.8235690</td><td> 1391</td><td>20945</td></tr>\n",
       "\t<tr><td>CcSE</td><td>xswap_prior</td><td>1.187288e-04</td><td>0.9634959</td><td>0.0156131450</td><td>0.8031433</td><td> 1552</td><td> 5734</td></tr>\n",
       "\t<tr><td>GcG </td><td>xswap_prior</td><td>3.461793e-06</td><td>0.9637774</td><td>0.0002812579</td><td>0.8104507</td><td>20945</td><td>20945</td></tr>\n",
       "\t<tr><td>DaG </td><td>xswap_prior</td><td>7.744585e-05</td><td>0.9675210</td><td>0.0043990779</td><td>0.9228070</td><td>  137</td><td>20945</td></tr>\n",
       "\t<tr><td>GiG </td><td>xswap_prior</td><td>7.537415e-06</td><td>0.9693646</td><td>0.0006709522</td><td>0.7912029</td><td>20945</td><td>20945</td></tr>\n",
       "\t<tr><td>DdG </td><td>xswap_prior</td><td>1.638842e-06</td><td>0.9752456</td><td>0.0026565928</td><td>0.8879028</td><td>  137</td><td>20945</td></tr>\n",
       "\t<tr><td>DuG </td><td>xswap_prior</td><td>2.124790e-06</td><td>0.9763132</td><td>0.0026942305</td><td>0.8926868</td><td>  137</td><td>20945</td></tr>\n",
       "\t<tr><td>AuG </td><td>xswap_prior</td><td>4.603435e-04</td><td>0.9850801</td><td>0.0116210544</td><td>0.7473759</td><td>  402</td><td>20945</td></tr>\n",
       "\t<tr><td>AeG </td><td>xswap_prior</td><td>1.146346e-03</td><td>0.9873503</td><td>0.0625194628</td><td>0.7280285</td><td>  402</td><td>20945</td></tr>\n",
       "\t<tr><td>AdG </td><td>xswap_prior</td><td>5.348332e-04</td><td>0.9893918</td><td>0.0121426764</td><td>0.7849780</td><td>  402</td><td>20945</td></tr>\n",
       "\t<tr><td>CbG </td><td>xswap_prior</td><td>8.751986e-06</td><td>0.9939756</td><td>0.0003559580</td><td>0.9517453</td><td> 1552</td><td>20945</td></tr>\n",
       "\t<tr><td>G&lt;rG</td><td>xswap_prior</td><td>6.632248e-06</td><td>0.9950927</td><td>0.0006056278</td><td>0.9110163</td><td>20945</td><td>20945</td></tr>\n",
       "\t<tr><td>CuG </td><td>xswap_prior</td><td>1.424465e-05</td><td>0.9967989</td><td>0.0005769898</td><td>0.9522724</td><td> 1552</td><td>20945</td></tr>\n",
       "\t<tr><td>CdG </td><td>xswap_prior</td><td>1.407118e-05</td><td>0.9970633</td><td>0.0006491597</td><td>0.9574519</td><td> 1552</td><td>20945</td></tr>\n",
       "</tbody>\n",
       "</table>\n"
      ],
      "text/latex": [
       "A spec_tbl_df: 20 × 8\n",
       "\\begin{tabular}{r|llllllll}\n",
       " metaedge & feature & cal & auroc & density & gini & num\\_source & num\\_target\\\\\n",
       " <chr> & <chr> & <dbl> & <dbl> & <dbl> & <dbl> & <dbl> & <dbl>\\\\\n",
       "\\hline\n",
       "\t AlD  & xswap\\_prior & 2.249328e-03 & 0.7697109 & 0.0654029124 & 0.4378844 &   402 &   137\\\\\n",
       "\t DpS  & xswap\\_prior & 2.852463e-03 & 0.8285922 & 0.0559444056 & 0.5348740 &   137 &   438\\\\\n",
       "\t CrC  & xswap\\_prior & 1.608373e-04 & 0.8717032 & 0.0053889410 & 0.5839692 &  1552 &  1552\\\\\n",
       "\t GpMF & xswap\\_prior & 4.243108e-05 & 0.9492872 & 0.0016094924 & 0.7602170 & 20945 &  2884\\\\\n",
       "\t BPpG & xswap\\_prior & 1.648134e-05 & 0.9502366 & 0.0023471584 & 0.7395793 & 11381 & 20945\\\\\n",
       "\t GpPW & xswap\\_prior & 8.494467e-05 & 0.9509656 & 0.0022109026 & 0.8401606 & 20945 &  1822\\\\\n",
       "\t CCpG & xswap\\_prior & 5.017573e-05 & 0.9597105 & 0.0025250481 & 0.8235690 &  1391 & 20945\\\\\n",
       "\t CcSE & xswap\\_prior & 1.187288e-04 & 0.9634959 & 0.0156131450 & 0.8031433 &  1552 &  5734\\\\\n",
       "\t GcG  & xswap\\_prior & 3.461793e-06 & 0.9637774 & 0.0002812579 & 0.8104507 & 20945 & 20945\\\\\n",
       "\t DaG  & xswap\\_prior & 7.744585e-05 & 0.9675210 & 0.0043990779 & 0.9228070 &   137 & 20945\\\\\n",
       "\t GiG  & xswap\\_prior & 7.537415e-06 & 0.9693646 & 0.0006709522 & 0.7912029 & 20945 & 20945\\\\\n",
       "\t DdG  & xswap\\_prior & 1.638842e-06 & 0.9752456 & 0.0026565928 & 0.8879028 &   137 & 20945\\\\\n",
       "\t DuG  & xswap\\_prior & 2.124790e-06 & 0.9763132 & 0.0026942305 & 0.8926868 &   137 & 20945\\\\\n",
       "\t AuG  & xswap\\_prior & 4.603435e-04 & 0.9850801 & 0.0116210544 & 0.7473759 &   402 & 20945\\\\\n",
       "\t AeG  & xswap\\_prior & 1.146346e-03 & 0.9873503 & 0.0625194628 & 0.7280285 &   402 & 20945\\\\\n",
       "\t AdG  & xswap\\_prior & 5.348332e-04 & 0.9893918 & 0.0121426764 & 0.7849780 &   402 & 20945\\\\\n",
       "\t CbG  & xswap\\_prior & 8.751986e-06 & 0.9939756 & 0.0003559580 & 0.9517453 &  1552 & 20945\\\\\n",
       "\t G<rG & xswap\\_prior & 6.632248e-06 & 0.9950927 & 0.0006056278 & 0.9110163 & 20945 & 20945\\\\\n",
       "\t CuG  & xswap\\_prior & 1.424465e-05 & 0.9967989 & 0.0005769898 & 0.9522724 &  1552 & 20945\\\\\n",
       "\t CdG  & xswap\\_prior & 1.407118e-05 & 0.9970633 & 0.0006491597 & 0.9574519 &  1552 & 20945\\\\\n",
       "\\end{tabular}\n"
      ],
      "text/markdown": [
       "\n",
       "A spec_tbl_df: 20 × 8\n",
       "\n",
       "| metaedge &lt;chr&gt; | feature &lt;chr&gt; | cal &lt;dbl&gt; | auroc &lt;dbl&gt; | density &lt;dbl&gt; | gini &lt;dbl&gt; | num_source &lt;dbl&gt; | num_target &lt;dbl&gt; |\n",
       "|---|---|---|---|---|---|---|---|\n",
       "| AlD  | xswap_prior | 2.249328e-03 | 0.7697109 | 0.0654029124 | 0.4378844 |   402 |   137 |\n",
       "| DpS  | xswap_prior | 2.852463e-03 | 0.8285922 | 0.0559444056 | 0.5348740 |   137 |   438 |\n",
       "| CrC  | xswap_prior | 1.608373e-04 | 0.8717032 | 0.0053889410 | 0.5839692 |  1552 |  1552 |\n",
       "| GpMF | xswap_prior | 4.243108e-05 | 0.9492872 | 0.0016094924 | 0.7602170 | 20945 |  2884 |\n",
       "| BPpG | xswap_prior | 1.648134e-05 | 0.9502366 | 0.0023471584 | 0.7395793 | 11381 | 20945 |\n",
       "| GpPW | xswap_prior | 8.494467e-05 | 0.9509656 | 0.0022109026 | 0.8401606 | 20945 |  1822 |\n",
       "| CCpG | xswap_prior | 5.017573e-05 | 0.9597105 | 0.0025250481 | 0.8235690 |  1391 | 20945 |\n",
       "| CcSE | xswap_prior | 1.187288e-04 | 0.9634959 | 0.0156131450 | 0.8031433 |  1552 |  5734 |\n",
       "| GcG  | xswap_prior | 3.461793e-06 | 0.9637774 | 0.0002812579 | 0.8104507 | 20945 | 20945 |\n",
       "| DaG  | xswap_prior | 7.744585e-05 | 0.9675210 | 0.0043990779 | 0.9228070 |   137 | 20945 |\n",
       "| GiG  | xswap_prior | 7.537415e-06 | 0.9693646 | 0.0006709522 | 0.7912029 | 20945 | 20945 |\n",
       "| DdG  | xswap_prior | 1.638842e-06 | 0.9752456 | 0.0026565928 | 0.8879028 |   137 | 20945 |\n",
       "| DuG  | xswap_prior | 2.124790e-06 | 0.9763132 | 0.0026942305 | 0.8926868 |   137 | 20945 |\n",
       "| AuG  | xswap_prior | 4.603435e-04 | 0.9850801 | 0.0116210544 | 0.7473759 |   402 | 20945 |\n",
       "| AeG  | xswap_prior | 1.146346e-03 | 0.9873503 | 0.0625194628 | 0.7280285 |   402 | 20945 |\n",
       "| AdG  | xswap_prior | 5.348332e-04 | 0.9893918 | 0.0121426764 | 0.7849780 |   402 | 20945 |\n",
       "| CbG  | xswap_prior | 8.751986e-06 | 0.9939756 | 0.0003559580 | 0.9517453 |  1552 | 20945 |\n",
       "| G&lt;rG | xswap_prior | 6.632248e-06 | 0.9950927 | 0.0006056278 | 0.9110163 | 20945 | 20945 |\n",
       "| CuG  | xswap_prior | 1.424465e-05 | 0.9967989 | 0.0005769898 | 0.9522724 |  1552 | 20945 |\n",
       "| CdG  | xswap_prior | 1.407118e-05 | 0.9970633 | 0.0006491597 | 0.9574519 |  1552 | 20945 |\n",
       "\n"
      ],
      "text/plain": [
       "   metaedge feature     cal          auroc     density      gini     \n",
       "1  AlD      xswap_prior 2.249328e-03 0.7697109 0.0654029124 0.4378844\n",
       "2  DpS      xswap_prior 2.852463e-03 0.8285922 0.0559444056 0.5348740\n",
       "3  CrC      xswap_prior 1.608373e-04 0.8717032 0.0053889410 0.5839692\n",
       "4  GpMF     xswap_prior 4.243108e-05 0.9492872 0.0016094924 0.7602170\n",
       "5  BPpG     xswap_prior 1.648134e-05 0.9502366 0.0023471584 0.7395793\n",
       "6  GpPW     xswap_prior 8.494467e-05 0.9509656 0.0022109026 0.8401606\n",
       "7  CCpG     xswap_prior 5.017573e-05 0.9597105 0.0025250481 0.8235690\n",
       "8  CcSE     xswap_prior 1.187288e-04 0.9634959 0.0156131450 0.8031433\n",
       "9  GcG      xswap_prior 3.461793e-06 0.9637774 0.0002812579 0.8104507\n",
       "10 DaG      xswap_prior 7.744585e-05 0.9675210 0.0043990779 0.9228070\n",
       "11 GiG      xswap_prior 7.537415e-06 0.9693646 0.0006709522 0.7912029\n",
       "12 DdG      xswap_prior 1.638842e-06 0.9752456 0.0026565928 0.8879028\n",
       "13 DuG      xswap_prior 2.124790e-06 0.9763132 0.0026942305 0.8926868\n",
       "14 AuG      xswap_prior 4.603435e-04 0.9850801 0.0116210544 0.7473759\n",
       "15 AeG      xswap_prior 1.146346e-03 0.9873503 0.0625194628 0.7280285\n",
       "16 AdG      xswap_prior 5.348332e-04 0.9893918 0.0121426764 0.7849780\n",
       "17 CbG      xswap_prior 8.751986e-06 0.9939756 0.0003559580 0.9517453\n",
       "18 G<rG     xswap_prior 6.632248e-06 0.9950927 0.0006056278 0.9110163\n",
       "19 CuG      xswap_prior 1.424465e-05 0.9967989 0.0005769898 0.9522724\n",
       "20 CdG      xswap_prior 1.407118e-05 0.9970633 0.0006491597 0.9574519\n",
       "   num_source num_target\n",
       "1    402        137     \n",
       "2    137        438     \n",
       "3   1552       1552     \n",
       "4  20945       2884     \n",
       "5  11381      20945     \n",
       "6  20945       1822     \n",
       "7   1391      20945     \n",
       "8   1552       5734     \n",
       "9  20945      20945     \n",
       "10   137      20945     \n",
       "11 20945      20945     \n",
       "12   137      20945     \n",
       "13   137      20945     \n",
       "14   402      20945     \n",
       "15   402      20945     \n",
       "16   402      20945     \n",
       "17  1552      20945     \n",
       "18 20945      20945     \n",
       "19  1552      20945     \n",
       "20  1552      20945     "
      ]
     },
     "metadata": {},
     "output_type": "display_data"
    }
   ],
   "source": [
    "metrics %>%\n",
    "filter(network == 'full' & feature == 'xswap_prior') %>%\n",
    "left_join(network_size, by = 'metaedge') %>%\n",
    "select(metaedge, feature, cal, auroc, density, gini, num_source, num_target) %>%\n",
    "arrange(auroc)"
   ]
  },
  {
   "cell_type": "code",
   "execution_count": 13,
   "metadata": {},
   "outputs": [
    {
     "data": {
      "text/html": [
       "<table>\n",
       "<caption>A spec_tbl_df: 20 × 8</caption>\n",
       "<thead>\n",
       "\t<tr><th scope=col>metaedge</th><th scope=col>feature</th><th scope=col>cal</th><th scope=col>auroc</th><th scope=col>density</th><th scope=col>gini</th><th scope=col>num_source</th><th scope=col>num_target</th></tr>\n",
       "\t<tr><th scope=col>&lt;chr&gt;</th><th scope=col>&lt;chr&gt;</th><th scope=col>&lt;dbl&gt;</th><th scope=col>&lt;dbl&gt;</th><th scope=col>&lt;dbl&gt;</th><th scope=col>&lt;dbl&gt;</th><th scope=col>&lt;dbl&gt;</th><th scope=col>&lt;dbl&gt;</th></tr>\n",
       "</thead>\n",
       "<tbody>\n",
       "\t<tr><td>DdG </td><td>xswap_prior</td><td>5.785075e-05</td><td>0.6447831</td><td>0.0026565928</td><td>0.8879028</td><td>  137</td><td>20945</td></tr>\n",
       "\t<tr><td>DuG </td><td>xswap_prior</td><td>5.988771e-05</td><td>0.6538778</td><td>0.0026942305</td><td>0.8926868</td><td>  137</td><td>20945</td></tr>\n",
       "\t<tr><td>AlD </td><td>xswap_prior</td><td>1.993360e-03</td><td>0.7144441</td><td>0.0654029124</td><td>0.4378844</td><td>  402</td><td>  137</td></tr>\n",
       "\t<tr><td>DpS </td><td>xswap_prior</td><td>1.849097e-03</td><td>0.7832143</td><td>0.0559444056</td><td>0.5348740</td><td>  137</td><td>  438</td></tr>\n",
       "\t<tr><td>DaG </td><td>xswap_prior</td><td>1.087258e-04</td><td>0.7939373</td><td>0.0043990779</td><td>0.9228070</td><td>  137</td><td>20945</td></tr>\n",
       "\t<tr><td>CrC </td><td>xswap_prior</td><td>3.547152e-05</td><td>0.8429015</td><td>0.0053889410</td><td>0.5839692</td><td> 1552</td><td> 1552</td></tr>\n",
       "\t<tr><td>GpMF</td><td>xswap_prior</td><td>1.438064e-05</td><td>0.9189549</td><td>0.0016094924</td><td>0.7602170</td><td>20945</td><td> 2884</td></tr>\n",
       "\t<tr><td>GcG </td><td>xswap_prior</td><td>1.323484e-06</td><td>0.9236254</td><td>0.0002812579</td><td>0.8104507</td><td>20945</td><td>20945</td></tr>\n",
       "\t<tr><td>CCpG</td><td>xswap_prior</td><td>3.108081e-05</td><td>0.9293889</td><td>0.0025250481</td><td>0.8235690</td><td> 1391</td><td>20945</td></tr>\n",
       "\t<tr><td>GpPW</td><td>xswap_prior</td><td>3.069510e-05</td><td>0.9305049</td><td>0.0022109026</td><td>0.8401606</td><td>20945</td><td> 1822</td></tr>\n",
       "\t<tr><td>CbG </td><td>xswap_prior</td><td>6.965309e-06</td><td>0.9400423</td><td>0.0003559580</td><td>0.9517453</td><td> 1552</td><td>20945</td></tr>\n",
       "\t<tr><td>BPpG</td><td>xswap_prior</td><td>2.086592e-05</td><td>0.9438663</td><td>0.0023471584</td><td>0.7395793</td><td>11381</td><td>20945</td></tr>\n",
       "\t<tr><td>CuG </td><td>xswap_prior</td><td>1.683635e-05</td><td>0.9477101</td><td>0.0005769898</td><td>0.9522724</td><td> 1552</td><td>20945</td></tr>\n",
       "\t<tr><td>GiG </td><td>xswap_prior</td><td>6.305482e-06</td><td>0.9481489</td><td>0.0006709522</td><td>0.7912029</td><td>20945</td><td>20945</td></tr>\n",
       "\t<tr><td>CcSE</td><td>xswap_prior</td><td>2.188646e-04</td><td>0.9524074</td><td>0.0156131450</td><td>0.8031433</td><td> 1552</td><td> 5734</td></tr>\n",
       "\t<tr><td>CdG </td><td>xswap_prior</td><td>1.812988e-05</td><td>0.9590738</td><td>0.0006491597</td><td>0.9574519</td><td> 1552</td><td>20945</td></tr>\n",
       "\t<tr><td>AuG </td><td>xswap_prior</td><td>4.327788e-04</td><td>0.9662363</td><td>0.0116210544</td><td>0.7473759</td><td>  402</td><td>20945</td></tr>\n",
       "\t<tr><td>AdG </td><td>xswap_prior</td><td>4.521103e-04</td><td>0.9710808</td><td>0.0121426764</td><td>0.7849780</td><td>  402</td><td>20945</td></tr>\n",
       "\t<tr><td>AeG </td><td>xswap_prior</td><td>1.117714e-03</td><td>0.9852495</td><td>0.0625194628</td><td>0.7280285</td><td>  402</td><td>20945</td></tr>\n",
       "\t<tr><td>G&lt;rG</td><td>xswap_prior</td><td>1.015341e-05</td><td>0.9925501</td><td>0.0006056278</td><td>0.9110163</td><td>20945</td><td>20945</td></tr>\n",
       "</tbody>\n",
       "</table>\n"
      ],
      "text/latex": [
       "A spec_tbl_df: 20 × 8\n",
       "\\begin{tabular}{r|llllllll}\n",
       " metaedge & feature & cal & auroc & density & gini & num\\_source & num\\_target\\\\\n",
       " <chr> & <chr> & <dbl> & <dbl> & <dbl> & <dbl> & <dbl> & <dbl>\\\\\n",
       "\\hline\n",
       "\t DdG  & xswap\\_prior & 5.785075e-05 & 0.6447831 & 0.0026565928 & 0.8879028 &   137 & 20945\\\\\n",
       "\t DuG  & xswap\\_prior & 5.988771e-05 & 0.6538778 & 0.0026942305 & 0.8926868 &   137 & 20945\\\\\n",
       "\t AlD  & xswap\\_prior & 1.993360e-03 & 0.7144441 & 0.0654029124 & 0.4378844 &   402 &   137\\\\\n",
       "\t DpS  & xswap\\_prior & 1.849097e-03 & 0.7832143 & 0.0559444056 & 0.5348740 &   137 &   438\\\\\n",
       "\t DaG  & xswap\\_prior & 1.087258e-04 & 0.7939373 & 0.0043990779 & 0.9228070 &   137 & 20945\\\\\n",
       "\t CrC  & xswap\\_prior & 3.547152e-05 & 0.8429015 & 0.0053889410 & 0.5839692 &  1552 &  1552\\\\\n",
       "\t GpMF & xswap\\_prior & 1.438064e-05 & 0.9189549 & 0.0016094924 & 0.7602170 & 20945 &  2884\\\\\n",
       "\t GcG  & xswap\\_prior & 1.323484e-06 & 0.9236254 & 0.0002812579 & 0.8104507 & 20945 & 20945\\\\\n",
       "\t CCpG & xswap\\_prior & 3.108081e-05 & 0.9293889 & 0.0025250481 & 0.8235690 &  1391 & 20945\\\\\n",
       "\t GpPW & xswap\\_prior & 3.069510e-05 & 0.9305049 & 0.0022109026 & 0.8401606 & 20945 &  1822\\\\\n",
       "\t CbG  & xswap\\_prior & 6.965309e-06 & 0.9400423 & 0.0003559580 & 0.9517453 &  1552 & 20945\\\\\n",
       "\t BPpG & xswap\\_prior & 2.086592e-05 & 0.9438663 & 0.0023471584 & 0.7395793 & 11381 & 20945\\\\\n",
       "\t CuG  & xswap\\_prior & 1.683635e-05 & 0.9477101 & 0.0005769898 & 0.9522724 &  1552 & 20945\\\\\n",
       "\t GiG  & xswap\\_prior & 6.305482e-06 & 0.9481489 & 0.0006709522 & 0.7912029 & 20945 & 20945\\\\\n",
       "\t CcSE & xswap\\_prior & 2.188646e-04 & 0.9524074 & 0.0156131450 & 0.8031433 &  1552 &  5734\\\\\n",
       "\t CdG  & xswap\\_prior & 1.812988e-05 & 0.9590738 & 0.0006491597 & 0.9574519 &  1552 & 20945\\\\\n",
       "\t AuG  & xswap\\_prior & 4.327788e-04 & 0.9662363 & 0.0116210544 & 0.7473759 &   402 & 20945\\\\\n",
       "\t AdG  & xswap\\_prior & 4.521103e-04 & 0.9710808 & 0.0121426764 & 0.7849780 &   402 & 20945\\\\\n",
       "\t AeG  & xswap\\_prior & 1.117714e-03 & 0.9852495 & 0.0625194628 & 0.7280285 &   402 & 20945\\\\\n",
       "\t G<rG & xswap\\_prior & 1.015341e-05 & 0.9925501 & 0.0006056278 & 0.9110163 & 20945 & 20945\\\\\n",
       "\\end{tabular}\n"
      ],
      "text/markdown": [
       "\n",
       "A spec_tbl_df: 20 × 8\n",
       "\n",
       "| metaedge &lt;chr&gt; | feature &lt;chr&gt; | cal &lt;dbl&gt; | auroc &lt;dbl&gt; | density &lt;dbl&gt; | gini &lt;dbl&gt; | num_source &lt;dbl&gt; | num_target &lt;dbl&gt; |\n",
       "|---|---|---|---|---|---|---|---|\n",
       "| DdG  | xswap_prior | 5.785075e-05 | 0.6447831 | 0.0026565928 | 0.8879028 |   137 | 20945 |\n",
       "| DuG  | xswap_prior | 5.988771e-05 | 0.6538778 | 0.0026942305 | 0.8926868 |   137 | 20945 |\n",
       "| AlD  | xswap_prior | 1.993360e-03 | 0.7144441 | 0.0654029124 | 0.4378844 |   402 |   137 |\n",
       "| DpS  | xswap_prior | 1.849097e-03 | 0.7832143 | 0.0559444056 | 0.5348740 |   137 |   438 |\n",
       "| DaG  | xswap_prior | 1.087258e-04 | 0.7939373 | 0.0043990779 | 0.9228070 |   137 | 20945 |\n",
       "| CrC  | xswap_prior | 3.547152e-05 | 0.8429015 | 0.0053889410 | 0.5839692 |  1552 |  1552 |\n",
       "| GpMF | xswap_prior | 1.438064e-05 | 0.9189549 | 0.0016094924 | 0.7602170 | 20945 |  2884 |\n",
       "| GcG  | xswap_prior | 1.323484e-06 | 0.9236254 | 0.0002812579 | 0.8104507 | 20945 | 20945 |\n",
       "| CCpG | xswap_prior | 3.108081e-05 | 0.9293889 | 0.0025250481 | 0.8235690 |  1391 | 20945 |\n",
       "| GpPW | xswap_prior | 3.069510e-05 | 0.9305049 | 0.0022109026 | 0.8401606 | 20945 |  1822 |\n",
       "| CbG  | xswap_prior | 6.965309e-06 | 0.9400423 | 0.0003559580 | 0.9517453 |  1552 | 20945 |\n",
       "| BPpG | xswap_prior | 2.086592e-05 | 0.9438663 | 0.0023471584 | 0.7395793 | 11381 | 20945 |\n",
       "| CuG  | xswap_prior | 1.683635e-05 | 0.9477101 | 0.0005769898 | 0.9522724 |  1552 | 20945 |\n",
       "| GiG  | xswap_prior | 6.305482e-06 | 0.9481489 | 0.0006709522 | 0.7912029 | 20945 | 20945 |\n",
       "| CcSE | xswap_prior | 2.188646e-04 | 0.9524074 | 0.0156131450 | 0.8031433 |  1552 |  5734 |\n",
       "| CdG  | xswap_prior | 1.812988e-05 | 0.9590738 | 0.0006491597 | 0.9574519 |  1552 | 20945 |\n",
       "| AuG  | xswap_prior | 4.327788e-04 | 0.9662363 | 0.0116210544 | 0.7473759 |   402 | 20945 |\n",
       "| AdG  | xswap_prior | 4.521103e-04 | 0.9710808 | 0.0121426764 | 0.7849780 |   402 | 20945 |\n",
       "| AeG  | xswap_prior | 1.117714e-03 | 0.9852495 | 0.0625194628 | 0.7280285 |   402 | 20945 |\n",
       "| G&lt;rG | xswap_prior | 1.015341e-05 | 0.9925501 | 0.0006056278 | 0.9110163 | 20945 | 20945 |\n",
       "\n"
      ],
      "text/plain": [
       "   metaedge feature     cal          auroc     density      gini     \n",
       "1  DdG      xswap_prior 5.785075e-05 0.6447831 0.0026565928 0.8879028\n",
       "2  DuG      xswap_prior 5.988771e-05 0.6538778 0.0026942305 0.8926868\n",
       "3  AlD      xswap_prior 1.993360e-03 0.7144441 0.0654029124 0.4378844\n",
       "4  DpS      xswap_prior 1.849097e-03 0.7832143 0.0559444056 0.5348740\n",
       "5  DaG      xswap_prior 1.087258e-04 0.7939373 0.0043990779 0.9228070\n",
       "6  CrC      xswap_prior 3.547152e-05 0.8429015 0.0053889410 0.5839692\n",
       "7  GpMF     xswap_prior 1.438064e-05 0.9189549 0.0016094924 0.7602170\n",
       "8  GcG      xswap_prior 1.323484e-06 0.9236254 0.0002812579 0.8104507\n",
       "9  CCpG     xswap_prior 3.108081e-05 0.9293889 0.0025250481 0.8235690\n",
       "10 GpPW     xswap_prior 3.069510e-05 0.9305049 0.0022109026 0.8401606\n",
       "11 CbG      xswap_prior 6.965309e-06 0.9400423 0.0003559580 0.9517453\n",
       "12 BPpG     xswap_prior 2.086592e-05 0.9438663 0.0023471584 0.7395793\n",
       "13 CuG      xswap_prior 1.683635e-05 0.9477101 0.0005769898 0.9522724\n",
       "14 GiG      xswap_prior 6.305482e-06 0.9481489 0.0006709522 0.7912029\n",
       "15 CcSE     xswap_prior 2.188646e-04 0.9524074 0.0156131450 0.8031433\n",
       "16 CdG      xswap_prior 1.812988e-05 0.9590738 0.0006491597 0.9574519\n",
       "17 AuG      xswap_prior 4.327788e-04 0.9662363 0.0116210544 0.7473759\n",
       "18 AdG      xswap_prior 4.521103e-04 0.9710808 0.0121426764 0.7849780\n",
       "19 AeG      xswap_prior 1.117714e-03 0.9852495 0.0625194628 0.7280285\n",
       "20 G<rG     xswap_prior 1.015341e-05 0.9925501 0.0006056278 0.9110163\n",
       "   num_source num_target\n",
       "1    137      20945     \n",
       "2    137      20945     \n",
       "3    402        137     \n",
       "4    137        438     \n",
       "5    137      20945     \n",
       "6   1552       1552     \n",
       "7  20945       2884     \n",
       "8  20945      20945     \n",
       "9   1391      20945     \n",
       "10 20945       1822     \n",
       "11  1552      20945     \n",
       "12 11381      20945     \n",
       "13  1552      20945     \n",
       "14 20945      20945     \n",
       "15  1552       5734     \n",
       "16  1552      20945     \n",
       "17   402      20945     \n",
       "18   402      20945     \n",
       "19   402      20945     \n",
       "20 20945      20945     "
      ]
     },
     "metadata": {},
     "output_type": "display_data"
    }
   ],
   "source": [
    "metrics %>%\n",
    "filter(network == 'sampled' & feature == 'xswap_prior') %>%\n",
    "left_join(network_size, by = 'metaedge') %>%\n",
    "select(metaedge, feature, cal, auroc, density, gini, num_source, num_target) %>%\n",
    "arrange(auroc)"
   ]
  },
  {
   "cell_type": "code",
   "execution_count": 14,
   "metadata": {},
   "outputs": [
    {
     "data": {
      "image/png": "[encoded data removed]",
      "text/plain": [
       "plot without title"
      ]
     },
     "metadata": {},
     "output_type": "display_data"
    }
   ],
   "source": [
    "options(repr.plot.width=8, repr.plot.height=4)\n",
    "\n",
    "metrics %>%\n",
    "filter(feature == 'xswap_prior' & network != 'other') %>%\n",
    "left_join(network_size, by = 'metaedge') %>%\n",
    "ggplot(aes(x = gini, y = auroc)) +\n",
    "geom_smooth(method = 'lm') +\n",
    "geom_point() +\n",
    "facet_wrap(vars(network))"
   ]
  },
  {
   "cell_type": "code",
   "execution_count": 15,
   "metadata": {},
   "outputs": [
    {
     "data": {
      "image/png": "[encoded data removed]",
      "text/plain": [
       "plot without title"
      ]
     },
     "metadata": {},
     "output_type": "display_data"
    }
   ],
   "source": [
    "options(repr.plot.width=6, repr.plot.height=5)\n",
    "\n",
    "metrics %>%\n",
    "filter(feature == 'xswap_prior', network != 'other') %>%\n",
    "mutate(network = network %>% factor(levels = c('full', 'sampled'))) %>%\n",
    "ggplot(aes(x = network, y = auroc, group = metaedge)) +\n",
    "geom_point() +\n",
    "geom_line()"
   ]
  },
  {
   "cell_type": "code",
   "execution_count": 16,
   "metadata": {
    "scrolled": true
   },
   "outputs": [
    {
     "data": {
      "text/html": [
       "<table>\n",
       "<caption>A tibble: 20 × 4</caption>\n",
       "<thead>\n",
       "\t<tr><th scope=col>metaedge</th><th scope=col>feature</th><th scope=col>unsampled</th><th scope=col>sampled</th></tr>\n",
       "\t<tr><th scope=col>&lt;chr&gt;</th><th scope=col>&lt;chr&gt;</th><th scope=col>&lt;dbl&gt;</th><th scope=col>&lt;dbl&gt;</th></tr>\n",
       "</thead>\n",
       "<tbody>\n",
       "\t<tr><td>CdG </td><td>xswap_prior</td><td>0.9970633</td><td>0.9590738</td></tr>\n",
       "\t<tr><td>CuG </td><td>xswap_prior</td><td>0.9967989</td><td>0.9477101</td></tr>\n",
       "\t<tr><td>G&lt;rG</td><td>xswap_prior</td><td>0.9950927</td><td>0.9925501</td></tr>\n",
       "\t<tr><td>CbG </td><td>xswap_prior</td><td>0.9939756</td><td>0.9400423</td></tr>\n",
       "\t<tr><td>AdG </td><td>xswap_prior</td><td>0.9893918</td><td>0.9710808</td></tr>\n",
       "\t<tr><td>AeG </td><td>xswap_prior</td><td>0.9873503</td><td>0.9852495</td></tr>\n",
       "\t<tr><td>AuG </td><td>xswap_prior</td><td>0.9850801</td><td>0.9662363</td></tr>\n",
       "\t<tr><td>DuG </td><td>xswap_prior</td><td>0.9763132</td><td>0.6538778</td></tr>\n",
       "\t<tr><td>DdG </td><td>xswap_prior</td><td>0.9752456</td><td>0.6447831</td></tr>\n",
       "\t<tr><td>GiG </td><td>xswap_prior</td><td>0.9693646</td><td>0.9481489</td></tr>\n",
       "\t<tr><td>DaG </td><td>xswap_prior</td><td>0.9675210</td><td>0.7939373</td></tr>\n",
       "\t<tr><td>GcG </td><td>xswap_prior</td><td>0.9637774</td><td>0.9236254</td></tr>\n",
       "\t<tr><td>CcSE</td><td>xswap_prior</td><td>0.9634959</td><td>0.9524074</td></tr>\n",
       "\t<tr><td>CCpG</td><td>xswap_prior</td><td>0.9597105</td><td>0.9293889</td></tr>\n",
       "\t<tr><td>GpPW</td><td>xswap_prior</td><td>0.9509656</td><td>0.9305049</td></tr>\n",
       "\t<tr><td>BPpG</td><td>xswap_prior</td><td>0.9502366</td><td>0.9438663</td></tr>\n",
       "\t<tr><td>GpMF</td><td>xswap_prior</td><td>0.9492872</td><td>0.9189549</td></tr>\n",
       "\t<tr><td>CrC </td><td>xswap_prior</td><td>0.8717032</td><td>0.8429015</td></tr>\n",
       "\t<tr><td>DpS </td><td>xswap_prior</td><td>0.8285922</td><td>0.7832143</td></tr>\n",
       "\t<tr><td>AlD </td><td>xswap_prior</td><td>0.7697109</td><td>0.7144441</td></tr>\n",
       "</tbody>\n",
       "</table>\n"
      ],
      "text/latex": [
       "A tibble: 20 × 4\n",
       "\\begin{tabular}{r|llll}\n",
       " metaedge & feature & unsampled & sampled\\\\\n",
       " <chr> & <chr> & <dbl> & <dbl>\\\\\n",
       "\\hline\n",
       "\t CdG  & xswap\\_prior & 0.9970633 & 0.9590738\\\\\n",
       "\t CuG  & xswap\\_prior & 0.9967989 & 0.9477101\\\\\n",
       "\t G<rG & xswap\\_prior & 0.9950927 & 0.9925501\\\\\n",
       "\t CbG  & xswap\\_prior & 0.9939756 & 0.9400423\\\\\n",
       "\t AdG  & xswap\\_prior & 0.9893918 & 0.9710808\\\\\n",
       "\t AeG  & xswap\\_prior & 0.9873503 & 0.9852495\\\\\n",
       "\t AuG  & xswap\\_prior & 0.9850801 & 0.9662363\\\\\n",
       "\t DuG  & xswap\\_prior & 0.9763132 & 0.6538778\\\\\n",
       "\t DdG  & xswap\\_prior & 0.9752456 & 0.6447831\\\\\n",
       "\t GiG  & xswap\\_prior & 0.9693646 & 0.9481489\\\\\n",
       "\t DaG  & xswap\\_prior & 0.9675210 & 0.7939373\\\\\n",
       "\t GcG  & xswap\\_prior & 0.9637774 & 0.9236254\\\\\n",
       "\t CcSE & xswap\\_prior & 0.9634959 & 0.9524074\\\\\n",
       "\t CCpG & xswap\\_prior & 0.9597105 & 0.9293889\\\\\n",
       "\t GpPW & xswap\\_prior & 0.9509656 & 0.9305049\\\\\n",
       "\t BPpG & xswap\\_prior & 0.9502366 & 0.9438663\\\\\n",
       "\t GpMF & xswap\\_prior & 0.9492872 & 0.9189549\\\\\n",
       "\t CrC  & xswap\\_prior & 0.8717032 & 0.8429015\\\\\n",
       "\t DpS  & xswap\\_prior & 0.8285922 & 0.7832143\\\\\n",
       "\t AlD  & xswap\\_prior & 0.7697109 & 0.7144441\\\\\n",
       "\\end{tabular}\n"
      ],
      "text/markdown": [
       "\n",
       "A tibble: 20 × 4\n",
       "\n",
       "| metaedge &lt;chr&gt; | feature &lt;chr&gt; | unsampled &lt;dbl&gt; | sampled &lt;dbl&gt; |\n",
       "|---|---|---|---|\n",
       "| CdG  | xswap_prior | 0.9970633 | 0.9590738 |\n",
       "| CuG  | xswap_prior | 0.9967989 | 0.9477101 |\n",
       "| G&lt;rG | xswap_prior | 0.9950927 | 0.9925501 |\n",
       "| CbG  | xswap_prior | 0.9939756 | 0.9400423 |\n",
       "| AdG  | xswap_prior | 0.9893918 | 0.9710808 |\n",
       "| AeG  | xswap_prior | 0.9873503 | 0.9852495 |\n",
       "| AuG  | xswap_prior | 0.9850801 | 0.9662363 |\n",
       "| DuG  | xswap_prior | 0.9763132 | 0.6538778 |\n",
       "| DdG  | xswap_prior | 0.9752456 | 0.6447831 |\n",
       "| GiG  | xswap_prior | 0.9693646 | 0.9481489 |\n",
       "| DaG  | xswap_prior | 0.9675210 | 0.7939373 |\n",
       "| GcG  | xswap_prior | 0.9637774 | 0.9236254 |\n",
       "| CcSE | xswap_prior | 0.9634959 | 0.9524074 |\n",
       "| CCpG | xswap_prior | 0.9597105 | 0.9293889 |\n",
       "| GpPW | xswap_prior | 0.9509656 | 0.9305049 |\n",
       "| BPpG | xswap_prior | 0.9502366 | 0.9438663 |\n",
       "| GpMF | xswap_prior | 0.9492872 | 0.9189549 |\n",
       "| CrC  | xswap_prior | 0.8717032 | 0.8429015 |\n",
       "| DpS  | xswap_prior | 0.8285922 | 0.7832143 |\n",
       "| AlD  | xswap_prior | 0.7697109 | 0.7144441 |\n",
       "\n"
      ],
      "text/plain": [
       "   metaedge feature     unsampled sampled  \n",
       "1  CdG      xswap_prior 0.9970633 0.9590738\n",
       "2  CuG      xswap_prior 0.9967989 0.9477101\n",
       "3  G<rG     xswap_prior 0.9950927 0.9925501\n",
       "4  CbG      xswap_prior 0.9939756 0.9400423\n",
       "5  AdG      xswap_prior 0.9893918 0.9710808\n",
       "6  AeG      xswap_prior 0.9873503 0.9852495\n",
       "7  AuG      xswap_prior 0.9850801 0.9662363\n",
       "8  DuG      xswap_prior 0.9763132 0.6538778\n",
       "9  DdG      xswap_prior 0.9752456 0.6447831\n",
       "10 GiG      xswap_prior 0.9693646 0.9481489\n",
       "11 DaG      xswap_prior 0.9675210 0.7939373\n",
       "12 GcG      xswap_prior 0.9637774 0.9236254\n",
       "13 CcSE     xswap_prior 0.9634959 0.9524074\n",
       "14 CCpG     xswap_prior 0.9597105 0.9293889\n",
       "15 GpPW     xswap_prior 0.9509656 0.9305049\n",
       "16 BPpG     xswap_prior 0.9502366 0.9438663\n",
       "17 GpMF     xswap_prior 0.9492872 0.9189549\n",
       "18 CrC      xswap_prior 0.8717032 0.8429015\n",
       "19 DpS      xswap_prior 0.8285922 0.7832143\n",
       "20 AlD      xswap_prior 0.7697109 0.7144441"
      ]
     },
     "metadata": {},
     "output_type": "display_data"
    }
   ],
   "source": [
    "metrics %>%\n",
    "filter(feature == 'xswap_prior', network != 'other') %>%\n",
    "select(metaedge, network, feature, auroc) %>%\n",
    "mutate(network = network %>% recode_factor(full = \"unsampled\", sampled = \"sampled\")) %>%\n",
    "spread(network, auroc) %>%\n",
    "arrange(desc(unsampled))"
   ]
  },
  {
   "cell_type": "markdown",
   "metadata": {},
   "source": [
    "## Feature correlation"
   ]
  },
  {
   "cell_type": "code",
   "execution_count": 18,
   "metadata": {},
   "outputs": [
    {
     "name": "stderr",
     "output_type": "stream",
     "text": [
      "Parsed with column specification:\n",
      "cols(\n",
      "  metaedge = col_character(),\n",
      "  network = col_character(),\n",
      "  xswap_analytic = col_double(),\n",
      "  xswap_degree = col_double()\n",
      ")\n"
     ]
    },
    {
     "data": {
      "text/html": [
       "<table>\n",
       "<caption>A tibble: 6 × 4</caption>\n",
       "<thead>\n",
       "\t<tr><th scope=col>metaedge</th><th scope=col>network</th><th scope=col>xswap_analytic</th><th scope=col>xswap_degree</th></tr>\n",
       "\t<tr><th scope=col>&lt;chr&gt;</th><th scope=col>&lt;chr&gt;</th><th scope=col>&lt;dbl&gt;</th><th scope=col>&lt;dbl&gt;</th></tr>\n",
       "</thead>\n",
       "<tbody>\n",
       "\t<tr><td>AdG </td><td>full</td><td>0.9999946</td><td>0.9999936</td></tr>\n",
       "\t<tr><td>AeG </td><td>full</td><td>0.9844830</td><td>0.9844673</td></tr>\n",
       "\t<tr><td>AlD </td><td>full</td><td>0.9978761</td><td>0.9978691</td></tr>\n",
       "\t<tr><td>AuG </td><td>full</td><td>0.9999975</td><td>0.9999972</td></tr>\n",
       "\t<tr><td>BPpG</td><td>full</td><td>0.9999246</td><td>0.9999259</td></tr>\n",
       "\t<tr><td>CCpG</td><td>full</td><td>0.9999409</td><td>0.9999554</td></tr>\n",
       "</tbody>\n",
       "</table>\n"
      ],
      "text/latex": [
       "A tibble: 6 × 4\n",
       "\\begin{tabular}{r|llll}\n",
       " metaedge & network & xswap\\_analytic & xswap\\_degree\\\\\n",
       " <chr> & <chr> & <dbl> & <dbl>\\\\\n",
       "\\hline\n",
       "\t AdG  & full & 0.9999946 & 0.9999936\\\\\n",
       "\t AeG  & full & 0.9844830 & 0.9844673\\\\\n",
       "\t AlD  & full & 0.9978761 & 0.9978691\\\\\n",
       "\t AuG  & full & 0.9999975 & 0.9999972\\\\\n",
       "\t BPpG & full & 0.9999246 & 0.9999259\\\\\n",
       "\t CCpG & full & 0.9999409 & 0.9999554\\\\\n",
       "\\end{tabular}\n"
      ],
      "text/markdown": [
       "\n",
       "A tibble: 6 × 4\n",
       "\n",
       "| metaedge &lt;chr&gt; | network &lt;chr&gt; | xswap_analytic &lt;dbl&gt; | xswap_degree &lt;dbl&gt; |\n",
       "|---|---|---|---|\n",
       "| AdG  | full | 0.9999946 | 0.9999936 |\n",
       "| AeG  | full | 0.9844830 | 0.9844673 |\n",
       "| AlD  | full | 0.9978761 | 0.9978691 |\n",
       "| AuG  | full | 0.9999975 | 0.9999972 |\n",
       "| BPpG | full | 0.9999246 | 0.9999259 |\n",
       "| CCpG | full | 0.9999409 | 0.9999554 |\n",
       "\n"
      ],
      "text/plain": [
       "  metaedge network xswap_analytic xswap_degree\n",
       "1 AdG      full    0.9999946      0.9999936   \n",
       "2 AeG      full    0.9844830      0.9844673   \n",
       "3 AlD      full    0.9978761      0.9978691   \n",
       "4 AuG      full    0.9999975      0.9999972   \n",
       "5 BPpG     full    0.9999246      0.9999259   \n",
       "6 CCpG     full    0.9999409      0.9999554   "
      ]
     },
     "metadata": {},
     "output_type": "display_data"
    }
   ],
   "source": [
    "corr_df <- read_tsv('hetionet_feature_correlation.tsv')\n",
    "corr_df %>% head"
   ]
  },
  {
   "cell_type": "code",
   "execution_count": 19,
   "metadata": {},
   "outputs": [
    {
     "data": {
      "text/html": [
       "<table>\n",
       "<caption>A tibble: 1 × 3</caption>\n",
       "<thead>\n",
       "\t<tr><th scope=col>min</th><th scope=col>median</th><th scope=col>max</th></tr>\n",
       "\t<tr><th scope=col>&lt;dbl&gt;</th><th scope=col>&lt;dbl&gt;</th><th scope=col>&lt;dbl&gt;</th></tr>\n",
       "</thead>\n",
       "<tbody>\n",
       "\t<tr><td>0.9844673</td><td>0.9999657</td><td>0.9999992</td></tr>\n",
       "</tbody>\n",
       "</table>\n"
      ],
      "text/latex": [
       "A tibble: 1 × 3\n",
       "\\begin{tabular}{r|lll}\n",
       " min & median & max\\\\\n",
       " <dbl> & <dbl> & <dbl>\\\\\n",
       "\\hline\n",
       "\t 0.9844673 & 0.9999657 & 0.9999992\\\\\n",
       "\\end{tabular}\n"
      ],
      "text/markdown": [
       "\n",
       "A tibble: 1 × 3\n",
       "\n",
       "| min &lt;dbl&gt; | median &lt;dbl&gt; | max &lt;dbl&gt; |\n",
       "|---|---|---|\n",
       "| 0.9844673 | 0.9999657 | 0.9999992 |\n",
       "\n"
      ],
      "text/plain": [
       "  min       median    max      \n",
       "1 0.9844673 0.9999657 0.9999992"
      ]
     },
     "metadata": {},
     "output_type": "display_data"
    }
   ],
   "source": [
    "# Summarize how correlated features are\n",
    "corr_df %>%\n",
    "    gather('pair', 'correlation', xswap_analytic, xswap_degree) %>%\n",
    "    summarize_at(.vars = 'correlation', .funs = c('min' = min, 'median' = median, 'max' = max))"
   ]
  },
  {
   "cell_type": "code",
   "execution_count": 20,
   "metadata": {
    "scrolled": true
   },
   "outputs": [
    {
     "data": {
      "text/html": [
       "<table>\n",
       "<caption>A tibble: 1 × 1</caption>\n",
       "<thead>\n",
       "\t<tr><th scope=col>max(max_diff)</th></tr>\n",
       "\t<tr><th scope=col>&lt;dbl&gt;</th></tr>\n",
       "</thead>\n",
       "<tbody>\n",
       "\t<tr><td>0.02658526</td></tr>\n",
       "</tbody>\n",
       "</table>\n"
      ],
      "text/latex": [
       "A tibble: 1 × 1\n",
       "\\begin{tabular}{r|l}\n",
       " max(max\\_diff)\\\\\n",
       " <dbl>\\\\\n",
       "\\hline\n",
       "\t 0.02658526\\\\\n",
       "\\end{tabular}\n"
      ],
      "text/markdown": [
       "\n",
       "A tibble: 1 × 1\n",
       "\n",
       "| max(max_diff) &lt;dbl&gt; |\n",
       "|---|\n",
       "| 0.02658526 |\n",
       "\n"
      ],
      "text/plain": [
       "  max(max_diff)\n",
       "1 0.02658526   "
      ]
     },
     "metadata": {},
     "output_type": "display_data"
    }
   ],
   "source": [
    "# Summarize how similar the features AUROC values are\n",
    "metrics %>%\n",
    "    select(network, metaedge, feature, auroc) %>%\n",
    "    spread(feature, auroc) %>%\n",
    "    mutate(max_diff = max(abs(c(analytic_prior - scaled_degree, \n",
    "                                analytic_prior - xswap_prior, \n",
    "                                scaled_degree - xswap_prior)))) %>%\n",
    "    summarize(max(max_diff))"
   ]
  },
  {
   "cell_type": "code",
   "execution_count": 21,
   "metadata": {},
   "outputs": [
    {
     "data": {
      "image/png": "[encoded data removed]",
      "text/plain": [
       "plot without title"
      ]
     },
     "metadata": {},
     "output_type": "display_data"
    }
   ],
   "source": [
    "# Are the features any less correlated in the sampled network?\n",
    "corr_df %>%\n",
    "    gather('pair', 'correlation', starts_with('xswap')) %>%\n",
    "#     spread('network', 'correlation') %>%\n",
    "    ggplot(aes(x = network, y = correlation, group = metaedge)) + \n",
    "    geom_point() +\n",
    "    geom_line() +\n",
    "    facet_wrap(vars(pair))"
   ]
  }
 ],
 "metadata": {
  "kernelspec": {
   "display_name": "R",
   "language": "R",
   "name": "ir"
  },
  "language_info": {
   "codemirror_mode": "r",
   "file_extension": ".r",
   "mimetype": "text/x-r-source",
   "name": "R",
   "pygments_lexer": "r",
   "version": "3.5.1"
  }
 },
 "nbformat": 4,
 "nbformat_minor": 2
}
