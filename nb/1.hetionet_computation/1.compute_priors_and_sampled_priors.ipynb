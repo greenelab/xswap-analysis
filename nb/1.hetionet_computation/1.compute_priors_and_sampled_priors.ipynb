{
 "cells": [
  {
   "cell_type": "code",
   "execution_count": 1,
   "metadata": {},
   "outputs": [],
   "source": [
    "import hetmatpy.hetmat\n",
    "import numpy as np\n",
    "import pandas as pd\n",
    "import tqdm\n",
    "\n",
    "import xswap"
   ]
  },
  {
   "cell_type": "code",
   "execution_count": 2,
   "metadata": {},
   "outputs": [],
   "source": [
    "hetmat = hetmatpy.hetmat.HetMat('../../data/task1/hetionet-v1.0.hetmat/')"
   ]
  },
  {
   "cell_type": "code",
   "execution_count": 3,
   "metadata": {},
   "outputs": [],
   "source": [
    "metaedges = hetmat.metagraph.extract_all_metapaths(1, exclude_inverts=True)\n",
    "metaedges = [metaedge[0] for metaedge in metaedges]"
   ]
  },
  {
   "cell_type": "code",
   "execution_count": 4,
   "metadata": {},
   "outputs": [
    {
     "data": {
      "application/vnd.jupyter.widget-view+json": {
       "model_id": "9a5dc39d30ac4ace9e068dc5cd31d045",
       "version_major": 2,
       "version_minor": 0
      },
      "text/plain": [
       "HBox(children=(IntProgress(value=0, max=24), HTML(value='')))"
      ]
     },
     "metadata": {},
     "output_type": "display_data"
    },
    {
     "name": "stdout",
     "output_type": "stream",
     "text": [
      "\n"
     ]
    }
   ],
   "source": [
    "for metaedge in tqdm.tqdm_notebook(metaedges):\n",
    "    # Only use metaedges with >= 2000 edges\n",
    "    _, _, adj_mat = hetmat.metaedge_to_adjacency_matrix(metaedge, dtype=bool, dense_threshold=1)\n",
    "    if adj_mat.nnz < 2000:\n",
    "        continue\n",
    "        \n",
    "    # Determine how to treat metaedge\n",
    "    square = True if adj_mat.shape[0] == adj_mat.shape[1] else False\n",
    "    if square:\n",
    "        allow_antiparallel = bool((adj_mat != adj_mat.T).nnz)\n",
    "        allow_self_loops = bool(adj_mat.diagonal().sum())\n",
    "    else:\n",
    "        allow_antiparallel = True\n",
    "        allow_self_loops = True\n",
    "        \n",
    "    # Compute XSwap prior\n",
    "    edge_list = xswap.network_formats.matrix_to_edges(adj_mat, include_reverse_edges=allow_antiparallel)\n",
    "    prior_df = xswap.prior.compute_xswap_priors(edge_list, n_permutations=100, shape=adj_mat.shape, \n",
    "                                                allow_self_loops=allow_self_loops, \n",
    "                                                allow_antiparallel=allow_antiparallel,\n",
    "                                                dtypes={'id': np.uint16, 'degree': np.uint32,\n",
    "                                                        'edge': bool, 'xswap_prior': float})\n",
    "    \n",
    "    prior_df.to_csv(f'../../data/task1/full_priors/{metaedge.abbrev}.tsv.gz', sep='\\t', \n",
    "                    compression='gzip', index=False)\n",
    "    del prior_df\n",
    "    \n",
    "    # Remove 30% of edges\n",
    "    np.random.seed(0)\n",
    "    edge_choices = np.random.choice(len(edge_list), replace=False, size=int(0.7 * len(edge_list)))\n",
    "    sampled_edges = [edge_list[i] for i in edge_choices]\n",
    "    \n",
    "    # Compute XSwap prior\n",
    "    sampled_prior_df = xswap.prior.compute_xswap_priors(sampled_edges, n_permutations=100, \n",
    "                                                        shape=adj_mat.shape, \n",
    "                                                        allow_self_loops=allow_self_loops, \n",
    "                                                        allow_antiparallel=allow_antiparallel)\n",
    "    sampled_prior_df.to_csv(f'../../data/task1/sampled_priors/{metaedge.abbrev}.tsv.gz', sep='\\t', \n",
    "                            compression='gzip', index=False)\n",
    "    del sampled_prior_df, sampled_edges, edge_choices, edge_list"
   ]
  }
 ],
 "metadata": {
  "kernelspec": {
   "display_name": "Python [conda env:xswap-analysis] *",
   "language": "python",
   "name": "conda-env-xswap-analysis-py"
  },
  "language_info": {
   "codemirror_mode": {
    "name": "ipython",
    "version": 3
   },
   "file_extension": ".py",
   "mimetype": "text/x-python",
   "name": "python",
   "nbconvert_exporter": "python",
   "pygments_lexer": "ipython3",
   "version": "3.7.3"
  }
 },
 "nbformat": 4,
 "nbformat_minor": 2
}
