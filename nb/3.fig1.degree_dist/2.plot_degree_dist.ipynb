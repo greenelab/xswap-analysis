{
 "cells": [
  {
   "cell_type": "code",
   "execution_count": 1,
   "metadata": {},
   "outputs": [
    {
     "name": "stderr",
     "output_type": "stream",
     "text": [
      "── Attaching packages ─────────────────────────────────────── tidyverse 1.2.1 ──\n",
      "✔ ggplot2 3.2.0     ✔ purrr   0.3.2\n",
      "✔ tibble  2.1.3     ✔ dplyr   0.8.3\n",
      "✔ tidyr   0.8.3     ✔ stringr 1.4.0\n",
      "✔ readr   1.3.1     ✔ forcats 0.4.0\n",
      "── Conflicts ────────────────────────────────────────── tidyverse_conflicts() ──\n",
      "✖ dplyr::filter() masks stats::filter()\n",
      "✖ dplyr::lag()    masks stats::lag()\n",
      "\n",
      "Attaching package: ‘cowplot’\n",
      "\n",
      "The following object is masked from ‘package:ggplot2’:\n",
      "\n",
      "    ggsave\n",
      "\n",
      "\n",
      "Attaching package: ‘gridExtra’\n",
      "\n",
      "The following object is masked from ‘package:dplyr’:\n",
      "\n",
      "    combine\n",
      "\n"
     ]
    }
   ],
   "source": [
    "library(tidyverse)\n",
    "library(cowplot)\n",
    "library(gridExtra)\n",
    "\n",
    "\n",
    "`%+replace%` <- ggplot2::`%+replace%`\n",
    "\n",
    "theme_zietzm <- function(base_size = 11.5, base_family = \"\") {\n",
    "    # Starts with theme_bw and then modify some parts\n",
    "    # Theme options are documentated at http://docs.ggplot2.org/current/theme.html\n",
    "    ggplot2::theme_classic(base_size = base_size, base_family = base_family) %+replace%\n",
    "    ggplot2::theme(\n",
    "\n",
    "        strip.background  = ggplot2::element_rect(fill = NA, colour = 'grey90', size = 0),\n",
    "        strip.text = element_text(vjust = 1, size = 10),\n",
    "        plot.margin       = ggplot2::margin(t=2, r=2, b=2, l=2, unit='pt'),\n",
    "        legend.spacing     = grid::unit(0.1, 'cm'),\n",
    "        legend.key        = ggplot2::element_blank(),\n",
    "        panel.border=element_rect(fill = NA, color = 'black', size = 0.5), \n",
    "        axis.line=element_line(size=0),\n",
    "    )\n",
    "}"
   ]
  },
  {
   "cell_type": "markdown",
   "metadata": {},
   "source": [
    "# 1. Subfigure A\n",
    "\n",
    "Differences in overall degree distributions for networks of the same kind of data"
   ]
  },
  {
   "cell_type": "code",
   "execution_count": 2,
   "metadata": {},
   "outputs": [
    {
     "name": "stderr",
     "output_type": "stream",
     "text": [
      "Parsed with column specification:\n",
      "cols(\n",
      "  name_a = col_character(),\n",
      "  name_b = col_character(),\n",
      "  id_a = col_double(),\n",
      "  id_b = col_double(),\n",
      "  train = col_double(),\n",
      "  test_recon = col_double(),\n",
      "  test_new = col_double()\n",
      ")\n",
      "Warning message:\n",
      "“funs() is soft deprecated as of dplyr 0.8.0\n",
      "Please use a list of either functions or lambdas: \n",
      "\n",
      "  # Simple named list: \n",
      "  list(mean = mean, median = median)\n",
      "\n",
      "  # Auto named with `tibble::lst()`: \n",
      "  tibble::lst(mean, median)\n",
      "\n",
      "  # Using lambdas\n",
      "  list(~ mean(., trim = .2), ~ median(., na.rm = TRUE))\n",
      "This warning is displayed once per session.”Parsed with column specification:\n",
      "cols(\n",
      "  name_a = col_character(),\n",
      "  name_b = col_character(),\n",
      "  id_a = col_double(),\n",
      "  id_b = col_double(),\n",
      "  train = col_double(),\n",
      "  test_recon = col_double(),\n",
      "  test_new = col_double()\n",
      ")\n",
      "Parsed with column specification:\n",
      "cols(\n",
      "  name_a = col_character(),\n",
      "  name_b = col_character(),\n",
      "  id_a = col_double(),\n",
      "  id_b = col_double(),\n",
      "  train = col_double(),\n",
      "  test_recon = col_double(),\n",
      "  test_new = col_double()\n",
      ")\n"
     ]
    },
    {
     "data": {
      "text/html": [
       "<table>\n",
       "<caption>A tibble: 2 × 4</caption>\n",
       "<thead>\n",
       "\t<tr><th scope=col>id</th><th scope=col>network_type</th><th scope=col>degree</th><th scope=col>name</th></tr>\n",
       "\t<tr><th scope=col>&lt;dbl&gt;</th><th scope=col>&lt;fct&gt;</th><th scope=col>&lt;dbl&gt;</th><th scope=col>&lt;fct&gt;</th></tr>\n",
       "</thead>\n",
       "<tbody>\n",
       "\t<tr><td>0</td><td>Literature-derived</td><td>55</td><td>PPI</td></tr>\n",
       "\t<tr><td>1</td><td>Literature-derived</td><td> 3</td><td>PPI</td></tr>\n",
       "</tbody>\n",
       "</table>\n"
      ],
      "text/latex": [
       "A tibble: 2 × 4\n",
       "\\begin{tabular}{r|llll}\n",
       " id & network\\_type & degree & name\\\\\n",
       " <dbl> & <fct> & <dbl> & <fct>\\\\\n",
       "\\hline\n",
       "\t 0 & Literature-derived & 55 & PPI\\\\\n",
       "\t 1 & Literature-derived &  3 & PPI\\\\\n",
       "\\end{tabular}\n"
      ],
      "text/markdown": [
       "\n",
       "A tibble: 2 × 4\n",
       "\n",
       "| id &lt;dbl&gt; | network_type &lt;fct&gt; | degree &lt;dbl&gt; | name &lt;fct&gt; |\n",
       "|---|---|---|---|\n",
       "| 0 | Literature-derived | 55 | PPI |\n",
       "| 1 | Literature-derived |  3 | PPI |\n",
       "\n"
      ],
      "text/plain": [
       "  id network_type       degree name\n",
       "1 0  Literature-derived 55     PPI \n",
       "2 1  Literature-derived  3     PPI "
      ]
     },
     "metadata": {},
     "output_type": "display_data"
    }
   ],
   "source": [
    "ppi_df <- read_tsv('../../data/task3/3.all_nodes/ppi.tsv.xz') %>%\n",
    "    select(-starts_with('name')) %>%\n",
    "    gather('id_side', 'id', id_a:id_b) %>%\n",
    "    group_by(.dots=c(\"id\")) %>%\n",
    "    summarize_at(vars(train, test_new), funs(sum)) %>%\n",
    "    rename(biased=train, unbiased=test_new) %>%\n",
    "    gather('network_type', 'degree', biased:unbiased) %>%\n",
    "    mutate(name = 'ppi')\n",
    "\n",
    "tftg_df <- read_tsv('../../data/task3/3.all_nodes/tftg.tsv.xz') %>%\n",
    "    select(-starts_with('name')) %>%\n",
    "    gather('id_side', 'id', id_a:id_b) %>%\n",
    "    group_by(.dots=c(\"id_side\", \"id\")) %>%\n",
    "    summarize_at(vars(train, test_new), funs(sum)) %>%\n",
    "    rename(biased=train, unbiased=test_new) %>%\n",
    "    gather('network_type', 'degree', biased:unbiased) %>%\n",
    "    mutate(name = id_side %>% recode(id_a = 'tftg_source', id_b = 'tftg_target')) %>%\n",
    "    ungroup() %>%\n",
    "    select(-id_side)\n",
    "\n",
    "biorxiv_df <- read_tsv('../../data/task3/3.all_nodes/biorxiv.tsv.xz') %>%\n",
    "    select(-starts_with('name')) %>%\n",
    "    gather('id_side', 'id', id_a:id_b) %>%\n",
    "    group_by(.dots=c(\"id\")) %>%\n",
    "    summarize_at(vars(train, test_new), funs(sum)) %>%\n",
    "    rename(biased=train, unbiased=test_new) %>%\n",
    "    gather('network_type', 'degree', biased:unbiased) %>%\n",
    "    mutate(\n",
    "        name = 'co_author',\n",
    "        network_type = network_type %>% recode(biased = \"<2018\", unbiased = \">=2018\")\n",
    "    )\n",
    "\n",
    "histogram_vis_df <- bind_rows(ppi_df, tftg_df, biorxiv_df) %>%\n",
    "    mutate(\n",
    "        name = name %>% recode_factor(\n",
    "            ppi = 'PPI', \n",
    "            tftg_source = 'TF-TG: TF', \n",
    "            tftg_target = 'TF-TG: TG',\n",
    "            co_author = 'Co-authorship',\n",
    "        ),\n",
    "        network_type = network_type %>% recode_factor(\n",
    "            biased = 'Literature-derived',\n",
    "            unbiased = 'Systematic',\n",
    "        )\n",
    "    )\n",
    "\n",
    "head(histogram_vis_df, 2)"
   ]
  },
  {
   "cell_type": "code",
   "execution_count": 3,
   "metadata": {
    "scrolled": false
   },
   "outputs": [],
   "source": [
    "histogram_labels <- data.frame(\n",
    "    name = c('PPI', 'PPI', 'TF-TG: TF', 'TF-TG: TF', 'TF-TG: TG', 'TF-TG: TG', \n",
    "             'Co-authorship', 'Co-authorship'),\n",
    "    x = c(250, 50, 50, 300, 8, 25, 15, 25),\n",
    "    y = c(550, 2000, 40, 12, 500, 200, 1500, 500),\n",
    "    label = factor(c('Literature-derived', 'Systematic', \n",
    "              'Literature-derived', 'Systematic', \n",
    "              'Literature-derived', 'Systematic', \n",
    "              '<2018', '>=2018'), levels = c('Systematic', 'Literature-derived', '<2018', '>=2018')),\n",
    "    network_type = factor(c('Literature-derived', 'Systematic', \n",
    "                     'Literature-derived', 'Systematic', \n",
    "                     'Literature-derived', 'Systematic', \n",
    "                     '<2018', '>=2018'), levels = c('Literature-derived', 'Systematic', '<2018', '>=2018'))\n",
    ")\n",
    "\n",
    "histogram_dists <- (\n",
    "    ggplot(histogram_vis_df, aes(x = degree, fill = network_type))\n",
    "    + geom_histogram(position = position_identity(), alpha = 0.5, bins = 50)\n",
    "    + facet_wrap(\"name\", scales = 'free', nrow = 2)\n",
    "    + scale_fill_brewer(palette = \"Set1\")\n",
    "    + scale_color_brewer(palette = \"Set1\")\n",
    "    + ylab('Nodes')\n",
    "    + xlab('Node degree')\n",
    "    + theme_zietzm()\n",
    "    + labs(fill = 'Network type')\n",
    "    + theme(legend.position = \"none\")\n",
    "    + geom_text(data = histogram_labels, aes(x = x, y = y, label = label, color = network_type), \n",
    "                alpha = 0.8, size = 4, nudge_x = -5, hjust = 'left')\n",
    ")"
   ]
  },
  {
   "cell_type": "markdown",
   "metadata": {},
   "source": [
    "# 2. Subfigures B and C\n",
    "\n",
    "Differences in node degree by sampling method"
   ]
  },
  {
   "cell_type": "code",
   "execution_count": 4,
   "metadata": {},
   "outputs": [],
   "source": [
    "format_degrees <- function(df) {\n",
    "    # Helper function to compute degree\n",
    "    df %>%\n",
    "        group_by(id_a) %>%\n",
    "        summarise(\n",
    "            degree_a_train = sum(train),\n",
    "            degree_a_test_recon = sum(test_recon),\n",
    "            degree_a_test_new = sum(test_new)\n",
    "        ) %>%\n",
    "        full_join(\n",
    "            df %>%\n",
    "            group_by(id_b) %>%\n",
    "            summarise(\n",
    "                degree_b_train = sum(train),\n",
    "                degree_b_test_recon = sum(test_recon),\n",
    "                degree_b_test_new = sum(test_new)\n",
    "            ),\n",
    "            by = c(\"id_a\" = \"id_b\")\n",
    "        ) %>%\n",
    "        replace(is.na(.), 0) %>%\n",
    "        mutate(\n",
    "            degree_train = degree_a_train + degree_b_train,\n",
    "            degree_test_recon = degree_a_test_recon + degree_b_test_recon,\n",
    "            degree_test_new = degree_a_test_new + degree_b_test_new\n",
    "        ) %>%\n",
    "        select(degree_train, degree_test_recon, degree_test_new)\n",
    "}"
   ]
  },
  {
   "cell_type": "code",
   "execution_count": 5,
   "metadata": {},
   "outputs": [
    {
     "name": "stderr",
     "output_type": "stream",
     "text": [
      "Parsed with column specification:\n",
      "cols(\n",
      "  name_a = col_character(),\n",
      "  name_b = col_character(),\n",
      "  id_a = col_double(),\n",
      "  id_b = col_double(),\n",
      "  train = col_double(),\n",
      "  test_recon = col_double(),\n",
      "  test_new = col_double()\n",
      ")\n",
      "Parsed with column specification:\n",
      "cols(\n",
      "  name_a = col_character(),\n",
      "  name_b = col_character(),\n",
      "  id_a = col_double(),\n",
      "  id_b = col_double(),\n",
      "  train = col_double(),\n",
      "  test_recon = col_double(),\n",
      "  test_new = col_double()\n",
      ")\n"
     ]
    },
    {
     "data": {
      "text/html": [
       "<table>\n",
       "<caption>A tibble: 2 × 7</caption>\n",
       "<thead>\n",
       "\t<tr><th scope=col>name_a</th><th scope=col>name_b</th><th scope=col>id_a</th><th scope=col>id_b</th><th scope=col>train</th><th scope=col>test_recon</th><th scope=col>test_new</th></tr>\n",
       "\t<tr><th scope=col>&lt;chr&gt;</th><th scope=col>&lt;chr&gt;</th><th scope=col>&lt;dbl&gt;</th><th scope=col>&lt;dbl&gt;</th><th scope=col>&lt;dbl&gt;</th><th scope=col>&lt;dbl&gt;</th><th scope=col>&lt;dbl&gt;</th></tr>\n",
       "</thead>\n",
       "<tbody>\n",
       "\t<tr><td>A0A087WT00</td><td>O00154</td><td>0</td><td> 48</td><td>1</td><td>1</td><td>0</td></tr>\n",
       "\t<tr><td>A0A087WT00</td><td>O43736</td><td>0</td><td>237</td><td>0</td><td>1</td><td>0</td></tr>\n",
       "</tbody>\n",
       "</table>\n"
      ],
      "text/latex": [
       "A tibble: 2 × 7\n",
       "\\begin{tabular}{r|lllllll}\n",
       " name\\_a & name\\_b & id\\_a & id\\_b & train & test\\_recon & test\\_new\\\\\n",
       " <chr> & <chr> & <dbl> & <dbl> & <dbl> & <dbl> & <dbl>\\\\\n",
       "\\hline\n",
       "\t A0A087WT00 & O00154 & 0 &  48 & 1 & 1 & 0\\\\\n",
       "\t A0A087WT00 & O43736 & 0 & 237 & 0 & 1 & 0\\\\\n",
       "\\end{tabular}\n"
      ],
      "text/markdown": [
       "\n",
       "A tibble: 2 × 7\n",
       "\n",
       "| name_a &lt;chr&gt; | name_b &lt;chr&gt; | id_a &lt;dbl&gt; | id_b &lt;dbl&gt; | train &lt;dbl&gt; | test_recon &lt;dbl&gt; | test_new &lt;dbl&gt; |\n",
       "|---|---|---|---|---|---|---|\n",
       "| A0A087WT00 | O00154 | 0 |  48 | 1 | 1 | 0 |\n",
       "| A0A087WT00 | O43736 | 0 | 237 | 0 | 1 | 0 |\n",
       "\n"
      ],
      "text/plain": [
       "  name_a     name_b id_a id_b train test_recon test_new\n",
       "1 A0A087WT00 O00154 0     48  1     1          0       \n",
       "2 A0A087WT00 O43736 0    237  0     1          0       "
      ]
     },
     "metadata": {},
     "output_type": "display_data"
    }
   ],
   "source": [
    "ppi_df <- read_tsv('../../data/task3/2.edges//ppi.tsv.xz')\n",
    "tftg_df <- read_tsv('../../data/task3/2.edges//tftg.tsv.xz')\n",
    "\n",
    "head(ppi_df, 2)"
   ]
  },
  {
   "cell_type": "code",
   "execution_count": 6,
   "metadata": {},
   "outputs": [],
   "source": [
    "df <- bind_rows(\n",
    "    ppi_df %>% \n",
    "        format_degrees %>%\n",
    "        mutate(network = 'PPI'),\n",
    "    tftg_df %>%\n",
    "        format_degrees %>%\n",
    "        mutate(network = 'TF-TG')\n",
    ")\n",
    "\n",
    "reconstruction_df <- df %>%\n",
    "    rename(x = degree_test_recon, y = degree_train) %>%\n",
    "    select(x, y, network) %>%\n",
    "    mutate(task = 'Reconstruction')\n",
    "    \n",
    "\n",
    "systematic_df <- df %>%\n",
    "    rename(x = degree_test_new, y = degree_test_recon) %>%\n",
    "    select(x, y, network) %>%\n",
    "    mutate(task = 'Systematic')\n",
    "\n",
    "vis_df <- bind_rows(reconstruction_df, systematic_df)"
   ]
  },
  {
   "cell_type": "code",
   "execution_count": 7,
   "metadata": {},
   "outputs": [],
   "source": [
    "palette <- 'Spectral'\n",
    "direction <- -1\n",
    "\n",
    "options(repr.plot.width=8, repr.plot.height=4)\n",
    "\n",
    "label_df <- vis_df %>% \n",
    "    filter(task == 'Reconstruction') %>%\n",
    "    group_by(network) %>%\n",
    "    summarize(y = max(y), label = first(network))\n",
    "\n",
    "reconstruction <- (\n",
    "    ggplot(vis_df %>% filter(task == 'Reconstruction'), aes(x = x + 1, y = y + 1))\n",
    "    + stat_binhex(aes(color = ..count..), bins = 15)\n",
    "    + geom_abline(slope = 1, intercept = 0, color = 'black', linetype = 'dashed')\n",
    "    + geom_label(data = label_df, aes(label = label, x = 0, y = 2 * y, hjust = -0.075, vjust = 0.85))\n",
    "    + xlab('Literature degree')\n",
    "    + ylab('Sampled degree')\n",
    "    + facet_grid(rows = vars(network), scales = 'free')\n",
    "    + scale_x_log10()\n",
    "    + scale_y_log10()\n",
    "    + theme_zietzm()\n",
    "    + scale_fill_distiller(palette = palette, direction = direction)\n",
    "    + scale_color_distiller(palette = palette, direction = direction)\n",
    "    + theme(plot.margin = unit(c(0, 1, 0, 0), \"cm\"))\n",
    "#     + theme(strip.text = element_text(hjust = 0))\n",
    "    + theme(strip.placement = \"outside\", strip.text = element_blank())\n",
    ")\n",
    "\n",
    "systematic <- (\n",
    "    ggplot(vis_df %>% filter(task == 'Systematic'), aes(x = x + 1, y = y + 1))\n",
    "    + stat_binhex(aes(color = ..count..), bins = 15)\n",
    "    + geom_abline(slope = 1, intercept = 0, color = 'black', linetype = 'dashed')\n",
    "    + geom_label(data = label_df, aes(label = label, x = 0, y = 2 * y, hjust = -0.075, vjust = 0.85))\n",
    "    + xlab('Systematic degree')\n",
    "    + ylab('Literature degree')\n",
    "    + facet_grid(rows = vars(network), scales = 'free', switch = 'y')\n",
    "    + scale_x_log10()\n",
    "    + scale_y_log10()\n",
    "    + theme_zietzm()\n",
    "    + scale_fill_distiller(palette = palette, direction = direction)\n",
    "    + scale_color_distiller(palette = palette, direction = direction)\n",
    "    + theme(plot.margin = unit(c(0, 1, 0, 0), \"cm\"))\n",
    "    + theme(strip.placement = \"outside\", strip.text = element_blank())\n",
    ")"
   ]
  },
  {
   "cell_type": "markdown",
   "metadata": {},
   "source": [
    "# 3. Subfigure D \n",
    "\n",
    "Degree distributions of some networks within Hetionet"
   ]
  },
  {
   "cell_type": "code",
   "execution_count": 8,
   "metadata": {},
   "outputs": [
    {
     "name": "stderr",
     "output_type": "stream",
     "text": [
      "Parsed with column specification:\n",
      "cols(\n",
      "  degree = col_double(),\n",
      "  metaedge = col_character(),\n",
      "  side = col_character(),\n",
      "  square = col_logical()\n",
      ")\n"
     ]
    },
    {
     "data": {
      "text/html": [
       "<table>\n",
       "<caption>A tibble: 6 × 4</caption>\n",
       "<thead>\n",
       "\t<tr><th scope=col>degree</th><th scope=col>metaedge</th><th scope=col>side</th><th scope=col>square</th></tr>\n",
       "\t<tr><th scope=col>&lt;dbl&gt;</th><th scope=col>&lt;chr&gt;</th><th scope=col>&lt;chr&gt;</th><th scope=col>&lt;lgl&gt;</th></tr>\n",
       "</thead>\n",
       "<tbody>\n",
       "\t<tr><td> 7</td><td>AlD</td><td>source</td><td>FALSE</td></tr>\n",
       "\t<tr><td> 9</td><td>AlD</td><td>source</td><td>FALSE</td></tr>\n",
       "\t<tr><td> 6</td><td>AlD</td><td>source</td><td>FALSE</td></tr>\n",
       "\t<tr><td>10</td><td>AlD</td><td>source</td><td>FALSE</td></tr>\n",
       "\t<tr><td> 9</td><td>AlD</td><td>source</td><td>FALSE</td></tr>\n",
       "\t<tr><td>16</td><td>AlD</td><td>source</td><td>FALSE</td></tr>\n",
       "</tbody>\n",
       "</table>\n"
      ],
      "text/latex": [
       "A tibble: 6 × 4\n",
       "\\begin{tabular}{r|llll}\n",
       " degree & metaedge & side & square\\\\\n",
       " <dbl> & <chr> & <chr> & <lgl>\\\\\n",
       "\\hline\n",
       "\t  7 & AlD & source & FALSE\\\\\n",
       "\t  9 & AlD & source & FALSE\\\\\n",
       "\t  6 & AlD & source & FALSE\\\\\n",
       "\t 10 & AlD & source & FALSE\\\\\n",
       "\t  9 & AlD & source & FALSE\\\\\n",
       "\t 16 & AlD & source & FALSE\\\\\n",
       "\\end{tabular}\n"
      ],
      "text/markdown": [
       "\n",
       "A tibble: 6 × 4\n",
       "\n",
       "| degree &lt;dbl&gt; | metaedge &lt;chr&gt; | side &lt;chr&gt; | square &lt;lgl&gt; |\n",
       "|---|---|---|---|\n",
       "|  7 | AlD | source | FALSE |\n",
       "|  9 | AlD | source | FALSE |\n",
       "|  6 | AlD | source | FALSE |\n",
       "| 10 | AlD | source | FALSE |\n",
       "|  9 | AlD | source | FALSE |\n",
       "| 16 | AlD | source | FALSE |\n",
       "\n"
      ],
      "text/plain": [
       "  degree metaedge side   square\n",
       "1  7     AlD      source FALSE \n",
       "2  9     AlD      source FALSE \n",
       "3  6     AlD      source FALSE \n",
       "4 10     AlD      source FALSE \n",
       "5  9     AlD      source FALSE \n",
       "6 16     AlD      source FALSE "
      ]
     },
     "metadata": {},
     "output_type": "display_data"
    }
   ],
   "source": [
    "hetionet_degree <- read_tsv('../../data/task1/hetionet_degrees.tsv')\n",
    "\n",
    "hetionet_degree %>% head"
   ]
  },
  {
   "cell_type": "code",
   "execution_count": 9,
   "metadata": {},
   "outputs": [],
   "source": [
    "hetionet_degree_plot <- hetionet_degree %>%\n",
    "filter(str_detect(string = metaedge, pattern = 'CrC|AuG|AeG|G<rG|DaG|DdG')) %>%\n",
    "unite('metaedge_side', c('metaedge', 'side'), remove = F) %>%\n",
    "filter(!str_detect(string = metaedge_side, pattern = 'AeG_target|DaG_source|AuG_target|DdG_target')) %>%\n",
    "mutate(\n",
    "    metaedge_side = metaedge_side %>% recode_factor(\n",
    "        AeG_source = 'Anatomy→\\nexpresses→\\nGene',\n",
    "        AuG_source = 'Anatomy→\\nupregulates→\\nGene',\n",
    "        CrC_square = 'Compound-\\nresembles-\\nCompound',\n",
    "        DaG_target = 'Disease→\\nassociates→\\nGene',\n",
    "        DdG_source = 'Disease→\\nregulates→\\nGene',\n",
    "        'G<rG_source' = 'Gene→\\nregulates→\\nGene',\n",
    "        'G<rG_target' = 'Gene←\\nregulates←\\nGene'\n",
    "    )\n",
    ") %>%\n",
    "ggplot(aes(y = degree, x = metaedge_side)) +\n",
    "geom_violin(scale = \"width\", fill = 'grey85') +\n",
    "scale_y_log10() +\n",
    "xlab('Network') +\n",
    "ylab('Node degree') +\n",
    "theme_zietzm()"
   ]
  },
  {
   "cell_type": "markdown",
   "metadata": {},
   "source": [
    "# 4. Subfigure E\n",
    "\n",
    "Correlation between features and degree product"
   ]
  },
  {
   "cell_type": "code",
   "execution_count": 10,
   "metadata": {},
   "outputs": [
    {
     "name": "stderr",
     "output_type": "stream",
     "text": [
      "Parsed with column specification:\n",
      "cols(\n",
      "  id_a = col_double(),\n",
      "  id_b = col_double(),\n",
      "  network = col_character(),\n",
      "  edge = col_double(),\n",
      "  edge_prior = col_double(),\n",
      "  rwr = col_double(),\n",
      "  mean_rwr = col_double(),\n",
      "  p_rwr = col_double(),\n",
      "  jaccard = col_double(),\n",
      "  mean_jaccard = col_double(),\n",
      "  p_jaccard = col_double()\n",
      ")\n",
      "Parsed with column specification:\n",
      "cols(\n",
      "  id_a = col_double(),\n",
      "  id_b = col_double(),\n",
      "  adamic_adar_index = col_double(),\n",
      "  preferential_attachment = col_double(),\n",
      "  resource_allocation_index = col_double(),\n",
      "  source = col_double(),\n",
      "  target = col_double()\n",
      ")\n"
     ]
    }
   ],
   "source": [
    "full_features <- read_tsv('../../data/task3/4.data/ppi.tsv.xz')\n",
    "features_df <- read_csv('../../data/prediction_features.csv.xz')\n",
    "\n",
    "degrees_df <- full_features %>%\n",
    "    filter(network == 'test_recon') %>%\n",
    "    select(id_a, id_b, edge) %>%\n",
    "    group_by(id_a) %>%\n",
    "    mutate(source_degree = sum(edge)) %>%\n",
    "    ungroup() %>%\n",
    "    group_by(id_b) %>%\n",
    "    mutate(target_degree = sum(edge)) %>%\n",
    "    ungroup() %>%\n",
    "    select(-edge) %>%\n",
    "    filter(id_a == id_b) %>%\n",
    "    mutate(degree = source_degree + target_degree) %>%\n",
    "    select(id = id_a, degree)\n",
    "\n",
    "feature_degree_df <- full_features %>%\n",
    "    filter(network == 'test_recon') %>%\n",
    "    select(id_a, id_b, edge, edge_prior, rwr, jaccard) %>%\n",
    "    left_join(features_df, by = c(\"id_a\", \"id_b\")) %>%\n",
    "    select(-source, -target) %>%\n",
    "    left_join(degrees_df, by = c(\"id_a\" = \"id\")) %>%\n",
    "    left_join(degrees_df, by = c(\"id_b\" = \"id\")) %>%\n",
    "    mutate(degree_product = degree.x * degree.y) %>%\n",
    "    filter(edge == 0 & id_a != id_b) %>%\n",
    "    sample_n(1000) %>%\n",
    "    gather('feature', 'value', rwr, jaccard, adamic_adar_index, preferential_attachment, \n",
    "           resource_allocation_index) %>%\n",
    "\n",
    "    mutate(\n",
    "        feature = feature %>% recode_factor(adamic_adar_index = 'Adamic/Adar index', \n",
    "                                            jaccard = 'Jaccard index',\n",
    "                                            preferential_attachment = 'Preferential attachment\\nindex',\n",
    "                                            resource_allocation_index = 'Resource allocation\\nindex',\n",
    "                                            rwr = 'Random walk\\nwith restart',\n",
    "        )\n",
    "    )\n",
    "\n",
    "# Dataframe for annotating correlations onto the facets\n",
    "correlations <- feature_degree_df %>% \n",
    "    group_by(feature) %>%\n",
    "    summarize(r = cor(degree_product, value, method = 'pearson')) %>%\n",
    "    mutate(r = r %>% sprintf(fmt = 'r = %.1f'))"
   ]
  },
  {
   "cell_type": "code",
   "execution_count": 11,
   "metadata": {
    "scrolled": false
   },
   "outputs": [],
   "source": [
    "feature_degree <- feature_degree_df %>%\n",
    "    ggplot(aes(x = degree_product, y = value)) +\n",
    "    geom_point(alpha = 0.3) +\n",
    "    facet_wrap(vars(feature), scales = 'free', nrow = 1) +\n",
    "    xlab('Product of source and target degree') +\n",
    "    ylab('Feature value') +\n",
    "    theme_zietzm() +\n",
    "    theme(axis.text = element_blank()) +\n",
    "    geom_text(data = correlations, aes(x = Inf, y = -Inf, label = r), vjust = -0.75, hjust = 1.1)"
   ]
  },
  {
   "cell_type": "markdown",
   "metadata": {},
   "source": [
    "# 5. Combined figure"
   ]
  },
  {
   "cell_type": "code",
   "execution_count": 12,
   "metadata": {},
   "outputs": [
    {
     "name": "stderr",
     "output_type": "stream",
     "text": [
      "Warning message:\n",
      "“Transformation introduced infinite values in continuous x-axis”Warning message:\n",
      "“Transformation introduced infinite values in continuous x-axis”Warning message:\n",
      "“Transformation introduced infinite values in continuous y-axis”Warning message:\n",
      "“Removed 46652 rows containing non-finite values (stat_ydensity).”"
     ]
    }
   ],
   "source": [
    "options(repr.plot.width=10, repr.plot.height=8)\n",
    "\n",
    "degree_bias <- plot_grid(\n",
    "    reconstruction + theme(legend.position = \"none\", plot.margin = unit(c(0.2, 0.1, 0, 0.3), \"cm\")), \n",
    "    systematic + theme(legend.position = \"none\", plot.margin = unit(c(0.2, 0.2, 0, 0.2), \"cm\")), \n",
    "    ncol = 2, labels = c(\"B\", \"C\"), hjust = -0.01)\n",
    "\n",
    "top_row <- plot_grid(\n",
    "    histogram_dists + theme(plot.margin = unit(c(0.2, 0.1, 0, 0.3), \"cm\")), \n",
    "    degree_bias, \n",
    "#     plot_grid(recon, system, nrow = 1, labels = c(\"B\", \"C\")),\n",
    "    labels = c(\"A\", \"\"),\n",
    "    ncol = 2, rel_widths = c(1, 1.1))\n",
    "\n",
    "combined <- plot_grid(top_row, \n",
    "          hetionet_degree_plot + theme(plot.margin = unit(c(0.5, 0.3, 0.5, 0.3), \"cm\")),\n",
    "          feature_degree + theme(plot.margin = unit(c(0, 0.3, 0, 0.3), \"cm\")),\n",
    "          ncol = 1, rel_heights = c(1, 0.65, 0.65), labels = c(\"\", \"D\", \"E\"))\n",
    "\n",
    "ggsave(filename = '../../img/fig1.bias_features_combined.png', plot = combined, width = 10,\n",
    "       height = 8, dpi = 500)\n",
    "\n",
    "combined"
   ]
  }
 ],
 "metadata": {
  "kernelspec": {
   "display_name": "R [conda env:xswap-analysis] *",
   "language": "R",
   "name": "conda-env-xswap-analysis-r"
  },
  "language_info": {
   "codemirror_mode": "r",
   "file_extension": ".r",
   "mimetype": "text/x-r-source",
   "name": "R",
   "pygments_lexer": "r",
   "version": "3.5.1"
  }
 },
 "nbformat": 4,
 "nbformat_minor": 2
}
