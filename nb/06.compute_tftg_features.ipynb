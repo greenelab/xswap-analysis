{
 "cells": [
  {
   "cell_type": "code",
   "execution_count": 1,
   "metadata": {},
   "outputs": [],
   "source": [
    "import numpy as np\n",
    "import pandas as pd\n",
    "import scipy.sparse\n",
    "import tqdm\n",
    "import xswap\n",
    "\n",
    "import analysis"
   ]
  },
  {
   "cell_type": "code",
   "execution_count": 2,
   "metadata": {},
   "outputs": [],
   "source": [
    "n_perms = 1000\n",
    "allow_antiparallel = True\n",
    "allow_self_loops = True\n",
    "directed = True"
   ]
  },
  {
   "cell_type": "markdown",
   "metadata": {},
   "source": [
    "# 2. TFTG directed network"
   ]
  },
  {
   "cell_type": "code",
   "execution_count": 3,
   "metadata": {},
   "outputs": [
    {
     "name": "stdout",
     "output_type": "stream",
     "text": [
      "(1441, 1441)\n"
     ]
    }
   ],
   "source": [
    "df = pd.read_csv('../data/3.all_nodes/tftg.tsv.xz', sep='\\t', compression='xz')\n",
    "\n",
    "edges = list(map(tuple, \n",
    "    df\n",
    "    .query('train == 1')\n",
    "    .loc[:, ['id_a', 'id_b']]\n",
    "    .values\n",
    "))\n",
    "mat = analysis.edges_to_matrix(edges, directed=directed).tocsc()\n",
    "print(mat.shape)\n",
    "\n",
    "out_degree, in_degree = analysis.compute_directed_degrees(mat)\n",
    "\n",
    "n_source = max(edge[0] for edge in edges) + 1"
   ]
  },
  {
   "cell_type": "code",
   "execution_count": 4,
   "metadata": {},
   "outputs": [],
   "source": [
    "feature_dict = {\n",
    "    'edge_prior': scipy.sparse.csc_matrix((n_source, mat.shape[1])),\n",
    "    \n",
    "    'inf': analysis.directed_inference(mat, out_degree, in_degree, n_source),\n",
    "    'mean_inf': np.zeros((n_source, mat.shape[1]), dtype=float),\n",
    "    'p_inf': np.zeros((n_source, mat.shape[1]), dtype=float),\n",
    "}"
   ]
  },
  {
   "cell_type": "code",
   "execution_count": 5,
   "metadata": {},
   "outputs": [
    {
     "data": {
      "application/vnd.jupyter.widget-view+json": {
       "model_id": "e64ff34bfeff4d8ca87876c2d42b47ed",
       "version_major": 2,
       "version_minor": 0
      },
      "text/plain": [
       "HBox(children=(IntProgress(value=0, max=1000), HTML(value='')))"
      ]
     },
     "metadata": {},
     "output_type": "display_data"
    },
    {
     "name": "stdout",
     "output_type": "stream",
     "text": [
      "\n"
     ]
    }
   ],
   "source": [
    "perm_edges = edges.copy()\n",
    "for i in tqdm.tnrange(n_perms):\n",
    "    perm_edges, _ = xswap.permute_edge_list(perm_edges, allow_self_loops=allow_self_loops, \n",
    "                                            allow_antiparallel=allow_antiparallel, seed=i)\n",
    "    perm_mat = analysis.edges_to_matrix(perm_edges, directed=directed).tocsc()\n",
    "\n",
    "    feature_dict['edge_prior'] += perm_mat[:n_source]\n",
    "    \n",
    "    perm_inf = analysis.directed_inference(perm_mat, out_degree, in_degree, n_source)\n",
    "    feature_dict['mean_inf'] += perm_inf\n",
    "    feature_dict['p_inf'] += (perm_inf >= feature_dict['inf'])"
   ]
  },
  {
   "cell_type": "code",
   "execution_count": 6,
   "metadata": {},
   "outputs": [
    {
     "data": {
      "text/html": [
       "<div>\n",
       "<style scoped>\n",
       "    .dataframe tbody tr th:only-of-type {\n",
       "        vertical-align: middle;\n",
       "    }\n",
       "\n",
       "    .dataframe tbody tr th {\n",
       "        vertical-align: top;\n",
       "    }\n",
       "\n",
       "    .dataframe thead th {\n",
       "        text-align: right;\n",
       "    }\n",
       "</style>\n",
       "<table border=\"1\" class=\"dataframe\">\n",
       "  <thead>\n",
       "    <tr style=\"text-align: right;\">\n",
       "      <th></th>\n",
       "      <th>name_a</th>\n",
       "      <th>name_b</th>\n",
       "      <th>id_a</th>\n",
       "      <th>id_b</th>\n",
       "      <th>train</th>\n",
       "      <th>test_recon</th>\n",
       "      <th>test_new</th>\n",
       "      <th>edge_prior</th>\n",
       "      <th>inf</th>\n",
       "      <th>mean_inf</th>\n",
       "      <th>p_inf</th>\n",
       "    </tr>\n",
       "  </thead>\n",
       "  <tbody>\n",
       "    <tr>\n",
       "      <th>0</th>\n",
       "      <td>AHR</td>\n",
       "      <td>AHR</td>\n",
       "      <td>0</td>\n",
       "      <td>0</td>\n",
       "      <td>0</td>\n",
       "      <td>0</td>\n",
       "      <td>0</td>\n",
       "      <td>0.0</td>\n",
       "      <td>0.0</td>\n",
       "      <td>0.0</td>\n",
       "      <td>1.0</td>\n",
       "    </tr>\n",
       "    <tr>\n",
       "      <th>1</th>\n",
       "      <td>AHR</td>\n",
       "      <td>AR</td>\n",
       "      <td>0</td>\n",
       "      <td>1</td>\n",
       "      <td>0</td>\n",
       "      <td>0</td>\n",
       "      <td>0</td>\n",
       "      <td>0.0</td>\n",
       "      <td>0.0</td>\n",
       "      <td>0.0</td>\n",
       "      <td>1.0</td>\n",
       "    </tr>\n",
       "  </tbody>\n",
       "</table>\n",
       "</div>"
      ],
      "text/plain": [
       "  name_a name_b  id_a  id_b  train  test_recon  test_new  edge_prior  inf  \\\n",
       "0    AHR    AHR     0     0      0           0         0         0.0  0.0   \n",
       "1    AHR     AR     0     1      0           0         0         0.0  0.0   \n",
       "\n",
       "   mean_inf  p_inf  \n",
       "0       0.0    1.0  \n",
       "1       0.0    1.0  "
      ]
     },
     "execution_count": 6,
     "metadata": {},
     "output_type": "execute_result"
    }
   ],
   "source": [
    "for feature, array in feature_dict.items():\n",
    "    # Normalize features by the number of permutations\n",
    "    if feature in ['edge_prior', 'mean_inf', 'p_inf']:\n",
    "        feature_dict[feature] /= n_perms\n",
    "    \n",
    "    # Make features dense (for DataFrame)\n",
    "    if scipy.sparse.issparse(array):\n",
    "        array = array.toarray()\n",
    "    \n",
    "    feature_df = (\n",
    "        pd.DataFrame(array[:n_source])\n",
    "        .reset_index()\n",
    "        .melt(id_vars=['index'])\n",
    "        .rename(columns={'index': 'id_a', 'variable': 'id_b', 'value': feature})\n",
    "        .assign(\n",
    "            id_a=lambda df: df['id_a'].astype(int),\n",
    "            id_b=lambda df: df['id_b'].astype(int),\n",
    "        )\n",
    "    )\n",
    "    df = df.merge(feature_df, how='left', on=['id_a', 'id_b'])\n",
    "    \n",
    "df.head(2)"
   ]
  },
  {
   "cell_type": "code",
   "execution_count": 7,
   "metadata": {},
   "outputs": [
    {
     "name": "stdout",
     "output_type": "stream",
     "text": [
      "CPU times: user 8.92 s, sys: 51.1 ms, total: 8.97 s\n",
      "Wall time: 13.6 s\n"
     ]
    }
   ],
   "source": [
    "%%time\n",
    "\n",
    "df.to_csv('../data/4.data/tftg.tsv.xz', sep='\\t', compression='xz', index=False)"
   ]
  }
 ],
 "metadata": {
  "kernelspec": {
   "display_name": "Python [conda env:xswap-analysis] *",
   "language": "python",
   "name": "conda-env-xswap-analysis-py"
  },
  "language_info": {
   "codemirror_mode": {
    "name": "ipython",
    "version": 3
   },
   "file_extension": ".py",
   "mimetype": "text/x-python",
   "name": "python",
   "nbconvert_exporter": "python",
   "pygments_lexer": "ipython3",
   "version": "3.7.3"
  }
 },
 "nbformat": 4,
 "nbformat_minor": 2
}
