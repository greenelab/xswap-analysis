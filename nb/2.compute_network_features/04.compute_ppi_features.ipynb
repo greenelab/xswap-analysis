{
 "cells": [
  {
   "cell_type": "code",
   "execution_count": 1,
   "metadata": {},
   "outputs": [],
   "source": [
    "import sys\n",
    "\n",
    "import numpy as np\n",
    "import pandas as pd\n",
    "import scipy.sparse\n",
    "import tqdm\n",
    "import xswap\n",
    "\n",
    "sys.path.insert(0, '../')\n",
    "\n",
    "import analysis"
   ]
  },
  {
   "cell_type": "code",
   "execution_count": 2,
   "metadata": {},
   "outputs": [],
   "source": [
    "n_perms = 1000\n",
    "allow_antiparallel = False\n",
    "allow_self_loops = True\n",
    "directed = False"
   ]
  },
  {
   "cell_type": "markdown",
   "metadata": {},
   "source": [
    "# 1. PPI network"
   ]
  },
  {
   "cell_type": "code",
   "execution_count": null,
   "metadata": {},
   "outputs": [
    {
     "name": "stdout",
     "output_type": "stream",
     "text": [
      "train (4083, 4083)\n"
     ]
    },
    {
     "data": {
      "application/vnd.jupyter.widget-view+json": {
       "model_id": "f6169938b44e461a8045fca370144a47",
       "version_major": 2,
       "version_minor": 0
      },
      "text/plain": [
       "HBox(children=(IntProgress(value=0, max=1000), HTML(value='')))"
      ]
     },
     "metadata": {},
     "output_type": "display_data"
    }
   ],
   "source": [
    "ppi_df = pd.read_csv('../../data/3.all_nodes/ppi.tsv.xz', sep='\\t', compression='xz')\n",
    "\n",
    "full_features_df = pd.DataFrame()\n",
    "\n",
    "for network in ['train', 'test_recon', 'test_new']:\n",
    "    edges = list(map(tuple, \n",
    "        ppi_df\n",
    "        .query(f'{network} == 1')\n",
    "        .loc[:, ['id_a', 'id_b']]\n",
    "        .values\n",
    "    ))\n",
    "    mat = analysis.edges_to_matrix(edges, directed=directed)\n",
    "    print(network, mat.shape)\n",
    "    degree_matrix = np.repeat(mat.sum(axis=1), mat.shape[1], axis=1) \\\n",
    "                    + np.repeat(mat.sum(axis=0), mat.shape[0], axis=0)\n",
    "    \n",
    "    # RWR is fastest on this network with exact matrix inverse on dense array\n",
    "    feature_dict = {\n",
    "        'edge_prior': scipy.sparse.csc_matrix(mat.shape),\n",
    "        'rwr': analysis.invertible_rwr(mat.toarray(), 0.25),\n",
    "        'mean_rwr': np.zeros(mat.shape),\n",
    "        'p_rwr': np.zeros(mat.shape),\n",
    "        'jaccard': analysis.jaccard(mat, degree_matrix),\n",
    "        'mean_jaccard': np.zeros(mat.shape),\n",
    "        'p_jaccard': np.zeros(mat.shape),\n",
    "    }\n",
    "    \n",
    "    perm_edges = edges.copy()\n",
    "    for i in tqdm.tnrange(n_perms):\n",
    "        perm_edges, _ = xswap.permute_edge_list(\n",
    "            perm_edges, \n",
    "            allow_self_loops=allow_self_loops, \n",
    "            allow_antiparallel=allow_antiparallel, \n",
    "            seed=i\n",
    "        )\n",
    "        perm_mat = analysis.edges_to_matrix(perm_edges, directed=directed).tocsc()\n",
    "\n",
    "        feature_dict['edge_prior'] += perm_mat\n",
    "\n",
    "        perm_rwr = analysis.invertible_rwr(perm_mat.toarray(), 0.25)\n",
    "        feature_dict['mean_rwr'] += perm_rwr\n",
    "        feature_dict['p_rwr'] += (perm_rwr >= feature_dict['rwr'])\n",
    "\n",
    "        perm_jaccard = analysis.jaccard(perm_mat, degree_matrix)\n",
    "        feature_dict['mean_jaccard'] += perm_jaccard\n",
    "        feature_dict['p_jaccard'] += (perm_jaccard >= feature_dict['jaccard'])\n",
    "        \n",
    "    # Post-process features\n",
    "    network_features_df = None\n",
    "    for feature, array in feature_dict.items():\n",
    "        # Normalize features by the number of permutations\n",
    "        if feature in ['edge_prior', 'mean_rwr', 'p_rwr', 'mean_jaccard', 'p_jaccard']:\n",
    "            feature_dict[feature] /= n_perms\n",
    "            \n",
    "        # Make features dense (for DataFrame)\n",
    "        if scipy.sparse.issparse(array):\n",
    "            array = array.toarray()\n",
    "            \n",
    "        feature_df = (\n",
    "            pd.DataFrame(array)\n",
    "            .reset_index()\n",
    "            .melt(id_vars=['index'])\n",
    "            .rename(columns={'index': 'id_a', 'variable': 'id_b', 'value': feature})\n",
    "            .assign(\n",
    "                id_a=lambda df: df['id_a'].astype(int),\n",
    "                id_b=lambda df: df['id_b'].astype(int),\n",
    "                network=network,\n",
    "            )\n",
    "            .query('id_a <= id_b')\n",
    "        )\n",
    "        if network_features_df is None:\n",
    "            network_features_df = feature_df\n",
    "        else:\n",
    "            network_features_df = network_features_df.merge(feature_df, on=['id_a', 'id_b', 'network'])\n",
    "\n",
    "    full_features_df = pd.concat([full_features_df, network_features_df])"
   ]
  },
  {
   "cell_type": "code",
   "execution_count": null,
   "metadata": {},
   "outputs": [],
   "source": [
    "%%time\n",
    "ppi_features_df = (\n",
    "    ppi_df\n",
    "    .melt(\n",
    "        id_vars=['id_a', 'id_b'],\n",
    "        value_vars=['train', 'test_recon', 'test_new'],\n",
    "        var_name='network', value_name='edge'\n",
    "    )\n",
    "    .merge(full_features_df, on=['id_a', 'id_b', 'network'], how='left')\n",
    ")\n",
    "    \n",
    "ppi_features_df.to_csv('../../data/4.data/ppi.tsv.xz', sep='\\t', compression='xz', index=False)"
   ]
  }
 ],
 "metadata": {
  "kernelspec": {
   "display_name": "Python [conda env:xswap-analysis] *",
   "language": "python",
   "name": "conda-env-xswap-analysis-py"
  },
  "language_info": {
   "codemirror_mode": {
    "name": "ipython",
    "version": 3
   },
   "file_extension": ".py",
   "mimetype": "text/x-python",
   "name": "python",
   "nbconvert_exporter": "python",
   "pygments_lexer": "ipython3",
   "version": "3.7.3"
  }
 },
 "nbformat": 4,
 "nbformat_minor": 2
}
