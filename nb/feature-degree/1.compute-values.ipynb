{
 "cells": [
  {
   "cell_type": "code",
   "execution_count": 1,
   "metadata": {},
   "outputs": [],
   "source": [
    "import hetmatpy.hetmat\n",
    "import networkx as nx\n",
    "import numpy as np\n",
    "import pandas as pd\n",
    "import sklearn.metrics\n",
    "import tqdm\n",
    "import xswap\n",
    "\n",
    "import sys\n",
    "\n",
    "sys.path.insert(0, '../')\n",
    "\n",
    "import analysis"
   ]
  },
  {
   "cell_type": "code",
   "execution_count": 2,
   "metadata": {},
   "outputs": [],
   "source": [
    "num_perms = 100"
   ]
  },
  {
   "cell_type": "code",
   "execution_count": 3,
   "metadata": {},
   "outputs": [],
   "source": [
    "edges_df = pd.read_csv('../../data/task3/2.edges/ppi.tsv.xz', compression='xz', sep='\\t')\n",
    "\n",
    "edges = list(map(tuple, edges_df.query('train == 1')[['id_a', 'id_b']].values))\n",
    "edges, mapping, _ = xswap.preprocessing.map_str_edges(edges, bipartite=False)\n",
    "num_nodes = max(map(max, edges)) + 1"
   ]
  },
  {
   "cell_type": "code",
   "execution_count": 4,
   "metadata": {},
   "outputs": [
    {
     "ename": "KeyboardInterrupt",
     "evalue": "",
     "output_type": "error",
     "traceback": [
      "\u001b[0;31m---------------------------------------------------------------------------\u001b[0m",
      "\u001b[0;31mKeyboardInterrupt\u001b[0m                         Traceback (most recent call last)",
      "\u001b[0;32m<ipython-input-4-c9ccee8a4fb3>\u001b[0m in \u001b[0;36m<module>\u001b[0;34m\u001b[0m\n\u001b[1;32m     22\u001b[0m \u001b[0mrwr\u001b[0m \u001b[0;34m=\u001b[0m \u001b[0mnp\u001b[0m\u001b[0;34m.\u001b[0m\u001b[0marray\u001b[0m\u001b[0;34m(\u001b[0m\u001b[0mrwr_mat\u001b[0m\u001b[0;34m)\u001b[0m\u001b[0;34m.\u001b[0m\u001b[0mflatten\u001b[0m\u001b[0;34m(\u001b[0m\u001b[0;34m)\u001b[0m\u001b[0;34m\u001b[0m\u001b[0;34m\u001b[0m\u001b[0m\n\u001b[1;32m     23\u001b[0m edge_prior = xswap.prior.compute_xswap_priors(edges, num_perms, shape=(num_nodes, num_nodes),\n\u001b[0;32m---> 24\u001b[0;31m                                               allow_self_loops=True, allow_antiparallel=False)\n\u001b[0m\u001b[1;32m     25\u001b[0m \u001b[0medge_prior\u001b[0m \u001b[0;34m=\u001b[0m \u001b[0medge_prior\u001b[0m\u001b[0;34m[\u001b[0m\u001b[0;34m'xswap_prior'\u001b[0m\u001b[0;34m]\u001b[0m\u001b[0;34m.\u001b[0m\u001b[0mvalues\u001b[0m\u001b[0;34m\u001b[0m\u001b[0;34m\u001b[0m\u001b[0m\n\u001b[1;32m     26\u001b[0m \u001b[0;34m\u001b[0m\u001b[0m\n",
      "\u001b[0;32m~/miniconda3/envs/xswap-analysis/lib/python3.7/site-packages/xswap/prior.py\u001b[0m in \u001b[0;36mcompute_xswap_priors\u001b[0;34m(edge_list, n_permutations, shape, allow_self_loops, allow_antiparallel, swap_multiplier, initial_seed, max_malloc, dtypes)\u001b[0m\n\u001b[1;32m    195\u001b[0m         \u001b[0mallow_self_loops\u001b[0m\u001b[0;34m=\u001b[0m\u001b[0mallow_self_loops\u001b[0m\u001b[0;34m,\u001b[0m \u001b[0mallow_antiparallel\u001b[0m\u001b[0;34m=\u001b[0m\u001b[0mallow_antiparallel\u001b[0m\u001b[0;34m,\u001b[0m\u001b[0;34m\u001b[0m\u001b[0;34m\u001b[0m\u001b[0m\n\u001b[1;32m    196\u001b[0m         \u001b[0mswap_multiplier\u001b[0m\u001b[0;34m=\u001b[0m\u001b[0mswap_multiplier\u001b[0m\u001b[0;34m,\u001b[0m \u001b[0minitial_seed\u001b[0m\u001b[0;34m=\u001b[0m\u001b[0minitial_seed\u001b[0m\u001b[0;34m,\u001b[0m\u001b[0;34m\u001b[0m\u001b[0;34m\u001b[0m\u001b[0m\n\u001b[0;32m--> 197\u001b[0;31m         max_malloc=max_malloc)\n\u001b[0m\u001b[1;32m    198\u001b[0m \u001b[0;34m\u001b[0m\u001b[0m\n\u001b[1;32m    199\u001b[0m     \u001b[0mprior_df\u001b[0m\u001b[0;34m[\u001b[0m\u001b[0;34m'num_permuted_edges'\u001b[0m\u001b[0;34m]\u001b[0m \u001b[0;34m=\u001b[0m \u001b[0medge_counter\u001b[0m\u001b[0;34m.\u001b[0m\u001b[0mtoarray\u001b[0m\u001b[0;34m(\u001b[0m\u001b[0;34m)\u001b[0m\u001b[0;34m.\u001b[0m\u001b[0mflatten\u001b[0m\u001b[0;34m(\u001b[0m\u001b[0;34m)\u001b[0m\u001b[0;34m\u001b[0m\u001b[0;34m\u001b[0m\u001b[0m\n",
      "\u001b[0;32m~/miniconda3/envs/xswap-analysis/lib/python3.7/site-packages/xswap/prior.py\u001b[0m in \u001b[0;36mcompute_xswap_occurrence_matrix\u001b[0;34m(edge_list, n_permutations, shape, allow_self_loops, allow_antiparallel, swap_multiplier, initial_seed, max_malloc)\u001b[0m\n\u001b[1;32m     85\u001b[0m         permuted_edges, stats = xswap._xswap_backend._xswap(\n\u001b[1;32m     86\u001b[0m             \u001b[0medge_list\u001b[0m\u001b[0;34m,\u001b[0m \u001b[0;34m[\u001b[0m\u001b[0;34m]\u001b[0m\u001b[0;34m,\u001b[0m \u001b[0mmax_id\u001b[0m\u001b[0;34m,\u001b[0m \u001b[0mallow_self_loops\u001b[0m\u001b[0;34m,\u001b[0m \u001b[0mallow_antiparallel\u001b[0m\u001b[0;34m,\u001b[0m\u001b[0;34m\u001b[0m\u001b[0;34m\u001b[0m\u001b[0m\n\u001b[0;32m---> 87\u001b[0;31m             num_swaps, initial_seed + i, max_malloc)\n\u001b[0m\u001b[1;32m     88\u001b[0m         permuted_matrix = xswap.network_formats.edges_to_matrix(\n\u001b[1;32m     89\u001b[0m             \u001b[0mpermuted_edges\u001b[0m\u001b[0;34m,\u001b[0m \u001b[0madd_reverse_edges\u001b[0m\u001b[0;34m=\u001b[0m\u001b[0;34m(\u001b[0m\u001b[0;32mnot\u001b[0m \u001b[0mallow_antiparallel\u001b[0m\u001b[0;34m)\u001b[0m\u001b[0;34m,\u001b[0m\u001b[0;34m\u001b[0m\u001b[0;34m\u001b[0m\u001b[0m\n",
      "\u001b[0;31mKeyboardInterrupt\u001b[0m: "
     ]
    }
   ],
   "source": [
    "mat = xswap.network_formats.edges_to_matrix(edges, True, (num_nodes, num_nodes), sparse=True)\n",
    "\n",
    "df = pd.DataFrame({\n",
    "    'source': np.repeat(range(num_nodes), num_nodes), \n",
    "    'target': np.repeat(np.arange(num_nodes).reshape((1, num_nodes)), num_nodes, axis = 0).flatten(),\n",
    "    'edge': mat.toarray().flatten(),\n",
    "    'source_degree': np.repeat(np.array(mat.sum(axis=1)), mat.shape[1], axis=1).flatten(),\n",
    "    'target_degree': np.repeat(np.array(mat.sum(axis=0)), mat.shape[0], axis=0).flatten(),\n",
    "})\n",
    "\n",
    "degree_matrix = np.repeat(mat.sum(axis=1), mat.shape[1], axis=1) \\\n",
    "                + np.repeat(mat.sum(axis=0), mat.shape[0], axis=0)\n",
    "\n",
    "unpermuted_auroc = list()\n",
    "\n",
    "adamic = analysis.adamic_adar_index(mat).flatten()\n",
    "jaccard = analysis.jaccard(mat, degree_matrix)\n",
    "jaccard = np.array(jaccard).flatten()\n",
    "preferential = analysis.preferential_attachment_index(mat).flatten()\n",
    "resource = analysis.resource_allocation_index(mat).flatten()\n",
    "rwr_mat = analysis.invertible_rwr(mat.toarray(), 0.25)\n",
    "rwr = np.array(rwr_mat).flatten()\n",
    "edge_prior = xswap.prior.compute_xswap_priors(edges, num_perms, shape=(num_nodes, num_nodes),\n",
    "                                              allow_self_loops=True, allow_antiparallel=False)\n",
    "edge_prior = edge_prior['xswap_prior'].values\n",
    "\n",
    "full_features_df = (\n",
    "    df\n",
    "    .assign(\n",
    "        adamic = adamic,\n",
    "        jaccard = jaccard,\n",
    "        preferential = preferential,\n",
    "        resource = resource,\n",
    "        rwr = rwr,\n",
    "        edge_prior = edge_prior,\n",
    "    )\n",
    ")\n",
    "\n",
    "full_features_df.to_csv('../../data/unperm_feature_values.csv', index=False)\n",
    "\n",
    "unpermuted_auroc_df = pd.DataFrame([{\n",
    "    feature: sklearn.metrics.roc_auc_score(full_features_df['edge'], full_features_df[feature])\n",
    "    for feature in ['adamic', 'jaccard', 'preferential', 'resource', 'rwr', 'edge_prior']\n",
    "}])\n",
    "\n",
    "unpermuted_auroc_df.to_csv('../../data/unperm_auroc_values.csv', index=False)\n",
    "\n",
    "unpermuted_auroc_df.head()"
   ]
  },
  {
   "cell_type": "code",
   "execution_count": null,
   "metadata": {},
   "outputs": [],
   "source": [
    "auroc_values = list()\n",
    "\n",
    "new_edges = edges.copy()\n",
    "for i in tqdm.tnrange(num_perms):\n",
    "    new_edges, _ = xswap.permute_edge_list(new_edges, allow_self_loops=True, \n",
    "                                           allow_antiparallel=False)\n",
    "    perm_mat = xswap.network_formats.edges_to_matrix(\n",
    "        new_edges, True, (num_nodes, num_nodes), bool, sparse = True)\n",
    "    \n",
    "    features_dict = {\n",
    "        'adamic': analysis.adamic_adar_index(perm_mat).flatten(),\n",
    "        'preferential': analysis.preferential_attachment_index(perm_mat).flatten(),\n",
    "        'resource': analysis.resource_allocation_index(perm_mat).flatten(),\n",
    "    }\n",
    "    jaccard = analysis.jaccard(perm_mat, degree_matrix)\n",
    "    features_dict['jaccard'] = np.array(jaccard).flatten()    \n",
    "    rwr_mat = analysis.invertible_rwr(perm_mat.toarray(), 0.25)\n",
    "    features_dict['rwr'] = np.array(rwr_mat).flatten()\n",
    "\n",
    "    row = {\n",
    "        feature: sklearn.metrics.roc_auc_score(full_features_df['edge'], features_dict[feature])\n",
    "        for feature in ['adamic', 'jaccard', 'preferential', 'resource', 'rwr']\n",
    "    }\n",
    "    auroc_values.append(row)"
   ]
  },
  {
   "cell_type": "code",
   "execution_count": null,
   "metadata": {},
   "outputs": [],
   "source": [
    "perm_auroc_df = pd.DataFrame(auroc_values, columns=['adamic', 'jaccard', 'preferential', \n",
    "                                                    'resource', 'rwr'])\n",
    "\n",
    "perm_auroc_df.to_csv('../../data/perm_auroc_values.csv', index=False)\n",
    "\n",
    "perm_auroc_df.head()"
   ]
  }
 ],
 "metadata": {
  "kernelspec": {
   "display_name": "Python [conda env:xswap-analysis] *",
   "language": "python",
   "name": "conda-env-xswap-analysis-py"
  },
  "language_info": {
   "codemirror_mode": {
    "name": "ipython",
    "version": 3
   },
   "file_extension": ".py",
   "mimetype": "text/x-python",
   "name": "python",
   "nbconvert_exporter": "python",
   "pygments_lexer": "ipython3",
   "version": "3.7.3"
  }
 },
 "nbformat": 4,
 "nbformat_minor": 2
}
