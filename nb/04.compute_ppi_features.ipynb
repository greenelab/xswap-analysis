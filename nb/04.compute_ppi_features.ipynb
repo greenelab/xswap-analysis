{
 "cells": [
  {
   "cell_type": "code",
   "execution_count": 1,
   "metadata": {},
   "outputs": [],
   "source": [
    "import numpy as np\n",
    "import pandas as pd\n",
    "import scipy.sparse\n",
    "import tqdm\n",
    "import xswap\n",
    "\n",
    "import analysis"
   ]
  },
  {
   "cell_type": "code",
   "execution_count": 2,
   "metadata": {},
   "outputs": [],
   "source": [
    "n_perms = 1000\n",
    "allow_antiparallel = False\n",
    "allow_self_loops = True\n",
    "directed = False"
   ]
  },
  {
   "cell_type": "markdown",
   "metadata": {},
   "source": [
    "# 1. PPI network"
   ]
  },
  {
   "cell_type": "code",
   "execution_count": 3,
   "metadata": {},
   "outputs": [
    {
     "name": "stdout",
     "output_type": "stream",
     "text": [
      "(4083, 4083)\n"
     ]
    }
   ],
   "source": [
    "ppi_df = pd.read_csv('../data/3.all_nodes/ppi.tsv.xz', sep='\\t', compression='xz')\n",
    "\n",
    "ppi_edges = list(map(tuple, \n",
    "    ppi_df\n",
    "    .query('train == 1')\n",
    "    .loc[:, ['id_a', 'id_b']]\n",
    "    .values\n",
    "))\n",
    "ppi_mat = analysis.edges_to_matrix(ppi_edges, directed=directed)\n",
    "print(ppi_mat.shape)\n",
    "\n",
    "degree = np.repeat(ppi_mat.sum(axis=1), ppi_mat.shape[1], axis=1) \\\n",
    "         + np.repeat(ppi_mat.sum(axis=0), ppi_mat.shape[0], axis=0)"
   ]
  },
  {
   "cell_type": "code",
   "execution_count": null,
   "metadata": {},
   "outputs": [],
   "source": [
    "feature_dict = {\n",
    "    'edge_prior': scipy.sparse.csc_matrix(ppi_mat.shape),\n",
    "    \n",
    "    # RWR is fastest on this network with exact matrix inverse on dense array\n",
    "    'rwr': analysis.invertible_rwr(ppi_mat.toarray(), 0.25),\n",
    "    'mean_rwr': np.zeros(ppi_mat.shape),\n",
    "    'p_rwr': np.zeros(ppi_mat.shape),\n",
    "    \n",
    "    'jaccard': analysis.jaccard(ppi_mat, degree),\n",
    "    'mean_jaccard': np.zeros(ppi_mat.shape),\n",
    "    'p_jaccard': np.zeros(ppi_mat.shape),\n",
    "}"
   ]
  },
  {
   "cell_type": "code",
   "execution_count": null,
   "metadata": {},
   "outputs": [
    {
     "data": {
      "application/vnd.jupyter.widget-view+json": {
       "model_id": "47c6f363c7cc47c88740fbc5dc967840",
       "version_major": 2,
       "version_minor": 0
      },
      "text/plain": [
       "HBox(children=(IntProgress(value=0, max=1000), HTML(value='')))"
      ]
     },
     "metadata": {},
     "output_type": "display_data"
    }
   ],
   "source": [
    "perm_edges = ppi_edges.copy()\n",
    "for i in tqdm.tnrange(n_perms):\n",
    "    perm_edges, _ = xswap.permute_edge_list(perm_edges, allow_self_loops=allow_self_loops, \n",
    "                                            allow_antiparallel=allow_antiparallel, seed=i)\n",
    "    perm_mat = analysis.edges_to_matrix(perm_edges, directed=directed).tocsc()\n",
    "    \n",
    "    feature_dict['edge_prior'] += perm_mat\n",
    "    \n",
    "    perm_rwr = analysis.invertible_rwr(perm_mat.toarray(), 0.25)\n",
    "    feature_dict['mean_rwr'] += perm_rwr\n",
    "    feature_dict['p_rwr'] += (perm_rwr >= feature_dict['rwr'])\n",
    "    \n",
    "    perm_jaccard = analysis.jaccard(perm_mat, degree)\n",
    "    feature_dict['mean_jaccard'] += perm_jaccard\n",
    "    feature_dict['p_jaccard'] += (perm_jaccard >= feature_dict['jaccard'])"
   ]
  },
  {
   "cell_type": "markdown",
   "metadata": {},
   "source": [
    "Note: below, it may seem more obvious to just flatten the computed feature matrices and add them as columns to the DataFrame. Unfortunately, this would not work, as the flattened matrix has far more entries than the DataFrame, which only stores the values where `id_a` $\\leq$ `id_b`. More specifically, the DataFrame keeps only "
   ]
  },
  {
   "cell_type": "code",
   "execution_count": null,
   "metadata": {},
   "outputs": [],
   "source": [
    "for feature, array in feature_dict.items():\n",
    "    # Normalize features by the number of permutations\n",
    "    if feature in ['edge_prior', 'mean_rwr', 'p_rwr', 'mean_jaccard', 'p_jaccard']:\n",
    "        feature_dict[feature] /= n_perms\n",
    "    \n",
    "    # Make features dense (for DataFrame)\n",
    "    if scipy.sparse.issparse(array):\n",
    "        array = array.toarray()\n",
    "    \n",
    "    feature_df = (\n",
    "        pd.DataFrame(array)\n",
    "        .reset_index()\n",
    "        .melt(id_vars=['index'])\n",
    "        .rename(columns={'index': 'id_a', 'variable': 'id_b', 'value': feature})\n",
    "        .assign(\n",
    "            id_a=lambda df: df['id_a'].astype(int),\n",
    "            id_b=lambda df: df['id_b'].astype(int),\n",
    "        )\n",
    "        .query('id_a <= id_b')\n",
    "    )\n",
    "    \n",
    "    ppi_df = (\n",
    "        ppi_df\n",
    "        .merge(feature_df, how='left', on=['id_a', 'id_b'])\n",
    "    )\n",
    "ppi_df.head(2)"
   ]
  },
  {
   "cell_type": "code",
   "execution_count": null,
   "metadata": {},
   "outputs": [],
   "source": [
    "%%time\n",
    "\n",
    "ppi_df.to_csv('../data/4.data/ppi.tsv.xz', sep='\\t', compression='xz', index=False)"
   ]
  }
 ],
 "metadata": {
  "kernelspec": {
   "display_name": "Python [conda env:xswap-analysis] *",
   "language": "python",
   "name": "conda-env-xswap-analysis-py"
  },
  "language_info": {
   "codemirror_mode": {
    "name": "ipython",
    "version": 3
   },
   "file_extension": ".py",
   "mimetype": "text/x-python",
   "name": "python",
   "nbconvert_exporter": "python",
   "pygments_lexer": "ipython3",
   "version": "3.7.3"
  }
 },
 "nbformat": 4,
 "nbformat_minor": 2
}
