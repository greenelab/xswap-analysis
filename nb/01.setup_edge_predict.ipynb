{
 "cells": [
  {
   "cell_type": "code",
   "execution_count": 1,
   "metadata": {},
   "outputs": [],
   "source": [
    "import csv\n",
    "import itertools\n",
    "import json\n",
    "import lzma\n",
    "import pathlib\n",
    "import random\n",
    "\n",
    "import networkx as nx\n",
    "import numpy as np\n",
    "import pandas as pd\n",
    "import scipy.sparse\n",
    "\n",
    "import hetmatpy.degree_weight\n",
    "import hetmatpy.hetmat\n",
    "import xswap"
   ]
  },
  {
   "cell_type": "markdown",
   "metadata": {},
   "source": [
    "## Create HetMat for PPI"
   ]
  },
  {
   "cell_type": "markdown",
   "metadata": {},
   "source": [
    "### Setup directories"
   ]
  },
  {
   "cell_type": "code",
   "execution_count": 2,
   "metadata": {},
   "outputs": [],
   "source": [
    "ppi_hetmat_path = pathlib.Path('../data/ppi_hetmat/')\n",
    "ppi_hetmat_path.mkdir(exist_ok=True)\n",
    "ppi_hetmat_path.joinpath('nodes').mkdir(exist_ok=True)\n",
    "ppi_hetmat_path.joinpath('edges').mkdir(exist_ok=True)"
   ]
  },
  {
   "cell_type": "markdown",
   "metadata": {},
   "source": [
    "### Set metagraph.json"
   ]
  },
  {
   "cell_type": "code",
   "execution_count": 3,
   "metadata": {},
   "outputs": [],
   "source": [
    "metagraph = {\n",
    "  \"metanode_kinds\": [\n",
    "    \"Protein\"\n",
    "  ],\n",
    "  \"metaedge_tuples\": [\n",
    "    [\n",
    "      \"Protein\",\n",
    "      \"Protein\",\n",
    "      \"interacts\",\n",
    "      \"both\"\n",
    "    ],\n",
    "    [\n",
    "      \"Protein\",\n",
    "      \"Protein\",\n",
    "      \"interacts-pruned\",\n",
    "      \"both\"\n",
    "    ]\n",
    "  ],\n",
    "  \"kind_to_abbrev\": {\n",
    "    \"Protein\": \"P\",\n",
    "    \"interacts\": \"i\",\n",
    "    \"interacts-pruned\": \"p\"\n",
    "  }\n",
    "}\n",
    "with open(ppi_hetmat_path.joinpath('metagraph.json'), 'w') as metagraph_file:\n",
    "    json.dump(metagraph, metagraph_file, indent=2)"
   ]
  },
  {
   "cell_type": "markdown",
   "metadata": {},
   "source": [
    "### Set nodes"
   ]
  },
  {
   "cell_type": "code",
   "execution_count": 4,
   "metadata": {},
   "outputs": [],
   "source": [
    "mapping_df = (\n",
    "    pd.read_csv('../data/mappings/protein-protein.csv')\n",
    "    .filter(items=['mapped', 'original'])\n",
    "    .rename(columns={'mapped': 'position', 'original': 'identifier'})\n",
    "    .assign(name='unknown')\n",
    "    .sort_values('position')\n",
    "    .reset_index(drop=True)\n",
    ")\n",
    "mapping_df.to_csv(ppi_hetmat_path.joinpath('nodes/Protein.tsv'), sep='\\t', index=False)"
   ]
  },
  {
   "cell_type": "markdown",
   "metadata": {},
   "source": [
    "### Set edges"
   ]
  },
  {
   "cell_type": "code",
   "execution_count": 5,
   "metadata": {},
   "outputs": [],
   "source": [
    "num_nodes = len(mapping_df)\n",
    "edges = xswap.preprocessing.load_processed_edges('../data/processed/protein-protein.csv')\n",
    "\n",
    "# Direction swap edges so that source <= target\n",
    "edges = [edge for edge in edges if edge[0] <= edge[1]] + [(edge[1], edge[0]) for edge in edges if edge[0] > edge[1]]"
   ]
  },
  {
   "cell_type": "code",
   "execution_count": 6,
   "metadata": {},
   "outputs": [],
   "source": [
    "sample_size = int(0.2 * len(edges))\n",
    "random.seed(0)\n",
    "sampled_edges = random.sample(edges, sample_size)\n",
    "pruned_edges = list(set(edges) - set(sampled_edges))\n",
    "\n",
    "def save_edges(edges, metaedge_name):\n",
    "    mat = scipy.sparse.coo_matrix((np.ones(len(edges)), (zip(*edges))), shape=(num_nodes, num_nodes))\n",
    "    mat = (mat + mat.T - np.diag(mat.diagonal()))  # Matrix is not symmetric but contains no repeats. Make sym.\n",
    "    mat = scipy.sparse.csc_matrix(mat)\n",
    "    scipy.sparse.save_npz(ppi_hetmat_path.joinpath(f'edges/{metaedge_name}.sparse.npz'), mat)\n",
    "\n",
    "save_edges(edges, 'PiP')\n",
    "save_edges(pruned_edges, 'PpP')"
   ]
  },
  {
   "cell_type": "markdown",
   "metadata": {},
   "source": [
    "## Compute features"
   ]
  },
  {
   "cell_type": "code",
   "execution_count": 7,
   "metadata": {},
   "outputs": [],
   "source": [
    "hetmat = hetmatpy.hetmat.HetMat(ppi_hetmat_path)\n",
    "row, col, ppp_matrix = hetmat.metaedge_to_adjacency_matrix('PpP', dense_threshold=0)\n",
    "graph = nx.from_numpy_array(ppp_matrix)"
   ]
  },
  {
   "cell_type": "raw",
   "metadata": {},
   "source": [
    "def process_edges(edge_gen, max_source, max_target):\n",
    "    edge_to_val = {edge[0:2]: edge[2] for edge in edge_gen}\n",
    "    for edge in itertools.product(range(max_source), range(max_target)):\n",
    "        val = edge_to_val.setdefault(edge, None)\n",
    "        yield val"
   ]
  },
  {
   "cell_type": "code",
   "execution_count": 9,
   "metadata": {},
   "outputs": [],
   "source": [
    "source, target, dwpc_matrix_2 = hetmatpy.degree_weight.dwpc(hetmat, 'PpPpP', dense_threshold=1)\n",
    "source, target, dwpc_matrix_3 = hetmatpy.degree_weight.dwpc(hetmat, 'PpPpPpP', dense_threshold=1)"
   ]
  },
  {
   "cell_type": "code",
   "execution_count": 10,
   "metadata": {},
   "outputs": [],
   "source": [
    "source_target = itertools.product(source, target)\n",
    "\n",
    "jaccard_feature = nx.jaccard_coefficient(graph, itertools.product(range(num_nodes), range(num_nodes)))\n",
    "jaccard_feature = (feat[2] for feat in jaccard_feature)\n",
    "\n",
    "cn_feature = (\n",
    "    len(list(nx.common_neighbors(graph, i, j)))\n",
    "    for i, j in itertools.product(range(num_nodes), range(num_nodes))\n",
    ")\n",
    "\n",
    "dwpc_2_feature = dwpc_matrix_2.toarray().flatten()\n",
    "dwpc_3_feature = dwpc_matrix_3.toarray().flatten()\n",
    "edge_original = hetmat.metaedge_to_adjacency_matrix('PiP', dense_threshold=0)[2].flatten()\n",
    "edge_pruned = hetmat.metaedge_to_adjacency_matrix('PpP', dense_threshold=0)[2].flatten()\n",
    "\n",
    "features = [jaccard_feature, cn_feature, dwpc_2_feature, dwpc_3_feature, edge_original, edge_pruned]"
   ]
  },
  {
   "cell_type": "code",
   "execution_count": 11,
   "metadata": {},
   "outputs": [],
   "source": [
    "def row_generator(source_target_index, features_list):\n",
    "    feat_iter = zip(*features_list)\n",
    "    for source, target in source_target_index:\n",
    "        new_row = (source, target, *next(feat_iter))\n",
    "        yield new_row"
   ]
  },
  {
   "cell_type": "code",
   "execution_count": 12,
   "metadata": {},
   "outputs": [
    {
     "name": "stdout",
     "output_type": "stream",
     "text": [
      "CPU times: user 14min 15s, sys: 10.2 s, total: 14min 25s\n",
      "Wall time: 14min 25s\n"
     ]
    }
   ],
   "source": [
    "%%time\n",
    "\n",
    "with lzma.open('../data/edge_predict/ppi_full_features.tsv.xz', mode='wt', newline='') as xz_file:\n",
    "    row_gen = row_generator(source_target, features)\n",
    "    tsv_writer = csv.writer(xz_file, delimiter='\\t')\n",
    "    tsv_writer.writerow(['source', 'target', 'jaccard', 'cn', 'dwpc_2', 'dwpc_3', \n",
    "                         'edge_original', 'edge_pruned'])\n",
    "    for row in row_gen:\n",
    "        tsv_writer.writerow(row)"
   ]
  },
  {
   "cell_type": "code",
   "execution_count": 13,
   "metadata": {},
   "outputs": [
    {
     "data": {
      "text/html": [
       "<div>\n",
       "<style scoped>\n",
       "    .dataframe tbody tr th:only-of-type {\n",
       "        vertical-align: middle;\n",
       "    }\n",
       "\n",
       "    .dataframe tbody tr th {\n",
       "        vertical-align: top;\n",
       "    }\n",
       "\n",
       "    .dataframe thead th {\n",
       "        text-align: right;\n",
       "    }\n",
       "</style>\n",
       "<table border=\"1\" class=\"dataframe\">\n",
       "  <thead>\n",
       "    <tr style=\"text-align: right;\">\n",
       "      <th></th>\n",
       "      <th>source</th>\n",
       "      <th>target</th>\n",
       "      <th>jaccard</th>\n",
       "      <th>cn</th>\n",
       "      <th>dwpc_2</th>\n",
       "      <th>dwpc_3</th>\n",
       "      <th>edge_original</th>\n",
       "      <th>edge_pruned</th>\n",
       "    </tr>\n",
       "  </thead>\n",
       "  <tbody>\n",
       "    <tr>\n",
       "      <th>0</th>\n",
       "      <td>1</td>\n",
       "      <td>1</td>\n",
       "      <td>1.000000</td>\n",
       "      <td>34</td>\n",
       "      <td>0.000000</td>\n",
       "      <td>0.026542</td>\n",
       "      <td>1.0</td>\n",
       "      <td>0.0</td>\n",
       "    </tr>\n",
       "    <tr>\n",
       "      <th>1</th>\n",
       "      <td>1</td>\n",
       "      <td>10</td>\n",
       "      <td>0.000000</td>\n",
       "      <td>0</td>\n",
       "      <td>0.000000</td>\n",
       "      <td>0.000000</td>\n",
       "      <td>0.0</td>\n",
       "      <td>0.0</td>\n",
       "    </tr>\n",
       "    <tr>\n",
       "      <th>2</th>\n",
       "      <td>1</td>\n",
       "      <td>100</td>\n",
       "      <td>0.128205</td>\n",
       "      <td>5</td>\n",
       "      <td>0.049555</td>\n",
       "      <td>0.003729</td>\n",
       "      <td>0.0</td>\n",
       "      <td>0.0</td>\n",
       "    </tr>\n",
       "    <tr>\n",
       "      <th>3</th>\n",
       "      <td>1</td>\n",
       "      <td>1000</td>\n",
       "      <td>0.000000</td>\n",
       "      <td>0</td>\n",
       "      <td>0.000000</td>\n",
       "      <td>0.000000</td>\n",
       "      <td>0.0</td>\n",
       "      <td>0.0</td>\n",
       "    </tr>\n",
       "    <tr>\n",
       "      <th>4</th>\n",
       "      <td>1</td>\n",
       "      <td>1001</td>\n",
       "      <td>0.000000</td>\n",
       "      <td>0</td>\n",
       "      <td>0.000000</td>\n",
       "      <td>0.000000</td>\n",
       "      <td>0.0</td>\n",
       "      <td>0.0</td>\n",
       "    </tr>\n",
       "  </tbody>\n",
       "</table>\n",
       "</div>"
      ],
      "text/plain": [
       "   source  target   jaccard  cn    dwpc_2    dwpc_3  edge_original  \\\n",
       "0       1       1  1.000000  34  0.000000  0.026542            1.0   \n",
       "1       1      10  0.000000   0  0.000000  0.000000            0.0   \n",
       "2       1     100  0.128205   5  0.049555  0.003729            0.0   \n",
       "3       1    1000  0.000000   0  0.000000  0.000000            0.0   \n",
       "4       1    1001  0.000000   0  0.000000  0.000000            0.0   \n",
       "\n",
       "   edge_pruned  \n",
       "0          0.0  \n",
       "1          0.0  \n",
       "2          0.0  \n",
       "3          0.0  \n",
       "4          0.0  "
      ]
     },
     "execution_count": 13,
     "metadata": {},
     "output_type": "execute_result"
    }
   ],
   "source": [
    "features_df = pd.read_table('../data/edge_predict/ppi_full_features.tsv.xz')\n",
    "features_df.head()"
   ]
  }
 ],
 "metadata": {
  "kernelspec": {
   "display_name": "Python [conda env:xswap-analysis]",
   "language": "python",
   "name": "conda-env-xswap-analysis-py"
  },
  "language_info": {
   "codemirror_mode": {
    "name": "ipython",
    "version": 3
   },
   "file_extension": ".py",
   "mimetype": "text/x-python",
   "name": "python",
   "nbconvert_exporter": "python",
   "pygments_lexer": "ipython3",
   "version": "3.6.6"
  }
 },
 "nbformat": 4,
 "nbformat_minor": 2
}
