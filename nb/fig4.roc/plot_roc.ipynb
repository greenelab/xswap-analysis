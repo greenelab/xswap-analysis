{
 "cells": [
  {
   "cell_type": "code",
   "execution_count": 1,
   "metadata": {},
   "outputs": [
    {
     "name": "stderr",
     "output_type": "stream",
     "text": [
      "── Attaching packages ─────────────────────────────────────── tidyverse 1.2.1 ──\n",
      "✔ ggplot2 3.1.1       ✔ purrr   0.3.2  \n",
      "✔ tibble  2.1.1       ✔ dplyr   0.8.0.1\n",
      "✔ tidyr   0.8.3       ✔ stringr 1.4.0  \n",
      "✔ readr   1.3.1       ✔ forcats 0.4.0  \n",
      "── Conflicts ────────────────────────────────────────── tidyverse_conflicts() ──\n",
      "✖ dplyr::filter() masks stats::filter()\n",
      "✖ dplyr::lag()    masks stats::lag()\n"
     ]
    }
   ],
   "source": [
    "library(tidyverse)\n",
    "library(plotROC)"
   ]
  },
  {
   "cell_type": "code",
   "execution_count": 2,
   "metadata": {},
   "outputs": [],
   "source": [
    "`%+replace%` <- ggplot2::`%+replace%`\n",
    "\n",
    "theme_zietzm <- function(base_size = 11.5, base_family = \"\") {\n",
    "    # Starts with theme_bw and then modify some parts\n",
    "    # Theme options are documentated at http://docs.ggplot2.org/current/theme.html\n",
    "    ggplot2::theme_classic(base_size = base_size, base_family = base_family) %+replace%\n",
    "    ggplot2::theme(\n",
    "\n",
    "        strip.background  = ggplot2::element_rect(fill = NA, colour = 'grey90', size = 0),\n",
    "        strip.text = element_text(vjust = 1, size = 10),\n",
    "        plot.margin       = ggplot2::margin(t=2, r=2, b=2, l=2, unit='pt'),\n",
    "        legend.spacing     = grid::unit(0.1, 'cm'),\n",
    "        legend.key        = ggplot2::element_blank(),\n",
    "        panel.border=element_rect(fill = NA, color = 'black', size = 0.5), \n",
    "        axis.line=element_line(size=0),\n",
    "    )\n",
    "}"
   ]
  },
  {
   "cell_type": "code",
   "execution_count": 3,
   "metadata": {},
   "outputs": [
    {
     "name": "stderr",
     "output_type": "stream",
     "text": [
      "Parsed with column specification:\n",
      "cols(\n",
      "  edge_test = col_double(),\n",
      "  feature = col_character(),\n",
      "  value = col_double(),\n",
      "  feature_information = col_character(),\n",
      "  feature_group = col_character(),\n",
      "  data_source = col_character(),\n",
      "  task = col_character()\n",
      ")\n"
     ]
    }
   ],
   "source": [
    "plot_df <- read_tsv('plot_info.tsv')"
   ]
  },
  {
   "cell_type": "code",
   "execution_count": 4,
   "metadata": {},
   "outputs": [],
   "source": [
    "full <- (\n",
    "    ggplot(\n",
    "        plot_df %>% filter(!grepl('p_', feature)),\n",
    "        aes(d = edge_test, m = value, color = feature_group, linetype = feature_information)\n",
    "    )\n",
    "    + geom_roc(n.cuts = 0)\n",
    "    + geom_abline(slope = 1, intercept = 0, linetype = 'dashed', color = 'grey')\n",
    "    \n",
    "    + geom_roc(data = plot_df %>% filter(grepl('p_', feature)), \n",
    "               increasing = F, n.cuts = 0)\n",
    "    + scale_linetype_manual(values=c('corrected feature'='dotdash', 'feature'='solid', 'no edge info'='dashed'))\n",
    "    + facet_grid(cols=vars(data_source), rows=vars(task))\n",
    "    + xlab(\"False positive rate\")\n",
    "    + ylab(\"True positive rate\")\n",
    "    + theme_zietzm()\n",
    ")\n",
    "rm(plot_df)"
   ]
  },
  {
   "cell_type": "code",
   "execution_count": 5,
   "metadata": {},
   "outputs": [],
   "source": [
    "ggsave(file = '../../img/4_ROC/reconstruction_systematic.png', full, width = 9, height = 6, dpi = 500)"
   ]
  }
 ],
 "metadata": {
  "kernelspec": {
   "display_name": "R [conda env:xswap-analysis] *",
   "language": "R",
   "name": "conda-env-xswap-analysis-r"
  },
  "language_info": {
   "codemirror_mode": "r",
   "file_extension": ".r",
   "mimetype": "text/x-r-source",
   "name": "R",
   "pygments_lexer": "r",
   "version": "3.5.1"
  }
 },
 "nbformat": 4,
 "nbformat_minor": 2
}
