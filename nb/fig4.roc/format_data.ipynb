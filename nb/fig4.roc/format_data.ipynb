{
 "cells": [
  {
   "cell_type": "code",
   "execution_count": 1,
   "metadata": {},
   "outputs": [
    {
     "name": "stderr",
     "output_type": "stream",
     "text": [
      "── Attaching packages ─────────────────────────────────────── tidyverse 1.2.1 ──\n",
      "✔ ggplot2 3.1.1       ✔ purrr   0.3.2  \n",
      "✔ tibble  2.1.1       ✔ dplyr   0.8.0.1\n",
      "✔ tidyr   0.8.3       ✔ stringr 1.4.0  \n",
      "✔ readr   1.3.1       ✔ forcats 0.4.0  \n",
      "── Conflicts ────────────────────────────────────────── tidyverse_conflicts() ──\n",
      "✖ dplyr::filter() masks stats::filter()\n",
      "✖ dplyr::lag()    masks stats::lag()\n"
     ]
    }
   ],
   "source": [
    "library(tidyverse)"
   ]
  },
  {
   "cell_type": "code",
   "execution_count": 2,
   "metadata": {},
   "outputs": [
    {
     "name": "stderr",
     "output_type": "stream",
     "text": [
      "Parsed with column specification:\n",
      "cols(\n",
      "  id_a = col_double(),\n",
      "  id_b = col_double(),\n",
      "  network = col_character(),\n",
      "  edge = col_double(),\n",
      "  edge_prior = col_double(),\n",
      "  rwr = col_double(),\n",
      "  mean_rwr = col_double(),\n",
      "  p_rwr = col_double(),\n",
      "  jaccard = col_double(),\n",
      "  mean_jaccard = col_double(),\n",
      "  p_jaccard = col_double()\n",
      ")\n",
      "Parsed with column specification:\n",
      "cols(\n",
      "  id_a = col_double(),\n",
      "  id_b = col_double(),\n",
      "  network = col_character(),\n",
      "  edge = col_double(),\n",
      "  edge_prior = col_double(),\n",
      "  inf = col_double(),\n",
      "  mean_inf = col_double(),\n",
      "  p_inf = col_double()\n",
      ")\n",
      "Parsed with column specification:\n",
      "cols(\n",
      "  id_a = col_double(),\n",
      "  id_b = col_double(),\n",
      "  network = col_character(),\n",
      "  edge = col_double(),\n",
      "  edge_prior = col_double(),\n",
      "  rwr = col_double(),\n",
      "  mean_rwr = col_double(),\n",
      "  p_rwr = col_double(),\n",
      "  jaccard = col_double(),\n",
      "  mean_jaccard = col_double(),\n",
      "  p_jaccard = col_double()\n",
      ")\n"
     ]
    }
   ],
   "source": [
    "ppi_df <- read_tsv('../../data/4.data/ppi.tsv.xz')\n",
    "tftg_df <- read_tsv('../../data/4.data/tftg.tsv.xz')\n",
    "biorxiv_df <- read_tsv('../../data/4.data/biorxiv.tsv.xz')"
   ]
  },
  {
   "cell_type": "code",
   "execution_count": 3,
   "metadata": {},
   "outputs": [
    {
     "data": {
      "text/html": [
       "<table>\n",
       "<thead><tr><th scope=col>id_a</th><th scope=col>id_b</th><th scope=col>network</th><th scope=col>edge</th><th scope=col>edge_prior</th><th scope=col>inf</th><th scope=col>mean_inf</th><th scope=col>p_inf</th></tr></thead>\n",
       "<tbody>\n",
       "\t<tr><td>0    </td><td>0    </td><td>train</td><td>0    </td><td>0    </td><td>0    </td><td>0    </td><td>1    </td></tr>\n",
       "\t<tr><td>0    </td><td>1    </td><td>train</td><td>0    </td><td>0    </td><td>0    </td><td>0    </td><td>1    </td></tr>\n",
       "</tbody>\n",
       "</table>\n"
      ],
      "text/latex": [
       "\\begin{tabular}{r|llllllll}\n",
       " id\\_a & id\\_b & network & edge & edge\\_prior & inf & mean\\_inf & p\\_inf\\\\\n",
       "\\hline\n",
       "\t 0     & 0     & train & 0     & 0     & 0     & 0     & 1    \\\\\n",
       "\t 0     & 1     & train & 0     & 0     & 0     & 0     & 1    \\\\\n",
       "\\end{tabular}\n"
      ],
      "text/markdown": [
       "\n",
       "| id_a | id_b | network | edge | edge_prior | inf | mean_inf | p_inf |\n",
       "|---|---|---|---|---|---|---|---|\n",
       "| 0     | 0     | train | 0     | 0     | 0     | 0     | 1     |\n",
       "| 0     | 1     | train | 0     | 0     | 0     | 0     | 1     |\n",
       "\n"
      ],
      "text/plain": [
       "  id_a id_b network edge edge_prior inf mean_inf p_inf\n",
       "1 0    0    train   0    0          0   0        1    \n",
       "2 0    1    train   0    0          0   0        1    "
      ]
     },
     "metadata": {},
     "output_type": "display_data"
    }
   ],
   "source": [
    "head(tftg_df, 2)"
   ]
  },
  {
   "cell_type": "code",
   "execution_count": 4,
   "metadata": {},
   "outputs": [
    {
     "data": {
      "text/html": [
       "<table>\n",
       "<thead><tr><th scope=col>id_a</th><th scope=col>id_b</th><th scope=col>network</th><th scope=col>edge</th><th scope=col>edge_prior</th><th scope=col>rwr</th><th scope=col>mean_rwr</th><th scope=col>p_rwr</th><th scope=col>jaccard</th><th scope=col>mean_jaccard</th><th scope=col>p_jaccard</th></tr></thead>\n",
       "<tbody>\n",
       "\t<tr><td>0           </td><td>2           </td><td>train       </td><td>0           </td><td>0           </td><td>0           </td><td>7.536416e-05</td><td>1           </td><td>0           </td><td>0.001947368 </td><td>1           </td></tr>\n",
       "\t<tr><td>0           </td><td>3           </td><td>train       </td><td>0           </td><td>0           </td><td>0           </td><td>6.602172e-05</td><td>1           </td><td>0           </td><td>0.001600000 </td><td>1           </td></tr>\n",
       "</tbody>\n",
       "</table>\n"
      ],
      "text/latex": [
       "\\begin{tabular}{r|lllllllllll}\n",
       " id\\_a & id\\_b & network & edge & edge\\_prior & rwr & mean\\_rwr & p\\_rwr & jaccard & mean\\_jaccard & p\\_jaccard\\\\\n",
       "\\hline\n",
       "\t 0            & 2            & train        & 0            & 0            & 0            & 7.536416e-05 & 1            & 0            & 0.001947368  & 1           \\\\\n",
       "\t 0            & 3            & train        & 0            & 0            & 0            & 6.602172e-05 & 1            & 0            & 0.001600000  & 1           \\\\\n",
       "\\end{tabular}\n"
      ],
      "text/markdown": [
       "\n",
       "| id_a | id_b | network | edge | edge_prior | rwr | mean_rwr | p_rwr | jaccard | mean_jaccard | p_jaccard |\n",
       "|---|---|---|---|---|---|---|---|---|---|---|\n",
       "| 0            | 2            | train        | 0            | 0            | 0            | 7.536416e-05 | 1            | 0            | 0.001947368  | 1            |\n",
       "| 0            | 3            | train        | 0            | 0            | 0            | 6.602172e-05 | 1            | 0            | 0.001600000  | 1            |\n",
       "\n"
      ],
      "text/plain": [
       "  id_a id_b network edge edge_prior rwr mean_rwr     p_rwr jaccard mean_jaccard\n",
       "1 0    2    train   0    0          0   7.536416e-05 1     0       0.001947368 \n",
       "2 0    3    train   0    0          0   6.602172e-05 1     0       0.001600000 \n",
       "  p_jaccard\n",
       "1 1        \n",
       "2 1        "
      ]
     },
     "metadata": {},
     "output_type": "display_data"
    }
   ],
   "source": [
    "head(biorxiv_df, 2)"
   ]
  },
  {
   "cell_type": "code",
   "execution_count": 5,
   "metadata": {},
   "outputs": [
    {
     "data": {
      "text/html": [
       "<table>\n",
       "<thead><tr><th scope=col>id_a</th><th scope=col>id_b</th><th scope=col>network</th><th scope=col>edge</th><th scope=col>edge_prior</th><th scope=col>rwr</th><th scope=col>mean_rwr</th><th scope=col>p_rwr</th><th scope=col>jaccard</th><th scope=col>mean_jaccard</th><th scope=col>p_jaccard</th></tr></thead>\n",
       "<tbody>\n",
       "\t<tr><td>0           </td><td>0           </td><td>train       </td><td>0           </td><td>0           </td><td>2.516038e-01</td><td>0.2512483655</td><td>0.038       </td><td>1           </td><td>1.000000000 </td><td>1           </td></tr>\n",
       "\t<tr><td>0           </td><td>1           </td><td>train       </td><td>0           </td><td>0           </td><td>1.582702e-05</td><td>0.0000145586</td><td>0.088       </td><td>0           </td><td>0.001491855 </td><td>1           </td></tr>\n",
       "</tbody>\n",
       "</table>\n"
      ],
      "text/latex": [
       "\\begin{tabular}{r|lllllllllll}\n",
       " id\\_a & id\\_b & network & edge & edge\\_prior & rwr & mean\\_rwr & p\\_rwr & jaccard & mean\\_jaccard & p\\_jaccard\\\\\n",
       "\\hline\n",
       "\t 0            & 0            & train        & 0            & 0            & 2.516038e-01 & 0.2512483655 & 0.038        & 1            & 1.000000000  & 1           \\\\\n",
       "\t 0            & 1            & train        & 0            & 0            & 1.582702e-05 & 0.0000145586 & 0.088        & 0            & 0.001491855  & 1           \\\\\n",
       "\\end{tabular}\n"
      ],
      "text/markdown": [
       "\n",
       "| id_a | id_b | network | edge | edge_prior | rwr | mean_rwr | p_rwr | jaccard | mean_jaccard | p_jaccard |\n",
       "|---|---|---|---|---|---|---|---|---|---|---|\n",
       "| 0            | 0            | train        | 0            | 0            | 2.516038e-01 | 0.2512483655 | 0.038        | 1            | 1.000000000  | 1            |\n",
       "| 0            | 1            | train        | 0            | 0            | 1.582702e-05 | 0.0000145586 | 0.088        | 0            | 0.001491855  | 1            |\n",
       "\n"
      ],
      "text/plain": [
       "  id_a id_b network edge edge_prior rwr          mean_rwr     p_rwr jaccard\n",
       "1 0    0    train   0    0          2.516038e-01 0.2512483655 0.038 1      \n",
       "2 0    1    train   0    0          1.582702e-05 0.0000145586 0.088 0      \n",
       "  mean_jaccard p_jaccard\n",
       "1 1.000000000  1        \n",
       "2 0.001491855  1        "
      ]
     },
     "metadata": {},
     "output_type": "display_data"
    }
   ],
   "source": [
    "head(ppi_df, 2)"
   ]
  },
  {
   "cell_type": "code",
   "execution_count": 6,
   "metadata": {},
   "outputs": [],
   "source": [
    "# Task 1: Dropped -> biased (\"Reconstruction\")\n",
    "\n",
    "recon_plot_df <- bind_rows(\n",
    "    tftg_df %>%\n",
    "    filter(network == 'train') %>%\n",
    "    left_join(\n",
    "        tftg_df %>%\n",
    "            filter(network == 'test_recon') %>%\n",
    "            select(id_a, id_b, edge),\n",
    "        by = c(\"id_a\", \"id_b\"), suffix = c(\"_train\", \"_test\")\n",
    "    ) %>%\n",
    "    filter(edge_train == 0) %>%\n",
    "    select(-id_a, -id_b, -network, -edge_train) %>%\n",
    "    gather('feature', 'value', edge_prior:p_inf) %>%\n",
    "    mutate(\n",
    "        feature_information = ifelse(grepl('edge_prior|mean_', feature), 'no edge info', \n",
    "                          ifelse(grepl('p_', feature), 'corrected feature', 'feature')) %>%\n",
    "            factor(levels=c('feature', 'no edge info', 'corrected feature')),\n",
    "        feature_group = str_extract(feature, 'prior|rwr|jaccard|inf'),\n",
    "        data_source = 'TFTG'\n",
    "    ), \n",
    "    \n",
    "    ppi_df %>%\n",
    "    filter(network == 'train') %>%\n",
    "    sample_frac(0.5) %>%\n",
    "    left_join(\n",
    "        ppi_df %>%\n",
    "            filter(network == 'test_recon') %>%\n",
    "            select(id_a, id_b, edge),\n",
    "        by = c(\"id_a\", \"id_b\"), suffix = c(\"_train\", \"_test\")\n",
    "    ) %>%\n",
    "    filter(edge_train == 0) %>%\n",
    "    select(-id_a, -id_b, -network, -edge_train) %>%\n",
    "    gather('feature', 'value', edge_prior:p_jaccard) %>%\n",
    "    mutate(\n",
    "        feature_information = ifelse(grepl('edge_prior|mean_', feature), 'no edge info', \n",
    "                          ifelse(grepl('p_', feature), 'corrected feature', 'feature')) %>%\n",
    "            factor(levels=c('feature', 'no edge info', 'corrected feature')),\n",
    "        feature_group = str_extract(feature, 'prior|rwr|jaccard|inf'),\n",
    "        data_source = 'PPI'\n",
    "    ), \n",
    "    \n",
    "    biorxiv_df %>%\n",
    "    filter(network == 'train') %>%\n",
    "    sample_frac(0.5) %>%\n",
    "    left_join(\n",
    "        biorxiv_df %>%\n",
    "            filter(network == 'test_recon') %>%\n",
    "            select(id_a, id_b, edge),\n",
    "        by = c(\"id_a\", \"id_b\"), suffix = c(\"_train\", \"_test\")\n",
    "    ) %>%\n",
    "    filter(edge_train == 0) %>%\n",
    "    select(-id_a, -id_b, -network, -edge_train) %>%\n",
    "    gather('feature', 'value', edge_prior:p_jaccard) %>%\n",
    "    mutate(\n",
    "        feature_information = ifelse(grepl('edge_prior|mean_', feature), 'no edge info', \n",
    "                          ifelse(grepl('p_', feature), 'corrected feature', 'feature')) %>%\n",
    "            factor(levels=c('feature', 'no edge info', 'corrected feature')),\n",
    "        feature_group = str_extract(feature, 'prior|rwr|jaccard|inf'),\n",
    "        data_source = 'BioRxiv'\n",
    "    )\n",
    ")"
   ]
  },
  {
   "cell_type": "code",
   "execution_count": 7,
   "metadata": {
    "scrolled": true
   },
   "outputs": [
    {
     "data": {
      "text/html": [
       "<table>\n",
       "<thead><tr><th scope=col>edge_test</th><th scope=col>feature</th><th scope=col>value</th><th scope=col>feature_information</th><th scope=col>feature_group</th><th scope=col>data_source</th></tr></thead>\n",
       "<tbody>\n",
       "\t<tr><td>0           </td><td>edge_prior  </td><td>0           </td><td>no edge info</td><td>prior       </td><td>TFTG        </td></tr>\n",
       "\t<tr><td>0           </td><td>edge_prior  </td><td>0           </td><td>no edge info</td><td>prior       </td><td>TFTG        </td></tr>\n",
       "</tbody>\n",
       "</table>\n"
      ],
      "text/latex": [
       "\\begin{tabular}{r|llllll}\n",
       " edge\\_test & feature & value & feature\\_information & feature\\_group & data\\_source\\\\\n",
       "\\hline\n",
       "\t 0            & edge\\_prior & 0            & no edge info & prior        & TFTG        \\\\\n",
       "\t 0            & edge\\_prior & 0            & no edge info & prior        & TFTG        \\\\\n",
       "\\end{tabular}\n"
      ],
      "text/markdown": [
       "\n",
       "| edge_test | feature | value | feature_information | feature_group | data_source |\n",
       "|---|---|---|---|---|---|\n",
       "| 0            | edge_prior   | 0            | no edge info | prior        | TFTG         |\n",
       "| 0            | edge_prior   | 0            | no edge info | prior        | TFTG         |\n",
       "\n"
      ],
      "text/plain": [
       "  edge_test feature    value feature_information feature_group data_source\n",
       "1 0         edge_prior 0     no edge info        prior         TFTG       \n",
       "2 0         edge_prior 0     no edge info        prior         TFTG       "
      ]
     },
     "metadata": {},
     "output_type": "display_data"
    }
   ],
   "source": [
    "head(recon_plot_df, 2)"
   ]
  },
  {
   "cell_type": "code",
   "execution_count": 8,
   "metadata": {},
   "outputs": [],
   "source": [
    "# Task 2: Biased -> systematic\n",
    "\n",
    "new_plot_df <- bind_rows(\n",
    "    tftg_df %>%\n",
    "    filter(network == 'test_recon') %>%\n",
    "    left_join(\n",
    "        tftg_df %>%\n",
    "            filter(network == 'test_new') %>%\n",
    "            select(id_a, id_b, edge),\n",
    "        by = c(\"id_a\", \"id_b\"), suffix = c(\"_train\", \"_test\")\n",
    "    ) %>%\n",
    "    filter(edge_train == 0) %>%\n",
    "    select(-id_a, -id_b, -network, -edge_train) %>%\n",
    "    gather('feature', 'value', edge_prior:p_inf) %>%\n",
    "    mutate(\n",
    "        feature_information = ifelse(grepl('edge_prior|mean_', feature), 'no edge info', \n",
    "                          ifelse(grepl('p_', feature), 'corrected feature', 'feature')) %>%\n",
    "            factor(levels=c('feature', 'no edge info', 'corrected feature')),\n",
    "        feature_group = str_extract(feature, 'prior|rwr|jaccard|inf'),\n",
    "        data_source = 'TFTG'\n",
    "    ), \n",
    "    \n",
    "    ppi_df %>%\n",
    "    filter(network == 'test_recon') %>%\n",
    "    sample_frac(0.5) %>%\n",
    "    left_join(\n",
    "        ppi_df %>%\n",
    "            filter(network == 'test_new') %>%\n",
    "            select(id_a, id_b, edge),\n",
    "        by = c(\"id_a\", \"id_b\"), suffix = c(\"_train\", \"_test\")\n",
    "    ) %>%\n",
    "    filter(edge_train == 0) %>%\n",
    "    select(-id_a, -id_b, -network, -edge_train) %>%\n",
    "    gather('feature', 'value', edge_prior:p_jaccard) %>%\n",
    "    mutate(\n",
    "        feature_information = ifelse(grepl('edge_prior|mean_', feature), 'no edge info', \n",
    "                          ifelse(grepl('p_', feature), 'corrected feature', 'feature')) %>%\n",
    "            factor(levels=c('feature', 'no edge info', 'corrected feature')),\n",
    "        feature_group = str_extract(feature, 'prior|rwr|jaccard|inf'),\n",
    "        data_source = 'PPI'\n",
    "    ), \n",
    "    \n",
    "    biorxiv_df %>%\n",
    "    filter(network == 'test_recon') %>%\n",
    "    sample_frac(0.5) %>%\n",
    "    left_join(\n",
    "        biorxiv_df %>%\n",
    "            filter(network == 'test_new') %>%\n",
    "            select(id_a, id_b, edge),\n",
    "        by = c(\"id_a\", \"id_b\"), suffix = c(\"_train\", \"_test\")\n",
    "    ) %>%\n",
    "    filter(edge_train == 0) %>%\n",
    "    select(-id_a, -id_b, -network, -edge_train) %>%\n",
    "    gather('feature', 'value', edge_prior:p_jaccard) %>%\n",
    "    mutate(\n",
    "        feature_information = ifelse(grepl('edge_prior|mean_', feature), 'no edge info', \n",
    "                          ifelse(grepl('p_', feature), 'corrected feature', 'feature')) %>%\n",
    "            factor(levels=c('feature', 'no edge info', 'corrected feature')),\n",
    "        feature_group = str_extract(feature, 'prior|rwr|jaccard|inf'),\n",
    "        data_source = 'BioRxiv'\n",
    "    )   \n",
    ")"
   ]
  },
  {
   "cell_type": "code",
   "execution_count": 9,
   "metadata": {},
   "outputs": [
    {
     "data": {
      "text/html": [
       "<table>\n",
       "<thead><tr><th scope=col>edge_test</th><th scope=col>feature</th><th scope=col>value</th><th scope=col>feature_information</th><th scope=col>feature_group</th><th scope=col>data_source</th><th scope=col>task</th></tr></thead>\n",
       "<tbody>\n",
       "\t<tr><td>0             </td><td>edge_prior    </td><td>0             </td><td>no edge info  </td><td>prior         </td><td>TFTG          </td><td>reconstruction</td></tr>\n",
       "\t<tr><td>0             </td><td>edge_prior    </td><td>0             </td><td>no edge info  </td><td>prior         </td><td>TFTG          </td><td>reconstruction</td></tr>\n",
       "</tbody>\n",
       "</table>\n"
      ],
      "text/latex": [
       "\\begin{tabular}{r|lllllll}\n",
       " edge\\_test & feature & value & feature\\_information & feature\\_group & data\\_source & task\\\\\n",
       "\\hline\n",
       "\t 0              & edge\\_prior   & 0              & no edge info   & prior          & TFTG           & reconstruction\\\\\n",
       "\t 0              & edge\\_prior   & 0              & no edge info   & prior          & TFTG           & reconstruction\\\\\n",
       "\\end{tabular}\n"
      ],
      "text/markdown": [
       "\n",
       "| edge_test | feature | value | feature_information | feature_group | data_source | task |\n",
       "|---|---|---|---|---|---|---|\n",
       "| 0              | edge_prior     | 0              | no edge info   | prior          | TFTG           | reconstruction |\n",
       "| 0              | edge_prior     | 0              | no edge info   | prior          | TFTG           | reconstruction |\n",
       "\n"
      ],
      "text/plain": [
       "  edge_test feature    value feature_information feature_group data_source\n",
       "1 0         edge_prior 0     no edge info        prior         TFTG       \n",
       "2 0         edge_prior 0     no edge info        prior         TFTG       \n",
       "  task          \n",
       "1 reconstruction\n",
       "2 reconstruction"
      ]
     },
     "metadata": {},
     "output_type": "display_data"
    }
   ],
   "source": [
    "rm(ppi_df)\n",
    "rm(biorxiv_df)\n",
    "rm(tftg_df)\n",
    "\n",
    "plot_df <- bind_rows(\n",
    "    recon_plot_df %>% mutate(task = 'reconstruction'),\n",
    "    new_plot_df %>% mutate(task = 'systematic')\n",
    ")\n",
    "\n",
    "rm(recon_plot_df)\n",
    "rm(new_plot_df)\n",
    "\n",
    "head(plot_df, 2)"
   ]
  },
  {
   "cell_type": "code",
   "execution_count": 10,
   "metadata": {},
   "outputs": [],
   "source": [
    "write_tsv(path = 'plot_info.tsv', x = plot_df)"
   ]
  }
 ],
 "metadata": {
  "kernelspec": {
   "display_name": "R [conda env:xswap-analysis] *",
   "language": "R",
   "name": "conda-env-xswap-analysis-r"
  },
  "language_info": {
   "codemirror_mode": "r",
   "file_extension": ".r",
   "mimetype": "text/x-r-source",
   "name": "R",
   "pygments_lexer": "r",
   "version": "3.5.1"
  }
 },
 "nbformat": 4,
 "nbformat_minor": 2
}
