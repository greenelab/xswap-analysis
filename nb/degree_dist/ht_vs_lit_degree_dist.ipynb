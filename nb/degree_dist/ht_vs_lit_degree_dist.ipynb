{
 "cells": [
  {
   "cell_type": "code",
   "execution_count": 1,
   "metadata": {},
   "outputs": [],
   "source": [
    "import collections\n",
    "\n",
    "import matplotlib.pyplot as plt\n",
    "import pandas as pd\n",
    "import scipy.stats\n",
    "\n",
    "%matplotlib inline"
   ]
  },
  {
   "cell_type": "code",
   "execution_count": 2,
   "metadata": {},
   "outputs": [],
   "source": [
    "# High-throughput\n",
    "rolland_df = pd.read_table('http://interactome.baderlab.org/data/Rolland-Vidal(Cell_2014).psi')\n",
    "\n",
    "ht_protein_to_degree = (\n",
    "    collections.Counter(rolland_df['Unique identifier for interactor A'])\n",
    "    + collections.Counter(rolland_df['Unique identifier for interactor B'])\n",
    ")\n",
    "ht_protein_to_degree.pop('-');\n",
    "\n",
    "# Literature-curated\n",
    "litbm_df = pd.read_table('http://interactome.baderlab.org/data/LitBM-17.psi', header=None)\n",
    "\n",
    "lit_protein_to_degree = (collections.Counter(litbm_df[0]) + collections.Counter(litbm_df[1]))"
   ]
  },
  {
   "cell_type": "code",
   "execution_count": 3,
   "metadata": {},
   "outputs": [
    {
     "data": {
      "text/html": [
       "<div>\n",
       "<style scoped>\n",
       "    .dataframe tbody tr th:only-of-type {\n",
       "        vertical-align: middle;\n",
       "    }\n",
       "\n",
       "    .dataframe tbody tr th {\n",
       "        vertical-align: top;\n",
       "    }\n",
       "\n",
       "    .dataframe thead th {\n",
       "        text-align: right;\n",
       "    }\n",
       "</style>\n",
       "<table border=\"1\" class=\"dataframe\">\n",
       "  <thead>\n",
       "    <tr style=\"text-align: right;\">\n",
       "      <th></th>\n",
       "      <th>protein</th>\n",
       "      <th>degree_ht</th>\n",
       "      <th>degree_lit</th>\n",
       "    </tr>\n",
       "  </thead>\n",
       "  <tbody>\n",
       "    <tr>\n",
       "      <th>0</th>\n",
       "      <td>uniprotkb:A0A087WUM8</td>\n",
       "      <td>75.0</td>\n",
       "      <td>0.0</td>\n",
       "    </tr>\n",
       "    <tr>\n",
       "      <th>1</th>\n",
       "      <td>uniprotkb:A0A087WW76</td>\n",
       "      <td>6.0</td>\n",
       "      <td>0.0</td>\n",
       "    </tr>\n",
       "  </tbody>\n",
       "</table>\n",
       "</div>"
      ],
      "text/plain": [
       "                protein  degree_ht  degree_lit\n",
       "0  uniprotkb:A0A087WUM8       75.0         0.0\n",
       "1  uniprotkb:A0A087WW76        6.0         0.0"
      ]
     },
     "execution_count": 3,
     "metadata": {},
     "output_type": "execute_result"
    }
   ],
   "source": [
    "lit_degree_df = (pd.DataFrame\n",
    "    .from_dict(lit_protein_to_degree, orient='index')\n",
    "    .reset_index()\n",
    "    .rename(columns={'index': 'protein', 0: 'degree'}))\n",
    "\n",
    "ht_degree_df = (pd.DataFrame\n",
    "    .from_dict(ht_protein_to_degree, orient='index')\n",
    "    .reset_index()\n",
    "    .rename(columns={'index': 'protein', 0: 'degree'}))\n",
    "\n",
    "degree_type_df = ht_degree_df.merge(lit_degree_df, on='protein', how='outer', suffixes=('_ht', '_lit')).fillna(0)\n",
    "\n",
    "degree_type_df.head(2)"
   ]
  },
  {
   "cell_type": "code",
   "execution_count": 4,
   "metadata": {},
   "outputs": [
    {
     "data": {
      "text/plain": [
       "Text(0, 0.5, 'likelihood of occurrence')"
      ]
     },
     "execution_count": 4,
     "metadata": {},
     "output_type": "execute_result"
    },
    {
     "data": {
      "image/png": "[encoded data removed]",
      "text/plain": [
       "<Figure size 432x288 with 1 Axes>"
      ]
     },
     "metadata": {},
     "output_type": "display_data"
    }
   ],
   "source": [
    "fig, ax = plt.subplots()\n",
    "\n",
    "n, bins, patches = ax.hist(degree_type_df['degree_lit'], label='literature-curated', bins=100,\n",
    "                           density=True, histtype='step', cumulative=True)\n",
    "ax.hist(degree_type_df['degree_ht'], label='high-throughput',\n",
    "        bins=bins, density=True, histtype='step', cumulative=True)\n",
    "\n",
    "ax.legend(loc='lower center')\n",
    "ax.set_title('Cumulative step histograms')\n",
    "ax.set_xlabel('PPI network degree')\n",
    "ax.set_ylabel('likelihood of occurrence')"
   ]
  },
  {
   "cell_type": "code",
   "execution_count": 5,
   "metadata": {},
   "outputs": [
    {
     "data": {
      "text/plain": [
       "Text(0, 0.5, 'log likelihood of occurrence')"
      ]
     },
     "execution_count": 5,
     "metadata": {},
     "output_type": "execute_result"
    },
    {
     "data": {
      "image/png": "[encoded data removed]",
      "text/plain": [
       "<Figure size 432x288 with 1 Axes>"
      ]
     },
     "metadata": {},
     "output_type": "display_data"
    }
   ],
   "source": [
    "fig, ax = plt.subplots()\n",
    "\n",
    "n, bins, patches = ax.hist(degree_type_df['degree_lit'], label='literature-curated', bins=50,\n",
    "                           density=True, alpha=0.5, log=True)\n",
    "ax.hist(degree_type_df['degree_ht'], label='high-throughput',\n",
    "        bins=bins, density=True, alpha=0.5)\n",
    "\n",
    "ax.legend(loc='best')\n",
    "ax.set_title('Cumulative step histograms')\n",
    "ax.set_xlabel('PPI network degree')\n",
    "ax.set_ylabel('log likelihood of occurrence')"
   ]
  },
  {
   "cell_type": "code",
   "execution_count": 6,
   "metadata": {},
   "outputs": [
    {
     "data": {
      "text/plain": [
       "WilcoxonResult(statistic=18094694.0, pvalue=4.193202806957258e-08)"
      ]
     },
     "execution_count": 6,
     "metadata": {},
     "output_type": "execute_result"
    }
   ],
   "source": [
    "scipy.stats.wilcoxon(degree_type_df['degree_ht'].values, degree_type_df['degree_lit'].values, zero_method='pratt')"
   ]
  },
  {
   "cell_type": "code",
   "execution_count": null,
   "metadata": {},
   "outputs": [],
   "source": []
  }
 ],
 "metadata": {
  "kernelspec": {
   "display_name": "Python [conda env:xswap-analysis]",
   "language": "python",
   "name": "conda-env-xswap-analysis-py"
  },
  "language_info": {
   "codemirror_mode": {
    "name": "ipython",
    "version": 3
   },
   "file_extension": ".py",
   "mimetype": "text/x-python",
   "name": "python",
   "nbconvert_exporter": "python",
   "pygments_lexer": "ipython3",
   "version": "3.6.6"
  }
 },
 "nbformat": 4,
 "nbformat_minor": 2
}
