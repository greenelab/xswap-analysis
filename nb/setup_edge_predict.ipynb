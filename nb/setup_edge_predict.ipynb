{
 "cells": [
  {
   "cell_type": "code",
   "execution_count": null,
   "metadata": {},
   "outputs": [],
   "source": [
    "import csv\n",
    "import itertools\n",
    "import json\n",
    "import lzma\n",
    "import pathlib\n",
    "import random\n",
    "\n",
    "import networkx as nx\n",
    "import numpy as np\n",
    "import pandas as pd\n",
    "import scipy.sparse\n",
    "\n",
    "import hetmatpy.degree_weight\n",
    "import hetmatpy.hetmat\n",
    "import xswap"
   ]
  },
  {
   "cell_type": "code",
   "execution_count": null,
   "metadata": {},
   "outputs": [],
   "source": [
    "ppi_hetmat_path = '../data/ppi_hetmat'"
   ]
  },
  {
   "cell_type": "markdown",
   "metadata": {},
   "source": [
    "## Compute features"
   ]
  },
  {
   "cell_type": "code",
   "execution_count": null,
   "metadata": {},
   "outputs": [],
   "source": [
    "hetmat = hetmatpy.hetmat.HetMat(ppi_hetmat_path)\n",
    "source, target, ppp_matrix = hetmat.metaedge_to_adjacency_matrix('PpP', dense_threshold=0)\n",
    "graph = nx.from_numpy_array(ppp_matrix)"
   ]
  },
  {
   "cell_type": "code",
   "execution_count": null,
   "metadata": {},
   "outputs": [],
   "source": [
    "source, target, dwpc_matrix_2 = hetmatpy.degree_weight.dwpc(hetmat, 'PpPpP', dense_threshold=1)\n",
    "source, target, dwpc_matrix_3 = hetmatpy.degree_weight.dwpc(hetmat, 'PpPpPpP', dense_threshold=1)"
   ]
  },
  {
   "cell_type": "code",
   "execution_count": null,
   "metadata": {},
   "outputs": [],
   "source": [
    "jaccard_feature = nx.jaccard_coefficient(graph, itertools.product(range(num_nodes), range(num_nodes)))\n",
    "jaccard_feature = (feat[2] for feat in jaccard_feature)\n",
    "\n",
    "cn_feature = (\n",
    "    len(list(nx.common_neighbors(graph, i, j)))\n",
    "    for i, j in itertools.product(range(num_nodes), range(num_nodes))\n",
    ")\n",
    "\n",
    "dwpc_2_feature = dwpc_matrix_2.toarray().flatten()\n",
    "dwpc_3_feature = dwpc_matrix_3.toarray().flatten()\n",
    "edge_original = hetmat.metaedge_to_adjacency_matrix('PiP', dense_threshold=0)[2].flatten()\n",
    "edge_pruned = hetmat.metaedge_to_adjacency_matrix('PpP', dense_threshold=0)[2].flatten()\n",
    "\n",
    "features = [jaccard_feature, cn_feature, dwpc_2_feature, dwpc_3_feature, edge_original, edge_pruned]"
   ]
  },
  {
   "cell_type": "code",
   "execution_count": null,
   "metadata": {},
   "outputs": [],
   "source": [
    "def row_generator(source, target, features_list):\n",
    "    feat_iter = zip(*features_list)\n",
    "    for s, t in itertools.product(source, target):\n",
    "        new_row = (s, t, *next(feat_iter))\n",
    "        yield new_row"
   ]
  },
  {
   "cell_type": "code",
   "execution_count": null,
   "metadata": {},
   "outputs": [],
   "source": [
    "%%time\n",
    "\n",
    "features_dir = pathlib.Path('../data/edge_predict/')\n",
    "features_dir.mkdir(parents=True, exist_ok=True)\n",
    "\n",
    "with lzma.open(features_dir.joinpath('ppi_full_features.tsv.xz'), mode='wt', newline='') as xz_file:\n",
    "    row_gen = row_generator(source, target, features)\n",
    "    tsv_writer = csv.writer(xz_file, delimiter='\\t')\n",
    "    tsv_writer.writerow(['source', 'target', 'jaccard', 'cn', 'dwpc_2', 'dwpc_3', \n",
    "                         'edge_original', 'edge_pruned'])\n",
    "    for row in row_gen:\n",
    "        tsv_writer.writerow(row)"
   ]
  },
  {
   "cell_type": "code",
   "execution_count": 12,
   "metadata": {},
   "outputs": [
    {
     "data": {
      "text/html": [
       "<div>\n",
       "<style scoped>\n",
       "    .dataframe tbody tr th:only-of-type {\n",
       "        vertical-align: middle;\n",
       "    }\n",
       "\n",
       "    .dataframe tbody tr th {\n",
       "        vertical-align: top;\n",
       "    }\n",
       "\n",
       "    .dataframe thead th {\n",
       "        text-align: right;\n",
       "    }\n",
       "</style>\n",
       "<table border=\"1\" class=\"dataframe\">\n",
       "  <thead>\n",
       "    <tr style=\"text-align: right;\">\n",
       "      <th></th>\n",
       "      <th>source</th>\n",
       "      <th>target</th>\n",
       "      <th>jaccard</th>\n",
       "      <th>cn</th>\n",
       "      <th>dwpc_2</th>\n",
       "      <th>dwpc_3</th>\n",
       "      <th>edge_original</th>\n",
       "      <th>edge_pruned</th>\n",
       "    </tr>\n",
       "  </thead>\n",
       "  <tbody>\n",
       "    <tr>\n",
       "      <th>0</th>\n",
       "      <td>1</td>\n",
       "      <td>1</td>\n",
       "      <td>1.0</td>\n",
       "      <td>34</td>\n",
       "      <td>0.000000</td>\n",
       "      <td>0.022885</td>\n",
       "      <td>1.0</td>\n",
       "      <td>0.0</td>\n",
       "    </tr>\n",
       "    <tr>\n",
       "      <th>1</th>\n",
       "      <td>1</td>\n",
       "      <td>10</td>\n",
       "      <td>0.0</td>\n",
       "      <td>0</td>\n",
       "      <td>0.000000</td>\n",
       "      <td>0.000000</td>\n",
       "      <td>0.0</td>\n",
       "      <td>0.0</td>\n",
       "    </tr>\n",
       "    <tr>\n",
       "      <th>2</th>\n",
       "      <td>1</td>\n",
       "      <td>100</td>\n",
       "      <td>0.1</td>\n",
       "      <td>4</td>\n",
       "      <td>0.046576</td>\n",
       "      <td>0.003332</td>\n",
       "      <td>0.0</td>\n",
       "      <td>0.0</td>\n",
       "    </tr>\n",
       "    <tr>\n",
       "      <th>3</th>\n",
       "      <td>1</td>\n",
       "      <td>1000</td>\n",
       "      <td>0.0</td>\n",
       "      <td>0</td>\n",
       "      <td>0.000000</td>\n",
       "      <td>0.000000</td>\n",
       "      <td>0.0</td>\n",
       "      <td>0.0</td>\n",
       "    </tr>\n",
       "    <tr>\n",
       "      <th>4</th>\n",
       "      <td>1</td>\n",
       "      <td>1001</td>\n",
       "      <td>0.0</td>\n",
       "      <td>0</td>\n",
       "      <td>0.000000</td>\n",
       "      <td>0.000000</td>\n",
       "      <td>0.0</td>\n",
       "      <td>0.0</td>\n",
       "    </tr>\n",
       "  </tbody>\n",
       "</table>\n",
       "</div>"
      ],
      "text/plain": [
       "   source  target  jaccard  cn    dwpc_2    dwpc_3  edge_original  edge_pruned\n",
       "0       1       1      1.0  34  0.000000  0.022885            1.0          0.0\n",
       "1       1      10      0.0   0  0.000000  0.000000            0.0          0.0\n",
       "2       1     100      0.1   4  0.046576  0.003332            0.0          0.0\n",
       "3       1    1000      0.0   0  0.000000  0.000000            0.0          0.0\n",
       "4       1    1001      0.0   0  0.000000  0.000000            0.0          0.0"
      ]
     },
     "execution_count": 12,
     "metadata": {},
     "output_type": "execute_result"
    }
   ],
   "source": [
    "features_df = pd.read_table('../data/edge_predict/ppi_full_features.tsv.xz')\n",
    "features_df.head()"
   ]
  }
 ],
 "metadata": {
  "kernelspec": {
   "display_name": "Python [conda env:xswap-analysis]",
   "language": "python",
   "name": "conda-env-xswap-analysis-py"
  },
  "language_info": {
   "codemirror_mode": {
    "name": "ipython",
    "version": 3
   },
   "file_extension": ".py",
   "mimetype": "text/x-python",
   "name": "python",
   "nbconvert_exporter": "python",
   "pygments_lexer": "ipython3",
   "version": "3.6.6"
  }
 },
 "nbformat": 4,
 "nbformat_minor": 2
}
