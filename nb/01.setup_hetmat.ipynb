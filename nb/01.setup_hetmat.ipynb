{
 "cells": [
  {
   "cell_type": "code",
   "execution_count": 1,
   "metadata": {},
   "outputs": [],
   "source": [
    "import json\n",
    "import pathlib\n",
    "import random\n",
    "\n",
    "import numpy as np\n",
    "import pandas as pd\n",
    "import scipy.sparse\n",
    "\n",
    "import hetmatpy.hetmat\n",
    "import xswap"
   ]
  },
  {
   "cell_type": "markdown",
   "metadata": {},
   "source": [
    "## Create HetMat for PPI"
   ]
  },
  {
   "cell_type": "markdown",
   "metadata": {},
   "source": [
    "### Setup directories"
   ]
  },
  {
   "cell_type": "code",
   "execution_count": 2,
   "metadata": {},
   "outputs": [],
   "source": [
    "ppi_hetmat_path = pathlib.Path('../data/ppi_hetmat/')\n",
    "ppi_hetmat_path.mkdir(parents=True, exist_ok=True)\n",
    "ppi_hetmat_path.joinpath('nodes').mkdir(exist_ok=True)\n",
    "ppi_hetmat_path.joinpath('edges').mkdir(exist_ok=True)"
   ]
  },
  {
   "cell_type": "markdown",
   "metadata": {},
   "source": [
    "### Set metagraph.json"
   ]
  },
  {
   "cell_type": "code",
   "execution_count": 3,
   "metadata": {},
   "outputs": [],
   "source": [
    "metagraph = {\n",
    "  \"metanode_kinds\": [\n",
    "    \"Protein\"\n",
    "  ],\n",
    "  \"metaedge_tuples\": [\n",
    "    [\n",
    "      \"Protein\",\n",
    "      \"Protein\",\n",
    "      \"interacts\",\n",
    "      \"both\"\n",
    "    ],\n",
    "    [\n",
    "      \"Protein\",\n",
    "      \"Protein\",\n",
    "      \"interacts-pruned\",\n",
    "      \"both\"\n",
    "    ]\n",
    "  ],\n",
    "  \"kind_to_abbrev\": {\n",
    "    \"Protein\": \"P\",\n",
    "    \"interacts\": \"i\",\n",
    "    \"interacts-pruned\": \"p\"\n",
    "  }\n",
    "}\n",
    "with open(ppi_hetmat_path.joinpath('metagraph.json'), 'w') as metagraph_file:\n",
    "    json.dump(metagraph, metagraph_file, indent=2)"
   ]
  },
  {
   "cell_type": "markdown",
   "metadata": {},
   "source": [
    "### Set nodes"
   ]
  },
  {
   "cell_type": "code",
   "execution_count": 4,
   "metadata": {},
   "outputs": [],
   "source": [
    "mapping_df = (\n",
    "    pd.read_csv('../data/ppi_mapping.csv')\n",
    "    .filter(items=['mapped', 'original'])\n",
    "    .rename(columns={'mapped': 'position', 'original': 'identifier'})\n",
    "    .assign(name='unknown')\n",
    "    .sort_values('position')\n",
    "    .reset_index(drop=True)\n",
    ")\n",
    "mapping_df.to_csv(ppi_hetmat_path.joinpath('nodes/Protein.tsv'), sep='\\t', index=False)"
   ]
  },
  {
   "cell_type": "markdown",
   "metadata": {},
   "source": [
    "### Set edges"
   ]
  },
  {
   "cell_type": "code",
   "execution_count": 5,
   "metadata": {},
   "outputs": [],
   "source": [
    "num_nodes = len(mapping_df)\n",
    "edges = xswap.preprocessing.load_processed_edges('../data/ppi_edges.csv')\n",
    "\n",
    "# Direction swap edges so that source <= target\n",
    "edges = list(set(map(tuple, map(sorted, edges))))\n",
    "\n",
    "# Remove some edges to form \"pruned\" metaedge\n",
    "sample_size = int(0.2 * len(edges))\n",
    "random.seed(0)\n",
    "sampled_edges = random.sample(edges, sample_size)\n",
    "pruned_edges = list(set(edges) - set(sampled_edges))"
   ]
  },
  {
   "cell_type": "code",
   "execution_count": 6,
   "metadata": {},
   "outputs": [],
   "source": [
    "def save_edges(edges, metaedge_name):\n",
    "    mat = scipy.sparse.coo_matrix((np.ones(len(edges)), (zip(*edges))), shape=(num_nodes, num_nodes))\n",
    "    mat = (mat + mat.T - np.diag(mat.diagonal()))  # Matrix is not symmetric but contains no repeats. Make sym.\n",
    "    mat = scipy.sparse.csc_matrix(mat)\n",
    "    scipy.sparse.save_npz(ppi_hetmat_path.joinpath(f'edges/{metaedge_name}.sparse.npz'), mat)\n",
    "\n",
    "save_edges(edges, 'PiP')\n",
    "save_edges(pruned_edges, 'PpP')"
   ]
  },
  {
   "cell_type": "markdown",
   "metadata": {},
   "source": [
    "## Generate permutations of `PpP` metaedge"
   ]
  },
  {
   "cell_type": "code",
   "execution_count": 7,
   "metadata": {},
   "outputs": [],
   "source": [
    "class xswap_hetmat(hetmatpy.hetmat.HetMat):\n",
    "    def permute_graph(self, num_new_permutations=None, namer=None, start_from=None,\n",
    "                      multiplier=10, seed=0):\n",
    "        \"\"\"\n",
    "        Generate and save permutations of the HetMat adjacency matrices.\n",
    "        Parameters\n",
    "        ----------\n",
    "        num_new_permutations : int\n",
    "            The number of new, permuted HetMats to generate\n",
    "        namer : generator\n",
    "            Yields the names of new permutations. Cannot pass names of existing permutations\n",
    "        start_from : str\n",
    "            Name of permutation to use as starting point. For multiple permutations,\n",
    "            the first permutation starts from start_from, and future permutations\n",
    "            continue from the previous one.\n",
    "        multiplier : int\n",
    "            How many attempts to make when cross-swapping edges.\n",
    "        seed : int\n",
    "            Random seed for generating new permutations\n",
    "        \"\"\"\n",
    "        if namer is None:\n",
    "            # If no namer given, continue increasing names by one for new permutations\n",
    "            namer = (f'{x:03}' for x in itertools.count(start=1))\n",
    "\n",
    "        stat_dfs = list()\n",
    "        for _ in range(num_new_permutations):\n",
    "            permutation_name = next(namer)\n",
    "            new_hetmat = hetmatpy.hetmat.initialize_permutation_directory(self, permutation_name)\n",
    "\n",
    "            if start_from is None:\n",
    "                start_from = self\n",
    "            elif isinstance(start_from, str):\n",
    "                start_from = self.permutations[start_from]\n",
    "            assert isinstance(start_from, hetmatpy.hetmat.HetMat)\n",
    "            \n",
    "            # Only need to permute the pruned metaedge\n",
    "            metaedge = hetmat.metagraph.get_metaedge('PpP')\n",
    "            \n",
    "            rows, cols, original_matrix = start_from.metaedge_to_adjacency_matrix(\n",
    "                metaedge, dense_threshold=1)\n",
    "            original_matrix_coo = scipy.sparse.coo_matrix(original_matrix)\n",
    "            edges = list(zip(original_matrix_coo.row, original_matrix_coo.col))\n",
    "            permuted_edges, stats = xswap.permute_edge_list(\n",
    "                edges, allow_antiparallel=False, allow_self_loops=False, multiplier=multiplier,\n",
    "                seed=seed\n",
    "            )\n",
    "            assert permuted_edges != edges\n",
    "            permuted_matrix_coo = scipy.sparse.coo_matrix((np.ones(len(edges)), zip(*permuted_edges)),\n",
    "                                                         shape=original_matrix.shape)\n",
    "            permuted_matrix = scipy.sparse.csc_matrix(permuted_matrix_coo)\n",
    "            path = new_hetmat.get_edges_path(metaedge, file_format=None)\n",
    "            hetmatpy.hetmat.save_matrix(permuted_matrix, path)\n",
    "            stat_df = pd.DataFrame([stats])\n",
    "            stat_df['metaedge'] = metaedge\n",
    "            stat_df['abbrev'] = metaedge.get_abbrev()\n",
    "            stat_df['permutation'] = permutation_name\n",
    "            stat_dfs.append(stat_df)\n",
    "            start_from = permutation_name\n",
    "            seed += 1\n",
    "            self.permutations[permutation_name] = new_hetmat\n",
    "        return pd.concat(stat_dfs)"
   ]
  },
  {
   "cell_type": "code",
   "execution_count": null,
   "metadata": {},
   "outputs": [],
   "source": [
    "%%time\n",
    "\n",
    "permutation_names = (str(i).zfill(4) for i in range(1, 1001))\n",
    "hetmat = xswap_hetmat('../data/ppi_hetmat/')\n",
    "permutation_info_df = hetmat.permute_graph(num_new_permutations=1000, namer=permutation_names)\n",
    "permutation_info_df.to_csv('../data/permutation_info.tsv', sep='\\t', index=False)"
   ]
  },
  {
   "cell_type": "code",
   "execution_count": null,
   "metadata": {},
   "outputs": [],
   "source": [
    "permutation_info_df.head()"
   ]
  }
 ],
 "metadata": {
  "kernelspec": {
   "display_name": "Python [conda env:xswap-analysis]",
   "language": "python",
   "name": "conda-env-xswap-analysis-py"
  },
  "language_info": {
   "codemirror_mode": {
    "name": "ipython",
    "version": 3
   },
   "file_extension": ".py",
   "mimetype": "text/x-python",
   "name": "python",
   "nbconvert_exporter": "python",
   "pygments_lexer": "ipython3",
   "version": "3.6.6"
  }
 },
 "nbformat": 4,
 "nbformat_minor": 2
}
