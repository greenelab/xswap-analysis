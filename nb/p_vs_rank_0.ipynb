{
 "cells": [
  {
   "cell_type": "code",
   "execution_count": 19,
   "metadata": {},
   "outputs": [],
   "source": [
    "import urllib\n",
    "import io\n",
    "import itertools\n",
    "import tempfile\n",
    "import re\n",
    "\n",
    "import numpy as np\n",
    "import pandas as pd\n",
    "import requests\n",
    "import scipy.sparse\n",
    "import sklearn.metrics\n",
    "import tqdm\n",
    "\n",
    "import xswap\n",
    "import analysis\n",
    "\n",
    "%matplotlib inline"
   ]
  },
  {
   "cell_type": "code",
   "execution_count": 2,
   "metadata": {},
   "outputs": [],
   "source": [
    "def edges_to_matrix(edges):\n",
    "    n_nodes = max(map(max, edges)) + 1\n",
    "    edges = list(set(\n",
    "        list(map(tuple, map(sorted, edges)))\n",
    "        + list(map(tuple, map(reversed, map(sorted, edges))))\n",
    "    ))\n",
    "    sp_mat = scipy.sparse.coo_matrix(\n",
    "        (np.ones(len(edges)), zip(*edges)), shape=(n_nodes, n_nodes))\n",
    "    return sp_mat"
   ]
  },
  {
   "cell_type": "markdown",
   "metadata": {},
   "source": [
    "## Literature-curated\n",
    "\n",
    "'mmc2.xlsx' is Table S1 in https://doi.org/10.1016/j.cell.2014.10.050"
   ]
  },
  {
   "cell_type": "code",
   "execution_count": 3,
   "metadata": {},
   "outputs": [
    {
     "data": {
      "text/html": [
       "<div>\n",
       "<style scoped>\n",
       "    .dataframe tbody tr th:only-of-type {\n",
       "        vertical-align: middle;\n",
       "    }\n",
       "\n",
       "    .dataframe tbody tr th {\n",
       "        vertical-align: top;\n",
       "    }\n",
       "\n",
       "    .dataframe thead th {\n",
       "        text-align: right;\n",
       "    }\n",
       "</style>\n",
       "<table border=\"1\" class=\"dataframe\">\n",
       "  <thead>\n",
       "    <tr style=\"text-align: right;\">\n",
       "      <th></th>\n",
       "      <th>entrez_gene_ida</th>\n",
       "      <th>entrez_gene_idb</th>\n",
       "      <th>gene_symbol_a</th>\n",
       "      <th>gene_symbol_b</th>\n",
       "      <th>pieces_of_evidence</th>\n",
       "      <th>source_databases</th>\n",
       "      <th>evidence</th>\n",
       "    </tr>\n",
       "  </thead>\n",
       "  <tbody>\n",
       "    <tr>\n",
       "      <th>0</th>\n",
       "      <td>4790</td>\n",
       "      <td>79155</td>\n",
       "      <td>NFKB1</td>\n",
       "      <td>TNIP2</td>\n",
       "      <td>4</td>\n",
       "      <td>biogrid,dip,intact,mint,hprd</td>\n",
       "      <td>14743216:MI:0004,15169888:MI:0004,15169888:MI:...</td>\n",
       "    </tr>\n",
       "    <tr>\n",
       "      <th>1</th>\n",
       "      <td>7879</td>\n",
       "      <td>83547</td>\n",
       "      <td>RAB7A</td>\n",
       "      <td>RILP</td>\n",
       "      <td>6</td>\n",
       "      <td>biogrid,dip,pdb,hprd</td>\n",
       "      <td>11179213:MI:0018,11179213:MI:0096,11448994:MI:...</td>\n",
       "    </tr>\n",
       "    <tr>\n",
       "      <th>2</th>\n",
       "      <td>3932</td>\n",
       "      <td>80306</td>\n",
       "      <td>LCK</td>\n",
       "      <td>MED28</td>\n",
       "      <td>3</td>\n",
       "      <td>intact,hprd</td>\n",
       "      <td>10656681:MI:0018,16899217:MI:0096,16899217:MI:...</td>\n",
       "    </tr>\n",
       "    <tr>\n",
       "      <th>3</th>\n",
       "      <td>53840</td>\n",
       "      <td>85363</td>\n",
       "      <td>TRIM34</td>\n",
       "      <td>TRIM5</td>\n",
       "      <td>2</td>\n",
       "      <td>biogrid,intact</td>\n",
       "      <td>16828831:MI:0018,22493164:MI:0018</td>\n",
       "    </tr>\n",
       "    <tr>\n",
       "      <th>4</th>\n",
       "      <td>5705</td>\n",
       "      <td>8856</td>\n",
       "      <td>PSMC5</td>\n",
       "      <td>NR1I2</td>\n",
       "      <td>2</td>\n",
       "      <td>bind,hprd</td>\n",
       "      <td>14702340:MI:0018,15604093:MI:0018</td>\n",
       "    </tr>\n",
       "  </tbody>\n",
       "</table>\n",
       "</div>"
      ],
      "text/plain": [
       "   entrez_gene_ida  entrez_gene_idb gene_symbol_a gene_symbol_b  \\\n",
       "0             4790            79155         NFKB1         TNIP2   \n",
       "1             7879            83547         RAB7A          RILP   \n",
       "2             3932            80306           LCK         MED28   \n",
       "3            53840            85363        TRIM34         TRIM5   \n",
       "4             5705             8856         PSMC5         NR1I2   \n",
       "\n",
       "   pieces_of_evidence              source_databases  \\\n",
       "0                   4  biogrid,dip,intact,mint,hprd   \n",
       "1                   6          biogrid,dip,pdb,hprd   \n",
       "2                   3                   intact,hprd   \n",
       "3                   2                biogrid,intact   \n",
       "4                   2                     bind,hprd   \n",
       "\n",
       "                                            evidence  \n",
       "0  14743216:MI:0004,15169888:MI:0004,15169888:MI:...  \n",
       "1  11179213:MI:0018,11179213:MI:0096,11448994:MI:...  \n",
       "2  10656681:MI:0018,16899217:MI:0096,16899217:MI:...  \n",
       "3                  16828831:MI:0018,22493164:MI:0018  \n",
       "4                  14702340:MI:0018,15604093:MI:0018  "
      ]
     },
     "execution_count": 3,
     "metadata": {},
     "output_type": "execute_result"
    }
   ],
   "source": [
    "mmc2_url = 'https://ars.els-cdn.com/content/image/1-s2.0-S0092867414014226-mmc2.xlsx'\n",
    "lit_bm_dict = pd.read_excel(mmc2_url, sheet_name=['1A', '1B'])\n",
    "lit_bm_dict = {2010: lit_bm_dict['1A'], 2013: lit_bm_dict['1B']}\n",
    "\n",
    "lit_bm_dict[2013].head()"
   ]
  },
  {
   "cell_type": "markdown",
   "metadata": {},
   "source": [
    "## High-throughput"
   ]
  },
  {
   "cell_type": "code",
   "execution_count": 4,
   "metadata": {},
   "outputs": [],
   "source": [
    "# Download and combine Marc Vidal lab's published networks\n",
    "network_files = [\n",
    "    'Raul-Vidal(Nature_2005).psi',\n",
    "    'Venkatesan-Vidal(Nature_Methods_2009).psi',\n",
    "    'Yu-Vidal(Nature_Methods_2011).psi',\n",
    "    'Rolland-Vidal(Cell_2014).psi',\n",
    "    'Yang-Vidal(Cell_2016).psi',\n",
    "]\n",
    "ht_df = pd.DataFrame()\n",
    "for file in network_files:\n",
    "    df = (pd.read_table(f'http://interactome.baderlab.org/data/{file}')\n",
    "          .assign(source=file))\n",
    "    ht_df = pd.concat([ht_df, df]).reset_index(drop=True)\n",
    "\n",
    "ht_edges_df = (\n",
    "    ht_df\n",
    "    .rename(columns={\n",
    "        'Unique identifier for interactor A': 'ida', \n",
    "        'Unique identifier for interactor B': 'idb'})\n",
    "    .query('ida != \"-\" and idb != \"-\"')\n",
    "    .filter(items=['ida', 'idb',])\n",
    "    .assign(\n",
    "        uniprot_a = lambda df: df['ida'].apply(lambda x: re.search('(?<=uniprotkb:).+', x).group()),\n",
    "        uniprot_b = lambda df: df['idb'].apply(lambda x: re.search('(?<=uniprotkb:).+', x).group())\n",
    "    )\n",
    "    .drop_duplicates()\n",
    ")\n",
    "ht_nodes = set(ht_edges_df.loc[:, 'uniprot_a':'uniprot_b'].values.flatten())"
   ]
  },
  {
   "cell_type": "code",
   "execution_count": 5,
   "metadata": {},
   "outputs": [
    {
     "data": {
      "text/html": [
       "<div>\n",
       "<style scoped>\n",
       "    .dataframe tbody tr th:only-of-type {\n",
       "        vertical-align: middle;\n",
       "    }\n",
       "\n",
       "    .dataframe tbody tr th {\n",
       "        vertical-align: top;\n",
       "    }\n",
       "\n",
       "    .dataframe thead th {\n",
       "        text-align: right;\n",
       "    }\n",
       "</style>\n",
       "<table border=\"1\" class=\"dataframe\">\n",
       "  <thead>\n",
       "    <tr style=\"text-align: right;\">\n",
       "      <th></th>\n",
       "      <th>ida</th>\n",
       "      <th>idb</th>\n",
       "      <th>uniprot_a</th>\n",
       "      <th>uniprot_b</th>\n",
       "      <th>entrez_gene_ida</th>\n",
       "      <th>entrez_gene_idb</th>\n",
       "    </tr>\n",
       "  </thead>\n",
       "  <tbody>\n",
       "    <tr>\n",
       "      <th>0</th>\n",
       "      <td>uniprotkb:Q8IYI6</td>\n",
       "      <td>uniprotkb:A0A024R0Y4</td>\n",
       "      <td>Q8IYI6</td>\n",
       "      <td>A0A024R0Y4</td>\n",
       "      <td>149371</td>\n",
       "      <td>6871</td>\n",
       "    </tr>\n",
       "    <tr>\n",
       "      <th>1</th>\n",
       "      <td>uniprotkb:O15287</td>\n",
       "      <td>uniprotkb:A0A024R0Y4</td>\n",
       "      <td>O15287</td>\n",
       "      <td>A0A024R0Y4</td>\n",
       "      <td>2189</td>\n",
       "      <td>6871</td>\n",
       "    </tr>\n",
       "    <tr>\n",
       "      <th>2</th>\n",
       "      <td>uniprotkb:Q8WW24</td>\n",
       "      <td>uniprotkb:A0A024R0Y4</td>\n",
       "      <td>Q8WW24</td>\n",
       "      <td>A0A024R0Y4</td>\n",
       "      <td>150483</td>\n",
       "      <td>6871</td>\n",
       "    </tr>\n",
       "    <tr>\n",
       "      <th>3</th>\n",
       "      <td>uniprotkb:Q12874</td>\n",
       "      <td>uniprotkb:A0A024R0Y4</td>\n",
       "      <td>Q12874</td>\n",
       "      <td>A0A024R0Y4</td>\n",
       "      <td>10946</td>\n",
       "      <td>6871</td>\n",
       "    </tr>\n",
       "    <tr>\n",
       "      <th>4</th>\n",
       "      <td>uniprotkb:Q9Y4H4</td>\n",
       "      <td>uniprotkb:A0A024R0Y4</td>\n",
       "      <td>Q9Y4H4</td>\n",
       "      <td>A0A024R0Y4</td>\n",
       "      <td>63940</td>\n",
       "      <td>6871</td>\n",
       "    </tr>\n",
       "  </tbody>\n",
       "</table>\n",
       "</div>"
      ],
      "text/plain": [
       "                ida                   idb uniprot_a   uniprot_b  \\\n",
       "0  uniprotkb:Q8IYI6  uniprotkb:A0A024R0Y4    Q8IYI6  A0A024R0Y4   \n",
       "1  uniprotkb:O15287  uniprotkb:A0A024R0Y4    O15287  A0A024R0Y4   \n",
       "2  uniprotkb:Q8WW24  uniprotkb:A0A024R0Y4    Q8WW24  A0A024R0Y4   \n",
       "3  uniprotkb:Q12874  uniprotkb:A0A024R0Y4    Q12874  A0A024R0Y4   \n",
       "4  uniprotkb:Q9Y4H4  uniprotkb:A0A024R0Y4    Q9Y4H4  A0A024R0Y4   \n",
       "\n",
       "   entrez_gene_ida  entrez_gene_idb  \n",
       "0           149371             6871  \n",
       "1             2189             6871  \n",
       "2           150483             6871  \n",
       "3            10946             6871  \n",
       "4            63940             6871  "
      ]
     },
     "execution_count": 5,
     "metadata": {},
     "output_type": "execute_result"
    }
   ],
   "source": [
    "# Note: A major source of error is arising here, because many UniProt IDs end with, for example, \"-1\",\n",
    "#    indicating a particular isoform. This does not map to entrez_gene_id. For simplicity, all such\n",
    "#    examples are currently being ignored. These will be sent to the server, but no mapping is returned.\n",
    "\n",
    "# Get a mapping of nodes in the combined network\n",
    "url = 'https://www.uniprot.org/uploadlists/'\n",
    "mapping_df = pd.DataFrame()\n",
    "for i in range(int(len(ht_nodes) / 900) + 2):\n",
    "    node_query = sorted(ht_nodes)[i*900:(i+1)*900]\n",
    "    string_query = ' '.join(node_query)\n",
    "    params = {\n",
    "    'from': 'ACC',\n",
    "    'to': 'P_ENTREZGENEID',\n",
    "    'format': 'tab',\n",
    "    'query': string_query,\n",
    "    }\n",
    "    res = requests.get(url, params=params)\n",
    "    mapping_df = pd.concat([mapping_df, pd.read_table(io.StringIO(res.content.decode(\"utf-8\")))])\n",
    "\n",
    "# Apply the mapping into the dataframe\n",
    "ht_edges_df = (\n",
    "    ht_edges_df\n",
    "    .drop_duplicates()\n",
    "    .merge(mapping_df, left_on='uniprot_a', right_on='From')\n",
    "    .merge(mapping_df, left_on='uniprot_b', right_on='From')\n",
    "    .rename(columns={'To_x': 'entrez_gene_ida', 'To_y': 'entrez_gene_idb'})\n",
    "    .drop(columns=['From_x', 'From_y'])\n",
    ")\n",
    "ht_edges_df[['entrez_gene_ida', 'entrez_gene_idb']] = (\n",
    "    ht_edges_df.loc[:, 'entrez_gene_ida':'entrez_gene_idb'].astype(int)\n",
    ")\n",
    "ht_edges_df.head()"
   ]
  },
  {
   "cell_type": "code",
   "execution_count": 6,
   "metadata": {},
   "outputs": [
    {
     "data": {
      "text/plain": [
       "533"
      ]
     },
     "execution_count": 6,
     "metadata": {},
     "output_type": "execute_result"
    }
   ],
   "source": [
    "ht_nodes_entrez = set(ht_edges_df.loc[:, 'entrez_gene_ida':].values.flatten())\n",
    "lit_nodes_13 = set(lit_bm_dict[2013].loc[:, 'entrez_gene_ida':'entrez_gene_idb'].values.flatten())\n",
    "lit_nodes_10 = set(lit_bm_dict[2010].loc[:, 'entrez_gene_ida':'entrez_gene_idb'].values.flatten())\n",
    "lit_nodes = lit_nodes_10.union(lit_nodes_13)\n",
    "\n",
    "shared_nodes = sorted(lit_nodes.intersection(ht_nodes_entrez))\n",
    "source, target = list(zip(*itertools.product(shared_nodes, shared_nodes)))\n",
    "\n",
    "len(shared_nodes)"
   ]
  },
  {
   "cell_type": "code",
   "execution_count": 7,
   "metadata": {},
   "outputs": [
    {
     "data": {
      "text/html": [
       "<div>\n",
       "<style scoped>\n",
       "    .dataframe tbody tr th:only-of-type {\n",
       "        vertical-align: middle;\n",
       "    }\n",
       "\n",
       "    .dataframe tbody tr th {\n",
       "        vertical-align: top;\n",
       "    }\n",
       "\n",
       "    .dataframe thead th {\n",
       "        text-align: right;\n",
       "    }\n",
       "</style>\n",
       "<table border=\"1\" class=\"dataframe\">\n",
       "  <thead>\n",
       "    <tr style=\"text-align: right;\">\n",
       "      <th></th>\n",
       "      <th>entrez_gene_ida</th>\n",
       "      <th>entrez_gene_idb</th>\n",
       "      <th>lit_2010</th>\n",
       "      <th>lit_2013</th>\n",
       "      <th>ht_2014</th>\n",
       "    </tr>\n",
       "  </thead>\n",
       "  <tbody>\n",
       "    <tr>\n",
       "      <th>0</th>\n",
       "      <td>60</td>\n",
       "      <td>60</td>\n",
       "      <td>1.0</td>\n",
       "      <td>0.0</td>\n",
       "      <td>1.0</td>\n",
       "    </tr>\n",
       "    <tr>\n",
       "      <th>1</th>\n",
       "      <td>60</td>\n",
       "      <td>71</td>\n",
       "      <td>0.0</td>\n",
       "      <td>0.0</td>\n",
       "      <td>1.0</td>\n",
       "    </tr>\n",
       "    <tr>\n",
       "      <th>2</th>\n",
       "      <td>60</td>\n",
       "      <td>89</td>\n",
       "      <td>0.0</td>\n",
       "      <td>0.0</td>\n",
       "      <td>0.0</td>\n",
       "    </tr>\n",
       "    <tr>\n",
       "      <th>3</th>\n",
       "      <td>60</td>\n",
       "      <td>185</td>\n",
       "      <td>0.0</td>\n",
       "      <td>0.0</td>\n",
       "      <td>0.0</td>\n",
       "    </tr>\n",
       "    <tr>\n",
       "      <th>4</th>\n",
       "      <td>60</td>\n",
       "      <td>259</td>\n",
       "      <td>0.0</td>\n",
       "      <td>0.0</td>\n",
       "      <td>0.0</td>\n",
       "    </tr>\n",
       "  </tbody>\n",
       "</table>\n",
       "</div>"
      ],
      "text/plain": [
       "   entrez_gene_ida  entrez_gene_idb  lit_2010  lit_2013  ht_2014\n",
       "0               60               60       1.0       0.0      1.0\n",
       "1               60               71       0.0       0.0      1.0\n",
       "2               60               89       0.0       0.0      0.0\n",
       "3               60              185       0.0       0.0      0.0\n",
       "4               60              259       0.0       0.0      0.0"
      ]
     },
     "execution_count": 7,
     "metadata": {},
     "output_type": "execute_result"
    }
   ],
   "source": [
    "edges_df = (\n",
    "    pd.DataFrame\n",
    "    .from_dict({\n",
    "        'entrez_gene_ida': source,\n",
    "        'entrez_gene_idb': target,\n",
    "    })\n",
    "    .merge(\n",
    "        lit_bm_dict[2010]\n",
    "        .loc[:, 'entrez_gene_ida':'entrez_gene_idb']\n",
    "        .assign(lit_2010=1),\n",
    "        on=['entrez_gene_ida', 'entrez_gene_idb'],\n",
    "        how='left',\n",
    "    )\n",
    "    .merge(\n",
    "        lit_bm_dict[2013]\n",
    "        .loc[:, 'entrez_gene_ida':'entrez_gene_idb']\n",
    "        .assign(lit_2013=1),\n",
    "        on=['entrez_gene_ida', 'entrez_gene_idb'],\n",
    "        how='left',\n",
    "    )\n",
    "    .merge(\n",
    "        ht_edges_df\n",
    "        .loc[:, 'entrez_gene_ida':'entrez_gene_idb']\n",
    "        .assign(ht_2014=1),\n",
    "        on=['entrez_gene_ida', 'entrez_gene_idb'],\n",
    "        how='left',\n",
    "    )\n",
    "    .fillna(0)\n",
    ")\n",
    "\n",
    "edges_df.head()"
   ]
  },
  {
   "cell_type": "code",
   "execution_count": 8,
   "metadata": {},
   "outputs": [
    {
     "data": {
      "text/plain": [
       "lit_2010    121.0\n",
       "lit_2013    250.0\n",
       "ht_2014     752.0\n",
       "dtype: float64"
      ]
     },
     "execution_count": 8,
     "metadata": {},
     "output_type": "execute_result"
    }
   ],
   "source": [
    "edges_df.iloc[:, 2:].sum()"
   ]
  },
  {
   "cell_type": "code",
   "execution_count": 9,
   "metadata": {
    "scrolled": true
   },
   "outputs": [
    {
     "data": {
      "text/plain": [
       "(670, 5)"
      ]
     },
     "execution_count": 9,
     "metadata": {},
     "output_type": "execute_result"
    }
   ],
   "source": [
    "edges_df.query('lit_2010 == 0 and lit_2013 == 0 and ht_2014 == 1').shape"
   ]
  },
  {
   "cell_type": "code",
   "execution_count": 10,
   "metadata": {},
   "outputs": [
    {
     "data": {
      "application/vnd.jupyter.widget-view+json": {
       "model_id": "756c31b43e014d3c84b13c53a589d5fb",
       "version_major": 2,
       "version_minor": 0
      },
      "text/plain": [
       "HBox(children=(IntProgress(value=0, max=1000), HTML(value='')))"
      ]
     },
     "metadata": {},
     "output_type": "display_data"
    },
    {
     "name": "stdout",
     "output_type": "stream",
     "text": [
      "\n"
     ]
    },
    {
     "data": {
      "application/vnd.jupyter.widget-view+json": {
       "model_id": "899e29da725f4818871de0108eb38cc0",
       "version_major": 2,
       "version_minor": 0
      },
      "text/plain": [
       "HBox(children=(IntProgress(value=0, max=1000), HTML(value='')))"
      ]
     },
     "metadata": {},
     "output_type": "display_data"
    },
    {
     "name": "stdout",
     "output_type": "stream",
     "text": [
      "\n"
     ]
    }
   ],
   "source": [
    "network_edges = dict()\n",
    "network_mappings = dict()\n",
    "network_matrices = dict()\n",
    "\n",
    "for network in ['lit_2010', 'lit_2013']:\n",
    "    # Extract edge tuples\n",
    "    relevant_df = edges_df.query(f'{network} == 1')\n",
    "    edges = list(zip(relevant_df['entrez_gene_ida'], relevant_df['entrez_gene_idb']))\n",
    "    edges = list(set(map(tuple, map(sorted, edges))))\n",
    "    mapped_edges, mapping, _ = (\n",
    "        xswap.preprocessing.map_str_edges(edges, bipartite=False))   \n",
    "    \n",
    "    # Create adjacency matrix\n",
    "    max_id = max(mapping.values())\n",
    "    sp_mat = edges_to_matrix(mapped_edges)\n",
    "\n",
    "    network_edges[network] = mapped_edges\n",
    "    network_mappings[network] = mapping\n",
    "    network_matrices[network] = sp_mat\n",
    "    \n",
    "    # Compute RWR\n",
    "    rwr_mat = analysis.all_pairs_rwr(sp_mat, 0.25)\n",
    "    \n",
    "    # Compute RWR p-value\n",
    "    n_perms = 1000\n",
    "    indicator = np.zeros_like(rwr_mat)\n",
    "    perm_edges = mapped_edges.copy()\n",
    "    for i in tqdm.tnrange(n_perms):\n",
    "        perm_edges, _ = xswap.permute_edge_list(perm_edges, allow_self_loops=True, \n",
    "                                                allow_antiparallel=False, seed=i)\n",
    "        perm_mat = edges_to_matrix(perm_edges)\n",
    "        perm_rwr = analysis.all_pairs_rwr(perm_mat, 0.25)\n",
    "        indicator += (perm_rwr > rwr_mat)\n",
    "    p_values = indicator / n_perms\n",
    "    \n",
    "    # Unmap RWR and add to DataFrame\n",
    "    reversed_map = {v: k for k, v in mapping.items()}\n",
    "    mapped_source, mapped_target = zip(*itertools.product(range(max_id+1), range(max_id+1)))\n",
    "    mapped_rwr_df = (\n",
    "        pd.DataFrame\n",
    "        .from_dict({\n",
    "            'mapped_source': mapped_source,\n",
    "            'mapped_target': mapped_target,\n",
    "            f'{network}_rwr': rwr_mat.flatten(),\n",
    "            f'{network}_p_value': p_values.flatten()\n",
    "        })\n",
    "        .assign(\n",
    "            entrez_gene_ida=lambda df: df['mapped_source'].map(reversed_map),\n",
    "            entrez_gene_idb=lambda df: df['mapped_target'].map(reversed_map)\n",
    "        )\n",
    "        .filter(items=['entrez_gene_ida', 'entrez_gene_idb', f'{network}_rwr', f'{network}_p_value'])\n",
    "    )\n",
    "    edges_df = (\n",
    "        edges_df\n",
    "        .merge(mapped_rwr_df, on=['entrez_gene_ida', 'entrez_gene_idb'], how='left')\n",
    "        .fillna(0)\n",
    "    )\n",
    "    \n",
    "edges_df.to_csv('p_vs_rank.tsv.gz', compression='gzip', sep='\\t')"
   ]
  },
  {
   "cell_type": "code",
   "execution_count": 11,
   "metadata": {},
   "outputs": [
    {
     "data": {
      "text/html": [
       "<div>\n",
       "<style scoped>\n",
       "    .dataframe tbody tr th:only-of-type {\n",
       "        vertical-align: middle;\n",
       "    }\n",
       "\n",
       "    .dataframe tbody tr th {\n",
       "        vertical-align: top;\n",
       "    }\n",
       "\n",
       "    .dataframe thead th {\n",
       "        text-align: right;\n",
       "    }\n",
       "</style>\n",
       "<table border=\"1\" class=\"dataframe\">\n",
       "  <thead>\n",
       "    <tr style=\"text-align: right;\">\n",
       "      <th></th>\n",
       "      <th>entrez_gene_ida</th>\n",
       "      <th>entrez_gene_idb</th>\n",
       "      <th>lit_2010</th>\n",
       "      <th>lit_2013</th>\n",
       "      <th>ht_2014</th>\n",
       "      <th>lit_2010_rwr</th>\n",
       "      <th>lit_2010_p_value</th>\n",
       "      <th>lit_2013_rwr</th>\n",
       "      <th>lit_2013_p_value</th>\n",
       "    </tr>\n",
       "  </thead>\n",
       "  <tbody>\n",
       "    <tr>\n",
       "      <th>0</th>\n",
       "      <td>60</td>\n",
       "      <td>60</td>\n",
       "      <td>1.0</td>\n",
       "      <td>0.0</td>\n",
       "      <td>1.0</td>\n",
       "      <td>1.0</td>\n",
       "      <td>0.000</td>\n",
       "      <td>0.0</td>\n",
       "      <td>0.0</td>\n",
       "    </tr>\n",
       "    <tr>\n",
       "      <th>1</th>\n",
       "      <td>60</td>\n",
       "      <td>71</td>\n",
       "      <td>0.0</td>\n",
       "      <td>0.0</td>\n",
       "      <td>1.0</td>\n",
       "      <td>0.0</td>\n",
       "      <td>0.395</td>\n",
       "      <td>0.0</td>\n",
       "      <td>0.0</td>\n",
       "    </tr>\n",
       "    <tr>\n",
       "      <th>2</th>\n",
       "      <td>60</td>\n",
       "      <td>89</td>\n",
       "      <td>0.0</td>\n",
       "      <td>0.0</td>\n",
       "      <td>0.0</td>\n",
       "      <td>0.0</td>\n",
       "      <td>0.000</td>\n",
       "      <td>0.0</td>\n",
       "      <td>0.0</td>\n",
       "    </tr>\n",
       "    <tr>\n",
       "      <th>3</th>\n",
       "      <td>60</td>\n",
       "      <td>185</td>\n",
       "      <td>0.0</td>\n",
       "      <td>0.0</td>\n",
       "      <td>0.0</td>\n",
       "      <td>0.0</td>\n",
       "      <td>0.000</td>\n",
       "      <td>0.0</td>\n",
       "      <td>0.0</td>\n",
       "    </tr>\n",
       "    <tr>\n",
       "      <th>4</th>\n",
       "      <td>60</td>\n",
       "      <td>259</td>\n",
       "      <td>0.0</td>\n",
       "      <td>0.0</td>\n",
       "      <td>0.0</td>\n",
       "      <td>0.0</td>\n",
       "      <td>0.588</td>\n",
       "      <td>0.0</td>\n",
       "      <td>0.0</td>\n",
       "    </tr>\n",
       "  </tbody>\n",
       "</table>\n",
       "</div>"
      ],
      "text/plain": [
       "   entrez_gene_ida  entrez_gene_idb  lit_2010  lit_2013  ht_2014  \\\n",
       "0               60               60       1.0       0.0      1.0   \n",
       "1               60               71       0.0       0.0      1.0   \n",
       "2               60               89       0.0       0.0      0.0   \n",
       "3               60              185       0.0       0.0      0.0   \n",
       "4               60              259       0.0       0.0      0.0   \n",
       "\n",
       "   lit_2010_rwr  lit_2010_p_value  lit_2013_rwr  lit_2013_p_value  \n",
       "0           1.0             0.000           0.0               0.0  \n",
       "1           0.0             0.395           0.0               0.0  \n",
       "2           0.0             0.000           0.0               0.0  \n",
       "3           0.0             0.000           0.0               0.0  \n",
       "4           0.0             0.588           0.0               0.0  "
      ]
     },
     "execution_count": 11,
     "metadata": {},
     "output_type": "execute_result"
    }
   ],
   "source": [
    "edges_df.head()"
   ]
  },
  {
   "cell_type": "code",
   "execution_count": 14,
   "metadata": {},
   "outputs": [
    {
     "data": {
      "text/plain": [
       "0.5492824970430713"
      ]
     },
     "execution_count": 14,
     "metadata": {},
     "output_type": "execute_result"
    }
   ],
   "source": [
    "sklearn.metrics.roc_auc_score(edges_df['ht_2014'], edges_df['lit_2010_rwr'])"
   ]
  },
  {
   "cell_type": "code",
   "execution_count": 15,
   "metadata": {},
   "outputs": [
    {
     "data": {
      "text/plain": [
       "0.5095103199460361"
      ]
     },
     "execution_count": 15,
     "metadata": {},
     "output_type": "execute_result"
    }
   ],
   "source": [
    "sklearn.metrics.roc_auc_score(edges_df['ht_2014'], edges_df['lit_2010_p_value'])"
   ]
  },
  {
   "cell_type": "code",
   "execution_count": 16,
   "metadata": {},
   "outputs": [
    {
     "data": {
      "text/plain": [
       "0.5868134081278051"
      ]
     },
     "execution_count": 16,
     "metadata": {},
     "output_type": "execute_result"
    }
   ],
   "source": [
    "sklearn.metrics.roc_auc_score(edges_df['ht_2014'], edges_df['lit_2013_rwr'])"
   ]
  },
  {
   "cell_type": "code",
   "execution_count": 17,
   "metadata": {},
   "outputs": [
    {
     "data": {
      "text/plain": [
       "0.4721691002240965"
      ]
     },
     "execution_count": 17,
     "metadata": {},
     "output_type": "execute_result"
    }
   ],
   "source": [
    "sklearn.metrics.roc_auc_score(edges_df['ht_2014'], edges_df['lit_2013_p_value'])"
   ]
  }
 ],
 "metadata": {
  "kernelspec": {
   "display_name": "Python [conda env:xswap-analysis]",
   "language": "python",
   "name": "conda-env-xswap-analysis-py"
  },
  "language_info": {
   "codemirror_mode": {
    "name": "ipython",
    "version": 3
   },
   "file_extension": ".py",
   "mimetype": "text/x-python",
   "name": "python",
   "nbconvert_exporter": "python",
   "pygments_lexer": "ipython3",
   "version": "3.6.6"
  }
 },
 "nbformat": 4,
 "nbformat_minor": 2
}
