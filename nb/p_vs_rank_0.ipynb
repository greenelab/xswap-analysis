{
 "cells": [
  {
   "cell_type": "code",
   "execution_count": 1,
   "metadata": {},
   "outputs": [],
   "source": [
    "import urllib\n",
    "import io\n",
    "import tempfile\n",
    "import re\n",
    "\n",
    "import pandas as pd\n",
    "import requests"
   ]
  },
  {
   "cell_type": "markdown",
   "metadata": {},
   "source": [
    "## Literature-curated\n",
    "\n",
    "'mmc2.xlsx' is Table S1 in https://doi.org/10.1016/j.cell.2014.10.050"
   ]
  },
  {
   "cell_type": "code",
   "execution_count": 2,
   "metadata": {},
   "outputs": [],
   "source": [
    "lit_bm_dict = pd.read_excel('../data/p_vs_rank/mmc2.xlsx', sheet_name=['1A', '1B'])\n",
    "lit_bm_dict = {2010: lit_bm_dict['1A'], 2013: lit_bm_dict['1B']}\n",
    "\n",
    "lit_bm_dict[2013].head()"
   ]
  },
  {
   "cell_type": "markdown",
   "metadata": {},
   "source": [
    "## High-throughput"
   ]
  },
  {
   "cell_type": "code",
   "execution_count": 7,
   "metadata": {},
   "outputs": [],
   "source": [
    "# Download and combine Marc Vidal lab's published networks\n",
    "network_files = [\n",
    "    'Raul-Vidal(Nature_2005).psi',\n",
    "    'Venkatesan-Vidal(Nature_Methods_2009).psi',\n",
    "    'Yu-Vidal(Nature_Methods_2011).psi',\n",
    "    'Rolland-Vidal(Cell_2014).psi',\n",
    "    'Yang-Vidal(Cell_2016).psi',\n",
    "]\n",
    "ht_df = pd.DataFrame()\n",
    "for file in network_files:\n",
    "    with tempfile.NamedTemporaryFile() as tf:\n",
    "        res = requests.get(f'http://interactome.baderlab.org/data/{file}')\n",
    "        tf.write(res.content)\n",
    "        df = pd.read_table(tf.name).assign(source=file)\n",
    "    ht_df = pd.concat([ht_df, df]).reset_index(drop=True)\n",
    "\n",
    "ht_edges_df = (\n",
    "    ht_df\n",
    "    .rename(columns={\n",
    "        'Unique identifier for interactor A': 'ida', \n",
    "        'Unique identifier for interactor B': 'idb'})\n",
    "    .query('ida != \"-\" and idb != \"-\"')\n",
    "    .filter(items=['ida', 'idb',])\n",
    "    .assign(\n",
    "        uniprot_a = lambda df: df['ida'].apply(lambda x: re.search('(?<=uniprotkb:).+', x).group()),\n",
    "        uniprot_b = lambda df: df['idb'].apply(lambda x: re.search('(?<=uniprotkb:).+', x).group())\n",
    "    )\n",
    "    .drop_duplicates()\n",
    ")\n",
    "ht_nodes = set(ht_edges_df.loc[:, 'uniprot_a':'uniprot_b'].values.flatten())"
   ]
  },
  {
   "cell_type": "code",
   "execution_count": 9,
   "metadata": {},
   "outputs": [],
   "source": [
    "# Note: A major source of error is arising here, because many UniProt IDs end with, for example, \"-1\",\n",
    "#    indicating a particular isoform. This does not map to entrez_gene_id. For simplicity, all such\n",
    "#    examples are currently being ignored. These will be sent to the server, but no mapping is returned.\n",
    "\n",
    "# Get a mapping of nodes in the combined network\n",
    "url = 'https://www.uniprot.org/uploadlists/'\n",
    "mapping_df = pd.DataFrame()\n",
    "for i in range(int(len(ht_nodes) / 900) + 2):\n",
    "    node_query = sorted(ht_nodes)[i*900:(i+1)*900]\n",
    "    string_query = ' '.join(node_query)\n",
    "    params = {\n",
    "    'from': 'ACC',\n",
    "    'to': 'P_ENTREZGENEID',\n",
    "    'format': 'tab',\n",
    "    'query': string_query,\n",
    "    }\n",
    "    res = requests.get(url, params=params)\n",
    "    mapping_df = pd.concat([mapping_df, pd.read_table(io.StringIO(res.content.decode(\"utf-8\")))])\n",
    "\n",
    "# Apply the mapping into the dataframe\n",
    "ht_edges_df = (\n",
    "    ht_edges_df\n",
    "    .drop_duplicates()\n",
    "    .merge(mapping_df, left_on='uniprot_a', right_on='From')\n",
    "    .merge(mapping_df, left_on='uniprot_b', right_on='From')\n",
    "    .rename(columns={'To_x': 'entrez_gene_ida', 'To_y': 'entrez_gene_idb'})\n",
    "    .drop(columns=['From_x', 'From_y'])\n",
    ")\n",
    "\n",
    "ht_edges_df.head()"
   ]
  },
  {
   "cell_type": "code",
   "execution_count": 12,
   "metadata": {},
   "outputs": [
    {
     "data": {
      "text/plain": [
       "533"
      ]
     },
     "execution_count": 12,
     "metadata": {},
     "output_type": "execute_result"
    }
   ],
   "source": [
    "ht_nodes_entrez = set(ht_edges_df.loc[:, 'entrez_gene_ida':].values.flatten())\n",
    "lit_nodes_13 = set(lit_bm_dict[2013].loc[:, 'entrez_gene_ida':'entrez_gene_idb'].values.flatten())\n",
    "lit_nodes_10 = set(lit_bm_dict[2010].loc[:, 'entrez_gene_ida':'entrez_gene_idb'].values.flatten())\n",
    "lit_nodes = lit_nodes_10.union(lit_nodes_13)\n",
    "\n",
    "len(lit_nodes.intersection(ht_nodes_entrez))"
   ]
  },
  {
   "cell_type": "code",
   "execution_count": null,
   "metadata": {},
   "outputs": [],
   "source": []
  }
 ],
 "metadata": {
  "kernelspec": {
   "display_name": "Python [conda env:xswap-analysis]",
   "language": "python",
   "name": "conda-env-xswap-analysis-py"
  },
  "language_info": {
   "codemirror_mode": {
    "name": "ipython",
    "version": 3
   },
   "file_extension": ".py",
   "mimetype": "text/x-python",
   "name": "python",
   "nbconvert_exporter": "python",
   "pygments_lexer": "ipython3",
   "version": "3.6.6"
  }
 },
 "nbformat": 4,
 "nbformat_minor": 2
}
