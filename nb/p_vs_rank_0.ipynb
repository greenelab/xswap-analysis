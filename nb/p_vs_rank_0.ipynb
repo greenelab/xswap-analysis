{
 "cells": [
  {
   "cell_type": "code",
   "execution_count": 13,
   "metadata": {},
   "outputs": [],
   "source": [
    "import collections\n",
    "import itertools\n",
    "import tempfile\n",
    "import re\n",
    "\n",
    "import numpy as np\n",
    "import pandas as pd\n",
    "import requests\n",
    "import scipy.sparse\n",
    "import tqdm\n",
    "\n",
    "import xswap\n",
    "import analysis\n",
    "\n",
    "%matplotlib inline"
   ]
  },
  {
   "cell_type": "markdown",
   "metadata": {},
   "source": [
    "## STRING\n",
    "\n",
    "STRING gives HTTP 403 for `pd.read_table(url)`, but `requests.get` seems to work just fine."
   ]
  },
  {
   "cell_type": "code",
   "execution_count": 2,
   "metadata": {},
   "outputs": [
    {
     "data": {
      "text/html": [
       "<div>\n",
       "<style scoped>\n",
       "    .dataframe tbody tr th:only-of-type {\n",
       "        vertical-align: middle;\n",
       "    }\n",
       "\n",
       "    .dataframe tbody tr th {\n",
       "        vertical-align: top;\n",
       "    }\n",
       "\n",
       "    .dataframe thead th {\n",
       "        text-align: right;\n",
       "    }\n",
       "</style>\n",
       "<table border=\"1\" class=\"dataframe\">\n",
       "  <thead>\n",
       "    <tr style=\"text-align: right;\">\n",
       "      <th></th>\n",
       "      <th>uniprot_a</th>\n",
       "      <th>uniprot_b</th>\n",
       "    </tr>\n",
       "  </thead>\n",
       "  <tbody>\n",
       "    <tr>\n",
       "      <th>1</th>\n",
       "      <td>P84085</td>\n",
       "      <td>O43307</td>\n",
       "    </tr>\n",
       "    <tr>\n",
       "      <th>2</th>\n",
       "      <td>P84085</td>\n",
       "      <td>O75460</td>\n",
       "    </tr>\n",
       "  </tbody>\n",
       "</table>\n",
       "</div>"
      ],
      "text/plain": [
       "  uniprot_a uniprot_b\n",
       "1    P84085    O43307\n",
       "2    P84085    O75460"
      ]
     },
     "execution_count": 2,
     "metadata": {},
     "output_type": "execute_result"
    }
   ],
   "source": [
    "# Download PPI network from STRING\n",
    "string_url = 'https://stringdb-static.org/download/protein.links.v11.0/9606.protein.links.v11.0.txt.gz'\n",
    "with tempfile.NamedTemporaryFile() as tf:\n",
    "    res = requests.get(string_url)\n",
    "    tf.write(res.content)\n",
    "    string_df = pd.read_table(tf.name, compression='gzip', sep=' ')\n",
    "\n",
    "# Download Ensembl to UniProtKB identifier mappings\n",
    "mapping_url = 'https://string-db.org/mapping_files/uniprot/human.uniprot_2_string.2018.tsv.gz'\n",
    "with tempfile.NamedTemporaryFile() as tf:\n",
    "    res = requests.get(mapping_url)\n",
    "    tf.write(res.content)\n",
    "    mapping_df = pd.read_table(tf.name, compression='gzip', header=None)\n",
    "\n",
    "# Create dictionary with mappings\n",
    "map_to_uniprot = (\n",
    "    mapping_df\n",
    "    .assign(uniprot=lambda df: df[1].apply(lambda x: re.search('[A-Z0-9]+', x).group()))\n",
    "    .set_index(2)\n",
    "    .loc[:, 'uniprot']\n",
    "    .to_dict()\n",
    ")\n",
    "\n",
    "string_df = (\n",
    "    string_df\n",
    "    .assign(\n",
    "        uniprot_a=lambda df: df['protein1'].map(map_to_uniprot),\n",
    "        uniprot_b=lambda df: df['protein2'].map(map_to_uniprot),\n",
    "    )\n",
    "    .filter(items=['uniprot_a', 'uniprot_b'])\n",
    "    .dropna()\n",
    ")\n",
    "string_nodes = set(string_df.values.flatten())\n",
    "\n",
    "string_df.head(2)"
   ]
  },
  {
   "cell_type": "code",
   "execution_count": 3,
   "metadata": {},
   "outputs": [
    {
     "data": {
      "text/plain": [
       "19080"
      ]
     },
     "execution_count": 3,
     "metadata": {},
     "output_type": "execute_result"
    }
   ],
   "source": [
    "len(string_nodes)"
   ]
  },
  {
   "cell_type": "markdown",
   "metadata": {},
   "source": [
    "## High-throughput, systematic network"
   ]
  },
  {
   "cell_type": "code",
   "execution_count": 4,
   "metadata": {},
   "outputs": [
    {
     "data": {
      "text/html": [
       "<div>\n",
       "<style scoped>\n",
       "    .dataframe tbody tr th:only-of-type {\n",
       "        vertical-align: middle;\n",
       "    }\n",
       "\n",
       "    .dataframe tbody tr th {\n",
       "        vertical-align: top;\n",
       "    }\n",
       "\n",
       "    .dataframe thead th {\n",
       "        text-align: right;\n",
       "    }\n",
       "</style>\n",
       "<table border=\"1\" class=\"dataframe\">\n",
       "  <thead>\n",
       "    <tr style=\"text-align: right;\">\n",
       "      <th></th>\n",
       "      <th>uniprot_a</th>\n",
       "      <th>uniprot_b</th>\n",
       "    </tr>\n",
       "  </thead>\n",
       "  <tbody>\n",
       "    <tr>\n",
       "      <th>142</th>\n",
       "      <td>O14964</td>\n",
       "      <td>A0A024R0Y4</td>\n",
       "    </tr>\n",
       "    <tr>\n",
       "      <th>144</th>\n",
       "      <td>O95990</td>\n",
       "      <td>A0A024R0Y4</td>\n",
       "    </tr>\n",
       "  </tbody>\n",
       "</table>\n",
       "</div>"
      ],
      "text/plain": [
       "    uniprot_a   uniprot_b\n",
       "142    O14964  A0A024R0Y4\n",
       "144    O95990  A0A024R0Y4"
      ]
     },
     "execution_count": 4,
     "metadata": {},
     "output_type": "execute_result"
    }
   ],
   "source": [
    "ht_url = 'http://interactome.baderlab.org/data/Raul-Vidal(Nature_2005).psi'\n",
    "ht_df = pd.read_table(ht_url)\n",
    "\n",
    "ht_edges_df = (\n",
    "    ht_df\n",
    "    .rename(columns={\n",
    "        'Unique identifier for interactor A': 'ida', \n",
    "        'Unique identifier for interactor B': 'idb'})\n",
    "    .filter(items=['ida', 'idb',])\n",
    "    .query('ida != \"-\" and idb != \"-\"')\n",
    "    .assign(\n",
    "        uniprot_a = lambda df: df['ida'].apply(lambda x: re.search('(?<=uniprotkb:)[0-9A-Z]+', x).group()),\n",
    "        uniprot_b = lambda df: df['idb'].apply(lambda x: re.search('(?<=uniprotkb:)[0-9A-Z]+', x).group())\n",
    "    )\n",
    "    .filter(items=['uniprot_a', 'uniprot_b',])\n",
    "    .drop_duplicates()\n",
    ")\n",
    "ht_nodes = set(ht_edges_df.loc[:, 'uniprot_a':'uniprot_b'].values.flatten())\n",
    "\n",
    "ht_edges_df.head(2)"
   ]
  },
  {
   "cell_type": "code",
   "execution_count": 5,
   "metadata": {},
   "outputs": [
    {
     "data": {
      "text/plain": [
       "1510"
      ]
     },
     "execution_count": 5,
     "metadata": {},
     "output_type": "execute_result"
    }
   ],
   "source": [
    "len(ht_nodes)"
   ]
  },
  {
   "cell_type": "markdown",
   "metadata": {},
   "source": [
    "## Combine data"
   ]
  },
  {
   "cell_type": "code",
   "execution_count": 6,
   "metadata": {},
   "outputs": [
    {
     "data": {
      "text/plain": [
       "1389"
      ]
     },
     "execution_count": 6,
     "metadata": {},
     "output_type": "execute_result"
    }
   ],
   "source": [
    "shared_nodes = sorted(string_nodes.intersection(ht_nodes))\n",
    "source, target = zip(*itertools.product(shared_nodes, shared_nodes))\n",
    "\n",
    "len(shared_nodes)"
   ]
  },
  {
   "cell_type": "code",
   "execution_count": 16,
   "metadata": {},
   "outputs": [
    {
     "data": {
      "text/html": [
       "<div>\n",
       "<style scoped>\n",
       "    .dataframe tbody tr th:only-of-type {\n",
       "        vertical-align: middle;\n",
       "    }\n",
       "\n",
       "    .dataframe tbody tr th {\n",
       "        vertical-align: top;\n",
       "    }\n",
       "\n",
       "    .dataframe thead th {\n",
       "        text-align: right;\n",
       "    }\n",
       "</style>\n",
       "<table border=\"1\" class=\"dataframe\">\n",
       "  <thead>\n",
       "    <tr style=\"text-align: right;\">\n",
       "      <th></th>\n",
       "      <th>uniprot_a</th>\n",
       "      <th>uniprot_b</th>\n",
       "      <th>string</th>\n",
       "      <th>ht_2014</th>\n",
       "    </tr>\n",
       "  </thead>\n",
       "  <tbody>\n",
       "    <tr>\n",
       "      <th>0</th>\n",
       "      <td>A4D1E9</td>\n",
       "      <td>A4D1E9</td>\n",
       "      <td>0.0</td>\n",
       "      <td>0.0</td>\n",
       "    </tr>\n",
       "    <tr>\n",
       "      <th>1</th>\n",
       "      <td>A4D1E9</td>\n",
       "      <td>O00144</td>\n",
       "      <td>0.0</td>\n",
       "      <td>0.0</td>\n",
       "    </tr>\n",
       "  </tbody>\n",
       "</table>\n",
       "</div>"
      ],
      "text/plain": [
       "  uniprot_a uniprot_b  string  ht_2014\n",
       "0    A4D1E9    A4D1E9     0.0      0.0\n",
       "1    A4D1E9    O00144     0.0      0.0"
      ]
     },
     "execution_count": 16,
     "metadata": {},
     "output_type": "execute_result"
    }
   ],
   "source": [
    "edges_df = (\n",
    "    pd.DataFrame\n",
    "    .from_dict({\n",
    "        'uniprot_a': source,\n",
    "        'uniprot_b': target,\n",
    "    })\n",
    "    .merge(\n",
    "        string_df\n",
    "        .assign(string=1),\n",
    "        on=['uniprot_a', 'uniprot_b'],\n",
    "        how='left',\n",
    "    )\n",
    "    .merge(\n",
    "        ht_edges_df\n",
    "        .assign(ht_2014=1),\n",
    "        on=['uniprot_a', 'uniprot_b'],\n",
    "        how='left',\n",
    "    )\n",
    "    .fillna(0)\n",
    ")\n",
    "\n",
    "edges_df.head(2)"
   ]
  },
  {
   "cell_type": "code",
   "execution_count": 8,
   "metadata": {},
   "outputs": [],
   "source": [
    "# Extract edge tuples\n",
    "string_edges_df = edges_df.query('string == 1')\n",
    "edges = zip(string_edges_df['uniprot_a'], string_edges_df['uniprot_b'])\n",
    "edges = list(set(map(tuple, map(sorted, edges))))\n",
    "mapped_edges, mapping, _ = (\n",
    "    xswap.preprocessing.map_str_edges(edges, bipartite=False))   \n",
    "\n",
    "# Create adjacency matrix\n",
    "sp_mat = analysis.edges_to_matrix(mapped_edges)\n",
    "\n",
    "# Create source, target degree matrices\n",
    "degree = np.repeat(sp_mat.sum(axis=1), sp_mat.shape[1], axis=1) \\\n",
    "       + np.repeat(sp_mat.sum(axis=0), sp_mat.shape[0], axis=0)"
   ]
  },
  {
   "cell_type": "code",
   "execution_count": 9,
   "metadata": {},
   "outputs": [],
   "source": [
    "# Compute features on unpermuted network\n",
    "rwr_mat = analysis.all_pairs_rwr(sp_mat, 0.25)\n",
    "jaccard_mat = (sp_mat@sp_mat) / (degree - sp_mat@sp_mat)\n",
    "\n",
    "# Compute RWR p-value\n",
    "n_perms = 1000\n",
    "\n",
    "rwr_indicator = np.zeros_like(rwr_mat)\n",
    "jaccard_indicator = np.zeros_like(jaccard_mat)\n",
    "perm_edges = mapped_edges.copy()\n",
    "for i in tqdm.tnrange(n_perms):\n",
    "    # Permute edges\n",
    "    perm_edges, _ = xswap.permute_edge_list(perm_edges, allow_self_loops=True, \n",
    "                                            allow_antiparallel=False, seed=i)\n",
    "    perm_mat = analysis.edges_to_matrix(perm_edges)\n",
    "    \n",
    "    # Compute RWR on permuted network\n",
    "    perm_rwr = analysis.all_pairs_rwr(perm_mat, 0.25)\n",
    "    rwr_indicator += (perm_rwr >= rwr_mat)\n",
    "    \n",
    "    # Compute Jaccard similarity on permuted network\n",
    "    A2 = perm_mat@perm_mat\n",
    "    perm_jac = A2 / (degree - A2)\n",
    "    jaccard_indicator += (perm_jac >= jaccard_mat)\n",
    "    \n",
    "p_rwr = rwr_indicator / n_perms\n",
    "p_jac = jaccard_indicator / n_perms"
   ]
  },
  {
   "cell_type": "code",
   "execution_count": 17,
   "metadata": {},
   "outputs": [
    {
     "data": {
      "text/html": [
       "<div>\n",
       "<style scoped>\n",
       "    .dataframe tbody tr th:only-of-type {\n",
       "        vertical-align: middle;\n",
       "    }\n",
       "\n",
       "    .dataframe tbody tr th {\n",
       "        vertical-align: top;\n",
       "    }\n",
       "\n",
       "    .dataframe thead th {\n",
       "        text-align: right;\n",
       "    }\n",
       "</style>\n",
       "<table border=\"1\" class=\"dataframe\">\n",
       "  <thead>\n",
       "    <tr style=\"text-align: right;\">\n",
       "      <th></th>\n",
       "      <th>uniprot_a</th>\n",
       "      <th>uniprot_b</th>\n",
       "      <th>string</th>\n",
       "      <th>ht_2014</th>\n",
       "      <th>rwr</th>\n",
       "      <th>p_rwr</th>\n",
       "      <th>jaccard</th>\n",
       "      <th>p_jaccard</th>\n",
       "      <th>source_degree</th>\n",
       "      <th>target_degree</th>\n",
       "      <th>mean_degree</th>\n",
       "    </tr>\n",
       "  </thead>\n",
       "  <tbody>\n",
       "    <tr>\n",
       "      <th>0</th>\n",
       "      <td>A4D1E9</td>\n",
       "      <td>A4D1E9</td>\n",
       "      <td>0.0</td>\n",
       "      <td>0.0</td>\n",
       "      <td>0.252469</td>\n",
       "      <td>0.086</td>\n",
       "      <td>1.000000</td>\n",
       "      <td>1.000</td>\n",
       "      <td>60.0</td>\n",
       "      <td>60.0</td>\n",
       "      <td>60.000000</td>\n",
       "    </tr>\n",
       "    <tr>\n",
       "      <th>1</th>\n",
       "      <td>A4D1E9</td>\n",
       "      <td>O00144</td>\n",
       "      <td>0.0</td>\n",
       "      <td>0.0</td>\n",
       "      <td>0.000366</td>\n",
       "      <td>0.222</td>\n",
       "      <td>0.025641</td>\n",
       "      <td>0.915</td>\n",
       "      <td>60.0</td>\n",
       "      <td>60.0</td>\n",
       "      <td>60.000000</td>\n",
       "    </tr>\n",
       "    <tr>\n",
       "      <th>2</th>\n",
       "      <td>A4D1E9</td>\n",
       "      <td>O00148</td>\n",
       "      <td>1.0</td>\n",
       "      <td>0.0</td>\n",
       "      <td>0.004661</td>\n",
       "      <td>0.000</td>\n",
       "      <td>0.073579</td>\n",
       "      <td>0.295</td>\n",
       "      <td>60.0</td>\n",
       "      <td>261.0</td>\n",
       "      <td>125.139922</td>\n",
       "    </tr>\n",
       "    <tr>\n",
       "      <th>3</th>\n",
       "      <td>A4D1E9</td>\n",
       "      <td>O00151</td>\n",
       "      <td>1.0</td>\n",
       "      <td>0.0</td>\n",
       "      <td>0.003500</td>\n",
       "      <td>0.003</td>\n",
       "      <td>0.013158</td>\n",
       "      <td>0.999</td>\n",
       "      <td>60.0</td>\n",
       "      <td>94.0</td>\n",
       "      <td>75.099933</td>\n",
       "    </tr>\n",
       "    <tr>\n",
       "      <th>4</th>\n",
       "      <td>A4D1E9</td>\n",
       "      <td>O00160</td>\n",
       "      <td>0.0</td>\n",
       "      <td>0.0</td>\n",
       "      <td>0.000452</td>\n",
       "      <td>1.000</td>\n",
       "      <td>0.011050</td>\n",
       "      <td>1.000</td>\n",
       "      <td>60.0</td>\n",
       "      <td>123.0</td>\n",
       "      <td>85.906926</td>\n",
       "    </tr>\n",
       "  </tbody>\n",
       "</table>\n",
       "</div>"
      ],
      "text/plain": [
       "  uniprot_a uniprot_b  string  ht_2014       rwr  p_rwr   jaccard  p_jaccard  \\\n",
       "0    A4D1E9    A4D1E9     0.0      0.0  0.252469  0.086  1.000000      1.000   \n",
       "1    A4D1E9    O00144     0.0      0.0  0.000366  0.222  0.025641      0.915   \n",
       "2    A4D1E9    O00148     1.0      0.0  0.004661  0.000  0.073579      0.295   \n",
       "3    A4D1E9    O00151     1.0      0.0  0.003500  0.003  0.013158      0.999   \n",
       "4    A4D1E9    O00160     0.0      0.0  0.000452  1.000  0.011050      1.000   \n",
       "\n",
       "   source_degree  target_degree  mean_degree  \n",
       "0           60.0           60.0    60.000000  \n",
       "1           60.0           60.0    60.000000  \n",
       "2           60.0          261.0   125.139922  \n",
       "3           60.0           94.0    75.099933  \n",
       "4           60.0          123.0    85.906926  "
      ]
     },
     "execution_count": 17,
     "metadata": {},
     "output_type": "execute_result"
    }
   ],
   "source": [
    "# Unmap RWR and add to DataFrame\n",
    "max_id = max(mapping.values())\n",
    "reversed_map = {v: k for k, v in mapping.items()}\n",
    "mapped_source, mapped_target = zip(*itertools.product(range(max_id+1), range(max_id+1)))\n",
    "mapped_rwr_df = (\n",
    "    pd.DataFrame\n",
    "    .from_dict({\n",
    "        'mapped_source': mapped_source,\n",
    "        'mapped_target': mapped_target,\n",
    "        'rwr': rwr_mat.flatten(),\n",
    "        'p_rwr': p_rwr.flatten(),\n",
    "        'jaccard': np.array(jaccard_mat).flatten(),\n",
    "        'p_jaccard': np.array(p_jac).flatten()\n",
    "    })\n",
    "    .assign(\n",
    "        uniprot_a=lambda df: df['mapped_source'].map(reversed_map),\n",
    "        uniprot_b=lambda df: df['mapped_target'].map(reversed_map)\n",
    "    )\n",
    "    .filter(items=['uniprot_a', 'uniprot_b', 'rwr', 'p_rwr', 'jaccard', 'p_jaccard'])\n",
    ")\n",
    "# Dictionary of node to degree\n",
    "uniprot_to_degree = collections.Counter(edges_df.groupby('uniprot_a')['string'].sum().to_dict())\n",
    "\n",
    "df = (\n",
    "    edges_df\n",
    "    .merge(mapped_rwr_df, on=['uniprot_a', 'uniprot_b'], how='left')\n",
    "    .fillna(0)\n",
    "    .assign(\n",
    "        source_degree=lambda df: df['uniprot_a'].map(uniprot_to_degree),\n",
    "        target_degree=lambda df: df['uniprot_b'].map(uniprot_to_degree),\n",
    "        mean_degree=lambda df: np.sqrt(df['source_degree'] * df['target_degree']),\n",
    "    )\n",
    ")\n",
    "\n",
    "df.to_csv('p_vs_rank.tsv.gz', compression='gzip', sep='\\t', index=False)\n",
    "df.head()"
   ]
  }
 ],
 "metadata": {
  "kernelspec": {
   "display_name": "Python [conda env:xswap-analysis]",
   "language": "python",
   "name": "conda-env-xswap-analysis-py"
  },
  "language_info": {
   "codemirror_mode": {
    "name": "ipython",
    "version": 3
   },
   "file_extension": ".py",
   "mimetype": "text/x-python",
   "name": "python",
   "nbconvert_exporter": "python",
   "pygments_lexer": "ipython3",
   "version": "3.6.6"
  }
 },
 "nbformat": 4,
 "nbformat_minor": 2
}
