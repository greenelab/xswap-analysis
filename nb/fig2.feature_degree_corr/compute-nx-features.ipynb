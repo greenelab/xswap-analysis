{
 "cells": [
  {
   "cell_type": "code",
   "execution_count": 1,
   "metadata": {},
   "outputs": [],
   "source": [
    "import sys\n",
    "\n",
    "import networkx as nx\n",
    "import numpy as np\n",
    "import pandas as pd\n",
    "from plotnine import *\n",
    "import scipy.sparse\n",
    "import tqdm\n",
    "\n",
    "sys.path.insert(0, '../')\n",
    "import analysis"
   ]
  },
  {
   "cell_type": "code",
   "execution_count": 2,
   "metadata": {},
   "outputs": [],
   "source": [
    "edges_df = pd.read_csv('../../data/2.edges/ppi.tsv.xz', sep='\\t')\n",
    "\n",
    "id_to_degree = (\n",
    "    edges_df\n",
    "    .groupby('id_a')['train']\n",
    "    .sum()\n",
    "    .reset_index()\n",
    "    .merge(\n",
    "        edges_df.groupby('id_b')['train'].sum().reset_index(), \n",
    "        left_on='id_a', right_on='id_b',how='outer'\n",
    "    )\n",
    "    .fillna(0)\n",
    "    .assign(\n",
    "        degree=lambda df: df['train_x'] + df['train_y']\n",
    "    )\n",
    "    .loc[:, 'degree'].to_dict()\n",
    ")\n",
    "\n",
    "train_edges = list(map(tuple, (\n",
    "    edges_df\n",
    "    .query('train == 1')\n",
    "    .loc[:, 'id_a':'id_b']\n",
    "    .values\n",
    ")))\n",
    "\n",
    "G = nx.from_edgelist(train_edges)"
   ]
  },
  {
   "cell_type": "code",
   "execution_count": 3,
   "metadata": {},
   "outputs": [],
   "source": [
    "name_to_link_prediction = {\n",
    "    name: nx.link_prediction.__dict__[name]\n",
    "    for name in {'resource_allocation_index', 'adamic_adar_index', 'preferential_attachment'}\n",
    "}\n",
    "\n",
    "name_to_generator = {\n",
    "    name: f(G) for name, f in name_to_link_prediction.items()\n",
    "}"
   ]
  },
  {
   "cell_type": "code",
   "execution_count": 4,
   "metadata": {},
   "outputs": [
    {
     "data": {
      "text/plain": [
       "{'preferential_attachment': <generator object _apply_prediction.<locals>.<genexpr> at 0x7fae128a0b88>,\n",
       " 'adamic_adar_index': <generator object _apply_prediction.<locals>.<genexpr> at 0x7fae128a0c78>,\n",
       " 'resource_allocation_index': <generator object _apply_prediction.<locals>.<genexpr> at 0x7fae1273d1b0>}"
      ]
     },
     "execution_count": 4,
     "metadata": {},
     "output_type": "execute_result"
    }
   ],
   "source": [
    "name_to_generator"
   ]
  },
  {
   "cell_type": "code",
   "execution_count": 5,
   "metadata": {},
   "outputs": [
    {
     "data": {
      "application/vnd.jupyter.widget-view+json": {
       "model_id": "3d8875594238410d916d2129c84aedc7",
       "version_major": 2,
       "version_minor": 0
      },
      "text/plain": [
       "HBox(children=(IntProgress(value=0, max=8077881), HTML(value='')))"
      ]
     },
     "metadata": {},
     "output_type": "display_data"
    },
    {
     "name": "stdout",
     "output_type": "stream",
     "text": [
      "\n"
     ]
    },
    {
     "data": {
      "application/vnd.jupyter.widget-view+json": {
       "model_id": "9593677b29d445c9afaa206001108f26",
       "version_major": 2,
       "version_minor": 0
      },
      "text/plain": [
       "HBox(children=(IntProgress(value=0, max=8077881), HTML(value='')))"
      ]
     },
     "metadata": {},
     "output_type": "display_data"
    },
    {
     "name": "stdout",
     "output_type": "stream",
     "text": [
      "\n"
     ]
    },
    {
     "data": {
      "application/vnd.jupyter.widget-view+json": {
       "model_id": "cf8f4006acc243fb9fe3ca32c3c9855b",
       "version_major": 2,
       "version_minor": 0
      },
      "text/plain": [
       "HBox(children=(IntProgress(value=0, max=8077881), HTML(value='')))"
      ]
     },
     "metadata": {},
     "output_type": "display_data"
    },
    {
     "name": "stdout",
     "output_type": "stream",
     "text": [
      "\n"
     ]
    }
   ],
   "source": [
    "rows = list()\n",
    "for name, generator in name_to_generator.items():\n",
    "    for row in tqdm.tqdm_notebook(generator, total=8077881):\n",
    "        rows.append(row + (name,))"
   ]
  },
  {
   "cell_type": "code",
   "execution_count": 6,
   "metadata": {},
   "outputs": [
    {
     "data": {
      "text/html": [
       "<div>\n",
       "<style scoped>\n",
       "    .dataframe tbody tr th:only-of-type {\n",
       "        vertical-align: middle;\n",
       "    }\n",
       "\n",
       "    .dataframe tbody tr th {\n",
       "        vertical-align: top;\n",
       "    }\n",
       "\n",
       "    .dataframe thead th {\n",
       "        text-align: right;\n",
       "    }\n",
       "</style>\n",
       "<table border=\"1\" class=\"dataframe\">\n",
       "  <thead>\n",
       "    <tr style=\"text-align: right;\">\n",
       "      <th></th>\n",
       "      <th>id_a</th>\n",
       "      <th>id_b</th>\n",
       "      <th>adamic_adar_index</th>\n",
       "      <th>preferential_attachment</th>\n",
       "      <th>resource_allocation_index</th>\n",
       "      <th>source</th>\n",
       "      <th>target</th>\n",
       "    </tr>\n",
       "  </thead>\n",
       "  <tbody>\n",
       "    <tr>\n",
       "      <th>0</th>\n",
       "      <td>0</td>\n",
       "      <td>1</td>\n",
       "      <td>0.000000</td>\n",
       "      <td>165.0</td>\n",
       "      <td>0.0000</td>\n",
       "      <td>55</td>\n",
       "      <td>3</td>\n",
       "    </tr>\n",
       "    <tr>\n",
       "      <th>1</th>\n",
       "      <td>0</td>\n",
       "      <td>2</td>\n",
       "      <td>0.228205</td>\n",
       "      <td>3520.0</td>\n",
       "      <td>0.0125</td>\n",
       "      <td>55</td>\n",
       "      <td>64</td>\n",
       "    </tr>\n",
       "  </tbody>\n",
       "</table>\n",
       "</div>"
      ],
      "text/plain": [
       "   id_a  id_b  adamic_adar_index  preferential_attachment  \\\n",
       "0     0     1           0.000000                    165.0   \n",
       "1     0     2           0.228205                   3520.0   \n",
       "\n",
       "   resource_allocation_index  source  target  \n",
       "0                     0.0000      55       3  \n",
       "1                     0.0125      55      64  "
      ]
     },
     "execution_count": 6,
     "metadata": {},
     "output_type": "execute_result"
    }
   ],
   "source": [
    "df = (\n",
    "    pd.DataFrame(rows, columns=['id_a', 'id_b', 'value', 'feature'])\n",
    "    .pivot_table(index=['id_a', 'id_b'], columns='feature', values='value')\n",
    "    .reset_index()\n",
    "    .rename_axis(None, axis=1)\n",
    "    .assign(\n",
    "        source=lambda df: df['id_a'].map(id_to_degree).astype(int),\n",
    "        target=lambda df: df['id_b'].map(id_to_degree).astype(int),\n",
    "    )\n",
    ")\n",
    "\n",
    "df.to_csv('prediction_features.csv.gz', compression='gzip', index=False)\n",
    "\n",
    "df.head(2)"
   ]
  },
  {
   "cell_type": "code",
   "execution_count": null,
   "metadata": {},
   "outputs": [],
   "source": []
  }
 ],
 "metadata": {
  "kernelspec": {
   "display_name": "Python [conda env:xswap-analysis] *",
   "language": "python",
   "name": "conda-env-xswap-analysis-py"
  },
  "language_info": {
   "codemirror_mode": {
    "name": "ipython",
    "version": 3
   },
   "file_extension": ".py",
   "mimetype": "text/x-python",
   "name": "python",
   "nbconvert_exporter": "python",
   "pygments_lexer": "ipython3",
   "version": "3.7.3"
  }
 },
 "nbformat": 4,
 "nbformat_minor": 2
}
