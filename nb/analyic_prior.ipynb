{
 "cells": [
  {
   "cell_type": "code",
   "execution_count": 1,
   "metadata": {},
   "outputs": [],
   "source": [
    "import tempfile\n",
    "\n",
    "import matplotlib.pyplot as plt\n",
    "import numpy as np\n",
    "import scipy.stats\n",
    "import seaborn as sns\n",
    "import requests\n",
    "import tqdm\n",
    "import xswap\n",
    "\n",
    "%matplotlib inline"
   ]
  },
  {
   "cell_type": "code",
   "execution_count": 2,
   "metadata": {},
   "outputs": [],
   "source": [
    "def edges_to_mat(edges, sparse=False, shape=None):\n",
    "    sp_mat = scipy.sparse.coo_matrix((np.ones(len(edges)), (zip(*edges))))\n",
    "    if shape is None:\n",
    "        shape = sp_mat.shape\n",
    "    sp_mat = scipy.sparse.csc_matrix(sp_mat, shape=shape)\n",
    "    if sparse:\n",
    "        return sp_mat\n",
    "    return sp_mat.toarray()\n",
    "\n",
    "def rowsums(matrix, shape):\n",
    "    return np.repeat(\n",
    "       matrix\n",
    "       .sum(axis=1)\n",
    "       .reshape(shape[0], 1),\n",
    "       shape[1],\n",
    "       axis=1)\n",
    "\n",
    "def colsums(matrix, shape):\n",
    "    return np.repeat(\n",
    "       matrix\n",
    "       .sum(axis=0)\n",
    "       .reshape(1, shape[1]),\n",
    "       shape[0],\n",
    "       axis=0)\n",
    "\n",
    "def compute_probs(mat):\n",
    "    N = mat.sum()\n",
    "    aata = mat @ (mat.T) @ mat\n",
    "    S = (1/2) * (N**2 + np.trace(aata @ mat.T) - 2 * aata.sum())\n",
    "    rho = mat * (N - rowsums(mat @ mat.T, mat.shape) \n",
    "                 - colsums(mat.T @ mat, mat.shape) + aata)\n",
    "    R = 1 - rho / S\n",
    "    t = (1 - mat) * (rowsums(mat, mat.shape) * colsums(mat, mat.shape) - aata)\n",
    "    T = t / S\n",
    "    D = R - T\n",
    "    return D, T\n",
    "\n",
    "# def compute_probs_sparse(mat):\n",
    "#     dense = mat.toarray()\n",
    "#     N = mat.sum()\n",
    "#     aata = mat @ (mat.T) @ mat\n",
    "#     S = (1/2) * (N**2 + (aata @ mat.T).diagonal().sum() - 2 * aata.sum())\n",
    "#     rho = dense * (N - rowsums((mat @ mat.T).toarray(), shape=(19769, 19769)) \n",
    "#                    - colsums((mat.T @ mat).toarray(), shape=(19769, 19769)) \n",
    "#                    + aata.toarray())\n",
    "#     T = (1 - dense) * (rowsums(dense, shape=(19769, 19769)) * colsums(dense, shape=(19769, 19769)) \n",
    "#                        - aata.toarray()) / S\n",
    "#     D = 1 - rho / S - T\n",
    "#     return D, T"
   ]
  },
  {
   "cell_type": "code",
   "execution_count": 3,
   "metadata": {},
   "outputs": [],
   "source": [
    "def xswap(adj_list, num_success):\n",
    "    adj_list = edges.copy()\n",
    "    success = 0\n",
    "    while success < num_success:\n",
    "        ind = np.arange(len(adj_list))\n",
    "        ind_a, ind_b = np.random.choice(ind, size=2, replace=False)\n",
    "        edge_a, edge_b = adj_list[ind_a], adj_list[ind_b]\n",
    "\n",
    "        next_a = (edge_a[0], edge_b[1])\n",
    "        next_b = (edge_b[0], edge_a[1])\n",
    "\n",
    "        if next_a not in edges and next_b not in edges:\n",
    "            adj_list[ind_a] = next_a\n",
    "            adj_list[ind_b] = next_b\n",
    "            success += 1\n",
    "    return adj_list"
   ]
  },
  {
   "cell_type": "code",
   "execution_count": 26,
   "metadata": {},
   "outputs": [],
   "source": [
    "edges = [(0,0), (0,1), (1,2), (1,3), (2,4), (3,4)]\n",
    "mat_shape = (4, 5)"
   ]
  },
  {
   "cell_type": "raw",
   "metadata": {},
   "source": [
    "edges = [(i, i) for i in range(10)]\n",
    "mat_shape = (10, 10)"
   ]
  },
  {
   "cell_type": "code",
   "execution_count": 5,
   "metadata": {},
   "outputs": [
    {
     "data": {
      "application/vnd.jupyter.widget-view+json": {
       "model_id": "d86204a1973d4ce6ab6334b0a64f3220",
       "version_major": 2,
       "version_minor": 0
      },
      "text/plain": [
       "HBox(children=(IntProgress(value=0, max=100000), HTML(value='')))"
      ]
     },
     "metadata": {},
     "output_type": "display_data"
    },
    {
     "name": "stdout",
     "output_type": "stream",
     "text": [
      "\n"
     ]
    }
   ],
   "source": [
    "num_indicators = 5\n",
    "indicators = {n: np.zeros(mat_shape) for n in range(1, num_indicators + 1)}\n",
    "\n",
    "success = 100000\n",
    "for _ in tqdm.tnrange(success):\n",
    "    for n in range(1, num_indicators + 1):\n",
    "        permuted_edges = xswap(edges, n)\n",
    "        permuted = scipy.sparse.coo_matrix((np.ones(len(edges)), (zip(*permuted_edges))), shape=mat_shape)\n",
    "        indicators[n] += permuted.toarray()\n",
    "\n",
    "for n in range(1, num_indicators + 1):\n",
    "    indicators[n] /= success"
   ]
  },
  {
   "cell_type": "code",
   "execution_count": 6,
   "metadata": {},
   "outputs": [
    {
     "data": {
      "text/plain": [
       "45"
      ]
     },
     "execution_count": 6,
     "metadata": {},
     "output_type": "execute_result"
    }
   ],
   "source": [
    "graphs = list()\n",
    "for _ in range(10000):\n",
    "    permuted = xswap(edges, 1)\n",
    "    permuted = ([edge for edge in permuted if edge[0] <= edge[1]] \n",
    "                + [(edge[1], edge[0]) for edge in permuted if edge[0] > edge[1]])\n",
    "    permuted = sorted(permuted)\n",
    "    if permuted not in graphs:\n",
    "        graphs.append(permuted)\n",
    "\n",
    "len(graphs)"
   ]
  },
  {
   "cell_type": "code",
   "execution_count": 7,
   "metadata": {},
   "outputs": [
    {
     "name": "stdout",
     "output_type": "stream",
     "text": [
      "45.0\n"
     ]
    }
   ],
   "source": [
    "# Small example matrix\n",
    "mat = np.zeros(mat_shape)\n",
    "for edge in edges:\n",
    "    mat[edge] = 1\n",
    "D, T = compute_probs(mat)\n",
    "\n",
    "S = (1/2) * (np.trace(mat@mat.T@mat@mat.T) + mat.sum()**2 - 2 * (mat@mat.T@mat).sum())\n",
    "print(S)\n",
    "\n",
    "analyticals = dict()\n",
    "analyticals[0] = mat\n",
    "for n in range(1, num_indicators + 1):\n",
    "    analyticals[n] = T + analyticals[n-1] * D\n",
    "    \n",
    "non_stationary = dict()\n",
    "non_stationary[0] = mat\n",
    "for n in range(1, num_indicators + 1):\n",
    "    T_n, D_n = compute_probs(non_stationary[n-1])\n",
    "    non_stationary[n] = T_n + non_stationary[n-1] * D"
   ]
  },
  {
   "cell_type": "code",
   "execution_count": 8,
   "metadata": {},
   "outputs": [
    {
     "data": {
      "image/png": "[encoded data removed]",
      "text/plain": [
       "<Figure size 432x288 with 1 Axes>"
      ]
     },
     "metadata": {},
     "output_type": "display_data"
    },
    {
     "data": {
      "image/png": "[encoded data removed]",
      "text/plain": [
       "<Figure size 432x288 with 1 Axes>"
      ]
     },
     "metadata": {},
     "output_type": "display_data"
    },
    {
     "data": {
      "image/png": "[encoded data removed]",
      "text/plain": [
       "<Figure size 432x288 with 1 Axes>"
      ]
     },
     "metadata": {},
     "output_type": "display_data"
    },
    {
     "data": {
      "image/png": "[encoded data removed]",
      "text/plain": [
       "<Figure size 432x288 with 1 Axes>"
      ]
     },
     "metadata": {},
     "output_type": "display_data"
    },
    {
     "data": {
      "image/png": "[encoded data removed]",
      "text/plain": [
       "<Figure size 432x288 with 1 Axes>"
      ]
     },
     "metadata": {},
     "output_type": "display_data"
    },
    {
     "data": {
      "image/png": "[encoded data removed]",
      "text/plain": [
       "<Figure size 432x288 with 1 Axes>"
      ]
     },
     "metadata": {},
     "output_type": "display_data"
    },
    {
     "data": {
      "image/png": "[encoded data removed]",
      "text/plain": [
       "<Figure size 432x288 with 1 Axes>"
      ]
     },
     "metadata": {},
     "output_type": "display_data"
    },
    {
     "data": {
      "image/png": "[encoded data removed]",
      "text/plain": [
       "<Figure size 432x288 with 1 Axes>"
      ]
     },
     "metadata": {},
     "output_type": "display_data"
    },
    {
     "data": {
      "image/png": "[encoded data removed]",
      "text/plain": [
       "<Figure size 432x288 with 1 Axes>"
      ]
     },
     "metadata": {},
     "output_type": "display_data"
    },
    {
     "data": {
      "image/png": "[encoded data removed]",
      "text/plain": [
       "<Figure size 432x288 with 1 Axes>"
      ]
     },
     "metadata": {},
     "output_type": "display_data"
    }
   ],
   "source": [
    "for i in range(1, num_indicators + 1):\n",
    "    plt.figure()\n",
    "    plt.scatter(analyticals[i].flatten(), indicators[i].flatten())\n",
    "    plt.plot([0,1], [0,1])\n",
    "    plt.xlabel('Analytical')\n",
    "    plt.ylabel('Empirical')\n",
    "    plt.title(f'{i} steps - Stationary')\n",
    "    \n",
    "for i in range(1, num_indicators + 1):\n",
    "    plt.figure()\n",
    "    plt.scatter(non_stationary[i].flatten(), indicators[i].flatten())\n",
    "    plt.plot([0,1], [0,1])\n",
    "    plt.xlabel('Analytical')\n",
    "    plt.ylabel('Empirical')\n",
    "    plt.title(f'{i} steps - Nonstationary')"
   ]
  },
  {
   "cell_type": "code",
   "execution_count": 9,
   "metadata": {},
   "outputs": [
    {
     "data": {
      "text/plain": [
       "1.9513813021133317"
      ]
     },
     "execution_count": 9,
     "metadata": {},
     "output_type": "execute_result"
    }
   ],
   "source": [
    "# TODO: Something is wrong here, probabilities do not remain normalized\n",
    "\n",
    "non_stationary[2].max()"
   ]
  },
  {
   "cell_type": "markdown",
   "metadata": {},
   "source": [
    "## What factors are conserved?"
   ]
  },
  {
   "cell_type": "code",
   "execution_count": 27,
   "metadata": {},
   "outputs": [],
   "source": [
    "a = edges_to_mat(edges, shape=mat_shape)\n",
    "a_n = edges_to_mat(xswap(edges,1), shape=mat_shape)"
   ]
  },
  {
   "cell_type": "code",
   "execution_count": 28,
   "metadata": {},
   "outputs": [
    {
     "data": {
      "text/plain": [
       "array([[0., 1., 1., 0., 0.],\n",
       "       [1., 0., 0., 1., 0.],\n",
       "       [0., 0., 0., 0., 1.],\n",
       "       [0., 0., 0., 0., 1.]])"
      ]
     },
     "execution_count": 28,
     "metadata": {},
     "output_type": "execute_result"
    }
   ],
   "source": [
    "a_n"
   ]
  },
  {
   "cell_type": "code",
   "execution_count": 29,
   "metadata": {},
   "outputs": [
    {
     "data": {
      "text/plain": [
       "array([[2., 0., 0., 0.],\n",
       "       [0., 2., 0., 0.],\n",
       "       [0., 0., 1., 1.],\n",
       "       [0., 0., 1., 1.]])"
      ]
     },
     "execution_count": 29,
     "metadata": {},
     "output_type": "execute_result"
    }
   ],
   "source": [
    "a_n@a_n.T"
   ]
  },
  {
   "cell_type": "code",
   "execution_count": 30,
   "metadata": {},
   "outputs": [
    {
     "data": {
      "text/plain": [
       "array([[2., 2., 0., 0., 0.],\n",
       "       [0., 0., 2., 2., 0.],\n",
       "       [0., 0., 0., 0., 2.],\n",
       "       [0., 0., 0., 0., 2.]])"
      ]
     },
     "execution_count": 30,
     "metadata": {},
     "output_type": "execute_result"
    }
   ],
   "source": [
    "(a@a.T@a)"
   ]
  },
  {
   "cell_type": "code",
   "execution_count": 31,
   "metadata": {},
   "outputs": [
    {
     "data": {
      "text/plain": [
       "array([[0., 2., 2., 0., 0.],\n",
       "       [2., 0., 0., 2., 0.],\n",
       "       [0., 0., 0., 0., 2.],\n",
       "       [0., 0., 0., 0., 2.]])"
      ]
     },
     "execution_count": 31,
     "metadata": {},
     "output_type": "execute_result"
    }
   ],
   "source": [
    "(a_n@a_n.T@a_n)"
   ]
  },
  {
   "cell_type": "code",
   "execution_count": 32,
   "metadata": {},
   "outputs": [],
   "source": [
    "def compute_probs(mat):\n",
    "    N = mat.sum()\n",
    "    aata = mat @ (mat.T) @ mat\n",
    "    S = (1/2) * (N**2 + np.trace(aata @ mat.T) - 2 * aata.sum())\n",
    "    rho = mat * (N - rowsums(mat @ mat.T, mat.shape) \n",
    "                 - colsums(mat.T @ mat, mat.shape) + aata)\n",
    "    R = 1 - rho / S\n",
    "    t = (1 - mat) * (rowsums(mat, mat.shape) * colsums(mat, mat.shape) - aata)\n",
    "    T = t / S\n",
    "    D = R - T\n",
    "    return S, R, T"
   ]
  },
  {
   "cell_type": "code",
   "execution_count": 51,
   "metadata": {},
   "outputs": [],
   "source": [
    "mat = np.array([\n",
    "    [1,1,0],\n",
    "    [0,1,1]\n",
    "])"
   ]
  },
  {
   "cell_type": "code",
   "execution_count": 43,
   "metadata": {},
   "outputs": [],
   "source": [
    "mat = np.array([\n",
    "    [0,0,1,1,0],\n",
    "    [0,0,0,1,1],\n",
    "    [1,0,0,0,0],\n",
    "    [1,1,0,0,0],\n",
    "    [0,1,0,0,0]\n",
    "])"
   ]
  },
  {
   "cell_type": "code",
   "execution_count": 52,
   "metadata": {},
   "outputs": [
    {
     "data": {
      "text/plain": [
       "array([[5, 4],\n",
       "       [4, 5]])"
      ]
     },
     "execution_count": 52,
     "metadata": {},
     "output_type": "execute_result"
    }
   ],
   "source": [
    "mat@mat.T@mat@mat.T"
   ]
  },
  {
   "cell_type": "code",
   "execution_count": 53,
   "metadata": {},
   "outputs": [
    {
     "data": {
      "text/plain": [
       "array([[2, 1],\n",
       "       [1, 2]])"
      ]
     },
     "execution_count": 53,
     "metadata": {},
     "output_type": "execute_result"
    }
   ],
   "source": [
    "mat@mat.T"
   ]
  },
  {
   "cell_type": "code",
   "execution_count": 34,
   "metadata": {},
   "outputs": [],
   "source": [
    "s, r, t = compute_probs(a)"
   ]
  },
  {
   "cell_type": "code",
   "execution_count": 35,
   "metadata": {},
   "outputs": [
    {
     "data": {
      "text/plain": [
       "12.0"
      ]
     },
     "execution_count": 35,
     "metadata": {},
     "output_type": "execute_result"
    }
   ],
   "source": [
    "s"
   ]
  },
  {
   "cell_type": "code",
   "execution_count": 36,
   "metadata": {},
   "outputs": [
    {
     "data": {
      "text/plain": [
       "array([[0.66666667, 0.66666667, 1.        , 1.        , 1.        ],\n",
       "       [1.        , 1.        , 0.66666667, 0.66666667, 1.        ],\n",
       "       [1.        , 1.        , 1.        , 1.        , 0.66666667],\n",
       "       [1.        , 1.        , 1.        , 1.        , 0.66666667]])"
      ]
     },
     "execution_count": 36,
     "metadata": {},
     "output_type": "execute_result"
    }
   ],
   "source": [
    "r"
   ]
  },
  {
   "cell_type": "code",
   "execution_count": 37,
   "metadata": {},
   "outputs": [
    {
     "data": {
      "text/plain": [
       "array([[0.        , 0.        , 0.16666667, 0.16666667, 0.33333333],\n",
       "       [0.16666667, 0.16666667, 0.        , 0.        , 0.33333333],\n",
       "       [0.08333333, 0.08333333, 0.08333333, 0.08333333, 0.        ],\n",
       "       [0.08333333, 0.08333333, 0.08333333, 0.08333333, 0.        ]])"
      ]
     },
     "execution_count": 37,
     "metadata": {},
     "output_type": "execute_result"
    }
   ],
   "source": [
    "t"
   ]
  },
  {
   "cell_type": "code",
   "execution_count": 46,
   "metadata": {},
   "outputs": [],
   "source": [
    "sn, rn, tn = compute_probs(a_n)"
   ]
  },
  {
   "cell_type": "code",
   "execution_count": 47,
   "metadata": {},
   "outputs": [
    {
     "data": {
      "text/plain": [
       "12.0"
      ]
     },
     "execution_count": 47,
     "metadata": {},
     "output_type": "execute_result"
    }
   ],
   "source": [
    "sn"
   ]
  },
  {
   "cell_type": "code",
   "execution_count": 48,
   "metadata": {},
   "outputs": [
    {
     "data": {
      "text/plain": [
       "array([[1.        , 0.66666667, 0.66666667, 1.        , 1.        ],\n",
       "       [0.66666667, 1.        , 1.        , 0.66666667, 1.        ],\n",
       "       [1.        , 1.        , 1.        , 1.        , 0.66666667],\n",
       "       [1.        , 1.        , 1.        , 1.        , 0.66666667]])"
      ]
     },
     "execution_count": 48,
     "metadata": {},
     "output_type": "execute_result"
    }
   ],
   "source": [
    "rn"
   ]
  },
  {
   "cell_type": "code",
   "execution_count": 49,
   "metadata": {},
   "outputs": [
    {
     "data": {
      "text/plain": [
       "array([[0.16666667, 0.        , 0.        , 0.16666667, 0.33333333],\n",
       "       [0.        , 0.16666667, 0.16666667, 0.        , 0.33333333],\n",
       "       [0.08333333, 0.08333333, 0.08333333, 0.08333333, 0.        ],\n",
       "       [0.08333333, 0.08333333, 0.08333333, 0.08333333, 0.        ]])"
      ]
     },
     "execution_count": 49,
     "metadata": {},
     "output_type": "execute_result"
    }
   ],
   "source": [
    "tn"
   ]
  },
  {
   "cell_type": "markdown",
   "metadata": {},
   "source": [
    "## Larger graph\n",
    "\n",
    "This turns out to take way too much memory unless you are very careful"
   ]
  },
  {
   "cell_type": "raw",
   "metadata": {},
   "source": [
    "gig_red = requests.get('https://raw.githubusercontent.com/greenelab/xswap/testing-data/graphs/GiG_edges.txt')\n",
    "\n",
    "with tempfile.NamedTemporaryFile() as tf:\n",
    "    tf.write(gig_red.content)\n",
    "    edges = xswap.preprocessing.load_processed_edges(tf.name)\n",
    "\n",
    "edges = [edge for edge in edges if edge[0] <= edge[1]]"
   ]
  },
  {
   "cell_type": "raw",
   "metadata": {},
   "source": [
    "%%time \n",
    "mat = edges_to_mat(edges, sparse=True, shape=(19769, 19769))\n",
    "D, T = compute_probs_sparse(mat)"
   ]
  },
  {
   "cell_type": "raw",
   "metadata": {},
   "source": [
    "indicator = np.zeros((19769, 19769))\n",
    "for i in tqdm.tnrange(100):\n",
    "    permuted, _ = xswap.permute_edge_list(edges, seed=i, allow_antiparallel=True, \n",
    "                                          allow_self_loops=True, multiplier=1/len(edges))\n",
    "    permuted = scipy.sparse.coo_matrix((np.ones(len(edges)), (zip(*permuted))), shape=(19769, 19769))\n",
    "    indicator += permuted.toarray()\n",
    "    \n",
    "indicator = indicator / 100"
   ]
  },
  {
   "cell_type": "raw",
   "metadata": {},
   "source": [
    "P_1 = T + mat.toarray() * D"
   ]
  },
  {
   "cell_type": "raw",
   "metadata": {},
   "source": [
    "del D, T, mat"
   ]
  },
  {
   "cell_type": "raw",
   "metadata": {},
   "source": [
    "plt.scatter(P_1.flatten()[:10000], indicator.flatten()[:10000])"
   ]
  },
  {
   "cell_type": "raw",
   "metadata": {},
   "source": [
    "scipy.stats.ttest_rel(P_1.flatten(), indicator.flatten())"
   ]
  },
  {
   "cell_type": "raw",
   "metadata": {},
   "source": [
    "np.abs(P_1 - indicator).max()"
   ]
  },
  {
   "cell_type": "code",
   "execution_count": null,
   "metadata": {},
   "outputs": [],
   "source": []
  }
 ],
 "metadata": {
  "kernelspec": {
   "display_name": "Python [conda env:xswap-analysis]",
   "language": "python",
   "name": "conda-env-xswap-analysis-py"
  },
  "language_info": {
   "codemirror_mode": {
    "name": "ipython",
    "version": 3
   },
   "file_extension": ".py",
   "mimetype": "text/x-python",
   "name": "python",
   "nbconvert_exporter": "python",
   "pygments_lexer": "ipython3",
   "version": "3.6.6"
  }
 },
 "nbformat": 4,
 "nbformat_minor": 2
}
