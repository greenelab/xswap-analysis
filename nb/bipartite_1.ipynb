{
 "cells": [
  {
   "cell_type": "code",
   "execution_count": 6,
   "metadata": {},
   "outputs": [],
   "source": [
    "import collections\n",
    "import json\n",
    "import re\n",
    "\n",
    "import networkx as nx\n",
    "import numpy as np\n",
    "import pandas as pd\n",
    "import requests\n",
    "import scipy.sparse\n",
    "import tqdm\n",
    "import xswap\n",
    "\n",
    "import analysis\n",
    "\n",
    "%matplotlib inline"
   ]
  },
  {
   "cell_type": "code",
   "execution_count": 2,
   "metadata": {},
   "outputs": [],
   "source": [
    "# Download and save TFTG relationships\n",
    "tftg_url = 'https://www.ncbi.nlm.nih.gov/pmc/articles/PMC5795274/bin/12915_2017_469_MOESM5_ESM.gmt'\n",
    "tftg_path = '../data/tftg_raw.gmt'\n",
    "\n",
    "# with open(tftg_path, 'wb') as f:\n",
    "#     res = requests.get(tftg_url)\n",
    "#     f.write(res.content)"
   ]
  },
  {
   "cell_type": "code",
   "execution_count": 57,
   "metadata": {},
   "outputs": [
    {
     "data": {
      "text/html": [
       "<div>\n",
       "<style scoped>\n",
       "    .dataframe tbody tr th:only-of-type {\n",
       "        vertical-align: middle;\n",
       "    }\n",
       "\n",
       "    .dataframe tbody tr th {\n",
       "        vertical-align: top;\n",
       "    }\n",
       "\n",
       "    .dataframe thead th {\n",
       "        text-align: right;\n",
       "    }\n",
       "</style>\n",
       "<table border=\"1\" class=\"dataframe\">\n",
       "  <thead>\n",
       "    <tr style=\"text-align: right;\">\n",
       "      <th></th>\n",
       "      <th>tf_id</th>\n",
       "      <th>tf</th>\n",
       "      <th>method</th>\n",
       "      <th>gene</th>\n",
       "    </tr>\n",
       "  </thead>\n",
       "  <tbody>\n",
       "    <tr>\n",
       "      <th>0</th>\n",
       "      <td>10009</td>\n",
       "      <td>ZBTB33</td>\n",
       "      <td>low throughtput</td>\n",
       "      <td>CDKN2A</td>\n",
       "    </tr>\n",
       "    <tr>\n",
       "      <th>1</th>\n",
       "      <td>10009</td>\n",
       "      <td>ZBTB33</td>\n",
       "      <td>low throughtput</td>\n",
       "      <td>MMP7</td>\n",
       "    </tr>\n",
       "    <tr>\n",
       "      <th>2</th>\n",
       "      <td>10009</td>\n",
       "      <td>ZBTB33</td>\n",
       "      <td>low throughtput</td>\n",
       "      <td>S100A4</td>\n",
       "    </tr>\n",
       "    <tr>\n",
       "      <th>3</th>\n",
       "      <td>10009</td>\n",
       "      <td>ZBTB33</td>\n",
       "      <td>low throughtput</td>\n",
       "      <td>WNT11</td>\n",
       "    </tr>\n",
       "    <tr>\n",
       "      <th>4</th>\n",
       "      <td>10009</td>\n",
       "      <td>ZBTB33</td>\n",
       "      <td>low throughtput</td>\n",
       "      <td>GP1BA</td>\n",
       "    </tr>\n",
       "  </tbody>\n",
       "</table>\n",
       "</div>"
      ],
      "text/plain": [
       "   tf_id      tf           method    gene\n",
       "0  10009  ZBTB33  low throughtput  CDKN2A\n",
       "1  10009  ZBTB33  low throughtput    MMP7\n",
       "2  10009  ZBTB33  low throughtput  S100A4\n",
       "3  10009  ZBTB33  low throughtput   WNT11\n",
       "4  10009  ZBTB33  low throughtput   GP1BA"
      ]
     },
     "execution_count": 57,
     "metadata": {},
     "output_type": "execute_result"
    }
   ],
   "source": [
    "# Construct a DataFrame of TF-TG relationships\n",
    "records = list()\n",
    "with open(tftg_path, 'r') as f:\n",
    "    for line in f.readlines():\n",
    "        groups = line.split('\\t')\n",
    "        match = re.search('(?<=:\\ )([A-Z0-9\\-\\_]+)(\\()([0-9]+)', groups[1])\n",
    "        if match:\n",
    "            tf_name, _, tf_id = match.groups()\n",
    "        else:\n",
    "            tf_name, _, tf_id = re.search('([A-Z0-9\\-]+)(\\_)([0-9]+)$', groups[1]).groups()\n",
    "            \n",
    "        match = re.search('.+(?=\\ Transcriptional Targets.+)', groups[1])\n",
    "        if match:\n",
    "            method = match.group().lower()\n",
    "        else:\n",
    "            method = re.search('.+(?=\\ TFTG.+)', groups[1]).group().lower()\n",
    "            \n",
    "        for gene in groups[2:]:\n",
    "            records.append(\n",
    "                (tf_id, tf_name, method, gene.strip())\n",
    "            )\n",
    "\n",
    "np.random.seed(0)\n",
    "df = (\n",
    "    pd.DataFrame\n",
    "    .from_records(records, columns=['tf_id', 'tf', 'method', 'gene'])\n",
    ")\n",
    "\n",
    "df.head()"
   ]
  },
  {
   "cell_type": "markdown",
   "metadata": {},
   "source": [
    "## ISSUE:\n",
    "\n",
    "There are way too many unique nodes in the full network. Unfortunately, using strongly connected components gives only 255 nodes, which is far too few. So either we need to select the first few connected components until there are a certain number of nodes (O(10^3)), or look for another network. But this is a really good network for this purpose."
   ]
  },
  {
   "cell_type": "code",
   "execution_count": 61,
   "metadata": {},
   "outputs": [],
   "source": [
    "edges = list(map(\n",
    "    tuple, df.filter(items=['tf', 'gene']).values\n",
    "))\n",
    "original_edges = set(edges)"
   ]
  },
  {
   "cell_type": "code",
   "execution_count": 67,
   "metadata": {},
   "outputs": [],
   "source": [
    "dg = nx.from_edgelist(edges, create_using=nx.DiGraph())"
   ]
  },
  {
   "cell_type": "code",
   "execution_count": 71,
   "metadata": {},
   "outputs": [
    {
     "data": {
      "text/plain": [
       "17167"
      ]
     },
     "execution_count": 71,
     "metadata": {},
     "output_type": "execute_result"
    }
   ],
   "source": [
    "len(dg.nodes)"
   ]
  },
  {
   "cell_type": "code",
   "execution_count": 68,
   "metadata": {},
   "outputs": [],
   "source": [
    "dgc = max(nx.strongly_connected_component_subgraphs(dg), key=len)"
   ]
  },
  {
   "cell_type": "code",
   "execution_count": 73,
   "metadata": {},
   "outputs": [
    {
     "data": {
      "text/plain": [
       "3120"
      ]
     },
     "execution_count": 73,
     "metadata": {},
     "output_type": "execute_result"
    }
   ],
   "source": [
    "dgc.number_of_edges()"
   ]
  },
  {
   "cell_type": "code",
   "execution_count": 74,
   "metadata": {},
   "outputs": [
    {
     "data": {
      "text/plain": [
       "255"
      ]
     },
     "execution_count": 74,
     "metadata": {},
     "output_type": "execute_result"
    }
   ],
   "source": [
    "dgc.number_of_nodes()"
   ]
  },
  {
   "cell_type": "code",
   "execution_count": 58,
   "metadata": {},
   "outputs": [],
   "source": [
    "# Select the largest connected component of the graph\n",
    "g = nx.from_edgelist(edges)\n",
    "gc = max(nx.connected_component_subgraphs(g), key=len)\n",
    "connected_edges = list(map(tuple, gc.edges))\n",
    "\n",
    "connected_edges = (\n",
    "    [edge for edge in connected_edges if edge in original_edges]\n",
    "    + [tuple(sorted(edge)) for edge in connected_edges if edge not in original_edges]\n",
    ")"
   ]
  },
  {
   "cell_type": "code",
   "execution_count": 60,
   "metadata": {},
   "outputs": [
    {
     "data": {
      "text/plain": [
       "(384, 8485)"
      ]
     },
     "execution_count": 60,
     "metadata": {},
     "output_type": "execute_result"
    }
   ],
   "source": [
    "len(set(edge[0] for edge in edges)), len(set(edge[0] for edge in connected_edges))"
   ]
  },
  {
   "cell_type": "code",
   "execution_count": 52,
   "metadata": {},
   "outputs": [],
   "source": [
    "# Map edges to unique integers (for XSwap)\n",
    "mapped_edges, mapping, _ = xswap.preprocessing.map_str_edges(connected_edges, bipartite=False)\n",
    "reversed_mapping = {v: k for k, v in mapping.items()}\n",
    "\n",
    "# Construct a matrix (for feature computation)\n",
    "mat = analysis.edges_to_matrix(mapped_edges)\n",
    "\n",
    "# Create source, target degree matrices\n",
    "degree = np.repeat(mat.sum(axis=1), mat.shape[1], axis=1) \\\n",
    "       + np.repeat(mat.sum(axis=0), mat.shape[0], axis=0)"
   ]
  },
  {
   "cell_type": "code",
   "execution_count": null,
   "metadata": {},
   "outputs": [],
   "source": [
    "# Compute features on unpermuted network\n",
    "feature_mats = {\n",
    "    'prior_empirical': np.zeros(mat.shape),\n",
    "    \n",
    "    'rwr': analysis.invertible_rwr(mat.toarray(), 0.25),\n",
    "    'mean_rwr': np.zeros(mat.shape),\n",
    "    'p_rwr': np.zeros(mat.shape),\n",
    "    \n",
    "    'jaccard': (mat@mat.T) / (degree - mat@mat.T),\n",
    "    'mean_jaccard': np.zeros(mat.shape),\n",
    "    'p_jaccard': np.zeros(mat.shape),\n",
    "}\n",
    "\n",
    "# Compute RWR p-value\n",
    "n_perms = 100\n",
    "perm_edges = mapped_edges.copy()\n",
    "for i in tqdm.tnrange(n_perms):\n",
    "    # Permute edges\n",
    "    perm_edges, _ = xswap.permute_edge_list(perm_edges, allow_self_loops=False, \n",
    "                                            allow_antiparallel=True, seed=i)\n",
    "    perm_mat = analysis.edges_to_matrix(perm_edges)\n",
    "    feature_mats['prior_empirical'] += perm_mat\n",
    "    \n",
    "    # Compute RWR on permuted network\n",
    "    perm_rwr = analysis.invertible_rwr(perm_mat.toarray(), 0.25)\n",
    "    feature_mats['mean_rwr'] += perm_rwr\n",
    "    feature_mats['p_rwr'] += (perm_rwr >= feature_mats['rwr'])\n",
    "    \n",
    "    # Compute Jaccard similarity on permuted network\n",
    "    A2 = perm_mat@perm_mat.T\n",
    "    perm_jac = A2 / (degree - A2)\n",
    "    feature_mats['mean_jaccard'] += perm_jac\n",
    "    feature_mats['p_jaccard'] += (perm_jac >= feature_mats['jaccard'])\n",
    "\n",
    "# Normalize features to number of permutations\n",
    "for feature in ['mean_rwr', 'p_rwr', 'mean_jaccard', 'p_jaccard', 'prior_empirical']:\n",
    "    feature_mats[feature] = feature_mats[feature] / n_perms"
   ]
  },
  {
   "cell_type": "code",
   "execution_count": 53,
   "metadata": {},
   "outputs": [],
   "source": [
    "source_nodes = sorted(set(edge[0] for edge in connected_edges))\n",
    "target_nodes = sorted(set(edge[1] for edge in connected_edges))"
   ]
  },
  {
   "cell_type": "code",
   "execution_count": 54,
   "metadata": {},
   "outputs": [
    {
     "data": {
      "text/plain": [
       "(5386, 7452)"
      ]
     },
     "execution_count": 54,
     "metadata": {},
     "output_type": "execute_result"
    }
   ],
   "source": [
    "len(source_nodes), len(target_nodes)"
   ]
  },
  {
   "cell_type": "code",
   "execution_count": null,
   "metadata": {},
   "outputs": [],
   "source": [
    "# Add computed features to the DataFrame\n",
    "for feature, values in feature_dict.items():\n",
    "    df[feature] = np.array(v).flatten()"
   ]
  },
  {
   "cell_type": "code",
   "execution_count": 44,
   "metadata": {},
   "outputs": [
    {
     "data": {
      "text/plain": [
       "232"
      ]
     },
     "execution_count": 44,
     "metadata": {},
     "output_type": "execute_result"
    }
   ],
   "source": [
    "len(set(df['tf']))"
   ]
  },
  {
   "cell_type": "code",
   "execution_count": 46,
   "metadata": {},
   "outputs": [
    {
     "data": {
      "text/plain": [
       "225"
      ]
     },
     "execution_count": 46,
     "metadata": {},
     "output_type": "execute_result"
    }
   ],
   "source": [
    "len(set(edge[0] for edge in edges))"
   ]
  },
  {
   "cell_type": "code",
   "execution_count": 48,
   "metadata": {},
   "outputs": [],
   "source": [
    "edge = (1, 2)"
   ]
  },
  {
   "cell_type": "code",
   "execution_count": 49,
   "metadata": {},
   "outputs": [
    {
     "data": {
      "text/plain": [
       "False"
      ]
     },
     "execution_count": 49,
     "metadata": {},
     "output_type": "execute_result"
    }
   ],
   "source": [
    "edge in original_edges"
   ]
  },
  {
   "cell_type": "code",
   "execution_count": 50,
   "metadata": {},
   "outputs": [
    {
     "data": {
      "text/plain": [
       "True"
      ]
     },
     "execution_count": 50,
     "metadata": {},
     "output_type": "execute_result"
    }
   ],
   "source": [
    "edge not in original_edges"
   ]
  },
  {
   "cell_type": "code",
   "execution_count": 51,
   "metadata": {},
   "outputs": [
    {
     "data": {
      "text/plain": [
       "True"
      ]
     },
     "execution_count": 51,
     "metadata": {},
     "output_type": "execute_result"
    }
   ],
   "source": [
    "not edge in original_edges\n"
   ]
  },
  {
   "cell_type": "code",
   "execution_count": null,
   "metadata": {},
   "outputs": [],
   "source": []
  }
 ],
 "metadata": {
  "kernelspec": {
   "display_name": "Python [conda env:xswap-analysis] *",
   "language": "python",
   "name": "conda-env-xswap-analysis-py"
  },
  "language_info": {
   "codemirror_mode": {
    "name": "ipython",
    "version": 3
   },
   "file_extension": ".py",
   "mimetype": "text/x-python",
   "name": "python",
   "nbconvert_exporter": "python",
   "pygments_lexer": "ipython3",
   "version": "3.6.6"
  }
 },
 "nbformat": 4,
 "nbformat_minor": 2
}
