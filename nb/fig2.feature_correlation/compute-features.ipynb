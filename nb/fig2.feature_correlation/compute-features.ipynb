{
 "cells": [
  {
   "cell_type": "code",
   "execution_count": 1,
   "metadata": {},
   "outputs": [],
   "source": [
    "import sys\n",
    "\n",
    "import networkx as nx\n",
    "import pandas as pd\n",
    "import tqdm\n",
    "\n",
    "sys.path.insert(0, '../')\n",
    "\n",
    "import analysis"
   ]
  },
  {
   "cell_type": "code",
   "execution_count": 2,
   "metadata": {},
   "outputs": [],
   "source": [
    "edges_df = pd.read_csv('../../data/2.edges/ppi.tsv.xz', sep='\\t')\n",
    "\n",
    "edges_df.head(2)"
   ]
  },
  {
   "cell_type": "code",
   "execution_count": 3,
   "metadata": {},
   "outputs": [],
   "source": [
    "network = 'train'\n",
    "\n",
    "id_to_degree = (\n",
    "    edges_df\n",
    "    .groupby('id_a')[network]\n",
    "    .sum()\n",
    "    .reset_index()\n",
    "    .rename(columns={network: 'degree'})\n",
    "    .merge(\n",
    "        edges_df\n",
    "        .groupby('id_b')[network]\n",
    "        .sum()\n",
    "        .reset_index()\n",
    "        .rename(columns={network: 'degree'}),\n",
    "        left_on='id_a', right_on='id_b', how ='outer'\n",
    "    )\n",
    "    .fillna(0)\n",
    "    .assign(degree=lambda df: df['degree_x'] + df['degree_y'])\n",
    "    .loc[:, 'degree']\n",
    "    .to_dict()\n",
    ")\n",
    "\n",
    "edges = list(map(tuple, (\n",
    "    edges_df\n",
    "    .query(f'{network} == 1')\n",
    "    .loc[:, 'id_a':'id_b']\n",
    "    .values\n",
    ")))\n",
    "\n",
    "G = nx.from_edgelist(edges)\n",
    "\n",
    "feature_to_generator = {\n",
    "    'resource_allocation_index': nx.link_prediction.resource_allocation_index(G),\n",
    "    'adamic_adar_index': nx.link_prediction.adamic_adar_index(G),\n",
    "    'preferential_attachment': nx.link_prediction.preferential_attachment(G),\n",
    "}\n",
    "\n",
    "rows = list()\n",
    "for feature_name, generator in feature_to_generator.items():\n",
    "    for row in tqdm.tqdm_notebook(generator, total=7968660):\n",
    "        rows.append(row + (feature_name,))"
   ]
  },
  {
   "cell_type": "code",
   "execution_count": 4,
   "metadata": {},
   "outputs": [],
   "source": [
    "df = (\n",
    "    pd.DataFrame(rows, columns=['id_a', 'id_b', 'value', 'feature'])\n",
    "    .pivot_table(index=['id_a', 'id_b'], columns='feature', values='value')\n",
    "    .reset_index()\n",
    "    .rename_axis(None, axis=1)\n",
    "    .assign(\n",
    "        network=network\n",
    "    )\n",
    ")\n",
    "\n",
    "df.to_csv('prediction_features.csv.xz', compression='xz', index=False)\n",
    "\n",
    "df.head(2)"
   ]
  }
 ],
 "metadata": {
  "kernelspec": {
   "display_name": "Python [conda env:xswap-analysis] *",
   "language": "python",
   "name": "conda-env-xswap-analysis-py"
  },
  "language_info": {
   "codemirror_mode": {
    "name": "ipython",
    "version": 3
   },
   "file_extension": ".py",
   "mimetype": "text/x-python",
   "name": "python",
   "nbconvert_exporter": "python",
   "pygments_lexer": "ipython3",
   "version": "3.7.3"
  }
 },
 "nbformat": 4,
 "nbformat_minor": 2
}
