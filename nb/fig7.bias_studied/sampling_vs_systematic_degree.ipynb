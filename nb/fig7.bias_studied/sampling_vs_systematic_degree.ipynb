{
 "cells": [
  {
   "cell_type": "code",
   "execution_count": 1,
   "metadata": {},
   "outputs": [
    {
     "name": "stderr",
     "output_type": "stream",
     "text": [
      "── Attaching packages ─────────────────────────────────────── tidyverse 1.2.1 ──\n",
      "✔ ggplot2 3.1.1       ✔ purrr   0.3.2  \n",
      "✔ tibble  2.1.1       ✔ dplyr   0.8.0.1\n",
      "✔ tidyr   0.8.3       ✔ stringr 1.4.0  \n",
      "✔ readr   1.3.1       ✔ forcats 0.4.0  \n",
      "── Conflicts ────────────────────────────────────────── tidyverse_conflicts() ──\n",
      "✖ dplyr::filter() masks stats::filter()\n",
      "✖ dplyr::lag()    masks stats::lag()\n",
      "\n",
      "Attaching package: ‘gridExtra’\n",
      "\n",
      "The following object is masked from ‘package:dplyr’:\n",
      "\n",
      "    combine\n",
      "\n"
     ]
    }
   ],
   "source": [
    "library(tidyverse)\n",
    "library(gridExtra)\n",
    "\n",
    "options(repr.plot.width=6, repr.plot.height=4)"
   ]
  },
  {
   "cell_type": "code",
   "execution_count": 2,
   "metadata": {},
   "outputs": [],
   "source": [
    "`%+replace%` <- ggplot2::`%+replace%`\n",
    "\n",
    "theme_zietzm <- function(base_size = 11.5, base_family = \"\") {\n",
    "    # Starts with theme_bw and then modify some parts\n",
    "    # Theme options are documentated at http://docs.ggplot2.org/current/theme.html\n",
    "    ggplot2::theme_classic(base_size = base_size, base_family = base_family) %+replace%\n",
    "    ggplot2::theme(\n",
    "\n",
    "        strip.background  = ggplot2::element_rect(fill = NA, colour = 'grey90', size = 0),\n",
    "        strip.text = element_text(vjust = 1, size = 10),\n",
    "        plot.margin       = ggplot2::margin(t=2, r=2, b=2, l=2, unit='pt'),\n",
    "        legend.spacing     = grid::unit(0.1, 'cm'),\n",
    "        legend.key        = ggplot2::element_blank(),\n",
    "        panel.border=element_rect(fill = NA, color = 'black', size = 0.5), \n",
    "        axis.line=element_line(size=0),\n",
    "    )\n",
    "}"
   ]
  },
  {
   "cell_type": "code",
   "execution_count": 3,
   "metadata": {},
   "outputs": [
    {
     "name": "stderr",
     "output_type": "stream",
     "text": [
      "Parsed with column specification:\n",
      "cols(\n",
      "  name_a = col_character(),\n",
      "  name_b = col_character(),\n",
      "  id_a = col_double(),\n",
      "  id_b = col_double(),\n",
      "  train = col_double(),\n",
      "  test_recon = col_double(),\n",
      "  test_new = col_double()\n",
      ")\n",
      "Parsed with column specification:\n",
      "cols(\n",
      "  name_a = col_character(),\n",
      "  name_b = col_character(),\n",
      "  id_a = col_double(),\n",
      "  id_b = col_double(),\n",
      "  train = col_double(),\n",
      "  test_recon = col_double(),\n",
      "  test_new = col_double()\n",
      ")\n"
     ]
    },
    {
     "data": {
      "text/html": [
       "<table>\n",
       "<thead><tr><th scope=col>name_a</th><th scope=col>name_b</th><th scope=col>id_a</th><th scope=col>id_b</th><th scope=col>train</th><th scope=col>test_recon</th><th scope=col>test_new</th></tr></thead>\n",
       "<tbody>\n",
       "\t<tr><td>A0A087WT00</td><td>O00154    </td><td>0         </td><td> 48       </td><td>1         </td><td>1         </td><td>0         </td></tr>\n",
       "\t<tr><td>A0A087WT00</td><td>O43736    </td><td>0         </td><td>237       </td><td>0         </td><td>1         </td><td>0         </td></tr>\n",
       "</tbody>\n",
       "</table>\n"
      ],
      "text/latex": [
       "\\begin{tabular}{r|lllllll}\n",
       " name\\_a & name\\_b & id\\_a & id\\_b & train & test\\_recon & test\\_new\\\\\n",
       "\\hline\n",
       "\t A0A087WT00 & O00154     & 0          &  48        & 1          & 1          & 0         \\\\\n",
       "\t A0A087WT00 & O43736     & 0          & 237        & 0          & 1          & 0         \\\\\n",
       "\\end{tabular}\n"
      ],
      "text/markdown": [
       "\n",
       "| name_a | name_b | id_a | id_b | train | test_recon | test_new |\n",
       "|---|---|---|---|---|---|---|\n",
       "| A0A087WT00 | O00154     | 0          |  48        | 1          | 1          | 0          |\n",
       "| A0A087WT00 | O43736     | 0          | 237        | 0          | 1          | 0          |\n",
       "\n"
      ],
      "text/plain": [
       "  name_a     name_b id_a id_b train test_recon test_new\n",
       "1 A0A087WT00 O00154 0     48  1     1          0       \n",
       "2 A0A087WT00 O43736 0    237  0     1          0       "
      ]
     },
     "metadata": {},
     "output_type": "display_data"
    }
   ],
   "source": [
    "ppi_df <- read_tsv('../../data//2.edges//ppi.tsv.xz')\n",
    "tftg_df <- read_tsv('../../data//2.edges//tftg.tsv.xz')\n",
    "\n",
    "head(ppi_df, 2)"
   ]
  },
  {
   "cell_type": "code",
   "execution_count": 4,
   "metadata": {},
   "outputs": [],
   "source": [
    "format_degrees <- function(df) {\n",
    "    df %>%\n",
    "        group_by(id_a) %>%\n",
    "        summarise(\n",
    "            degree_a_train = sum(train),\n",
    "            degree_a_test_recon = sum(test_recon),\n",
    "            degree_a_test_new = sum(test_new)\n",
    "        ) %>%\n",
    "        full_join(\n",
    "            df %>%\n",
    "            group_by(id_b) %>%\n",
    "            summarise(\n",
    "                degree_b_train = sum(train),\n",
    "                degree_b_test_recon = sum(test_recon),\n",
    "                degree_b_test_new = sum(test_new)\n",
    "            ),\n",
    "            by = c(\"id_a\" = \"id_b\")\n",
    "        ) %>%\n",
    "        replace(is.na(.), 0) %>%\n",
    "        mutate(\n",
    "            degree_train = degree_a_train + degree_b_train,\n",
    "            degree_test_recon = degree_a_test_recon + degree_b_test_recon,\n",
    "            degree_test_new = degree_a_test_new + degree_b_test_new\n",
    "        ) %>%\n",
    "        select(degree_train, degree_test_recon, degree_test_new)\n",
    "}"
   ]
  },
  {
   "cell_type": "code",
   "execution_count": 5,
   "metadata": {},
   "outputs": [],
   "source": [
    "ppi_degrees_df <- format_degrees(ppi_df)\n",
    "tftg_degrees_df <- format_degrees(tftg_df)"
   ]
  },
  {
   "cell_type": "code",
   "execution_count": 6,
   "metadata": {},
   "outputs": [
    {
     "data": {
      "text/html": [
       "<table>\n",
       "<thead><tr><th scope=col>x</th><th scope=col>y</th><th scope=col>network</th><th scope=col>task</th></tr></thead>\n",
       "<tbody>\n",
       "\t<tr><td>75            </td><td>55            </td><td>PPI           </td><td>Reconstruction</td></tr>\n",
       "\t<tr><td> 3            </td><td> 3            </td><td>PPI           </td><td>Reconstruction</td></tr>\n",
       "</tbody>\n",
       "</table>\n"
      ],
      "text/latex": [
       "\\begin{tabular}{r|llll}\n",
       " x & y & network & task\\\\\n",
       "\\hline\n",
       "\t 75             & 55             & PPI            & Reconstruction\\\\\n",
       "\t  3             &  3             & PPI            & Reconstruction\\\\\n",
       "\\end{tabular}\n"
      ],
      "text/markdown": [
       "\n",
       "| x | y | network | task |\n",
       "|---|---|---|---|\n",
       "| 75             | 55             | PPI            | Reconstruction |\n",
       "|  3             |  3             | PPI            | Reconstruction |\n",
       "\n"
      ],
      "text/plain": [
       "  x  y  network task          \n",
       "1 75 55 PPI     Reconstruction\n",
       "2  3  3 PPI     Reconstruction"
      ]
     },
     "metadata": {},
     "output_type": "display_data"
    }
   ],
   "source": [
    "df <- bind_rows(\n",
    "    ppi_degrees_df %>% mutate(network = 'PPI'),\n",
    "    tftg_degrees_df %>% mutate(network = 'TFTG')\n",
    ")\n",
    "\n",
    "reconstruction_df <- df %>%\n",
    "    rename(x = degree_test_recon, y = degree_train) %>%\n",
    "    select(x, y, network) %>%\n",
    "    mutate(task = 'Reconstruction')\n",
    "    \n",
    "\n",
    "systematic_df <- df %>%\n",
    "    rename(x = degree_test_new, y = degree_test_recon) %>%\n",
    "    select(x, y, network) %>%\n",
    "    mutate(task = 'Systematic')\n",
    "\n",
    "vis_df <- bind_rows(reconstruction_df, systematic_df)\n",
    "\n",
    "head(vis_df, 2)"
   ]
  },
  {
   "cell_type": "code",
   "execution_count": 7,
   "metadata": {
    "scrolled": true
   },
   "outputs": [],
   "source": [
    "facet_grid <- (\n",
    "    ggplot(vis_df, aes(x = x, y = y))\n",
    "    + geom_point()\n",
    "    + geom_abline(slope = 1, intercept = 0, color = 'grey', linetype = 'dashed')\n",
    "    + facet_grid(rows = vars(network), cols = vars(task), scales = 'free')\n",
    "    + theme(\n",
    "          axis.title.x = element_blank(),\n",
    "          axis.title.y = element_blank()\n",
    "    )\n",
    ")\n",
    "\n",
    "facet_wrap <- (\n",
    "    ggplot(vis_df, aes(x = x, y = y))\n",
    "    + geom_point()\n",
    "    + geom_abline(slope = 1, intercept = 0, color = 'grey', linetype = 'dashed')\n",
    "    + facet_wrap(vars(network, task), scales = 'free')\n",
    "    + theme(\n",
    "          axis.title.x = element_blank(),\n",
    "          axis.title.y = element_blank()\n",
    "    )\n",
    ")"
   ]
  },
  {
   "cell_type": "code",
   "execution_count": null,
   "metadata": {},
   "outputs": [],
   "source": [
    "options(repr.plot.width=6, repr.plot.height=4)\n",
    "\n",
    "reconstruction <- (\n",
    "    ggplot(vis_df %>% filter(task == 'Reconstruction'), aes(x = x, y = y))\n",
    "    + geom_point(alpha = 0.3)\n",
    "    + geom_abline(slope = 1, intercept = 0, color = 'grey', linetype = 'dashed')\n",
    "    + xlab('Literature degree')\n",
    "    + ylab('Sampled degree')\n",
    "    + facet_wrap('network', ncol = 1, scales = 'free')\n",
    "    + theme_zietzm()\n",
    ")\n",
    "\n",
    "systematic <- (\n",
    "    ggplot(vis_df %>% filter(task == 'Systematic'), aes(x = x, y = y))\n",
    "    + geom_point(alpha = 0.3)\n",
    "    + geom_abline(slope = 1, intercept = 0, color = 'grey', linetype = 'dashed')\n",
    "    + xlab('Systematic degree')\n",
    "    + ylab('Literature degree')\n",
    "    + facet_wrap('network', ncol = 1, scales = 'free')\n",
    "    + theme_zietzm()\n",
    ")\n",
    "\n",
    "g <- grid.arrange(reconstruction, systematic, ncol = 2)\n",
    "\n",
    "ggsave('../../img/7_well_studied_degree_bias/points.png', plot = g, \n",
    "       width = 6, height = 4, dpi = 500)"
   ]
  },
  {
   "cell_type": "code",
   "execution_count": null,
   "metadata": {},
   "outputs": [],
   "source": [
    "palette <- 'Spectral'\n",
    "direction <- -1\n",
    "\n",
    "options(repr.plot.width=8, repr.plot.height=4)\n",
    "\n",
    "reconstruction <- (\n",
    "    ggplot(vis_df %>% filter(task == 'Reconstruction'), aes(x = x + 1, y = y + 1))\n",
    "    + stat_binhex(aes(color = ..count..))\n",
    "    + geom_abline(slope = 1, intercept = 0, color = 'grey', linetype = 'dashed')\n",
    "    + xlab('Literature degree')\n",
    "    + ylab('Sampled degree')\n",
    "    + facet_wrap('network', ncol = 1, scales = 'free')\n",
    "    + theme_zietzm()\n",
    "    + scale_fill_distiller(palette = palette, direction = direction)\n",
    "    + scale_color_distiller(palette = palette, direction = direction)\n",
    ")\n",
    "\n",
    "systematic <- (\n",
    "    ggplot(vis_df %>% filter(task == 'Systematic'), aes(x = x + 1, y = y + 1))\n",
    "    + stat_binhex(aes(color = ..count..), bins = 10)\n",
    "    + geom_abline(slope = 1, intercept = 0, color = 'grey', linetype = 'dashed')\n",
    "    + xlab('Systematic degree')\n",
    "    + ylab('Literature degree')\n",
    "    + facet_wrap('network', ncol = 1, scales = 'free')\n",
    "    + scale_x_log10()\n",
    "    + scale_y_log10()\n",
    "    + theme_zietzm()\n",
    "    + scale_fill_distiller(palette = palette, direction = direction)\n",
    "    + scale_color_distiller(palette = palette, direction = direction)\n",
    ")\n",
    "\n",
    "g <- grid.arrange(reconstruction, systematic, ncol = 2)\n",
    "\n",
    "ggsave('../../img/7_well_studied_degree_bias/hexbin.png', plot = g, \n",
    "       width = 8, height = 4, dpi = 500)"
   ]
  }
 ],
 "metadata": {
  "kernelspec": {
   "display_name": "R [conda env:xswap-analysis] *",
   "language": "R",
   "name": "conda-env-xswap-analysis-r"
  },
  "language_info": {
   "codemirror_mode": "r",
   "file_extension": ".r",
   "mimetype": "text/x-r-source",
   "name": "R",
   "pygments_lexer": "r",
   "version": "3.5.1"
  }
 },
 "nbformat": 4,
 "nbformat_minor": 2
}
